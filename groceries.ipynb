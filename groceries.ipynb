{
 "cells": [
  {
   "cell_type": "code",
   "execution_count": 1,
   "metadata": {},
   "outputs": [],
   "source": [
    "from dataclasses import dataclass\n",
    "from typing import Union, Optional\n",
    "from enum import Enum\n",
    "from datetime import datetime"
   ]
  },
  {
   "cell_type": "markdown",
   "metadata": {},
   "source": [
    "## Groceries.\n",
    "- Goal breakdown. \n",
    "- $60 / week \n",
    "- produce - $20 \n",
    "- dairy and grains - $15\n",
    "- protein - $10\n",
    "- other - $15"
   ]
  },
  {
   "cell_type": "code",
   "execution_count": 2,
   "metadata": {},
   "outputs": [],
   "source": [
    "class Store(Enum):\n",
    "    TRADER_JOES = 0\n",
    "    SAFEWAY = 1\n",
    "    DRAEGERS = 2\n",
    "    FARMERS_MARKET = 3\n",
    "\n",
    "class Category(Enum):\n",
    "    VEGGIES = 0\n",
    "    FRUIT = 0\n",
    "    DAIRY = 1\n",
    "    GRAINS = 2\n",
    "    MEAT_AND_FISH = 3\n",
    "    LEGUMES = 4\n",
    "    SPICES = 5\n",
    "    OILS_AND_BUTTERS = 6\n",
    "    CONDIMENTS = 7"
   ]
  },
  {
   "cell_type": "code",
   "execution_count": 3,
   "metadata": {},
   "outputs": [],
   "source": [
    "groups = {\n",
    "    \"PRODUCE\": [Category.VEGGIES, Category.FRUIT],\n",
    "    \"DAIRY_AND_GRAINS\": [Category.DAIRY, Category.GRAINS],\n",
    "    \"PROTEIN\": [Category.LEGUMES, Category.MEAT_AND_FISH],\n",
    "    \"OTHER\": [Category.SPICES, Category.OILS_AND_BUTTERS, Category.CONDIMENTS]\n",
    "}"
   ]
  },
  {
   "cell_type": "code",
   "execution_count": 4,
   "metadata": {},
   "outputs": [],
   "source": [
    "@dataclass\n",
    "class UnitPrice:\n",
    "    price: float \n",
    "    quantity: int = 1\n",
    "\n",
    "    def calc_total_price(self):\n",
    "        self.total_price = self.price * self.quantity\n",
    "        return self.total_price\n",
    "\n",
    "@dataclass\n",
    "class PoundPrice:\n",
    "    price: float \n",
    "    pounds: float = 1.0\n",
    "\n",
    "    def calc_total_price(self):\n",
    "        self.total_price = self.price * self.pounds\n",
    "        return self.total_price\n",
    "\n"
   ]
  },
  {
   "cell_type": "code",
   "execution_count": 5,
   "metadata": {},
   "outputs": [],
   "source": [
    "@dataclass\n",
    "class GroceryItem:\n",
    "    name: str\n",
    "    category: Category\n",
    "    store: Store\n",
    "    price: Union[PoundPrice, UnitPrice]\n",
    "    size_pounds: Optional[float] = None #pounds\n"
   ]
  },
  {
   "cell_type": "code",
   "execution_count": 6,
   "metadata": {},
   "outputs": [],
   "source": [
    "@dataclass\n",
    "class TripEntry:\n",
    "    date: datetime\n",
    "    entry: list[GroceryItem]"
   ]
  },
  {
   "cell_type": "code",
   "execution_count": 7,
   "metadata": {},
   "outputs": [],
   "source": [
    "trip01 = TripEntry(datetime(2024, 8, 25), [])"
   ]
  },
  {
   "cell_type": "code",
   "execution_count": 8,
   "metadata": {},
   "outputs": [],
   "source": [
    "trip01.entry.extend([\n",
    "    GroceryItem(\"salmon\", Category.MEAT_AND_FISH, Store.TRADER_JOES, UnitPrice(7.72)),\n",
    "    GroceryItem(\"sardines\", Category.MEAT_AND_FISH, Store.TRADER_JOES, UnitPrice(1.99)),\n",
    "    GroceryItem(\"greek_yogurt\", Category.DAIRY, Store.TRADER_JOES, UnitPrice(2.99), 1),\n",
    "    GroceryItem(\"chickpeas_can\", Category.LEGUMES, Store.TRADER_JOES, UnitPrice(1.09)),\n",
    "    GroceryItem(\"yogurt_cup\", Category.DAIRY, Store.TRADER_JOES, UnitPrice(0.99)),\n",
    "    GroceryItem(\"yogurt_cup\", Category.DAIRY, Store.TRADER_JOES, UnitPrice(1.19)),\n",
    "    GroceryItem(\"peaches\", Category.FRUIT, Store.TRADER_JOES, UnitPrice(3.49), 2),\n",
    "    GroceryItem(\"banana\", Category.FRUIT, Store.TRADER_JOES, UnitPrice(0.29, 7)),\n",
    "    GroceryItem(\"honey_goat_cheese\", Category.DAIRY, Store.TRADER_JOES, UnitPrice(3.29), size_pounds=5/16),\n",
    "    GroceryItem(\"whole_wheat_english_muffin\", Category.GRAINS, Store.TRADER_JOES, UnitPrice(1.99),),\n",
    "])"
   ]
  },
  {
   "cell_type": "code",
   "execution_count": 9,
   "metadata": {},
   "outputs": [
    {
     "data": {
      "text/plain": [
       "<generator object <genexpr> at 0x107b397e0>"
      ]
     },
     "execution_count": 9,
     "metadata": {},
     "output_type": "execute_result"
    }
   ],
   "source": [
    "(l.price.calc_total_price for l in trip01.entry)"
   ]
  },
  {
   "cell_type": "code",
   "execution_count": 10,
   "metadata": {},
   "outputs": [],
   "source": [
    "def calc_one_category(trip: TripEntry,  category: Category):\n",
    "    return sum([i.price.calc_total_price() for i in trip01.entry if i.category == category])"
   ]
  },
  {
   "cell_type": "code",
   "execution_count": 11,
   "metadata": {},
   "outputs": [],
   "source": [
    "def calc_group(trip: TripEntry, categories: list[Category]):\n",
    "    temp = 0\n",
    "    for group in categories:\n",
    "        temp+=calc_one_category(trip, group)\n",
    "    return temp\n"
   ]
  },
  {
   "cell_type": "code",
   "execution_count": 12,
   "metadata": {},
   "outputs": [],
   "source": [
    "def summarize_trip(trip_entry: TripEntry):\n",
    "    print(f\"Trip Date: {trip01.date}\")\n",
    "    for k, v in groups.items():\n",
    "        print(k, calc_group(trip01, v))"
   ]
  },
  {
   "cell_type": "code",
   "execution_count": 13,
   "metadata": {},
   "outputs": [
    {
     "name": "stdout",
     "output_type": "stream",
     "text": [
      "Trip Date: 2024-08-25 00:00:00\n",
      "PRODUCE 11.04\n",
      "DAIRY_AND_GRAINS 10.450000000000001\n",
      "PROTEIN 10.799999999999999\n",
      "OTHER 0\n"
     ]
    }
   ],
   "source": [
    "summarize_trip(trip01)"
   ]
  },
  {
   "cell_type": "markdown",
   "metadata": {},
   "source": []
  },
  {
   "cell_type": "code",
   "execution_count": null,
   "metadata": {},
   "outputs": [],
   "source": []
  }
 ],
 "metadata": {
  "kernelspec": {
   "display_name": "gqenv",
   "language": "python",
   "name": "python3"
  },
  "language_info": {
   "codemirror_mode": {
    "name": "ipython",
    "version": 3
   },
   "file_extension": ".py",
   "mimetype": "text/x-python",
   "name": "python",
   "nbconvert_exporter": "python",
   "pygments_lexer": "ipython3",
   "version": "3.10.14"
  }
 },
 "nbformat": 4,
 "nbformat_minor": 2
}
