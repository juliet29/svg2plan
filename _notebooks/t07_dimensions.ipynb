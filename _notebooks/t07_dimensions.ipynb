{
 "cells": [
  {
   "cell_type": "code",
   "execution_count": 17,
   "metadata": {},
   "outputs": [],
   "source": [
    "import sys\n",
    "sys.path.append(\"/Users/julietnwagwuume-ezeoke/_UILCode/gqe-phd/svg2plan/_scripts\")\n",
    "\n",
    "from svg_helpers.saver import Saver, read_layout\n",
    "from svg_helpers.plotter import Plotter\n",
    "\n",
    "from svg_helpers.domains import Corners, DomainDict, Domain\n",
    "\n",
    "from svg_reader import SVGReader\n",
    "from adjacencies.adjacency import AdjacencyGenerator\n",
    "from adjacencies.connectivity import ConnectivityGenerator\n",
    "\n",
    "from svg_helpers.shapely import create_box_from_corners, bounds_to_corners, bounds_to_corners_round\n",
    "\n",
    "from pint import UnitRegistry\n",
    "\n",
    "from copy import deepcopy\n",
    "\n",
    "from shapely import transform\n",
    "\n",
    "from placement.executer import PlacementExecuter\n",
    "\n",
    "import numpy as np\n",
    "\n",
    "from decimal import Decimal, getcontext\n",
    "\n",
    "import math\n",
    "\n",
    "from svg_helpers.layout import Layout"
   ]
  },
  {
   "cell_type": "code",
   "execution_count": 2,
   "metadata": {},
   "outputs": [],
   "source": [
    "svg_name = \"amber_building_a_f01.svg\"\n",
    "sv = SVGReader(svg_name)\n",
    "sv.run()"
   ]
  },
  {
   "cell_type": "code",
   "execution_count": 3,
   "metadata": {},
   "outputs": [
    {
     "name": "stdout",
     "output_type": "stream",
     "text": [
      "0.045 foot\n"
     ]
    }
   ],
   "source": [
    "corners = sv.domains[\"bedroom_1\"].corners\n",
    "delta_y = abs(corners.y_bottom - corners.y_top)\n",
    "\n",
    "\n",
    "ureg = UnitRegistry()\n",
    "\n",
    "SCALE = 10 * ureg.feet + 6.75 * ureg.inches\n",
    "SCALE\n",
    "\n",
    "CONVERSION = SCALE / (delta_y )\n",
    "CONVERSION = round(CONVERSION, 3)\n",
    "conv = CONVERSION.magnitude\n",
    "print(CONVERSION)\n",
    "\n",
    "def round_decimal(n: float):\n",
    "    return round(n, 3)\n",
    "\n",
    "conv_fx = lambda x: x * [round_decimal(conv), round_decimal(conv)]"
   ]
  },
  {
   "cell_type": "code",
   "execution_count": 4,
   "metadata": {},
   "outputs": [],
   "source": [
    "new_shapes = {k: transform(v.polygon, conv_fx) for k,v in deepcopy(sv.domains).items()}\n",
    "\n",
    "corners_from_shapes = {k:bounds_to_corners_round(v.bounds) for k,v in new_shapes.items()}\n",
    "\n",
    "\n",
    "sv_domains2: DomainDict = {}\n",
    "\n",
    "for k,v in new_shapes.items():\n",
    "    sv_domains2[k] = Domain(polygon=v, corners=corners_from_shapes[k])"
   ]
  },
  {
   "cell_type": "code",
   "execution_count": 5,
   "metadata": {},
   "outputs": [
    {
     "data": {
      "text/plain": [
       "{'bedroom_1': Corners(x_left=0.0, x_right=12.105, y_bottom=12.375, y_top=22.905),\n",
       " 'kitchen': Corners(x_left=12.645, x_right=19.395, y_bottom=0.0, y_top=8.415),\n",
       " 'm_bath': Corners(x_left=19.935, x_right=28.665, y_bottom=18.0, y_top=22.905),\n",
       " 'm_bedroom': Corners(x_left=29.34, x_right=37.35, y_bottom=12.6, y_top=22.905),\n",
       " 'm_closet': Corners(x_left=33.57, x_right=37.35, y_bottom=10.125, y_top=12.375),\n",
       " 'bath': Corners(x_left=19.935, x_right=28.665, y_bottom=12.6, y_top=17.235),\n",
       " 'dining': Corners(x_left=20.385, x_right=33.03, y_bottom=0.0, y_top=11.835),\n",
       " 'transit_space': Corners(x_left=12.645, x_right=19.395, y_bottom=9.045, y_top=15.75),\n",
       " 'closet': Corners(x_left=33.57, x_right=37.35, y_bottom=-0.18, y_top=8.865),\n",
       " 'bedroom_2': Corners(x_left=0.0, x_right=12.105, y_bottom=0.0, y_top=11.835),\n",
       " 'laundry': Corners(x_left=12.69, x_right=18.72, y_bottom=16.2, y_top=22.77)}"
      ]
     },
     "execution_count": 5,
     "metadata": {},
     "output_type": "execute_result"
    }
   ],
   "source": [
    "corners_from_shapes"
   ]
  },
  {
   "cell_type": "code",
   "execution_count": 6,
   "metadata": {},
   "outputs": [
    {
     "data": {
      "text/plain": [
       "{'bedroom_1': Domain(polygon=<POLYGON ((0 12.375, 12.105 12.375, 12.105 22.905, 0 22.905, 0 12.375))>, corners=Corners(x_left=0.0, x_right=12.105, y_bottom=12.375, y_top=22.905), new_corners=Corners(x_left=0, x_right=0, y_bottom=0, y_top=0)),\n",
       " 'kitchen': Domain(polygon=<POLYGON ((12.645 0, 19.395 0, 19.395 8.415, 12.645 8.415, 12.645 0))>, corners=Corners(x_left=12.645, x_right=19.395, y_bottom=0.0, y_top=8.415), new_corners=Corners(x_left=0, x_right=0, y_bottom=0, y_top=0)),\n",
       " 'm_bath': Domain(polygon=<POLYGON ((19.935 18, 28.665 18, 28.665 22.905, 19.935 22.905, 19.935 18))>, corners=Corners(x_left=19.935, x_right=28.665, y_bottom=18.0, y_top=22.905), new_corners=Corners(x_left=0, x_right=0, y_bottom=0, y_top=0)),\n",
       " 'm_bedroom': Domain(polygon=<POLYGON ((29.34 12.6, 37.35 12.6, 37.35 22.905, 29.34 22.905, 29.34 12.6))>, corners=Corners(x_left=29.34, x_right=37.35, y_bottom=12.6, y_top=22.905), new_corners=Corners(x_left=0, x_right=0, y_bottom=0, y_top=0)),\n",
       " 'm_closet': Domain(polygon=<POLYGON ((33.57 10.125, 37.35 10.125, 37.35 12.375, 33.57 12.375, 33.57 10....>, corners=Corners(x_left=33.57, x_right=37.35, y_bottom=10.125, y_top=12.375), new_corners=Corners(x_left=0, x_right=0, y_bottom=0, y_top=0)),\n",
       " 'bath': Domain(polygon=<POLYGON ((19.935 12.6, 28.665 12.6, 28.665 17.235, 19.935 17.235, 19.935 12...>, corners=Corners(x_left=19.935, x_right=28.665, y_bottom=12.6, y_top=17.235), new_corners=Corners(x_left=0, x_right=0, y_bottom=0, y_top=0)),\n",
       " 'dining': Domain(polygon=<POLYGON ((20.385 0, 33.03 0, 33.03 11.835, 20.385 11.835, 20.385 0))>, corners=Corners(x_left=20.385, x_right=33.03, y_bottom=0.0, y_top=11.835), new_corners=Corners(x_left=0, x_right=0, y_bottom=0, y_top=0)),\n",
       " 'transit_space': Domain(polygon=<POLYGON ((12.645 9.045, 19.395 9.045, 19.395 15.75, 12.645 15.75, 12.645 9....>, corners=Corners(x_left=12.645, x_right=19.395, y_bottom=9.045, y_top=15.75), new_corners=Corners(x_left=0, x_right=0, y_bottom=0, y_top=0)),\n",
       " 'closet': Domain(polygon=<POLYGON ((33.57 -0.18, 37.35 -0.18, 37.35 8.865, 33.57 8.865, 33.57 -0.18))>, corners=Corners(x_left=33.57, x_right=37.35, y_bottom=-0.18, y_top=8.865), new_corners=Corners(x_left=0, x_right=0, y_bottom=0, y_top=0)),\n",
       " 'bedroom_2': Domain(polygon=<POLYGON ((0 0, 12.105 0, 12.105 11.835, 0 11.835, 0 0))>, corners=Corners(x_left=0.0, x_right=12.105, y_bottom=0.0, y_top=11.835), new_corners=Corners(x_left=0, x_right=0, y_bottom=0, y_top=0)),\n",
       " 'laundry': Domain(polygon=<POLYGON ((12.69 16.2, 18.72 16.2, 18.72 22.77, 12.69 22.77, 12.69 16.2))>, corners=Corners(x_left=12.69, x_right=18.72, y_bottom=16.2, y_top=22.77), new_corners=Corners(x_left=0, x_right=0, y_bottom=0, y_top=0))}"
      ]
     },
     "execution_count": 6,
     "metadata": {},
     "output_type": "execute_result"
    }
   ],
   "source": [
    "sv_domains2"
   ]
  },
  {
   "cell_type": "code",
   "execution_count": 7,
   "metadata": {},
   "outputs": [
    {
     "data": {
      "application/vnd.plotly.v1+json": {
       "config": {
        "plotlyServerURL": "https://plotly.com"
       },
       "data": [],
       "layout": {
        "autosize": false,
        "height": 480,
        "margin": {
         "b": 50,
         "l": 50,
         "pad": 4,
         "r": 50,
         "t": 50
        },
        "shapes": [
         {
          "fillcolor": "rgb(48, 18, 59)",
          "label": {
           "text": "bedroom_1"
          },
          "opacity": 0.5,
          "type": "rect",
          "x0": 0,
          "x1": 12.105,
          "xref": "x",
          "y0": 12.375,
          "y1": 22.905,
          "yref": "y"
         },
         {
          "fillcolor": "rgb(67, 88, 197)",
          "label": {
           "text": "kitchen"
          },
          "opacity": 0.5,
          "type": "rect",
          "x0": 12.645,
          "x1": 19.395,
          "xref": "x",
          "y0": 0,
          "y1": 8.415,
          "yref": "y"
         },
         {
          "fillcolor": "rgb(60, 153, 249)",
          "label": {
           "text": "m_bath"
          },
          "opacity": 0.5,
          "type": "rect",
          "x0": 19.935,
          "x1": 28.665,
          "xref": "x",
          "y0": 18,
          "y1": 22.905,
          "yref": "y"
         },
         {
          "fillcolor": "rgb(29, 213, 203)",
          "label": {
           "text": "m_bedroom"
          },
          "opacity": 0.5,
          "type": "rect",
          "x0": 29.34,
          "x1": 37.35,
          "xref": "x",
          "y0": 12.6,
          "y1": 22.905,
          "yref": "y"
         },
         {
          "fillcolor": "rgb(73, 246, 131)",
          "label": {
           "text": "m_closet"
          },
          "opacity": 0.5,
          "type": "rect",
          "x0": 33.57,
          "x1": 37.35,
          "xref": "x",
          "y0": 10.125,
          "y1": 12.375,
          "yref": "y"
         },
         {
          "fillcolor": "rgb(164, 252, 59)",
          "label": {
           "text": "bath"
          },
          "opacity": 0.5,
          "type": "rect",
          "x0": 19.935,
          "x1": 28.665,
          "xref": "x",
          "y0": 12.6,
          "y1": 17.235,
          "yref": "y"
         },
         {
          "fillcolor": "rgb(223, 218, 54)",
          "label": {
           "text": "dining"
          },
          "opacity": 0.5,
          "type": "rect",
          "x0": 20.385,
          "x1": 33.03,
          "xref": "x",
          "y0": 0,
          "y1": 11.835,
          "yref": "y"
         },
         {
          "fillcolor": "rgb(252, 164, 48)",
          "label": {
           "text": "transit_space"
          },
          "opacity": 0.5,
          "type": "rect",
          "x0": 12.645,
          "x1": 19.395,
          "xref": "x",
          "y0": 9.045,
          "y1": 15.75,
          "yref": "y"
         },
         {
          "fillcolor": "rgb(238, 90, 18)",
          "label": {
           "text": "closet"
          },
          "opacity": 0.5,
          "type": "rect",
          "x0": 33.57,
          "x1": 37.35,
          "xref": "x",
          "y0": -0.18,
          "y1": 8.865,
          "yref": "y"
         },
         {
          "fillcolor": "rgb(193, 37, 3)",
          "label": {
           "text": "bedroom_2"
          },
          "opacity": 0.5,
          "type": "rect",
          "x0": 0,
          "x1": 12.105,
          "xref": "x",
          "y0": 0,
          "y1": 11.835,
          "yref": "y"
         },
         {
          "fillcolor": "rgb(122, 4, 2)",
          "label": {
           "text": "laundry"
          },
          "opacity": 0.5,
          "type": "rect",
          "x0": 12.69,
          "x1": 18.72,
          "xref": "x",
          "y0": 16.2,
          "y1": 22.77,
          "yref": "y"
         }
        ],
        "template": {
         "data": {
          "bar": [
           {
            "error_x": {
             "color": "#2a3f5f"
            },
            "error_y": {
             "color": "#2a3f5f"
            },
            "marker": {
             "line": {
              "color": "#E5ECF6",
              "width": 0.5
             },
             "pattern": {
              "fillmode": "overlay",
              "size": 10,
              "solidity": 0.2
             }
            },
            "type": "bar"
           }
          ],
          "barpolar": [
           {
            "marker": {
             "line": {
              "color": "#E5ECF6",
              "width": 0.5
             },
             "pattern": {
              "fillmode": "overlay",
              "size": 10,
              "solidity": 0.2
             }
            },
            "type": "barpolar"
           }
          ],
          "carpet": [
           {
            "aaxis": {
             "endlinecolor": "#2a3f5f",
             "gridcolor": "white",
             "linecolor": "white",
             "minorgridcolor": "white",
             "startlinecolor": "#2a3f5f"
            },
            "baxis": {
             "endlinecolor": "#2a3f5f",
             "gridcolor": "white",
             "linecolor": "white",
             "minorgridcolor": "white",
             "startlinecolor": "#2a3f5f"
            },
            "type": "carpet"
           }
          ],
          "choropleth": [
           {
            "colorbar": {
             "outlinewidth": 0,
             "ticks": ""
            },
            "type": "choropleth"
           }
          ],
          "contour": [
           {
            "colorbar": {
             "outlinewidth": 0,
             "ticks": ""
            },
            "colorscale": [
             [
              0,
              "#0d0887"
             ],
             [
              0.1111111111111111,
              "#46039f"
             ],
             [
              0.2222222222222222,
              "#7201a8"
             ],
             [
              0.3333333333333333,
              "#9c179e"
             ],
             [
              0.4444444444444444,
              "#bd3786"
             ],
             [
              0.5555555555555556,
              "#d8576b"
             ],
             [
              0.6666666666666666,
              "#ed7953"
             ],
             [
              0.7777777777777778,
              "#fb9f3a"
             ],
             [
              0.8888888888888888,
              "#fdca26"
             ],
             [
              1,
              "#f0f921"
             ]
            ],
            "type": "contour"
           }
          ],
          "contourcarpet": [
           {
            "colorbar": {
             "outlinewidth": 0,
             "ticks": ""
            },
            "type": "contourcarpet"
           }
          ],
          "heatmap": [
           {
            "colorbar": {
             "outlinewidth": 0,
             "ticks": ""
            },
            "colorscale": [
             [
              0,
              "#0d0887"
             ],
             [
              0.1111111111111111,
              "#46039f"
             ],
             [
              0.2222222222222222,
              "#7201a8"
             ],
             [
              0.3333333333333333,
              "#9c179e"
             ],
             [
              0.4444444444444444,
              "#bd3786"
             ],
             [
              0.5555555555555556,
              "#d8576b"
             ],
             [
              0.6666666666666666,
              "#ed7953"
             ],
             [
              0.7777777777777778,
              "#fb9f3a"
             ],
             [
              0.8888888888888888,
              "#fdca26"
             ],
             [
              1,
              "#f0f921"
             ]
            ],
            "type": "heatmap"
           }
          ],
          "heatmapgl": [
           {
            "colorbar": {
             "outlinewidth": 0,
             "ticks": ""
            },
            "colorscale": [
             [
              0,
              "#0d0887"
             ],
             [
              0.1111111111111111,
              "#46039f"
             ],
             [
              0.2222222222222222,
              "#7201a8"
             ],
             [
              0.3333333333333333,
              "#9c179e"
             ],
             [
              0.4444444444444444,
              "#bd3786"
             ],
             [
              0.5555555555555556,
              "#d8576b"
             ],
             [
              0.6666666666666666,
              "#ed7953"
             ],
             [
              0.7777777777777778,
              "#fb9f3a"
             ],
             [
              0.8888888888888888,
              "#fdca26"
             ],
             [
              1,
              "#f0f921"
             ]
            ],
            "type": "heatmapgl"
           }
          ],
          "histogram": [
           {
            "marker": {
             "pattern": {
              "fillmode": "overlay",
              "size": 10,
              "solidity": 0.2
             }
            },
            "type": "histogram"
           }
          ],
          "histogram2d": [
           {
            "colorbar": {
             "outlinewidth": 0,
             "ticks": ""
            },
            "colorscale": [
             [
              0,
              "#0d0887"
             ],
             [
              0.1111111111111111,
              "#46039f"
             ],
             [
              0.2222222222222222,
              "#7201a8"
             ],
             [
              0.3333333333333333,
              "#9c179e"
             ],
             [
              0.4444444444444444,
              "#bd3786"
             ],
             [
              0.5555555555555556,
              "#d8576b"
             ],
             [
              0.6666666666666666,
              "#ed7953"
             ],
             [
              0.7777777777777778,
              "#fb9f3a"
             ],
             [
              0.8888888888888888,
              "#fdca26"
             ],
             [
              1,
              "#f0f921"
             ]
            ],
            "type": "histogram2d"
           }
          ],
          "histogram2dcontour": [
           {
            "colorbar": {
             "outlinewidth": 0,
             "ticks": ""
            },
            "colorscale": [
             [
              0,
              "#0d0887"
             ],
             [
              0.1111111111111111,
              "#46039f"
             ],
             [
              0.2222222222222222,
              "#7201a8"
             ],
             [
              0.3333333333333333,
              "#9c179e"
             ],
             [
              0.4444444444444444,
              "#bd3786"
             ],
             [
              0.5555555555555556,
              "#d8576b"
             ],
             [
              0.6666666666666666,
              "#ed7953"
             ],
             [
              0.7777777777777778,
              "#fb9f3a"
             ],
             [
              0.8888888888888888,
              "#fdca26"
             ],
             [
              1,
              "#f0f921"
             ]
            ],
            "type": "histogram2dcontour"
           }
          ],
          "mesh3d": [
           {
            "colorbar": {
             "outlinewidth": 0,
             "ticks": ""
            },
            "type": "mesh3d"
           }
          ],
          "parcoords": [
           {
            "line": {
             "colorbar": {
              "outlinewidth": 0,
              "ticks": ""
             }
            },
            "type": "parcoords"
           }
          ],
          "pie": [
           {
            "automargin": true,
            "type": "pie"
           }
          ],
          "scatter": [
           {
            "fillpattern": {
             "fillmode": "overlay",
             "size": 10,
             "solidity": 0.2
            },
            "type": "scatter"
           }
          ],
          "scatter3d": [
           {
            "line": {
             "colorbar": {
              "outlinewidth": 0,
              "ticks": ""
             }
            },
            "marker": {
             "colorbar": {
              "outlinewidth": 0,
              "ticks": ""
             }
            },
            "type": "scatter3d"
           }
          ],
          "scattercarpet": [
           {
            "marker": {
             "colorbar": {
              "outlinewidth": 0,
              "ticks": ""
             }
            },
            "type": "scattercarpet"
           }
          ],
          "scattergeo": [
           {
            "marker": {
             "colorbar": {
              "outlinewidth": 0,
              "ticks": ""
             }
            },
            "type": "scattergeo"
           }
          ],
          "scattergl": [
           {
            "marker": {
             "colorbar": {
              "outlinewidth": 0,
              "ticks": ""
             }
            },
            "type": "scattergl"
           }
          ],
          "scattermapbox": [
           {
            "marker": {
             "colorbar": {
              "outlinewidth": 0,
              "ticks": ""
             }
            },
            "type": "scattermapbox"
           }
          ],
          "scatterpolar": [
           {
            "marker": {
             "colorbar": {
              "outlinewidth": 0,
              "ticks": ""
             }
            },
            "type": "scatterpolar"
           }
          ],
          "scatterpolargl": [
           {
            "marker": {
             "colorbar": {
              "outlinewidth": 0,
              "ticks": ""
             }
            },
            "type": "scatterpolargl"
           }
          ],
          "scatterternary": [
           {
            "marker": {
             "colorbar": {
              "outlinewidth": 0,
              "ticks": ""
             }
            },
            "type": "scatterternary"
           }
          ],
          "surface": [
           {
            "colorbar": {
             "outlinewidth": 0,
             "ticks": ""
            },
            "colorscale": [
             [
              0,
              "#0d0887"
             ],
             [
              0.1111111111111111,
              "#46039f"
             ],
             [
              0.2222222222222222,
              "#7201a8"
             ],
             [
              0.3333333333333333,
              "#9c179e"
             ],
             [
              0.4444444444444444,
              "#bd3786"
             ],
             [
              0.5555555555555556,
              "#d8576b"
             ],
             [
              0.6666666666666666,
              "#ed7953"
             ],
             [
              0.7777777777777778,
              "#fb9f3a"
             ],
             [
              0.8888888888888888,
              "#fdca26"
             ],
             [
              1,
              "#f0f921"
             ]
            ],
            "type": "surface"
           }
          ],
          "table": [
           {
            "cells": {
             "fill": {
              "color": "#EBF0F8"
             },
             "line": {
              "color": "white"
             }
            },
            "header": {
             "fill": {
              "color": "#C8D4E3"
             },
             "line": {
              "color": "white"
             }
            },
            "type": "table"
           }
          ]
         },
         "layout": {
          "annotationdefaults": {
           "arrowcolor": "#2a3f5f",
           "arrowhead": 0,
           "arrowwidth": 1
          },
          "autotypenumbers": "strict",
          "coloraxis": {
           "colorbar": {
            "outlinewidth": 0,
            "ticks": ""
           }
          },
          "colorscale": {
           "diverging": [
            [
             0,
             "#8e0152"
            ],
            [
             0.1,
             "#c51b7d"
            ],
            [
             0.2,
             "#de77ae"
            ],
            [
             0.3,
             "#f1b6da"
            ],
            [
             0.4,
             "#fde0ef"
            ],
            [
             0.5,
             "#f7f7f7"
            ],
            [
             0.6,
             "#e6f5d0"
            ],
            [
             0.7,
             "#b8e186"
            ],
            [
             0.8,
             "#7fbc41"
            ],
            [
             0.9,
             "#4d9221"
            ],
            [
             1,
             "#276419"
            ]
           ],
           "sequential": [
            [
             0,
             "#0d0887"
            ],
            [
             0.1111111111111111,
             "#46039f"
            ],
            [
             0.2222222222222222,
             "#7201a8"
            ],
            [
             0.3333333333333333,
             "#9c179e"
            ],
            [
             0.4444444444444444,
             "#bd3786"
            ],
            [
             0.5555555555555556,
             "#d8576b"
            ],
            [
             0.6666666666666666,
             "#ed7953"
            ],
            [
             0.7777777777777778,
             "#fb9f3a"
            ],
            [
             0.8888888888888888,
             "#fdca26"
            ],
            [
             1,
             "#f0f921"
            ]
           ],
           "sequentialminus": [
            [
             0,
             "#0d0887"
            ],
            [
             0.1111111111111111,
             "#46039f"
            ],
            [
             0.2222222222222222,
             "#7201a8"
            ],
            [
             0.3333333333333333,
             "#9c179e"
            ],
            [
             0.4444444444444444,
             "#bd3786"
            ],
            [
             0.5555555555555556,
             "#d8576b"
            ],
            [
             0.6666666666666666,
             "#ed7953"
            ],
            [
             0.7777777777777778,
             "#fb9f3a"
            ],
            [
             0.8888888888888888,
             "#fdca26"
            ],
            [
             1,
             "#f0f921"
            ]
           ]
          },
          "colorway": [
           "#636efa",
           "#EF553B",
           "#00cc96",
           "#ab63fa",
           "#FFA15A",
           "#19d3f3",
           "#FF6692",
           "#B6E880",
           "#FF97FF",
           "#FECB52"
          ],
          "font": {
           "color": "#2a3f5f"
          },
          "geo": {
           "bgcolor": "white",
           "lakecolor": "white",
           "landcolor": "#E5ECF6",
           "showlakes": true,
           "showland": true,
           "subunitcolor": "white"
          },
          "hoverlabel": {
           "align": "left"
          },
          "hovermode": "closest",
          "mapbox": {
           "style": "light"
          },
          "paper_bgcolor": "white",
          "plot_bgcolor": "#E5ECF6",
          "polar": {
           "angularaxis": {
            "gridcolor": "white",
            "linecolor": "white",
            "ticks": ""
           },
           "bgcolor": "#E5ECF6",
           "radialaxis": {
            "gridcolor": "white",
            "linecolor": "white",
            "ticks": ""
           }
          },
          "scene": {
           "xaxis": {
            "backgroundcolor": "#E5ECF6",
            "gridcolor": "white",
            "gridwidth": 2,
            "linecolor": "white",
            "showbackground": true,
            "ticks": "",
            "zerolinecolor": "white"
           },
           "yaxis": {
            "backgroundcolor": "#E5ECF6",
            "gridcolor": "white",
            "gridwidth": 2,
            "linecolor": "white",
            "showbackground": true,
            "ticks": "",
            "zerolinecolor": "white"
           },
           "zaxis": {
            "backgroundcolor": "#E5ECF6",
            "gridcolor": "white",
            "gridwidth": 2,
            "linecolor": "white",
            "showbackground": true,
            "ticks": "",
            "zerolinecolor": "white"
           }
          },
          "shapedefaults": {
           "line": {
            "color": "#2a3f5f"
           }
          },
          "ternary": {
           "aaxis": {
            "gridcolor": "white",
            "linecolor": "white",
            "ticks": ""
           },
           "baxis": {
            "gridcolor": "white",
            "linecolor": "white",
            "ticks": ""
           },
           "bgcolor": "#E5ECF6",
           "caxis": {
            "gridcolor": "white",
            "linecolor": "white",
            "ticks": ""
           }
          },
          "title": {
           "x": 0.05
          },
          "xaxis": {
           "automargin": true,
           "gridcolor": "white",
           "linecolor": "white",
           "ticks": "",
           "title": {
            "standoff": 15
           },
           "zerolinecolor": "white",
           "zerolinewidth": 2
          },
          "yaxis": {
           "automargin": true,
           "gridcolor": "white",
           "linecolor": "white",
           "ticks": "",
           "title": {
            "standoff": 15
           },
           "zerolinecolor": "white",
           "zerolinewidth": 2
          }
         }
        },
        "width": 800,
        "xaxis": {
         "range": [
          -10,
          800
         ]
        },
        "yaxis": {
         "range": [
          -600,
          10
         ]
        }
       }
      }
     },
     "metadata": {},
     "output_type": "display_data"
    }
   ],
   "source": [
    "pl = Plotter(corners_from_shapes)\n",
    "pl.plot()"
   ]
  },
  {
   "cell_type": "code",
   "execution_count": 8,
   "metadata": {},
   "outputs": [
    {
     "data": {
      "image/png": "[encoded data removed]",
      "text/plain": [
       "<Figure size 640x480 with 1 Axes>"
      ]
     },
     "metadata": {},
     "output_type": "display_data"
    }
   ],
   "source": [
    "ag = AdjacencyGenerator(sv_domains2, 1)\n",
    "ag.run()\n",
    "ag.draw_graph()"
   ]
  },
  {
   "cell_type": "code",
   "execution_count": 9,
   "metadata": {},
   "outputs": [
    {
     "name": "stdout",
     "output_type": "stream",
     "text": [
      "---m_bedroom has no western nbs that are unplaced\n",
      "dining, the east node of m_closet has not yet been placed.\n",
      "changing north node reference to 1. Number of unplaced nodes is 3\n",
      "no more nodes to place\n"
     ]
    }
   ],
   "source": [
    "lp = PlacementExecuter(ag.G, ag.domains)\n",
    "lp.run()"
   ]
  },
  {
   "cell_type": "code",
   "execution_count": 18,
   "metadata": {},
   "outputs": [],
   "source": [
    "s = Saver(Layout(lp.shapes, lp.corners, lp.G), \"dimensioned_placement\")\n",
    "s.save()"
   ]
  }
 ],
 "metadata": {
  "kernelspec": {
   "display_name": "gqenv",
   "language": "python",
   "name": "python3"
  },
  "language_info": {
   "codemirror_mode": {
    "name": "ipython",
    "version": 3
   },
   "file_extension": ".py",
   "mimetype": "text/x-python",
   "name": "python",
   "nbconvert_exporter": "python",
   "pygments_lexer": "ipython3",
   "version": "3.10.14"
  }
 },
 "nbformat": 4,
 "nbformat_minor": 2
}
