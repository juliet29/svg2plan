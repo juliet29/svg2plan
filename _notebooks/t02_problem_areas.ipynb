{
 "cells": [
  {
   "cell_type": "code",
   "execution_count": 1,
   "metadata": {},
   "outputs": [],
   "source": [
    "import sys\n",
    "sys.path.append(\"/Users/julietnwagwuume-ezeoke/_UILCode/gqe-phd/svg2plan/_scripts\")\n",
    "import pickle\n",
    "\n",
    "from shapely import Polygon, box, intersection_all, union_all, unary_union, coverage_union_all, STRtree, intersection\n",
    "\n",
    "import shapely as sp\n",
    "\n",
    "from classes.domains import Corners, Domain\n",
    "from problems.reporter import Reporter"
   ]
  },
  {
   "cell_type": "code",
   "execution_count": 3,
   "metadata": {},
   "outputs": [],
   "source": [
    "with open('../intermediate_solutions/amber.pickle', 'rb') as handle:\n",
    "    results = pickle.load(handle)\n",
    "G, corners, shapes = results.values()\n"
   ]
  },
  {
   "cell_type": "code",
   "execution_count": 4,
   "metadata": {},
   "outputs": [
    {
     "name": "stdout",
     "output_type": "stream",
     "text": [
      "Overlaps: 3. Holes: 1.\n",
      "[('m_bedroom', 'bath'), ('m_bedroom', 'dining'), ('m_closet', 'dining')]\n",
      "[('transit_space', 'laundry', 'm_bath', 'bath')]\n"
     ]
    }
   ],
   "source": [
    "re = Reporter(shapes, G)\n",
    "re.run()"
   ]
  }
 ],
 "metadata": {
  "kernelspec": {
   "display_name": "gqenv",
   "language": "python",
   "name": "python3"
  },
  "language_info": {
   "codemirror_mode": {
    "name": "ipython",
    "version": 3
   },
   "file_extension": ".py",
   "mimetype": "text/x-python",
   "name": "python",
   "nbconvert_exporter": "python",
   "pygments_lexer": "ipython3",
   "version": "3.10.14"
  }
 },
 "nbformat": 4,
 "nbformat_minor": 2
}
