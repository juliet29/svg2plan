{
 "cells": [
  {
   "cell_type": "code",
   "execution_count": 1,
   "metadata": {},
   "outputs": [],
   "source": [
    "import sys\n",
    "sys.path.append(\"/Users/julietnwagwuume-ezeoke/_UILCode/gqe-phd/svg2plan/_scripts\")\n",
    "\n",
    "from pint import UnitRegistry\n",
    "\n",
    "from svg_helpers.saver import Saver, read_layout\n",
    "from svg_helpers.plotter import Plotter\n",
    "\n",
    "from svg_helpers.domains import Corners, DomainDict, Domain, DecimalCorners\n",
    "\n",
    "from reader.svg_reader import SVGReader\n",
    "from adjacencies.adjacency import AdjacencyGenerator\n",
    "from adjacencies.connectivity import ConnectivityGenerator\n",
    "\n",
    "from placement.executer import PlacementExecuter\n",
    "\n",
    "\n",
    "from problems.sequence_runner import SequenceRunner\n",
    "from problems.classes.sequence import Sequence\n",
    "from problems.reporter import Reporter\n",
    "\n",
    "from svg_helpers.gplan_creator import GPLANCreator\n",
    "\n",
    "from problems.side_leveler import SideLeveler\n",
    "\n",
    "from decimal import Decimal, getcontext, Context\n",
    "\n",
    "from pprint import pprint"
   ]
  },
  {
   "cell_type": "code",
   "execution_count": 2,
   "metadata": {},
   "outputs": [
    {
     "data": {
      "text/plain": [
       "Decimal('2.913577999999999779134896016')"
      ]
     },
     "execution_count": 2,
     "metadata": {},
     "output_type": "execute_result"
    }
   ],
   "source": [
    "h = Context(prec=4)\n",
    "Decimal(1.4567890, h) + Decimal(1.4567890, h)"
   ]
  },
  {
   "cell_type": "code",
   "execution_count": 3,
   "metadata": {},
   "outputs": [],
   "source": [
    "svg_name = \"amber_building_a_f01.svg\"\n",
    "sv = SVGReader(svg_name)\n",
    "# sv.get_rectangles()\n",
    "# sv.prepare_to_update_dimensions()\n",
    "sv.run()"
   ]
  },
  {
   "cell_type": "code",
   "execution_count": 4,
   "metadata": {},
   "outputs": [
    {
     "data": {
      "application/vnd.plotly.v1+json": {
       "config": {
        "plotlyServerURL": "https://plotly.com"
       },
       "data": [],
       "layout": {
        "autosize": false,
        "height": 480,
        "margin": {
         "b": 50,
         "l": 50,
         "pad": 4,
         "r": 50,
         "t": 50
        },
        "shapes": [
         {
          "fillcolor": "rgb(48, 18, 59)",
          "label": {
           "text": "bedroom_1"
          },
          "opacity": 0.5,
          "type": "rect",
          "x0": 0,
          "x1": 3.22,
          "xref": "x",
          "y0": 3.29,
          "y1": 6.09,
          "yref": "y"
         },
         {
          "fillcolor": "rgb(67, 88, 197)",
          "label": {
           "text": "kitchen"
          },
          "opacity": 0.5,
          "type": "rect",
          "x0": 3.36,
          "x1": 5.16,
          "xref": "x",
          "y0": 0,
          "y1": 2.24,
          "yref": "y"
         },
         {
          "fillcolor": "rgb(60, 153, 249)",
          "label": {
           "text": "m_bath"
          },
          "opacity": 0.5,
          "type": "rect",
          "x0": 5.3,
          "x1": 7.62,
          "xref": "x",
          "y0": 4.79,
          "y1": 6.09,
          "yref": "y"
         },
         {
          "fillcolor": "rgb(29, 213, 203)",
          "label": {
           "text": "m_bedroom"
          },
          "opacity": 0.5,
          "type": "rect",
          "x0": 7.8,
          "x1": 9.93,
          "xref": "x",
          "y0": 3.35,
          "y1": 6.09,
          "yref": "y"
         },
         {
          "fillcolor": "rgb(73, 246, 131)",
          "label": {
           "text": "m_closet"
          },
          "opacity": 0.5,
          "type": "rect",
          "x0": 8.93,
          "x1": 9.93,
          "xref": "x",
          "y0": 2.69,
          "y1": 3.29,
          "yref": "y"
         },
         {
          "fillcolor": "rgb(164, 252, 59)",
          "label": {
           "text": "bath"
          },
          "opacity": 0.5,
          "type": "rect",
          "x0": 5.3,
          "x1": 7.62,
          "xref": "x",
          "y0": 3.35,
          "y1": 4.58,
          "yref": "y"
         },
         {
          "fillcolor": "rgb(223, 218, 54)",
          "label": {
           "text": "dining"
          },
          "opacity": 0.5,
          "type": "rect",
          "x0": 5.42,
          "x1": 8.78,
          "xref": "x",
          "y0": 0,
          "y1": 3.15,
          "yref": "y"
         },
         {
          "fillcolor": "rgb(252, 164, 48)",
          "label": {
           "text": "transit_space"
          },
          "opacity": 0.5,
          "type": "rect",
          "x0": 3.36,
          "x1": 5.16,
          "xref": "x",
          "y0": 2.41,
          "y1": 4.19,
          "yref": "y"
         },
         {
          "fillcolor": "rgb(238, 90, 18)",
          "label": {
           "text": "closet"
          },
          "opacity": 0.5,
          "type": "rect",
          "x0": 8.93,
          "x1": 9.93,
          "xref": "x",
          "y0": -0.05,
          "y1": 2.36,
          "yref": "y"
         },
         {
          "fillcolor": "rgb(193, 37, 3)",
          "label": {
           "text": "bedroom_2"
          },
          "opacity": 0.5,
          "type": "rect",
          "x0": 0,
          "x1": 3.22,
          "xref": "x",
          "y0": 0,
          "y1": 3.15,
          "yref": "y"
         },
         {
          "fillcolor": "rgb(122, 4, 2)",
          "label": {
           "text": "laundry"
          },
          "opacity": 0.5,
          "type": "rect",
          "x0": 3.38,
          "x1": 4.98,
          "xref": "x",
          "y0": 4.31,
          "y1": 6.06,
          "yref": "y"
         }
        ],
        "template": {
         "data": {
          "bar": [
           {
            "error_x": {
             "color": "#2a3f5f"
            },
            "error_y": {
             "color": "#2a3f5f"
            },
            "marker": {
             "line": {
              "color": "#E5ECF6",
              "width": 0.5
             },
             "pattern": {
              "fillmode": "overlay",
              "size": 10,
              "solidity": 0.2
             }
            },
            "type": "bar"
           }
          ],
          "barpolar": [
           {
            "marker": {
             "line": {
              "color": "#E5ECF6",
              "width": 0.5
             },
             "pattern": {
              "fillmode": "overlay",
              "size": 10,
              "solidity": 0.2
             }
            },
            "type": "barpolar"
           }
          ],
          "carpet": [
           {
            "aaxis": {
             "endlinecolor": "#2a3f5f",
             "gridcolor": "white",
             "linecolor": "white",
             "minorgridcolor": "white",
             "startlinecolor": "#2a3f5f"
            },
            "baxis": {
             "endlinecolor": "#2a3f5f",
             "gridcolor": "white",
             "linecolor": "white",
             "minorgridcolor": "white",
             "startlinecolor": "#2a3f5f"
            },
            "type": "carpet"
           }
          ],
          "choropleth": [
           {
            "colorbar": {
             "outlinewidth": 0,
             "ticks": ""
            },
            "type": "choropleth"
           }
          ],
          "contour": [
           {
            "colorbar": {
             "outlinewidth": 0,
             "ticks": ""
            },
            "colorscale": [
             [
              0,
              "#0d0887"
             ],
             [
              0.1111111111111111,
              "#46039f"
             ],
             [
              0.2222222222222222,
              "#7201a8"
             ],
             [
              0.3333333333333333,
              "#9c179e"
             ],
             [
              0.4444444444444444,
              "#bd3786"
             ],
             [
              0.5555555555555556,
              "#d8576b"
             ],
             [
              0.6666666666666666,
              "#ed7953"
             ],
             [
              0.7777777777777778,
              "#fb9f3a"
             ],
             [
              0.8888888888888888,
              "#fdca26"
             ],
             [
              1,
              "#f0f921"
             ]
            ],
            "type": "contour"
           }
          ],
          "contourcarpet": [
           {
            "colorbar": {
             "outlinewidth": 0,
             "ticks": ""
            },
            "type": "contourcarpet"
           }
          ],
          "heatmap": [
           {
            "colorbar": {
             "outlinewidth": 0,
             "ticks": ""
            },
            "colorscale": [
             [
              0,
              "#0d0887"
             ],
             [
              0.1111111111111111,
              "#46039f"
             ],
             [
              0.2222222222222222,
              "#7201a8"
             ],
             [
              0.3333333333333333,
              "#9c179e"
             ],
             [
              0.4444444444444444,
              "#bd3786"
             ],
             [
              0.5555555555555556,
              "#d8576b"
             ],
             [
              0.6666666666666666,
              "#ed7953"
             ],
             [
              0.7777777777777778,
              "#fb9f3a"
             ],
             [
              0.8888888888888888,
              "#fdca26"
             ],
             [
              1,
              "#f0f921"
             ]
            ],
            "type": "heatmap"
           }
          ],
          "heatmapgl": [
           {
            "colorbar": {
             "outlinewidth": 0,
             "ticks": ""
            },
            "colorscale": [
             [
              0,
              "#0d0887"
             ],
             [
              0.1111111111111111,
              "#46039f"
             ],
             [
              0.2222222222222222,
              "#7201a8"
             ],
             [
              0.3333333333333333,
              "#9c179e"
             ],
             [
              0.4444444444444444,
              "#bd3786"
             ],
             [
              0.5555555555555556,
              "#d8576b"
             ],
             [
              0.6666666666666666,
              "#ed7953"
             ],
             [
              0.7777777777777778,
              "#fb9f3a"
             ],
             [
              0.8888888888888888,
              "#fdca26"
             ],
             [
              1,
              "#f0f921"
             ]
            ],
            "type": "heatmapgl"
           }
          ],
          "histogram": [
           {
            "marker": {
             "pattern": {
              "fillmode": "overlay",
              "size": 10,
              "solidity": 0.2
             }
            },
            "type": "histogram"
           }
          ],
          "histogram2d": [
           {
            "colorbar": {
             "outlinewidth": 0,
             "ticks": ""
            },
            "colorscale": [
             [
              0,
              "#0d0887"
             ],
             [
              0.1111111111111111,
              "#46039f"
             ],
             [
              0.2222222222222222,
              "#7201a8"
             ],
             [
              0.3333333333333333,
              "#9c179e"
             ],
             [
              0.4444444444444444,
              "#bd3786"
             ],
             [
              0.5555555555555556,
              "#d8576b"
             ],
             [
              0.6666666666666666,
              "#ed7953"
             ],
             [
              0.7777777777777778,
              "#fb9f3a"
             ],
             [
              0.8888888888888888,
              "#fdca26"
             ],
             [
              1,
              "#f0f921"
             ]
            ],
            "type": "histogram2d"
           }
          ],
          "histogram2dcontour": [
           {
            "colorbar": {
             "outlinewidth": 0,
             "ticks": ""
            },
            "colorscale": [
             [
              0,
              "#0d0887"
             ],
             [
              0.1111111111111111,
              "#46039f"
             ],
             [
              0.2222222222222222,
              "#7201a8"
             ],
             [
              0.3333333333333333,
              "#9c179e"
             ],
             [
              0.4444444444444444,
              "#bd3786"
             ],
             [
              0.5555555555555556,
              "#d8576b"
             ],
             [
              0.6666666666666666,
              "#ed7953"
             ],
             [
              0.7777777777777778,
              "#fb9f3a"
             ],
             [
              0.8888888888888888,
              "#fdca26"
             ],
             [
              1,
              "#f0f921"
             ]
            ],
            "type": "histogram2dcontour"
           }
          ],
          "mesh3d": [
           {
            "colorbar": {
             "outlinewidth": 0,
             "ticks": ""
            },
            "type": "mesh3d"
           }
          ],
          "parcoords": [
           {
            "line": {
             "colorbar": {
              "outlinewidth": 0,
              "ticks": ""
             }
            },
            "type": "parcoords"
           }
          ],
          "pie": [
           {
            "automargin": true,
            "type": "pie"
           }
          ],
          "scatter": [
           {
            "fillpattern": {
             "fillmode": "overlay",
             "size": 10,
             "solidity": 0.2
            },
            "type": "scatter"
           }
          ],
          "scatter3d": [
           {
            "line": {
             "colorbar": {
              "outlinewidth": 0,
              "ticks": ""
             }
            },
            "marker": {
             "colorbar": {
              "outlinewidth": 0,
              "ticks": ""
             }
            },
            "type": "scatter3d"
           }
          ],
          "scattercarpet": [
           {
            "marker": {
             "colorbar": {
              "outlinewidth": 0,
              "ticks": ""
             }
            },
            "type": "scattercarpet"
           }
          ],
          "scattergeo": [
           {
            "marker": {
             "colorbar": {
              "outlinewidth": 0,
              "ticks": ""
             }
            },
            "type": "scattergeo"
           }
          ],
          "scattergl": [
           {
            "marker": {
             "colorbar": {
              "outlinewidth": 0,
              "ticks": ""
             }
            },
            "type": "scattergl"
           }
          ],
          "scattermapbox": [
           {
            "marker": {
             "colorbar": {
              "outlinewidth": 0,
              "ticks": ""
             }
            },
            "type": "scattermapbox"
           }
          ],
          "scatterpolar": [
           {
            "marker": {
             "colorbar": {
              "outlinewidth": 0,
              "ticks": ""
             }
            },
            "type": "scatterpolar"
           }
          ],
          "scatterpolargl": [
           {
            "marker": {
             "colorbar": {
              "outlinewidth": 0,
              "ticks": ""
             }
            },
            "type": "scatterpolargl"
           }
          ],
          "scatterternary": [
           {
            "marker": {
             "colorbar": {
              "outlinewidth": 0,
              "ticks": ""
             }
            },
            "type": "scatterternary"
           }
          ],
          "surface": [
           {
            "colorbar": {
             "outlinewidth": 0,
             "ticks": ""
            },
            "colorscale": [
             [
              0,
              "#0d0887"
             ],
             [
              0.1111111111111111,
              "#46039f"
             ],
             [
              0.2222222222222222,
              "#7201a8"
             ],
             [
              0.3333333333333333,
              "#9c179e"
             ],
             [
              0.4444444444444444,
              "#bd3786"
             ],
             [
              0.5555555555555556,
              "#d8576b"
             ],
             [
              0.6666666666666666,
              "#ed7953"
             ],
             [
              0.7777777777777778,
              "#fb9f3a"
             ],
             [
              0.8888888888888888,
              "#fdca26"
             ],
             [
              1,
              "#f0f921"
             ]
            ],
            "type": "surface"
           }
          ],
          "table": [
           {
            "cells": {
             "fill": {
              "color": "#EBF0F8"
             },
             "line": {
              "color": "white"
             }
            },
            "header": {
             "fill": {
              "color": "#C8D4E3"
             },
             "line": {
              "color": "white"
             }
            },
            "type": "table"
           }
          ]
         },
         "layout": {
          "annotationdefaults": {
           "arrowcolor": "#2a3f5f",
           "arrowhead": 0,
           "arrowwidth": 1
          },
          "autotypenumbers": "strict",
          "coloraxis": {
           "colorbar": {
            "outlinewidth": 0,
            "ticks": ""
           }
          },
          "colorscale": {
           "diverging": [
            [
             0,
             "#8e0152"
            ],
            [
             0.1,
             "#c51b7d"
            ],
            [
             0.2,
             "#de77ae"
            ],
            [
             0.3,
             "#f1b6da"
            ],
            [
             0.4,
             "#fde0ef"
            ],
            [
             0.5,
             "#f7f7f7"
            ],
            [
             0.6,
             "#e6f5d0"
            ],
            [
             0.7,
             "#b8e186"
            ],
            [
             0.8,
             "#7fbc41"
            ],
            [
             0.9,
             "#4d9221"
            ],
            [
             1,
             "#276419"
            ]
           ],
           "sequential": [
            [
             0,
             "#0d0887"
            ],
            [
             0.1111111111111111,
             "#46039f"
            ],
            [
             0.2222222222222222,
             "#7201a8"
            ],
            [
             0.3333333333333333,
             "#9c179e"
            ],
            [
             0.4444444444444444,
             "#bd3786"
            ],
            [
             0.5555555555555556,
             "#d8576b"
            ],
            [
             0.6666666666666666,
             "#ed7953"
            ],
            [
             0.7777777777777778,
             "#fb9f3a"
            ],
            [
             0.8888888888888888,
             "#fdca26"
            ],
            [
             1,
             "#f0f921"
            ]
           ],
           "sequentialminus": [
            [
             0,
             "#0d0887"
            ],
            [
             0.1111111111111111,
             "#46039f"
            ],
            [
             0.2222222222222222,
             "#7201a8"
            ],
            [
             0.3333333333333333,
             "#9c179e"
            ],
            [
             0.4444444444444444,
             "#bd3786"
            ],
            [
             0.5555555555555556,
             "#d8576b"
            ],
            [
             0.6666666666666666,
             "#ed7953"
            ],
            [
             0.7777777777777778,
             "#fb9f3a"
            ],
            [
             0.8888888888888888,
             "#fdca26"
            ],
            [
             1,
             "#f0f921"
            ]
           ]
          },
          "colorway": [
           "#636efa",
           "#EF553B",
           "#00cc96",
           "#ab63fa",
           "#FFA15A",
           "#19d3f3",
           "#FF6692",
           "#B6E880",
           "#FF97FF",
           "#FECB52"
          ],
          "font": {
           "color": "#2a3f5f"
          },
          "geo": {
           "bgcolor": "white",
           "lakecolor": "white",
           "landcolor": "#E5ECF6",
           "showlakes": true,
           "showland": true,
           "subunitcolor": "white"
          },
          "hoverlabel": {
           "align": "left"
          },
          "hovermode": "closest",
          "mapbox": {
           "style": "light"
          },
          "paper_bgcolor": "white",
          "plot_bgcolor": "#E5ECF6",
          "polar": {
           "angularaxis": {
            "gridcolor": "white",
            "linecolor": "white",
            "ticks": ""
           },
           "bgcolor": "#E5ECF6",
           "radialaxis": {
            "gridcolor": "white",
            "linecolor": "white",
            "ticks": ""
           }
          },
          "scene": {
           "xaxis": {
            "backgroundcolor": "#E5ECF6",
            "gridcolor": "white",
            "gridwidth": 2,
            "linecolor": "white",
            "showbackground": true,
            "ticks": "",
            "zerolinecolor": "white"
           },
           "yaxis": {
            "backgroundcolor": "#E5ECF6",
            "gridcolor": "white",
            "gridwidth": 2,
            "linecolor": "white",
            "showbackground": true,
            "ticks": "",
            "zerolinecolor": "white"
           },
           "zaxis": {
            "backgroundcolor": "#E5ECF6",
            "gridcolor": "white",
            "gridwidth": 2,
            "linecolor": "white",
            "showbackground": true,
            "ticks": "",
            "zerolinecolor": "white"
           }
          },
          "shapedefaults": {
           "line": {
            "color": "#2a3f5f"
           }
          },
          "ternary": {
           "aaxis": {
            "gridcolor": "white",
            "linecolor": "white",
            "ticks": ""
           },
           "baxis": {
            "gridcolor": "white",
            "linecolor": "white",
            "ticks": ""
           },
           "bgcolor": "#E5ECF6",
           "caxis": {
            "gridcolor": "white",
            "linecolor": "white",
            "ticks": ""
           }
          },
          "title": {
           "x": 0.05
          },
          "xaxis": {
           "automargin": true,
           "gridcolor": "white",
           "linecolor": "white",
           "ticks": "",
           "title": {
            "standoff": 15
           },
           "zerolinecolor": "white",
           "zerolinewidth": 2
          },
          "yaxis": {
           "automargin": true,
           "gridcolor": "white",
           "linecolor": "white",
           "ticks": "",
           "title": {
            "standoff": 15
           },
           "zerolinecolor": "white",
           "zerolinewidth": 2
          }
         }
        },
        "width": 800,
        "xaxis": {
         "range": [
          -1,
          12
         ]
        },
        "yaxis": {
         "range": [
          -1,
          8
         ]
        }
       }
      }
     },
     "metadata": {},
     "output_type": "display_data"
    }
   ],
   "source": [
    "pl = Plotter(sv.domains.corners)\n",
    "pl.plot()"
   ]
  },
  {
   "cell_type": "code",
   "execution_count": 5,
   "metadata": {},
   "outputs": [],
   "source": [
    "ag = AdjacencyGenerator(sv.domains, 0.4)\n",
    "ag.run()"
   ]
  },
  {
   "cell_type": "code",
   "execution_count": 6,
   "metadata": {},
   "outputs": [
    {
     "data": {
      "text/plain": [
       "Layout(shapes={'bedroom_1': <POLYGON ((3.22 3.29, 3.22 6.09, 0 6.09, 0 3.29, 3.22 3.29))>, 'kitchen': <POLYGON ((5.16 0, 5.16 2.24, 3.36 2.24, 3.36 0, 5.16 0))>, 'm_bath': <POLYGON ((7.62 4.79, 7.62 6.09, 5.3 6.09, 5.3 4.79, 7.62 4.79))>, 'm_bedroom': <POLYGON ((9.93 3.35, 9.93 6.09, 7.8 6.09, 7.8 3.35, 9.93 3.35))>, 'm_closet': <POLYGON ((9.93 2.69, 9.93 3.29, 8.93 3.29, 8.93 2.69, 9.93 2.69))>, 'bath': <POLYGON ((7.62 3.35, 7.62 4.58, 5.3 4.58, 5.3 3.35, 7.62 3.35))>, 'dining': <POLYGON ((8.78 0, 8.78 3.15, 5.42 3.15, 5.42 0, 8.78 0))>, 'transit_space': <POLYGON ((5.16 2.41, 5.16 4.19, 3.36 4.19, 3.36 2.41, 5.16 2.41))>, 'closet': <POLYGON ((9.93 -0.05, 9.93 2.36, 8.93 2.36, 8.93 -0.05, 9.93 -0.05))>, 'bedroom_2': <POLYGON ((3.22 0, 3.22 3.15, 0 3.15, 0 0, 3.22 0))>, 'laundry': <POLYGON ((4.98 4.31, 4.98 6.06, 3.38 6.06, 3.38 4.31, 4.98 4.31))>}, corners={'bedroom_1': DecimalCorners(x_left=Decimal('0.00'), x_right=Decimal('3.22'), y_bottom=Decimal('3.29'), y_top=Decimal('6.09')), 'kitchen': DecimalCorners(x_left=Decimal('3.36'), x_right=Decimal('5.16'), y_bottom=Decimal('0.00'), y_top=Decimal('2.24')), 'm_bath': DecimalCorners(x_left=Decimal('5.30'), x_right=Decimal('7.62'), y_bottom=Decimal('4.79'), y_top=Decimal('6.09')), 'm_bedroom': DecimalCorners(x_left=Decimal('7.80'), x_right=Decimal('9.93'), y_bottom=Decimal('3.35'), y_top=Decimal('6.09')), 'm_closet': DecimalCorners(x_left=Decimal('8.93'), x_right=Decimal('9.93'), y_bottom=Decimal('2.69'), y_top=Decimal('3.29')), 'bath': DecimalCorners(x_left=Decimal('5.30'), x_right=Decimal('7.62'), y_bottom=Decimal('3.35'), y_top=Decimal('4.58')), 'dining': DecimalCorners(x_left=Decimal('5.42'), x_right=Decimal('8.78'), y_bottom=Decimal('0.00'), y_top=Decimal('3.15')), 'transit_space': DecimalCorners(x_left=Decimal('3.36'), x_right=Decimal('5.16'), y_bottom=Decimal('2.41'), y_top=Decimal('4.19')), 'closet': DecimalCorners(x_left=Decimal('8.93'), x_right=Decimal('9.93'), y_bottom=Decimal('-0.05'), y_top=Decimal('2.36')), 'bedroom_2': DecimalCorners(x_left=Decimal('0.00'), x_right=Decimal('3.22'), y_bottom=Decimal('0.00'), y_top=Decimal('3.15')), 'laundry': DecimalCorners(x_left=Decimal('3.38'), x_right=Decimal('4.98'), y_bottom=Decimal('4.31'), y_top=Decimal('6.06'))}, graph=<networkx.classes.graph.Graph object at 0x10f50f130>)"
      ]
     },
     "execution_count": 6,
     "metadata": {},
     "output_type": "execute_result"
    }
   ],
   "source": [
    "ag.layout_obj"
   ]
  },
  {
   "cell_type": "code",
   "execution_count": 7,
   "metadata": {},
   "outputs": [
    {
     "data": {
      "text/plain": [
       "Decimal('8.93')"
      ]
     },
     "execution_count": 7,
     "metadata": {},
     "output_type": "execute_result"
    }
   ],
   "source": [
    "ag.layout_obj.corners[\"m_closet\"].x_left"
   ]
  },
  {
   "cell_type": "code",
   "execution_count": 8,
   "metadata": {},
   "outputs": [],
   "source": [
    "cg = ConnectivityGenerator(ag.positioned_graph)\n",
    "cg.run()"
   ]
  },
  {
   "cell_type": "code",
   "execution_count": 9,
   "metadata": {},
   "outputs": [
    {
     "name": "stdout",
     "output_type": "stream",
     "text": [
      "---m_bedroom has no western nbs that are unplaced\n",
      "fpr bedroom_2, there is no west node\n",
      "dining, the east node of m_closet has not yet been placed. Creating a new x_left at 8.20\n",
      "changing north node reference to 1. Number of unplaced nodes is 3\n",
      "no more nodes to place\n"
     ]
    }
   ],
   "source": [
    "lp = PlacementExecuter(ag.layout_obj)\n",
    "lp.run()"
   ]
  },
  {
   "cell_type": "code",
   "execution_count": 10,
   "metadata": {},
   "outputs": [
    {
     "name": "stdout",
     "output_type": "stream",
     "text": [
      "[]\n",
      "-- Unresolved Problems. Overlaps: 3. Holes: 1. Sideholes: 0\n"
     ]
    },
    {
     "data": {
      "text/plain": [
       "[Problem(index=1, problem_type=ProblemType.HOLE, resolved=False, nbs=['transit_space', 'laundry', 'm_bath', 'bath'], x_left=4.82),\n",
       " Problem(index=2, problem_type=ProblemType.OVERLAP, resolved=False, nbs=('m_closet', 'dining'), x_left=8.2),\n",
       " Problem(index=3, problem_type=ProblemType.OVERLAP, resolved=False, nbs=('m_bedroom', 'dining'), x_left=7.14),\n",
       " Problem(index=4, problem_type=ProblemType.OVERLAP, resolved=False, nbs=('m_bedroom', 'bath'), x_left=7.14)]"
      ]
     },
     "execution_count": 10,
     "metadata": {},
     "output_type": "execute_result"
    }
   ],
   "source": [
    "re = Reporter(lp.layout)\n",
    "print(re.problems)\n",
    "re.run()\n",
    "re.problems"
   ]
  },
  {
   "cell_type": "code",
   "execution_count": 12,
   "metadata": {},
   "outputs": [],
   "source": [
    "seq = Sequence(0, lp.layout, re.problems, [])\n",
    "# sr = SequenceRunner(seq, re.problems[0])\n",
    "# sr.execute_actions()"
   ]
  },
  {
   "cell_type": "code",
   "execution_count": 13,
   "metadata": {},
   "outputs": [
    {
     "name": "stdout",
     "output_type": "stream",
     "text": [
      "--iteration #1\n",
      "curr problem = Problem(index=1, problem_type=ProblemType.HOLE, resolved=False, nbs=['transit_space', 'laundry', 'm_bath', 'bath'], x_left=4.82)\n",
      "Action(problem=((1, 'HOLE')), action_type=ActionType.STRETCH, node=laundry, distance=0.20)\n",
      "-- Unresolved Problems. Overlaps: 4. Holes: 0. Sideholes: 0\n",
      "problem resolved\n",
      "indices: [2, 3, 4, 5]\n",
      "next problem = Problem(index=4, problem_type=ProblemType.OVERLAP, resolved=False, nbs=('m_bedroom', 'bath'), x_left=7.14)\n",
      "--iteration #2\n",
      "curr problem = Problem(index=4, problem_type=ProblemType.OVERLAP, resolved=False, nbs=('m_bedroom', 'bath'), x_left=7.14)\n",
      "Action(problem=((4, 'OVERLAP')), action_type=ActionType.PUSH, node=m_bedroom, distance=0.20)\n",
      "-- Unresolved Problems. Overlaps: 3. Holes: 0. Sideholes: 1\n",
      "problem resolved\n",
      "indices: [2, 5, 6, 7]\n",
      "next problem = Problem(index=5, problem_type=ProblemType.OVERLAP, resolved=False, nbs=('m_bath', 'laundry'), x_left=4.82)\n",
      "--iteration #3\n",
      "curr problem = Problem(index=5, problem_type=ProblemType.OVERLAP, resolved=False, nbs=('m_bath', 'laundry'), x_left=4.82)\n",
      "Action(problem=((5, 'OVERLAP')), action_type=ActionType.PUSH, node=m_bath, distance=0.20)\n",
      "-- Unresolved Problems. Overlaps: 2. Holes: 0. Sideholes: 0\n",
      "problem resolved\n",
      "indices: [2, 7]\n",
      "next problem = Problem(index=2, problem_type=ProblemType.OVERLAP, resolved=False, nbs=('m_closet', 'dining'), x_left=8.2)\n",
      "--iteration #4\n",
      "curr problem = Problem(index=2, problem_type=ProblemType.OVERLAP, resolved=False, nbs=('m_closet', 'dining'), x_left=8.2)\n",
      "Action(problem=((2, 'OVERLAP')), action_type=ActionType.PUSH, node=m_closet, distance=0.18)\n",
      "-- Unresolved Problems. Overlaps: 1. Holes: 0. Sideholes: 0\n",
      "problem resolved\n",
      "indices: [7]\n",
      "there is just one index and it is [7]\n",
      "next problem = Problem(index=7, problem_type=ProblemType.OVERLAP, resolved=False, nbs=('m_bedroom', 'dining'), x_left=7.34)\n",
      "--iteration #5\n",
      "curr problem = Problem(index=7, problem_type=ProblemType.OVERLAP, resolved=False, nbs=('m_bedroom', 'dining'), x_left=7.34)\n",
      "Action(problem=((7, 'OVERLAP')), action_type=ActionType.PUSH, node=m_bedroom, distance=1.04)\n",
      "-- Unresolved Problems. Overlaps: 0. Holes: 0. Sideholes: 1\n",
      "problem resolved\n",
      "indices: [8]\n",
      "there is just one index and it is [8]\n",
      "next problem = Problem(index=8, problem_type=ProblemType.SIDE_HOLE, resolved=False, nbs=['m_bedroom', 'm_bath'], x_left=7.34)\n",
      "--iteration #6\n",
      "curr problem = Problem(index=8, problem_type=ProblemType.SIDE_HOLE, resolved=False, nbs=['m_bedroom', 'm_bath'], x_left=7.34)\n",
      "Action(problem=((8, 'SIDE_HOLE')), action_type=ActionType.STRETCH, node=m_bath, distance=1.04)\n",
      "-- Unresolved Problems. Overlaps: 0. Holes: 1. Sideholes: 0\n",
      "problem resolved\n",
      "indices: [9]\n",
      "there is just one index and it is [9]\n",
      "next problem = Problem(index=9, problem_type=ProblemType.HOLE, resolved=False, nbs=['bath', 'dining', 'm_bedroom', 'm_bath'], x_left=7.34)\n",
      "--iteration #7\n",
      "curr problem = Problem(index=9, problem_type=ProblemType.HOLE, resolved=False, nbs=['bath', 'dining', 'm_bedroom', 'm_bath'], x_left=7.34)\n",
      "Action(problem=((9, 'HOLE')), action_type=ActionType.STRETCH, node=bath, distance=1.04)\n",
      "-- Unresolved Problems. Overlaps: 0. Holes: 0. Sideholes: 0\n",
      "problem resolved\n",
      "indices: []\n",
      "no more problems!\n",
      "no more problems!\n"
     ]
    }
   ],
   "source": [
    "sr = SequenceRunner(seq, re.problems[0])\n",
    "sr.run()"
   ]
  },
  {
   "cell_type": "code",
   "execution_count": 23,
   "metadata": {},
   "outputs": [
    {
     "name": "stdout",
     "output_type": "stream",
     "text": [
      "--iteration #13\n",
      "curr problem = Problem(index=13, problem_type=ProblemType.OVERLAP, resolved=False, nbs=('m_closet', 'dining'), x_left=8.38)\n",
      "Action(problem=((13, 'OVERLAP')), action_type=ActionType.PUSH, node=m_closet, distance=0.20)\n",
      "-- Unresolved Problems. Overlaps: 0. Holes: 0. Sideholes: 0\n",
      "problem resolved\n",
      "indices: []\n",
      "no more problems!\n"
     ]
    },
    {
     "data": {
      "application/vnd.plotly.v1+json": {
       "config": {
        "plotlyServerURL": "https://plotly.com"
       },
       "data": [],
       "layout": {
        "autosize": false,
        "height": 480,
        "margin": {
         "b": 50,
         "l": 50,
         "pad": 4,
         "r": 50,
         "t": 50
        },
        "shapes": [
         {
          "fillcolor": "rgb(48, 18, 59)",
          "label": {
           "text": "bedroom_1"
          },
          "opacity": 0.5,
          "type": "rect",
          "x0": 0,
          "x1": 3.22,
          "xref": "x",
          "y0": -2.8,
          "y1": 0,
          "yref": "y"
         },
         {
          "fillcolor": "rgb(67, 88, 197)",
          "label": {
           "text": "kitchen"
          },
          "opacity": 0.5,
          "type": "rect",
          "x0": 3.22,
          "x1": 5.02,
          "xref": "x",
          "y0": -5.77,
          "y1": -3.53,
          "yref": "y"
         },
         {
          "fillcolor": "rgb(60, 153, 249)",
          "label": {
           "text": "m_bath"
          },
          "opacity": 0.5,
          "type": "rect",
          "x0": 5.02,
          "x1": 8.58,
          "xref": "x",
          "y0": -1.3,
          "y1": 0,
          "yref": "y"
         },
         {
          "fillcolor": "rgb(29, 213, 203)",
          "label": {
           "text": "m_bedroom"
          },
          "opacity": 0.5,
          "type": "rect",
          "x0": 8.58,
          "x1": 10.71,
          "xref": "x",
          "y0": -2.74,
          "y1": 0,
          "yref": "y"
         },
         {
          "fillcolor": "rgb(73, 246, 131)",
          "label": {
           "text": "m_closet"
          },
          "opacity": 0.5,
          "type": "rect",
          "x0": 8.58,
          "x1": 9.58,
          "xref": "x",
          "y0": -3.34,
          "y1": -2.74,
          "yref": "y"
         },
         {
          "fillcolor": "rgb(164, 252, 59)",
          "label": {
           "text": "bath"
          },
          "opacity": 0.5,
          "type": "rect",
          "x0": 5.02,
          "x1": 8.58,
          "xref": "x",
          "y0": -2.53,
          "y1": -1.3,
          "yref": "y"
         },
         {
          "fillcolor": "rgb(223, 218, 54)",
          "label": {
           "text": "dining"
          },
          "opacity": 0.5,
          "type": "rect",
          "x0": 5.02,
          "x1": 8.58,
          "xref": "x",
          "y0": -5.68,
          "y1": -2.53,
          "yref": "y"
         },
         {
          "fillcolor": "rgb(252, 164, 48)",
          "label": {
           "text": "transit_space"
          },
          "opacity": 0.5,
          "type": "rect",
          "x0": 3.22,
          "x1": 5.02,
          "xref": "x",
          "y0": -3.53,
          "y1": -1.75,
          "yref": "y"
         },
         {
          "fillcolor": "rgb(238, 90, 18)",
          "label": {
           "text": "closet"
          },
          "opacity": 0.5,
          "type": "rect",
          "x0": 8.58,
          "x1": 9.58,
          "xref": "x",
          "y0": -5.75,
          "y1": -3.34,
          "yref": "y"
         },
         {
          "fillcolor": "rgb(193, 37, 3)",
          "label": {
           "text": "bedroom_2"
          },
          "opacity": 0.5,
          "type": "rect",
          "x0": 0,
          "x1": 3.22,
          "xref": "x",
          "y0": -5.95,
          "y1": -2.8,
          "yref": "y"
         },
         {
          "fillcolor": "rgb(122, 4, 2)",
          "label": {
           "text": "laundry"
          },
          "opacity": 0.5,
          "type": "rect",
          "x0": 3.22,
          "x1": 5.02,
          "xref": "x",
          "y0": -1.75,
          "y1": 0,
          "yref": "y"
         }
        ],
        "template": {
         "data": {
          "bar": [
           {
            "error_x": {
             "color": "#2a3f5f"
            },
            "error_y": {
             "color": "#2a3f5f"
            },
            "marker": {
             "line": {
              "color": "#E5ECF6",
              "width": 0.5
             },
             "pattern": {
              "fillmode": "overlay",
              "size": 10,
              "solidity": 0.2
             }
            },
            "type": "bar"
           }
          ],
          "barpolar": [
           {
            "marker": {
             "line": {
              "color": "#E5ECF6",
              "width": 0.5
             },
             "pattern": {
              "fillmode": "overlay",
              "size": 10,
              "solidity": 0.2
             }
            },
            "type": "barpolar"
           }
          ],
          "carpet": [
           {
            "aaxis": {
             "endlinecolor": "#2a3f5f",
             "gridcolor": "white",
             "linecolor": "white",
             "minorgridcolor": "white",
             "startlinecolor": "#2a3f5f"
            },
            "baxis": {
             "endlinecolor": "#2a3f5f",
             "gridcolor": "white",
             "linecolor": "white",
             "minorgridcolor": "white",
             "startlinecolor": "#2a3f5f"
            },
            "type": "carpet"
           }
          ],
          "choropleth": [
           {
            "colorbar": {
             "outlinewidth": 0,
             "ticks": ""
            },
            "type": "choropleth"
           }
          ],
          "contour": [
           {
            "colorbar": {
             "outlinewidth": 0,
             "ticks": ""
            },
            "colorscale": [
             [
              0,
              "#0d0887"
             ],
             [
              0.1111111111111111,
              "#46039f"
             ],
             [
              0.2222222222222222,
              "#7201a8"
             ],
             [
              0.3333333333333333,
              "#9c179e"
             ],
             [
              0.4444444444444444,
              "#bd3786"
             ],
             [
              0.5555555555555556,
              "#d8576b"
             ],
             [
              0.6666666666666666,
              "#ed7953"
             ],
             [
              0.7777777777777778,
              "#fb9f3a"
             ],
             [
              0.8888888888888888,
              "#fdca26"
             ],
             [
              1,
              "#f0f921"
             ]
            ],
            "type": "contour"
           }
          ],
          "contourcarpet": [
           {
            "colorbar": {
             "outlinewidth": 0,
             "ticks": ""
            },
            "type": "contourcarpet"
           }
          ],
          "heatmap": [
           {
            "colorbar": {
             "outlinewidth": 0,
             "ticks": ""
            },
            "colorscale": [
             [
              0,
              "#0d0887"
             ],
             [
              0.1111111111111111,
              "#46039f"
             ],
             [
              0.2222222222222222,
              "#7201a8"
             ],
             [
              0.3333333333333333,
              "#9c179e"
             ],
             [
              0.4444444444444444,
              "#bd3786"
             ],
             [
              0.5555555555555556,
              "#d8576b"
             ],
             [
              0.6666666666666666,
              "#ed7953"
             ],
             [
              0.7777777777777778,
              "#fb9f3a"
             ],
             [
              0.8888888888888888,
              "#fdca26"
             ],
             [
              1,
              "#f0f921"
             ]
            ],
            "type": "heatmap"
           }
          ],
          "heatmapgl": [
           {
            "colorbar": {
             "outlinewidth": 0,
             "ticks": ""
            },
            "colorscale": [
             [
              0,
              "#0d0887"
             ],
             [
              0.1111111111111111,
              "#46039f"
             ],
             [
              0.2222222222222222,
              "#7201a8"
             ],
             [
              0.3333333333333333,
              "#9c179e"
             ],
             [
              0.4444444444444444,
              "#bd3786"
             ],
             [
              0.5555555555555556,
              "#d8576b"
             ],
             [
              0.6666666666666666,
              "#ed7953"
             ],
             [
              0.7777777777777778,
              "#fb9f3a"
             ],
             [
              0.8888888888888888,
              "#fdca26"
             ],
             [
              1,
              "#f0f921"
             ]
            ],
            "type": "heatmapgl"
           }
          ],
          "histogram": [
           {
            "marker": {
             "pattern": {
              "fillmode": "overlay",
              "size": 10,
              "solidity": 0.2
             }
            },
            "type": "histogram"
           }
          ],
          "histogram2d": [
           {
            "colorbar": {
             "outlinewidth": 0,
             "ticks": ""
            },
            "colorscale": [
             [
              0,
              "#0d0887"
             ],
             [
              0.1111111111111111,
              "#46039f"
             ],
             [
              0.2222222222222222,
              "#7201a8"
             ],
             [
              0.3333333333333333,
              "#9c179e"
             ],
             [
              0.4444444444444444,
              "#bd3786"
             ],
             [
              0.5555555555555556,
              "#d8576b"
             ],
             [
              0.6666666666666666,
              "#ed7953"
             ],
             [
              0.7777777777777778,
              "#fb9f3a"
             ],
             [
              0.8888888888888888,
              "#fdca26"
             ],
             [
              1,
              "#f0f921"
             ]
            ],
            "type": "histogram2d"
           }
          ],
          "histogram2dcontour": [
           {
            "colorbar": {
             "outlinewidth": 0,
             "ticks": ""
            },
            "colorscale": [
             [
              0,
              "#0d0887"
             ],
             [
              0.1111111111111111,
              "#46039f"
             ],
             [
              0.2222222222222222,
              "#7201a8"
             ],
             [
              0.3333333333333333,
              "#9c179e"
             ],
             [
              0.4444444444444444,
              "#bd3786"
             ],
             [
              0.5555555555555556,
              "#d8576b"
             ],
             [
              0.6666666666666666,
              "#ed7953"
             ],
             [
              0.7777777777777778,
              "#fb9f3a"
             ],
             [
              0.8888888888888888,
              "#fdca26"
             ],
             [
              1,
              "#f0f921"
             ]
            ],
            "type": "histogram2dcontour"
           }
          ],
          "mesh3d": [
           {
            "colorbar": {
             "outlinewidth": 0,
             "ticks": ""
            },
            "type": "mesh3d"
           }
          ],
          "parcoords": [
           {
            "line": {
             "colorbar": {
              "outlinewidth": 0,
              "ticks": ""
             }
            },
            "type": "parcoords"
           }
          ],
          "pie": [
           {
            "automargin": true,
            "type": "pie"
           }
          ],
          "scatter": [
           {
            "fillpattern": {
             "fillmode": "overlay",
             "size": 10,
             "solidity": 0.2
            },
            "type": "scatter"
           }
          ],
          "scatter3d": [
           {
            "line": {
             "colorbar": {
              "outlinewidth": 0,
              "ticks": ""
             }
            },
            "marker": {
             "colorbar": {
              "outlinewidth": 0,
              "ticks": ""
             }
            },
            "type": "scatter3d"
           }
          ],
          "scattercarpet": [
           {
            "marker": {
             "colorbar": {
              "outlinewidth": 0,
              "ticks": ""
             }
            },
            "type": "scattercarpet"
           }
          ],
          "scattergeo": [
           {
            "marker": {
             "colorbar": {
              "outlinewidth": 0,
              "ticks": ""
             }
            },
            "type": "scattergeo"
           }
          ],
          "scattergl": [
           {
            "marker": {
             "colorbar": {
              "outlinewidth": 0,
              "ticks": ""
             }
            },
            "type": "scattergl"
           }
          ],
          "scattermapbox": [
           {
            "marker": {
             "colorbar": {
              "outlinewidth": 0,
              "ticks": ""
             }
            },
            "type": "scattermapbox"
           }
          ],
          "scatterpolar": [
           {
            "marker": {
             "colorbar": {
              "outlinewidth": 0,
              "ticks": ""
             }
            },
            "type": "scatterpolar"
           }
          ],
          "scatterpolargl": [
           {
            "marker": {
             "colorbar": {
              "outlinewidth": 0,
              "ticks": ""
             }
            },
            "type": "scatterpolargl"
           }
          ],
          "scatterternary": [
           {
            "marker": {
             "colorbar": {
              "outlinewidth": 0,
              "ticks": ""
             }
            },
            "type": "scatterternary"
           }
          ],
          "surface": [
           {
            "colorbar": {
             "outlinewidth": 0,
             "ticks": ""
            },
            "colorscale": [
             [
              0,
              "#0d0887"
             ],
             [
              0.1111111111111111,
              "#46039f"
             ],
             [
              0.2222222222222222,
              "#7201a8"
             ],
             [
              0.3333333333333333,
              "#9c179e"
             ],
             [
              0.4444444444444444,
              "#bd3786"
             ],
             [
              0.5555555555555556,
              "#d8576b"
             ],
             [
              0.6666666666666666,
              "#ed7953"
             ],
             [
              0.7777777777777778,
              "#fb9f3a"
             ],
             [
              0.8888888888888888,
              "#fdca26"
             ],
             [
              1,
              "#f0f921"
             ]
            ],
            "type": "surface"
           }
          ],
          "table": [
           {
            "cells": {
             "fill": {
              "color": "#EBF0F8"
             },
             "line": {
              "color": "white"
             }
            },
            "header": {
             "fill": {
              "color": "#C8D4E3"
             },
             "line": {
              "color": "white"
             }
            },
            "type": "table"
           }
          ]
         },
         "layout": {
          "annotationdefaults": {
           "arrowcolor": "#2a3f5f",
           "arrowhead": 0,
           "arrowwidth": 1
          },
          "autotypenumbers": "strict",
          "coloraxis": {
           "colorbar": {
            "outlinewidth": 0,
            "ticks": ""
           }
          },
          "colorscale": {
           "diverging": [
            [
             0,
             "#8e0152"
            ],
            [
             0.1,
             "#c51b7d"
            ],
            [
             0.2,
             "#de77ae"
            ],
            [
             0.3,
             "#f1b6da"
            ],
            [
             0.4,
             "#fde0ef"
            ],
            [
             0.5,
             "#f7f7f7"
            ],
            [
             0.6,
             "#e6f5d0"
            ],
            [
             0.7,
             "#b8e186"
            ],
            [
             0.8,
             "#7fbc41"
            ],
            [
             0.9,
             "#4d9221"
            ],
            [
             1,
             "#276419"
            ]
           ],
           "sequential": [
            [
             0,
             "#0d0887"
            ],
            [
             0.1111111111111111,
             "#46039f"
            ],
            [
             0.2222222222222222,
             "#7201a8"
            ],
            [
             0.3333333333333333,
             "#9c179e"
            ],
            [
             0.4444444444444444,
             "#bd3786"
            ],
            [
             0.5555555555555556,
             "#d8576b"
            ],
            [
             0.6666666666666666,
             "#ed7953"
            ],
            [
             0.7777777777777778,
             "#fb9f3a"
            ],
            [
             0.8888888888888888,
             "#fdca26"
            ],
            [
             1,
             "#f0f921"
            ]
           ],
           "sequentialminus": [
            [
             0,
             "#0d0887"
            ],
            [
             0.1111111111111111,
             "#46039f"
            ],
            [
             0.2222222222222222,
             "#7201a8"
            ],
            [
             0.3333333333333333,
             "#9c179e"
            ],
            [
             0.4444444444444444,
             "#bd3786"
            ],
            [
             0.5555555555555556,
             "#d8576b"
            ],
            [
             0.6666666666666666,
             "#ed7953"
            ],
            [
             0.7777777777777778,
             "#fb9f3a"
            ],
            [
             0.8888888888888888,
             "#fdca26"
            ],
            [
             1,
             "#f0f921"
            ]
           ]
          },
          "colorway": [
           "#636efa",
           "#EF553B",
           "#00cc96",
           "#ab63fa",
           "#FFA15A",
           "#19d3f3",
           "#FF6692",
           "#B6E880",
           "#FF97FF",
           "#FECB52"
          ],
          "font": {
           "color": "#2a3f5f"
          },
          "geo": {
           "bgcolor": "white",
           "lakecolor": "white",
           "landcolor": "#E5ECF6",
           "showlakes": true,
           "showland": true,
           "subunitcolor": "white"
          },
          "hoverlabel": {
           "align": "left"
          },
          "hovermode": "closest",
          "mapbox": {
           "style": "light"
          },
          "paper_bgcolor": "white",
          "plot_bgcolor": "#E5ECF6",
          "polar": {
           "angularaxis": {
            "gridcolor": "white",
            "linecolor": "white",
            "ticks": ""
           },
           "bgcolor": "#E5ECF6",
           "radialaxis": {
            "gridcolor": "white",
            "linecolor": "white",
            "ticks": ""
           }
          },
          "scene": {
           "xaxis": {
            "backgroundcolor": "#E5ECF6",
            "gridcolor": "white",
            "gridwidth": 2,
            "linecolor": "white",
            "showbackground": true,
            "ticks": "",
            "zerolinecolor": "white"
           },
           "yaxis": {
            "backgroundcolor": "#E5ECF6",
            "gridcolor": "white",
            "gridwidth": 2,
            "linecolor": "white",
            "showbackground": true,
            "ticks": "",
            "zerolinecolor": "white"
           },
           "zaxis": {
            "backgroundcolor": "#E5ECF6",
            "gridcolor": "white",
            "gridwidth": 2,
            "linecolor": "white",
            "showbackground": true,
            "ticks": "",
            "zerolinecolor": "white"
           }
          },
          "shapedefaults": {
           "line": {
            "color": "#2a3f5f"
           }
          },
          "ternary": {
           "aaxis": {
            "gridcolor": "white",
            "linecolor": "white",
            "ticks": ""
           },
           "baxis": {
            "gridcolor": "white",
            "linecolor": "white",
            "ticks": ""
           },
           "bgcolor": "#E5ECF6",
           "caxis": {
            "gridcolor": "white",
            "linecolor": "white",
            "ticks": ""
           }
          },
          "title": {
           "x": 0.05
          },
          "xaxis": {
           "automargin": true,
           "gridcolor": "white",
           "linecolor": "white",
           "ticks": "",
           "title": {
            "standoff": 15
           },
           "zerolinecolor": "white",
           "zerolinewidth": 2
          },
          "yaxis": {
           "automargin": true,
           "gridcolor": "white",
           "linecolor": "white",
           "ticks": "",
           "title": {
            "standoff": 15
           },
           "zerolinecolor": "white",
           "zerolinewidth": 2
          }
         }
        },
        "width": 800,
        "xaxis": {
         "range": [
          -1,
          12
         ]
        },
        "yaxis": {
         "range": [
          -9,
          0
         ]
        }
       }
      }
     },
     "metadata": {},
     "output_type": "display_data"
    }
   ],
   "source": [
    "sr.execute_actions()\n",
    "\n",
    "pl = Plotter(sr.layout.corners, yrange=[-9,0])\n",
    "pl.plot()"
   ]
  },
  {
   "cell_type": "code",
   "execution_count": 27,
   "metadata": {},
   "outputs": [],
   "source": [
    "sl = SideLeveler(sr.layout)\n",
    "sl.run()"
   ]
  },
  {
   "cell_type": "code",
   "execution_count": 28,
   "metadata": {},
   "outputs": [
    {
     "data": {
      "application/vnd.plotly.v1+json": {
       "config": {
        "plotlyServerURL": "https://plotly.com"
       },
       "data": [],
       "layout": {
        "autosize": false,
        "height": 480,
        "margin": {
         "b": 50,
         "l": 50,
         "pad": 4,
         "r": 50,
         "t": 50
        },
        "shapes": [
         {
          "fillcolor": "rgb(48, 18, 59)",
          "label": {
           "text": "bedroom_1"
          },
          "opacity": 0.5,
          "type": "rect",
          "x0": 0,
          "x1": 3.22,
          "xref": "x",
          "y0": -2.8,
          "y1": 0,
          "yref": "y"
         },
         {
          "fillcolor": "rgb(67, 88, 197)",
          "label": {
           "text": "kitchen"
          },
          "opacity": 0.5,
          "type": "rect",
          "x0": 3.22,
          "x1": 5.02,
          "xref": "x",
          "y0": -5.95,
          "y1": -3.53,
          "yref": "y"
         },
         {
          "fillcolor": "rgb(60, 153, 249)",
          "label": {
           "text": "m_bath"
          },
          "opacity": 0.5,
          "type": "rect",
          "x0": 5.02,
          "x1": 8.58,
          "xref": "x",
          "y0": -1.3,
          "y1": 0,
          "yref": "y"
         },
         {
          "fillcolor": "rgb(29, 213, 203)",
          "label": {
           "text": "m_bedroom"
          },
          "opacity": 0.5,
          "type": "rect",
          "x0": 8.58,
          "x1": 10.71,
          "xref": "x",
          "y0": -2.74,
          "y1": 0,
          "yref": "y"
         },
         {
          "fillcolor": "rgb(73, 246, 131)",
          "label": {
           "text": "m_closet"
          },
          "opacity": 0.5,
          "type": "rect",
          "x0": 8.58,
          "x1": 10.71,
          "xref": "x",
          "y0": -3.34,
          "y1": -2.74,
          "yref": "y"
         },
         {
          "fillcolor": "rgb(164, 252, 59)",
          "label": {
           "text": "bath"
          },
          "opacity": 0.5,
          "type": "rect",
          "x0": 5.02,
          "x1": 8.58,
          "xref": "x",
          "y0": -2.53,
          "y1": -1.3,
          "yref": "y"
         },
         {
          "fillcolor": "rgb(223, 218, 54)",
          "label": {
           "text": "dining"
          },
          "opacity": 0.5,
          "type": "rect",
          "x0": 5.02,
          "x1": 8.58,
          "xref": "x",
          "y0": -5.95,
          "y1": -2.53,
          "yref": "y"
         },
         {
          "fillcolor": "rgb(252, 164, 48)",
          "label": {
           "text": "transit_space"
          },
          "opacity": 0.5,
          "type": "rect",
          "x0": 3.22,
          "x1": 5.02,
          "xref": "x",
          "y0": -3.53,
          "y1": -1.75,
          "yref": "y"
         },
         {
          "fillcolor": "rgb(238, 90, 18)",
          "label": {
           "text": "closet"
          },
          "opacity": 0.5,
          "type": "rect",
          "x0": 8.58,
          "x1": 10.71,
          "xref": "x",
          "y0": -5.95,
          "y1": -3.34,
          "yref": "y"
         },
         {
          "fillcolor": "rgb(193, 37, 3)",
          "label": {
           "text": "bedroom_2"
          },
          "opacity": 0.5,
          "type": "rect",
          "x0": 0,
          "x1": 3.22,
          "xref": "x",
          "y0": -5.95,
          "y1": -2.8,
          "yref": "y"
         },
         {
          "fillcolor": "rgb(122, 4, 2)",
          "label": {
           "text": "laundry"
          },
          "opacity": 0.5,
          "type": "rect",
          "x0": 3.22,
          "x1": 5.02,
          "xref": "x",
          "y0": -1.75,
          "y1": 0,
          "yref": "y"
         }
        ],
        "template": {
         "data": {
          "bar": [
           {
            "error_x": {
             "color": "#2a3f5f"
            },
            "error_y": {
             "color": "#2a3f5f"
            },
            "marker": {
             "line": {
              "color": "#E5ECF6",
              "width": 0.5
             },
             "pattern": {
              "fillmode": "overlay",
              "size": 10,
              "solidity": 0.2
             }
            },
            "type": "bar"
           }
          ],
          "barpolar": [
           {
            "marker": {
             "line": {
              "color": "#E5ECF6",
              "width": 0.5
             },
             "pattern": {
              "fillmode": "overlay",
              "size": 10,
              "solidity": 0.2
             }
            },
            "type": "barpolar"
           }
          ],
          "carpet": [
           {
            "aaxis": {
             "endlinecolor": "#2a3f5f",
             "gridcolor": "white",
             "linecolor": "white",
             "minorgridcolor": "white",
             "startlinecolor": "#2a3f5f"
            },
            "baxis": {
             "endlinecolor": "#2a3f5f",
             "gridcolor": "white",
             "linecolor": "white",
             "minorgridcolor": "white",
             "startlinecolor": "#2a3f5f"
            },
            "type": "carpet"
           }
          ],
          "choropleth": [
           {
            "colorbar": {
             "outlinewidth": 0,
             "ticks": ""
            },
            "type": "choropleth"
           }
          ],
          "contour": [
           {
            "colorbar": {
             "outlinewidth": 0,
             "ticks": ""
            },
            "colorscale": [
             [
              0,
              "#0d0887"
             ],
             [
              0.1111111111111111,
              "#46039f"
             ],
             [
              0.2222222222222222,
              "#7201a8"
             ],
             [
              0.3333333333333333,
              "#9c179e"
             ],
             [
              0.4444444444444444,
              "#bd3786"
             ],
             [
              0.5555555555555556,
              "#d8576b"
             ],
             [
              0.6666666666666666,
              "#ed7953"
             ],
             [
              0.7777777777777778,
              "#fb9f3a"
             ],
             [
              0.8888888888888888,
              "#fdca26"
             ],
             [
              1,
              "#f0f921"
             ]
            ],
            "type": "contour"
           }
          ],
          "contourcarpet": [
           {
            "colorbar": {
             "outlinewidth": 0,
             "ticks": ""
            },
            "type": "contourcarpet"
           }
          ],
          "heatmap": [
           {
            "colorbar": {
             "outlinewidth": 0,
             "ticks": ""
            },
            "colorscale": [
             [
              0,
              "#0d0887"
             ],
             [
              0.1111111111111111,
              "#46039f"
             ],
             [
              0.2222222222222222,
              "#7201a8"
             ],
             [
              0.3333333333333333,
              "#9c179e"
             ],
             [
              0.4444444444444444,
              "#bd3786"
             ],
             [
              0.5555555555555556,
              "#d8576b"
             ],
             [
              0.6666666666666666,
              "#ed7953"
             ],
             [
              0.7777777777777778,
              "#fb9f3a"
             ],
             [
              0.8888888888888888,
              "#fdca26"
             ],
             [
              1,
              "#f0f921"
             ]
            ],
            "type": "heatmap"
           }
          ],
          "heatmapgl": [
           {
            "colorbar": {
             "outlinewidth": 0,
             "ticks": ""
            },
            "colorscale": [
             [
              0,
              "#0d0887"
             ],
             [
              0.1111111111111111,
              "#46039f"
             ],
             [
              0.2222222222222222,
              "#7201a8"
             ],
             [
              0.3333333333333333,
              "#9c179e"
             ],
             [
              0.4444444444444444,
              "#bd3786"
             ],
             [
              0.5555555555555556,
              "#d8576b"
             ],
             [
              0.6666666666666666,
              "#ed7953"
             ],
             [
              0.7777777777777778,
              "#fb9f3a"
             ],
             [
              0.8888888888888888,
              "#fdca26"
             ],
             [
              1,
              "#f0f921"
             ]
            ],
            "type": "heatmapgl"
           }
          ],
          "histogram": [
           {
            "marker": {
             "pattern": {
              "fillmode": "overlay",
              "size": 10,
              "solidity": 0.2
             }
            },
            "type": "histogram"
           }
          ],
          "histogram2d": [
           {
            "colorbar": {
             "outlinewidth": 0,
             "ticks": ""
            },
            "colorscale": [
             [
              0,
              "#0d0887"
             ],
             [
              0.1111111111111111,
              "#46039f"
             ],
             [
              0.2222222222222222,
              "#7201a8"
             ],
             [
              0.3333333333333333,
              "#9c179e"
             ],
             [
              0.4444444444444444,
              "#bd3786"
             ],
             [
              0.5555555555555556,
              "#d8576b"
             ],
             [
              0.6666666666666666,
              "#ed7953"
             ],
             [
              0.7777777777777778,
              "#fb9f3a"
             ],
             [
              0.8888888888888888,
              "#fdca26"
             ],
             [
              1,
              "#f0f921"
             ]
            ],
            "type": "histogram2d"
           }
          ],
          "histogram2dcontour": [
           {
            "colorbar": {
             "outlinewidth": 0,
             "ticks": ""
            },
            "colorscale": [
             [
              0,
              "#0d0887"
             ],
             [
              0.1111111111111111,
              "#46039f"
             ],
             [
              0.2222222222222222,
              "#7201a8"
             ],
             [
              0.3333333333333333,
              "#9c179e"
             ],
             [
              0.4444444444444444,
              "#bd3786"
             ],
             [
              0.5555555555555556,
              "#d8576b"
             ],
             [
              0.6666666666666666,
              "#ed7953"
             ],
             [
              0.7777777777777778,
              "#fb9f3a"
             ],
             [
              0.8888888888888888,
              "#fdca26"
             ],
             [
              1,
              "#f0f921"
             ]
            ],
            "type": "histogram2dcontour"
           }
          ],
          "mesh3d": [
           {
            "colorbar": {
             "outlinewidth": 0,
             "ticks": ""
            },
            "type": "mesh3d"
           }
          ],
          "parcoords": [
           {
            "line": {
             "colorbar": {
              "outlinewidth": 0,
              "ticks": ""
             }
            },
            "type": "parcoords"
           }
          ],
          "pie": [
           {
            "automargin": true,
            "type": "pie"
           }
          ],
          "scatter": [
           {
            "fillpattern": {
             "fillmode": "overlay",
             "size": 10,
             "solidity": 0.2
            },
            "type": "scatter"
           }
          ],
          "scatter3d": [
           {
            "line": {
             "colorbar": {
              "outlinewidth": 0,
              "ticks": ""
             }
            },
            "marker": {
             "colorbar": {
              "outlinewidth": 0,
              "ticks": ""
             }
            },
            "type": "scatter3d"
           }
          ],
          "scattercarpet": [
           {
            "marker": {
             "colorbar": {
              "outlinewidth": 0,
              "ticks": ""
             }
            },
            "type": "scattercarpet"
           }
          ],
          "scattergeo": [
           {
            "marker": {
             "colorbar": {
              "outlinewidth": 0,
              "ticks": ""
             }
            },
            "type": "scattergeo"
           }
          ],
          "scattergl": [
           {
            "marker": {
             "colorbar": {
              "outlinewidth": 0,
              "ticks": ""
             }
            },
            "type": "scattergl"
           }
          ],
          "scattermapbox": [
           {
            "marker": {
             "colorbar": {
              "outlinewidth": 0,
              "ticks": ""
             }
            },
            "type": "scattermapbox"
           }
          ],
          "scatterpolar": [
           {
            "marker": {
             "colorbar": {
              "outlinewidth": 0,
              "ticks": ""
             }
            },
            "type": "scatterpolar"
           }
          ],
          "scatterpolargl": [
           {
            "marker": {
             "colorbar": {
              "outlinewidth": 0,
              "ticks": ""
             }
            },
            "type": "scatterpolargl"
           }
          ],
          "scatterternary": [
           {
            "marker": {
             "colorbar": {
              "outlinewidth": 0,
              "ticks": ""
             }
            },
            "type": "scatterternary"
           }
          ],
          "surface": [
           {
            "colorbar": {
             "outlinewidth": 0,
             "ticks": ""
            },
            "colorscale": [
             [
              0,
              "#0d0887"
             ],
             [
              0.1111111111111111,
              "#46039f"
             ],
             [
              0.2222222222222222,
              "#7201a8"
             ],
             [
              0.3333333333333333,
              "#9c179e"
             ],
             [
              0.4444444444444444,
              "#bd3786"
             ],
             [
              0.5555555555555556,
              "#d8576b"
             ],
             [
              0.6666666666666666,
              "#ed7953"
             ],
             [
              0.7777777777777778,
              "#fb9f3a"
             ],
             [
              0.8888888888888888,
              "#fdca26"
             ],
             [
              1,
              "#f0f921"
             ]
            ],
            "type": "surface"
           }
          ],
          "table": [
           {
            "cells": {
             "fill": {
              "color": "#EBF0F8"
             },
             "line": {
              "color": "white"
             }
            },
            "header": {
             "fill": {
              "color": "#C8D4E3"
             },
             "line": {
              "color": "white"
             }
            },
            "type": "table"
           }
          ]
         },
         "layout": {
          "annotationdefaults": {
           "arrowcolor": "#2a3f5f",
           "arrowhead": 0,
           "arrowwidth": 1
          },
          "autotypenumbers": "strict",
          "coloraxis": {
           "colorbar": {
            "outlinewidth": 0,
            "ticks": ""
           }
          },
          "colorscale": {
           "diverging": [
            [
             0,
             "#8e0152"
            ],
            [
             0.1,
             "#c51b7d"
            ],
            [
             0.2,
             "#de77ae"
            ],
            [
             0.3,
             "#f1b6da"
            ],
            [
             0.4,
             "#fde0ef"
            ],
            [
             0.5,
             "#f7f7f7"
            ],
            [
             0.6,
             "#e6f5d0"
            ],
            [
             0.7,
             "#b8e186"
            ],
            [
             0.8,
             "#7fbc41"
            ],
            [
             0.9,
             "#4d9221"
            ],
            [
             1,
             "#276419"
            ]
           ],
           "sequential": [
            [
             0,
             "#0d0887"
            ],
            [
             0.1111111111111111,
             "#46039f"
            ],
            [
             0.2222222222222222,
             "#7201a8"
            ],
            [
             0.3333333333333333,
             "#9c179e"
            ],
            [
             0.4444444444444444,
             "#bd3786"
            ],
            [
             0.5555555555555556,
             "#d8576b"
            ],
            [
             0.6666666666666666,
             "#ed7953"
            ],
            [
             0.7777777777777778,
             "#fb9f3a"
            ],
            [
             0.8888888888888888,
             "#fdca26"
            ],
            [
             1,
             "#f0f921"
            ]
           ],
           "sequentialminus": [
            [
             0,
             "#0d0887"
            ],
            [
             0.1111111111111111,
             "#46039f"
            ],
            [
             0.2222222222222222,
             "#7201a8"
            ],
            [
             0.3333333333333333,
             "#9c179e"
            ],
            [
             0.4444444444444444,
             "#bd3786"
            ],
            [
             0.5555555555555556,
             "#d8576b"
            ],
            [
             0.6666666666666666,
             "#ed7953"
            ],
            [
             0.7777777777777778,
             "#fb9f3a"
            ],
            [
             0.8888888888888888,
             "#fdca26"
            ],
            [
             1,
             "#f0f921"
            ]
           ]
          },
          "colorway": [
           "#636efa",
           "#EF553B",
           "#00cc96",
           "#ab63fa",
           "#FFA15A",
           "#19d3f3",
           "#FF6692",
           "#B6E880",
           "#FF97FF",
           "#FECB52"
          ],
          "font": {
           "color": "#2a3f5f"
          },
          "geo": {
           "bgcolor": "white",
           "lakecolor": "white",
           "landcolor": "#E5ECF6",
           "showlakes": true,
           "showland": true,
           "subunitcolor": "white"
          },
          "hoverlabel": {
           "align": "left"
          },
          "hovermode": "closest",
          "mapbox": {
           "style": "light"
          },
          "paper_bgcolor": "white",
          "plot_bgcolor": "#E5ECF6",
          "polar": {
           "angularaxis": {
            "gridcolor": "white",
            "linecolor": "white",
            "ticks": ""
           },
           "bgcolor": "#E5ECF6",
           "radialaxis": {
            "gridcolor": "white",
            "linecolor": "white",
            "ticks": ""
           }
          },
          "scene": {
           "xaxis": {
            "backgroundcolor": "#E5ECF6",
            "gridcolor": "white",
            "gridwidth": 2,
            "linecolor": "white",
            "showbackground": true,
            "ticks": "",
            "zerolinecolor": "white"
           },
           "yaxis": {
            "backgroundcolor": "#E5ECF6",
            "gridcolor": "white",
            "gridwidth": 2,
            "linecolor": "white",
            "showbackground": true,
            "ticks": "",
            "zerolinecolor": "white"
           },
           "zaxis": {
            "backgroundcolor": "#E5ECF6",
            "gridcolor": "white",
            "gridwidth": 2,
            "linecolor": "white",
            "showbackground": true,
            "ticks": "",
            "zerolinecolor": "white"
           }
          },
          "shapedefaults": {
           "line": {
            "color": "#2a3f5f"
           }
          },
          "ternary": {
           "aaxis": {
            "gridcolor": "white",
            "linecolor": "white",
            "ticks": ""
           },
           "baxis": {
            "gridcolor": "white",
            "linecolor": "white",
            "ticks": ""
           },
           "bgcolor": "#E5ECF6",
           "caxis": {
            "gridcolor": "white",
            "linecolor": "white",
            "ticks": ""
           }
          },
          "title": {
           "x": 0.05
          },
          "xaxis": {
           "automargin": true,
           "gridcolor": "white",
           "linecolor": "white",
           "ticks": "",
           "title": {
            "standoff": 15
           },
           "zerolinecolor": "white",
           "zerolinewidth": 2
          },
          "yaxis": {
           "automargin": true,
           "gridcolor": "white",
           "linecolor": "white",
           "ticks": "",
           "title": {
            "standoff": 15
           },
           "zerolinecolor": "white",
           "zerolinewidth": 2
          }
         }
        },
        "width": 800,
        "xaxis": {
         "range": [
          -1,
          12
         ]
        },
        "yaxis": {
         "range": [
          -9,
          0
         ]
        }
       }
      }
     },
     "metadata": {},
     "output_type": "display_data"
    }
   ],
   "source": [
    "pl = Plotter(sl.layout.corners, yrange=[-9,0])\n",
    "pl.plot()"
   ]
  },
  {
   "cell_type": "code",
   "execution_count": 30,
   "metadata": {},
   "outputs": [],
   "source": [
    "sa = Saver(sl.layout, \"correct_dims\")\n",
    "sa.save()"
   ]
  }
 ],
 "metadata": {
  "kernelspec": {
   "display_name": "gqenv",
   "language": "python",
   "name": "python3"
  },
  "language_info": {
   "codemirror_mode": {
    "name": "ipython",
    "version": 3
   },
   "file_extension": ".py",
   "mimetype": "text/x-python",
   "name": "python",
   "nbconvert_exporter": "python",
   "pygments_lexer": "ipython3",
   "version": "3.10.14"
  }
 },
 "nbformat": 4,
 "nbformat_minor": 2
}
