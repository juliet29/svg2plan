{
 "cells": [
  {
   "cell_type": "code",
   "execution_count": 1,
   "metadata": {},
   "outputs": [],
   "source": [
    "import sys\n",
    "sys.path.append(\"/Users/julietnwagwuume-ezeoke/_UILCode/gqe-phd/svg2plan/_scripts\")\n",
    "\n",
    "from pint import UnitRegistry\n",
    "\n",
    "from svg_helpers.saver import Saver, read_layout\n",
    "from svg_helpers.plotter import Plotter\n",
    "\n",
    "from svg_helpers.domains import Corners, DomainDict, Domain, DecimalCorners\n",
    "\n",
    "from reader.svg_reader import SVGReader\n",
    "from adjacencies.adjacency import AdjacencyGenerator\n",
    "from adjacencies.connectivity import ConnectivityGenerator\n",
    "\n",
    "\n",
    "from problems.sequence_runner import SequenceRunner\n",
    "from problems.classes.sequence import Sequence\n",
    "from problems.reporter import Reporter\n",
    "\n",
    "from problems.side_leveler import SideLeveler\n",
    "\n",
    "from decimal import Decimal, getcontext, Context"
   ]
  },
  {
   "cell_type": "code",
   "execution_count": 2,
   "metadata": {},
   "outputs": [
    {
     "data": {
      "text/plain": [
       "Decimal('2.913577999999999779134896016')"
      ]
     },
     "execution_count": 2,
     "metadata": {},
     "output_type": "execute_result"
    }
   ],
   "source": [
    "h = Context(prec=4)\n",
    "Decimal(1.4567890, h) + Decimal(1.4567890, h)"
   ]
  },
  {
   "cell_type": "code",
   "execution_count": 3,
   "metadata": {},
   "outputs": [],
   "source": [
    "svg_name = \"amber_building_a_f01.svg\"\n",
    "sv = SVGReader(svg_name)\n",
    "# sv.get_rectangles()\n",
    "# sv.prepare_to_update_dimensions()\n",
    "sv.run()"
   ]
  },
  {
   "cell_type": "code",
   "execution_count": null,
   "metadata": {},
   "outputs": [],
   "source": []
  },
  {
   "cell_type": "code",
   "execution_count": 5,
   "metadata": {},
   "outputs": [
    {
     "data": {
      "text/plain": [
       "{'bedroom_1': <POLYGON ((3.22 3.29, 3.22 6.09, 0 6.09, 0 3.29, 3.22 3.29))>,\n",
       " 'kitchen': <POLYGON ((5.16 0, 5.16 2.24, 3.36 2.24, 3.36 0, 5.16 0))>,\n",
       " 'm_bath': <POLYGON ((7.62 4.79, 7.62 6.09, 5.3 6.09, 5.3 4.79, 7.62 4.79))>,\n",
       " 'm_bedroom': <POLYGON ((9.93 3.35, 9.93 6.09, 7.8 6.09, 7.8 3.35, 9.93 3.35))>,\n",
       " 'm_closet': <POLYGON ((9.93 2.69, 9.93 3.29, 8.93 3.29, 8.93 2.69, 9.93 2.69))>,\n",
       " 'bath': <POLYGON ((7.62 3.35, 7.62 4.58, 5.3 4.58, 5.3 3.35, 7.62 3.35))>,\n",
       " 'dining': <POLYGON ((8.78 0, 8.78 3.15, 5.42 3.15, 5.42 0, 8.78 0))>,\n",
       " 'transit_space': <POLYGON ((5.16 2.41, 5.16 4.19, 3.36 4.19, 3.36 2.41, 5.16 2.41))>,\n",
       " 'closet': <POLYGON ((9.93 -0.05, 9.93 2.36, 8.93 2.36, 8.93 -0.05, 9.93 -0.05))>,\n",
       " 'bedroom_2': <POLYGON ((3.22 0, 3.22 3.15, 0 3.15, 0 0, 3.22 0))>,\n",
       " 'laundry': <POLYGON ((4.98 4.31, 4.98 6.06, 3.38 6.06, 3.38 4.31, 4.98 4.31))>}"
      ]
     },
     "execution_count": 5,
     "metadata": {},
     "output_type": "execute_result"
    }
   ],
   "source": [
    "sv.domains.shapes"
   ]
  },
  {
   "cell_type": "code",
   "execution_count": 4,
   "metadata": {},
   "outputs": [
    {
     "data": {
      "text/plain": [
       "decimal.Decimal"
      ]
     },
     "execution_count": 4,
     "metadata": {},
     "output_type": "execute_result"
    }
   ],
   "source": [
    "type(sv.domains.corners[\"bedroom_1\"].x_right)"
   ]
  },
  {
   "cell_type": "code",
   "execution_count": null,
   "metadata": {},
   "outputs": [],
   "source": []
  },
  {
   "cell_type": "code",
   "execution_count": 3,
   "metadata": {},
   "outputs": [
    {
     "data": {
      "text/plain": [
       "[SVGRect(x=0.0, y=0.0, width=269.0, height=234.0, id='bedroom_1')]"
      ]
     },
     "execution_count": 3,
     "metadata": {},
     "output_type": "execute_result"
    }
   ],
   "source": [
    "[i for i in sv.rectangles if i.id == \"bedroom_1\"]"
   ]
  },
  {
   "cell_type": "code",
   "execution_count": 4,
   "metadata": {},
   "outputs": [
    {
     "data": {
      "text/plain": [
       "SVGRect(x=0.0, y=0.0, width=269.0, height=234.0, id='bedroom_1')"
      ]
     },
     "execution_count": 4,
     "metadata": {},
     "output_type": "execute_result"
    }
   ],
   "source": [
    "sv.rectangles[0]"
   ]
  },
  {
   "cell_type": "code",
   "execution_count": 5,
   "metadata": {},
   "outputs": [
    {
     "data": {
      "text/plain": [
       "0.011968215613382899"
      ]
     },
     "execution_count": 5,
     "metadata": {},
     "output_type": "execute_result"
    }
   ],
   "source": []
  },
  {
   "cell_type": "code",
   "execution_count": 11,
   "metadata": {},
   "outputs": [
    {
     "data": {
      "text/plain": [
       "DecimalCorners(x_left=0.01, x_right=0.02, y_bottom=0.05, y_top=0.06)"
      ]
     },
     "execution_count": 11,
     "metadata": {},
     "output_type": "execute_result"
    }
   ],
   "source": [
    "DecimalCorners(*[round((i*sv.du.conversion),2) for i in Corners(1, 2, 4, 5)])"
   ]
  }
 ],
 "metadata": {
  "kernelspec": {
   "display_name": "gqenv",
   "language": "python",
   "name": "python3"
  },
  "language_info": {
   "codemirror_mode": {
    "name": "ipython",
    "version": 3
   },
   "file_extension": ".py",
   "mimetype": "text/x-python",
   "name": "python",
   "nbconvert_exporter": "python",
   "pygments_lexer": "ipython3",
   "version": "3.10.14"
  }
 },
 "nbformat": 4,
 "nbformat_minor": 2
}
