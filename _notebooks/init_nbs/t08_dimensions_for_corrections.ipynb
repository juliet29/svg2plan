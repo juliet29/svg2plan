{
 "cells": [
  {
   "cell_type": "code",
   "execution_count": 1,
   "metadata": {},
   "outputs": [],
   "source": [
    "import sys\n",
    "sys.path.append(\"/Users/julietnwagwuume-ezeoke/_UILCode/gqe-phd/svg2plan/_scripts\")\n",
    "\n",
    "from svg_helpers.saver import Saver, read_layout\n",
    "from svg_helpers.plotter import Plotter\n",
    "\n",
    "from problems.sequence_runner import SequenceRunner\n",
    "from problems.classes.sequence import Sequence\n",
    "from problems.reporter import Reporter\n",
    "\n",
    "from problems.side_leveler import SideLeveler\n",
    "from svg_helpers.gplan_creator import GPLANCreator"
   ]
  },
  {
   "cell_type": "code",
   "execution_count": 2,
   "metadata": {},
   "outputs": [],
   "source": [
    "layout = read_layout(\"dimensioned_placement\")\n"
   ]
  },
  {
   "cell_type": "code",
   "execution_count": 3,
   "metadata": {},
   "outputs": [
    {
     "name": "stdout",
     "output_type": "stream",
     "text": [
      "[]\n",
      "-- Unresolved Problems. Overlaps: 3. Holes: 1. Sideholes: 0\n"
     ]
    },
    {
     "data": {
      "text/plain": [
       "[Problem(index=1, problem_type=ProblemType.HOLE, resolved=False, nbs=['transit_space', 'laundry', 'm_bath', 'bath'], x_left=18.135),\n",
       " Problem(index=2, problem_type=ProblemType.OVERLAP, resolved=False, nbs=('m_closet', 'dining'), x_left=30.87),\n",
       " Problem(index=3, problem_type=ProblemType.OVERLAP, resolved=False, nbs=('m_bedroom', 'dining'), x_left=26.865),\n",
       " Problem(index=4, problem_type=ProblemType.OVERLAP, resolved=False, nbs=('m_bedroom', 'bath'), x_left=26.865)]"
      ]
     },
     "execution_count": 3,
     "metadata": {},
     "output_type": "execute_result"
    }
   ],
   "source": [
    "re = Reporter(layout)\n",
    "print(re.problems)\n",
    "re.run()\n",
    "re.problems"
   ]
  },
  {
   "cell_type": "code",
   "execution_count": 4,
   "metadata": {},
   "outputs": [
    {
     "name": "stdout",
     "output_type": "stream",
     "text": [
      "--iteration #1\n",
      "curr problem = Problem(index=1, problem_type=ProblemType.HOLE, resolved=False, nbs=['transit_space', 'laundry', 'm_bath', 'bath'], x_left=18.135)\n",
      "Action(problem=((1, 'HOLE')), action_type=ActionType.STRETCH, node=laundry, distance=0.7199999999999989)\n",
      "-- Unresolved Problems. Overlaps: 4. Holes: 0. Sideholes: 0\n",
      "problem resolved\n",
      "indices: [2, 3, 4, 5]\n",
      "next problem = Problem(index=4, problem_type=ProblemType.OVERLAP, resolved=False, nbs=('m_bedroom', 'bath'), x_left=26.865)\n"
     ]
    }
   ],
   "source": [
    "seq = Sequence(0, layout, re.problems, [])\n",
    "sr = SequenceRunner(seq, re.problems[0])\n",
    "sr.execute_actions()\n"
   ]
  },
  {
   "cell_type": "code",
   "execution_count": 5,
   "metadata": {},
   "outputs": [
    {
     "name": "stdout",
     "output_type": "stream",
     "text": [
      "--iteration #2\n",
      "curr problem = Problem(index=4, problem_type=ProblemType.OVERLAP, resolved=False, nbs=('m_bedroom', 'bath'), x_left=26.865)\n",
      "Action(problem=((4, 'OVERLAP')), action_type=ActionType.PUSH, node=m_bedroom, distance=0.7200000000000024)\n",
      "-- Unresolved Problems. Overlaps: 3. Holes: 0. Sideholes: 1\n",
      "problem resolved\n",
      "indices: [2, 5, 6, 7]\n",
      "next problem = Problem(index=5, problem_type=ProblemType.OVERLAP, resolved=False, nbs=('m_bath', 'laundry'), x_left=18.135)\n"
     ]
    }
   ],
   "source": [
    "sr.execute_actions()"
   ]
  },
  {
   "cell_type": "code",
   "execution_count": 6,
   "metadata": {},
   "outputs": [
    {
     "data": {
      "application/vnd.plotly.v1+json": {
       "config": {
        "plotlyServerURL": "https://plotly.com"
       },
       "data": [],
       "layout": {
        "autosize": false,
        "height": 480,
        "margin": {
         "b": 50,
         "l": 50,
         "pad": 4,
         "r": 50,
         "t": 50
        },
        "shapes": [
         {
          "fillcolor": "rgb(48, 18, 59)",
          "label": {
           "text": "bedroom_1"
          },
          "opacity": 0.5,
          "type": "rect",
          "x0": 0,
          "x1": 12.105,
          "xref": "x",
          "y0": -10.53,
          "y1": 0,
          "yref": "y"
         },
         {
          "fillcolor": "rgb(67, 88, 197)",
          "label": {
           "text": "kitchen"
          },
          "opacity": 0.5,
          "type": "rect",
          "x0": 12.105,
          "x1": 18.855,
          "xref": "x",
          "y0": -21.69,
          "y1": -13.275,
          "yref": "y"
         },
         {
          "fillcolor": "rgb(60, 153, 249)",
          "label": {
           "text": "m_bath"
          },
          "opacity": 0.5,
          "type": "rect",
          "x0": 18.135,
          "x1": 26.865,
          "xref": "x",
          "y0": -4.905,
          "y1": 0,
          "yref": "y"
         },
         {
          "fillcolor": "rgb(29, 213, 203)",
          "label": {
           "text": "m_bedroom"
          },
          "opacity": 0.5,
          "type": "rect",
          "x0": 27.585,
          "x1": 35.595,
          "xref": "x",
          "y0": -10.305,
          "y1": 0,
          "yref": "y"
         },
         {
          "fillcolor": "rgb(73, 246, 131)",
          "label": {
           "text": "m_closet"
          },
          "opacity": 0.5,
          "type": "rect",
          "x0": 30.87,
          "x1": 34.65,
          "xref": "x",
          "y0": -12.555,
          "y1": -10.305,
          "yref": "y"
         },
         {
          "fillcolor": "rgb(164, 252, 59)",
          "label": {
           "text": "bath"
          },
          "opacity": 0.5,
          "type": "rect",
          "x0": 18.855,
          "x1": 27.585,
          "xref": "x",
          "y0": -9.54,
          "y1": -4.905,
          "yref": "y"
         },
         {
          "fillcolor": "rgb(223, 218, 54)",
          "label": {
           "text": "dining"
          },
          "opacity": 0.5,
          "type": "rect",
          "x0": 18.855,
          "x1": 31.5,
          "xref": "x",
          "y0": -21.375,
          "y1": -9.54,
          "yref": "y"
         },
         {
          "fillcolor": "rgb(252, 164, 48)",
          "label": {
           "text": "transit_space"
          },
          "opacity": 0.5,
          "type": "rect",
          "x0": 12.105,
          "x1": 18.855,
          "xref": "x",
          "y0": -13.275,
          "y1": -6.57,
          "yref": "y"
         },
         {
          "fillcolor": "rgb(238, 90, 18)",
          "label": {
           "text": "closet"
          },
          "opacity": 0.5,
          "type": "rect",
          "x0": 31.5,
          "x1": 35.28,
          "xref": "x",
          "y0": -21.6,
          "y1": -12.555,
          "yref": "y"
         },
         {
          "fillcolor": "rgb(193, 37, 3)",
          "label": {
           "text": "bedroom_2"
          },
          "opacity": 0.5,
          "type": "rect",
          "x0": 0,
          "x1": 12.105,
          "xref": "x",
          "y0": -22.365,
          "y1": -10.53,
          "yref": "y"
         },
         {
          "fillcolor": "rgb(122, 4, 2)",
          "label": {
           "text": "laundry"
          },
          "opacity": 0.5,
          "type": "rect",
          "x0": 12.105,
          "x1": 18.855,
          "xref": "x",
          "y0": -6.57,
          "y1": 0,
          "yref": "y"
         }
        ],
        "template": {
         "data": {
          "bar": [
           {
            "error_x": {
             "color": "#2a3f5f"
            },
            "error_y": {
             "color": "#2a3f5f"
            },
            "marker": {
             "line": {
              "color": "#E5ECF6",
              "width": 0.5
             },
             "pattern": {
              "fillmode": "overlay",
              "size": 10,
              "solidity": 0.2
             }
            },
            "type": "bar"
           }
          ],
          "barpolar": [
           {
            "marker": {
             "line": {
              "color": "#E5ECF6",
              "width": 0.5
             },
             "pattern": {
              "fillmode": "overlay",
              "size": 10,
              "solidity": 0.2
             }
            },
            "type": "barpolar"
           }
          ],
          "carpet": [
           {
            "aaxis": {
             "endlinecolor": "#2a3f5f",
             "gridcolor": "white",
             "linecolor": "white",
             "minorgridcolor": "white",
             "startlinecolor": "#2a3f5f"
            },
            "baxis": {
             "endlinecolor": "#2a3f5f",
             "gridcolor": "white",
             "linecolor": "white",
             "minorgridcolor": "white",
             "startlinecolor": "#2a3f5f"
            },
            "type": "carpet"
           }
          ],
          "choropleth": [
           {
            "colorbar": {
             "outlinewidth": 0,
             "ticks": ""
            },
            "type": "choropleth"
           }
          ],
          "contour": [
           {
            "colorbar": {
             "outlinewidth": 0,
             "ticks": ""
            },
            "colorscale": [
             [
              0,
              "#0d0887"
             ],
             [
              0.1111111111111111,
              "#46039f"
             ],
             [
              0.2222222222222222,
              "#7201a8"
             ],
             [
              0.3333333333333333,
              "#9c179e"
             ],
             [
              0.4444444444444444,
              "#bd3786"
             ],
             [
              0.5555555555555556,
              "#d8576b"
             ],
             [
              0.6666666666666666,
              "#ed7953"
             ],
             [
              0.7777777777777778,
              "#fb9f3a"
             ],
             [
              0.8888888888888888,
              "#fdca26"
             ],
             [
              1,
              "#f0f921"
             ]
            ],
            "type": "contour"
           }
          ],
          "contourcarpet": [
           {
            "colorbar": {
             "outlinewidth": 0,
             "ticks": ""
            },
            "type": "contourcarpet"
           }
          ],
          "heatmap": [
           {
            "colorbar": {
             "outlinewidth": 0,
             "ticks": ""
            },
            "colorscale": [
             [
              0,
              "#0d0887"
             ],
             [
              0.1111111111111111,
              "#46039f"
             ],
             [
              0.2222222222222222,
              "#7201a8"
             ],
             [
              0.3333333333333333,
              "#9c179e"
             ],
             [
              0.4444444444444444,
              "#bd3786"
             ],
             [
              0.5555555555555556,
              "#d8576b"
             ],
             [
              0.6666666666666666,
              "#ed7953"
             ],
             [
              0.7777777777777778,
              "#fb9f3a"
             ],
             [
              0.8888888888888888,
              "#fdca26"
             ],
             [
              1,
              "#f0f921"
             ]
            ],
            "type": "heatmap"
           }
          ],
          "heatmapgl": [
           {
            "colorbar": {
             "outlinewidth": 0,
             "ticks": ""
            },
            "colorscale": [
             [
              0,
              "#0d0887"
             ],
             [
              0.1111111111111111,
              "#46039f"
             ],
             [
              0.2222222222222222,
              "#7201a8"
             ],
             [
              0.3333333333333333,
              "#9c179e"
             ],
             [
              0.4444444444444444,
              "#bd3786"
             ],
             [
              0.5555555555555556,
              "#d8576b"
             ],
             [
              0.6666666666666666,
              "#ed7953"
             ],
             [
              0.7777777777777778,
              "#fb9f3a"
             ],
             [
              0.8888888888888888,
              "#fdca26"
             ],
             [
              1,
              "#f0f921"
             ]
            ],
            "type": "heatmapgl"
           }
          ],
          "histogram": [
           {
            "marker": {
             "pattern": {
              "fillmode": "overlay",
              "size": 10,
              "solidity": 0.2
             }
            },
            "type": "histogram"
           }
          ],
          "histogram2d": [
           {
            "colorbar": {
             "outlinewidth": 0,
             "ticks": ""
            },
            "colorscale": [
             [
              0,
              "#0d0887"
             ],
             [
              0.1111111111111111,
              "#46039f"
             ],
             [
              0.2222222222222222,
              "#7201a8"
             ],
             [
              0.3333333333333333,
              "#9c179e"
             ],
             [
              0.4444444444444444,
              "#bd3786"
             ],
             [
              0.5555555555555556,
              "#d8576b"
             ],
             [
              0.6666666666666666,
              "#ed7953"
             ],
             [
              0.7777777777777778,
              "#fb9f3a"
             ],
             [
              0.8888888888888888,
              "#fdca26"
             ],
             [
              1,
              "#f0f921"
             ]
            ],
            "type": "histogram2d"
           }
          ],
          "histogram2dcontour": [
           {
            "colorbar": {
             "outlinewidth": 0,
             "ticks": ""
            },
            "colorscale": [
             [
              0,
              "#0d0887"
             ],
             [
              0.1111111111111111,
              "#46039f"
             ],
             [
              0.2222222222222222,
              "#7201a8"
             ],
             [
              0.3333333333333333,
              "#9c179e"
             ],
             [
              0.4444444444444444,
              "#bd3786"
             ],
             [
              0.5555555555555556,
              "#d8576b"
             ],
             [
              0.6666666666666666,
              "#ed7953"
             ],
             [
              0.7777777777777778,
              "#fb9f3a"
             ],
             [
              0.8888888888888888,
              "#fdca26"
             ],
             [
              1,
              "#f0f921"
             ]
            ],
            "type": "histogram2dcontour"
           }
          ],
          "mesh3d": [
           {
            "colorbar": {
             "outlinewidth": 0,
             "ticks": ""
            },
            "type": "mesh3d"
           }
          ],
          "parcoords": [
           {
            "line": {
             "colorbar": {
              "outlinewidth": 0,
              "ticks": ""
             }
            },
            "type": "parcoords"
           }
          ],
          "pie": [
           {
            "automargin": true,
            "type": "pie"
           }
          ],
          "scatter": [
           {
            "fillpattern": {
             "fillmode": "overlay",
             "size": 10,
             "solidity": 0.2
            },
            "type": "scatter"
           }
          ],
          "scatter3d": [
           {
            "line": {
             "colorbar": {
              "outlinewidth": 0,
              "ticks": ""
             }
            },
            "marker": {
             "colorbar": {
              "outlinewidth": 0,
              "ticks": ""
             }
            },
            "type": "scatter3d"
           }
          ],
          "scattercarpet": [
           {
            "marker": {
             "colorbar": {
              "outlinewidth": 0,
              "ticks": ""
             }
            },
            "type": "scattercarpet"
           }
          ],
          "scattergeo": [
           {
            "marker": {
             "colorbar": {
              "outlinewidth": 0,
              "ticks": ""
             }
            },
            "type": "scattergeo"
           }
          ],
          "scattergl": [
           {
            "marker": {
             "colorbar": {
              "outlinewidth": 0,
              "ticks": ""
             }
            },
            "type": "scattergl"
           }
          ],
          "scattermapbox": [
           {
            "marker": {
             "colorbar": {
              "outlinewidth": 0,
              "ticks": ""
             }
            },
            "type": "scattermapbox"
           }
          ],
          "scatterpolar": [
           {
            "marker": {
             "colorbar": {
              "outlinewidth": 0,
              "ticks": ""
             }
            },
            "type": "scatterpolar"
           }
          ],
          "scatterpolargl": [
           {
            "marker": {
             "colorbar": {
              "outlinewidth": 0,
              "ticks": ""
             }
            },
            "type": "scatterpolargl"
           }
          ],
          "scatterternary": [
           {
            "marker": {
             "colorbar": {
              "outlinewidth": 0,
              "ticks": ""
             }
            },
            "type": "scatterternary"
           }
          ],
          "surface": [
           {
            "colorbar": {
             "outlinewidth": 0,
             "ticks": ""
            },
            "colorscale": [
             [
              0,
              "#0d0887"
             ],
             [
              0.1111111111111111,
              "#46039f"
             ],
             [
              0.2222222222222222,
              "#7201a8"
             ],
             [
              0.3333333333333333,
              "#9c179e"
             ],
             [
              0.4444444444444444,
              "#bd3786"
             ],
             [
              0.5555555555555556,
              "#d8576b"
             ],
             [
              0.6666666666666666,
              "#ed7953"
             ],
             [
              0.7777777777777778,
              "#fb9f3a"
             ],
             [
              0.8888888888888888,
              "#fdca26"
             ],
             [
              1,
              "#f0f921"
             ]
            ],
            "type": "surface"
           }
          ],
          "table": [
           {
            "cells": {
             "fill": {
              "color": "#EBF0F8"
             },
             "line": {
              "color": "white"
             }
            },
            "header": {
             "fill": {
              "color": "#C8D4E3"
             },
             "line": {
              "color": "white"
             }
            },
            "type": "table"
           }
          ]
         },
         "layout": {
          "annotationdefaults": {
           "arrowcolor": "#2a3f5f",
           "arrowhead": 0,
           "arrowwidth": 1
          },
          "autotypenumbers": "strict",
          "coloraxis": {
           "colorbar": {
            "outlinewidth": 0,
            "ticks": ""
           }
          },
          "colorscale": {
           "diverging": [
            [
             0,
             "#8e0152"
            ],
            [
             0.1,
             "#c51b7d"
            ],
            [
             0.2,
             "#de77ae"
            ],
            [
             0.3,
             "#f1b6da"
            ],
            [
             0.4,
             "#fde0ef"
            ],
            [
             0.5,
             "#f7f7f7"
            ],
            [
             0.6,
             "#e6f5d0"
            ],
            [
             0.7,
             "#b8e186"
            ],
            [
             0.8,
             "#7fbc41"
            ],
            [
             0.9,
             "#4d9221"
            ],
            [
             1,
             "#276419"
            ]
           ],
           "sequential": [
            [
             0,
             "#0d0887"
            ],
            [
             0.1111111111111111,
             "#46039f"
            ],
            [
             0.2222222222222222,
             "#7201a8"
            ],
            [
             0.3333333333333333,
             "#9c179e"
            ],
            [
             0.4444444444444444,
             "#bd3786"
            ],
            [
             0.5555555555555556,
             "#d8576b"
            ],
            [
             0.6666666666666666,
             "#ed7953"
            ],
            [
             0.7777777777777778,
             "#fb9f3a"
            ],
            [
             0.8888888888888888,
             "#fdca26"
            ],
            [
             1,
             "#f0f921"
            ]
           ],
           "sequentialminus": [
            [
             0,
             "#0d0887"
            ],
            [
             0.1111111111111111,
             "#46039f"
            ],
            [
             0.2222222222222222,
             "#7201a8"
            ],
            [
             0.3333333333333333,
             "#9c179e"
            ],
            [
             0.4444444444444444,
             "#bd3786"
            ],
            [
             0.5555555555555556,
             "#d8576b"
            ],
            [
             0.6666666666666666,
             "#ed7953"
            ],
            [
             0.7777777777777778,
             "#fb9f3a"
            ],
            [
             0.8888888888888888,
             "#fdca26"
            ],
            [
             1,
             "#f0f921"
            ]
           ]
          },
          "colorway": [
           "#636efa",
           "#EF553B",
           "#00cc96",
           "#ab63fa",
           "#FFA15A",
           "#19d3f3",
           "#FF6692",
           "#B6E880",
           "#FF97FF",
           "#FECB52"
          ],
          "font": {
           "color": "#2a3f5f"
          },
          "geo": {
           "bgcolor": "white",
           "lakecolor": "white",
           "landcolor": "#E5ECF6",
           "showlakes": true,
           "showland": true,
           "subunitcolor": "white"
          },
          "hoverlabel": {
           "align": "left"
          },
          "hovermode": "closest",
          "mapbox": {
           "style": "light"
          },
          "paper_bgcolor": "white",
          "plot_bgcolor": "#E5ECF6",
          "polar": {
           "angularaxis": {
            "gridcolor": "white",
            "linecolor": "white",
            "ticks": ""
           },
           "bgcolor": "#E5ECF6",
           "radialaxis": {
            "gridcolor": "white",
            "linecolor": "white",
            "ticks": ""
           }
          },
          "scene": {
           "xaxis": {
            "backgroundcolor": "#E5ECF6",
            "gridcolor": "white",
            "gridwidth": 2,
            "linecolor": "white",
            "showbackground": true,
            "ticks": "",
            "zerolinecolor": "white"
           },
           "yaxis": {
            "backgroundcolor": "#E5ECF6",
            "gridcolor": "white",
            "gridwidth": 2,
            "linecolor": "white",
            "showbackground": true,
            "ticks": "",
            "zerolinecolor": "white"
           },
           "zaxis": {
            "backgroundcolor": "#E5ECF6",
            "gridcolor": "white",
            "gridwidth": 2,
            "linecolor": "white",
            "showbackground": true,
            "ticks": "",
            "zerolinecolor": "white"
           }
          },
          "shapedefaults": {
           "line": {
            "color": "#2a3f5f"
           }
          },
          "ternary": {
           "aaxis": {
            "gridcolor": "white",
            "linecolor": "white",
            "ticks": ""
           },
           "baxis": {
            "gridcolor": "white",
            "linecolor": "white",
            "ticks": ""
           },
           "bgcolor": "#E5ECF6",
           "caxis": {
            "gridcolor": "white",
            "linecolor": "white",
            "ticks": ""
           }
          },
          "title": {
           "x": 0.05
          },
          "xaxis": {
           "automargin": true,
           "gridcolor": "white",
           "linecolor": "white",
           "ticks": "",
           "title": {
            "standoff": 15
           },
           "zerolinecolor": "white",
           "zerolinewidth": 2
          },
          "yaxis": {
           "automargin": true,
           "gridcolor": "white",
           "linecolor": "white",
           "ticks": "",
           "title": {
            "standoff": 15
           },
           "zerolinecolor": "white",
           "zerolinewidth": 2
          }
         }
        },
        "width": 800,
        "xaxis": {
         "range": [
          -10,
          800
         ]
        },
        "yaxis": {
         "range": [
          -600,
          10
         ]
        }
       }
      }
     },
     "metadata": {},
     "output_type": "display_data"
    }
   ],
   "source": [
    "pl = Plotter(sr.layout.corners)\n",
    "pl.plot()"
   ]
  },
  {
   "cell_type": "code",
   "execution_count": 7,
   "metadata": {},
   "outputs": [
    {
     "data": {
      "text/plain": [
       "{'bedroom_1': Corners(x_left=0, x_right=12.105, y_bottom=-10.53, y_top=0),\n",
       " 'kitchen': Corners(x_left=12.105, x_right=18.855, y_bottom=-21.69, y_top=-13.275),\n",
       " 'm_bath': Corners(x_left=18.135, x_right=26.865, y_bottom=-4.905, y_top=0),\n",
       " 'm_bedroom': Corners(x_left=27.585, x_right=35.595, y_bottom=-10.305, y_top=0),\n",
       " 'm_closet': Corners(x_left=30.87, x_right=34.65, y_bottom=-12.555, y_top=-10.305),\n",
       " 'bath': Corners(x_left=18.855, x_right=27.585, y_bottom=-9.54, y_top=-4.905),\n",
       " 'dining': Corners(x_left=18.855, x_right=31.5, y_bottom=-21.375, y_top=-9.54),\n",
       " 'transit_space': Corners(x_left=12.105, x_right=18.855, y_bottom=-13.275, y_top=-6.57),\n",
       " 'closet': Corners(x_left=31.5, x_right=35.28, y_bottom=-21.6, y_top=-12.555),\n",
       " 'bedroom_2': Corners(x_left=0, x_right=12.105, y_bottom=-22.365, y_top=-10.53),\n",
       " 'laundry': Corners(x_left=12.105, x_right=18.855, y_bottom=-6.57, y_top=0)}"
      ]
     },
     "execution_count": 7,
     "metadata": {},
     "output_type": "execute_result"
    }
   ],
   "source": [
    "sr.layout.corners"
   ]
  },
  {
   "cell_type": "code",
   "execution_count": 8,
   "metadata": {},
   "outputs": [],
   "source": [
    "sl = SideLeveler(layout)\n",
    "sl.run()"
   ]
  },
  {
   "cell_type": "code",
   "execution_count": 9,
   "metadata": {},
   "outputs": [
    {
     "data": {
      "text/plain": [
       "{'bedroom_1': Corners(x_left=0, x_right=12.105, y_bottom=-10.53, y_top=0),\n",
       " 'kitchen': Corners(x_left=12.105, x_right=18.855, y_bottom=-22.365, y_top=-13.275),\n",
       " 'm_bath': Corners(x_left=18.135, x_right=26.865, y_bottom=-4.905, y_top=0),\n",
       " 'm_bedroom': Corners(x_left=26.865, x_right=35.28, y_bottom=-10.305, y_top=0),\n",
       " 'm_closet': Corners(x_left=30.87, x_right=35.28, y_bottom=-12.555, y_top=-10.305),\n",
       " 'bath': Corners(x_left=18.855, x_right=27.585, y_bottom=-9.54, y_top=-4.905),\n",
       " 'dining': Corners(x_left=18.855, x_right=31.5, y_bottom=-22.365, y_top=-9.54),\n",
       " 'transit_space': Corners(x_left=12.105, x_right=18.855, y_bottom=-13.275, y_top=-6.57),\n",
       " 'closet': Corners(x_left=31.5, x_right=35.28, y_bottom=-22.365, y_top=-12.555),\n",
       " 'bedroom_2': Corners(x_left=0, x_right=12.105, y_bottom=-22.365, y_top=-10.53),\n",
       " 'laundry': Corners(x_left=12.105, x_right=18.135, y_bottom=-6.57, y_top=0)}"
      ]
     },
     "execution_count": 9,
     "metadata": {},
     "output_type": "execute_result"
    }
   ],
   "source": [
    "sl.corners"
   ]
  },
  {
   "cell_type": "code",
   "execution_count": 10,
   "metadata": {},
   "outputs": [],
   "source": [
    "gp = GPLANCreator(sl.corners, \"graph_dim\")\n",
    "gp.run()"
   ]
  }
 ],
 "metadata": {
  "kernelspec": {
   "display_name": "gqenv",
   "language": "python",
   "name": "python3"
  },
  "language_info": {
   "codemirror_mode": {
    "name": "ipython",
    "version": 3
   },
   "file_extension": ".py",
   "mimetype": "text/x-python",
   "name": "python",
   "nbconvert_exporter": "python",
   "pygments_lexer": "ipython3",
   "version": "3.10.14"
  }
 },
 "nbformat": 4,
 "nbformat_minor": 2
}
