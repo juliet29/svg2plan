{
 "cells": [
  {
   "cell_type": "code",
   "execution_count": 2,
   "metadata": {},
   "outputs": [],
   "source": [
    "import sys\n",
    "sys.path.append(\"/Users/julietnwagwuume-ezeoke/_UILCode/gqe-phd/svg2plan/_scripts\")\n",
    "\n",
    "from pint import UnitRegistry\n",
    "\n",
    "from svg_helpers.saver import Saver, read_layout\n",
    "from svg_helpers.plotter import Plotter\n",
    "\n",
    "from svg_helpers.gplan_creator import GPLANCreator\n",
    "\n",
    "\n",
    "from svg_helpers.shapely import bounds_to_decimal_corners, create_box_from_corners, shape_to_decimal_corners\n",
    "\n",
    "from svg_helpers.layout import Layout\n",
    "\n",
    "import shapely as sp\n",
    "\n",
    "from decimal import Decimal\n",
    "from svg_helpers.constants import ROUNDING_LIM"
   ]
  },
  {
   "cell_type": "code",
   "execution_count": 3,
   "metadata": {},
   "outputs": [
    {
     "data": {
      "text/plain": [
       "Layout(shapes={'bedroom_1': <POLYGON ((3.22 -2.8, 3.22 0, 0 0, 0 -2.8, 3.22 -2.8))>, 'kitchen': <POLYGON ((5.02 -5.95, 5.02 -3.53, 3.22 -3.53, 3.22 -5.95, 5.02 -5.95))>, 'm_bath': <POLYGON ((8.58 -1.3, 8.58 0, 5.02 0, 5.02 -1.3, 8.58 -1.3))>, 'm_bedroom': <POLYGON ((10.71 -2.74, 10.71 0, 8.58 0, 8.58 -2.74, 10.71 -2.74))>, 'm_closet': <POLYGON ((10.71 -3.34, 10.71 -2.74, 8.58 -2.74, 8.58 -3.34, 10.71 -3.34))>, 'bath': <POLYGON ((8.58 -2.53, 8.58 -1.3, 5.02 -1.3, 5.02 -2.53, 8.58 -2.53))>, 'dining': <POLYGON ((8.58 -5.95, 8.58 -2.53, 5.02 -2.53, 5.02 -5.95, 8.58 -5.95))>, 'transit_space': <POLYGON ((5.02 -3.53, 5.02 -1.75, 3.22 -1.75, 3.22 -3.53, 5.02 -3.53))>, 'closet': <POLYGON ((10.71 -5.95, 10.71 -3.34, 8.58 -3.34, 8.58 -5.95, 10.71 -5.95))>, 'bedroom_2': <POLYGON ((3.22 -5.95, 3.22 -2.8, 0 -2.8, 0 -5.95, 3.22 -5.95))>, 'laundry': <POLYGON ((5.02 -1.75, 5.02 0, 3.22 0, 3.22 -1.75, 5.02 -1.75))>}, corners={'bedroom_1': DecimalCorners(x_left=0, x_right=Decimal('3.22'), y_bottom=Decimal('-2.80'), y_top=0), 'kitchen': DecimalCorners(x_left=Decimal('3.22'), x_right=Decimal('5.02'), y_bottom=Decimal('-5.95'), y_top=Decimal('-3.53')), 'm_bath': DecimalCorners(x_left=Decimal('5.02'), x_right=Decimal('8.58'), y_bottom=Decimal('-1.30'), y_top=0), 'm_bedroom': DecimalCorners(x_left=Decimal('8.58'), x_right=Decimal('10.71'), y_bottom=Decimal('-2.74'), y_top=0), 'm_closet': DecimalCorners(x_left=Decimal('8.58'), x_right=Decimal('10.71'), y_bottom=Decimal('-3.34'), y_top=Decimal('-2.74')), 'bath': DecimalCorners(x_left=Decimal('5.02'), x_right=Decimal('8.58'), y_bottom=Decimal('-2.53'), y_top=Decimal('-1.30')), 'dining': DecimalCorners(x_left=Decimal('5.02'), x_right=Decimal('8.58'), y_bottom=Decimal('-5.95'), y_top=Decimal('-2.53')), 'transit_space': DecimalCorners(x_left=Decimal('3.22'), x_right=Decimal('5.02'), y_bottom=Decimal('-3.53'), y_top=Decimal('-1.75')), 'closet': DecimalCorners(x_left=Decimal('8.58'), x_right=Decimal('10.71'), y_bottom=Decimal('-5.95'), y_top=Decimal('-3.34')), 'bedroom_2': DecimalCorners(x_left=0, x_right=Decimal('3.22'), y_bottom=Decimal('-5.95'), y_top=Decimal('-2.80')), 'laundry': DecimalCorners(x_left=Decimal('3.22'), x_right=Decimal('5.02'), y_bottom=Decimal('-1.75'), y_top=0)}, graph=<networkx.classes.graph.Graph object at 0x10dd29ea0>)"
      ]
     },
     "execution_count": 3,
     "metadata": {},
     "output_type": "execute_result"
    }
   ],
   "source": [
    "layout: Layout = read_layout(\"correct_dims\")\n",
    "layout"
   ]
  },
  {
   "cell_type": "code",
   "execution_count": 4,
   "metadata": {},
   "outputs": [],
   "source": [
    "gp = GPLANCreator(layout.corners)\n",
    "gp.run()"
   ]
  }
 ],
 "metadata": {
  "kernelspec": {
   "display_name": "gqenv",
   "language": "python",
   "name": "python3"
  },
  "language_info": {
   "codemirror_mode": {
    "name": "ipython",
    "version": 3
   },
   "file_extension": ".py",
   "mimetype": "text/x-python",
   "name": "python",
   "nbconvert_exporter": "python",
   "pygments_lexer": "ipython3",
   "version": "3.10.14"
  }
 },
 "nbformat": 4,
 "nbformat_minor": 2
}
