{
 "cells": [
  {
   "cell_type": "code",
   "execution_count": 1,
   "metadata": {},
   "outputs": [],
   "source": [
    "import sys\n",
    "sys.path.append(\"/Users/julietnwagwuume-ezeoke/_UILCode/gqe-phd/svg2plan/_scripts\")\n",
    "\n",
    "import os\n",
    "from main.main import SVG2Plan\n",
    "\n",
    "from reader.svg_reader import SVGReader\n",
    "from adjacencies.adjacency import AdjacencyGenerator\n",
    "\n",
    "from placement.executer import PlacementExecuter\n",
    "\n",
    "from svg_helpers.saver import Saver, read_layout\n",
    "from svg_helpers.plotter import Plotter\n",
    "from svg_helpers.layout import Layout"
   ]
  },
  {
   "cell_type": "code",
   "execution_count": 2,
   "metadata": {},
   "outputs": [],
   "source": [
    "svg_name = \"amber_a_f01.svg\"\n",
    "\n",
    "sv = SVGReader(svg_name)\n",
    "sv.run()"
   ]
  },
  {
   "cell_type": "code",
   "execution_count": 4,
   "metadata": {},
   "outputs": [
    {
     "data": {
      "text/plain": [
       "11"
      ]
     },
     "execution_count": 4,
     "metadata": {},
     "output_type": "execute_result"
    }
   ],
   "source": [
    "len(sv.domains.corners)"
   ]
  },
  {
   "cell_type": "code",
   "execution_count": 10,
   "metadata": {},
   "outputs": [
    {
     "data": {
      "text/plain": [
       "[]"
      ]
     },
     "execution_count": 10,
     "metadata": {},
     "output_type": "execute_result"
    }
   ],
   "source": [
    "[i for i in sv.domains.shapes[\"bedroom_1\"].interiors]"
   ]
  },
  {
   "cell_type": "code",
   "execution_count": 17,
   "metadata": {},
   "outputs": [
    {
     "data": {
      "text/plain": [
       "[(3.22, 3.29), (3.22, 6.09), (0.0, 6.09), (0.0, 3.29), (3.22, 3.29)]"
      ]
     },
     "execution_count": 17,
     "metadata": {},
     "output_type": "execute_result"
    }
   ],
   "source": [
    "[i for i in sv.domains.shapes[\"bedroom_1\"].exterior.coords]"
   ]
  }
 ],
 "metadata": {
  "kernelspec": {
   "display_name": "gqenv",
   "language": "python",
   "name": "python3"
  },
  "language_info": {
   "codemirror_mode": {
    "name": "ipython",
    "version": 3
   },
   "file_extension": ".py",
   "mimetype": "text/x-python",
   "name": "python",
   "nbconvert_exporter": "python",
   "pygments_lexer": "ipython3",
   "version": "3.10.14"
  }
 },
 "nbformat": 4,
 "nbformat_minor": 2
}
