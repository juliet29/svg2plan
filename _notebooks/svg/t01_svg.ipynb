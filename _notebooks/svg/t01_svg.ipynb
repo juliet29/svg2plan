{
 "cells": [
  {
   "cell_type": "code",
   "execution_count": 1,
   "metadata": {},
   "outputs": [],
   "source": [
    "import sys\n",
    "sys.path.append(\"/Users/julietnwagwuume-ezeoke/_UILCode/gqe-phd/svg2plan/_scripts\")\n",
    "\n",
    "import os\n",
    "from xml.dom import minidom\n",
    "from dataclasses import dataclass\n",
    "from itertools import combinations\n",
    "\n",
    "from shapely import LinearRing, Polygon\n",
    "\n",
    "import networkx as nx\n",
    "\n",
    "from helpers.shapely import get_point_as_xy, list_coords\n",
    "from svg_reader import SVGReader\n",
    "from adjacency import AdjacencyGenerator\n",
    "# from cardinal_adjacency import CardinalAdjacency\n",
    "from classes.domains import Domain, Corners\n",
    "from classes.directions import Direction, NeighborDirections\n",
    "\n",
    "from placement.looper import Looper\n",
    "\n",
    "from pprint import pprint\n"
   ]
  },
  {
   "cell_type": "code",
   "execution_count": 2,
   "metadata": {},
   "outputs": [
    {
     "data": {
      "text/plain": [
       "[]"
      ]
     },
     "execution_count": 2,
     "metadata": {},
     "output_type": "execute_result"
    }
   ],
   "source": [
    "n = NeighborDirections()\n",
    "n[\"NORTH\"]"
   ]
  },
  {
   "cell_type": "code",
   "execution_count": 3,
   "metadata": {},
   "outputs": [
    {
     "data": {
      "text/plain": [
       "'NORTH'"
      ]
     },
     "execution_count": 3,
     "metadata": {},
     "output_type": "execute_result"
    }
   ],
   "source": [
    "Direction.NORTH.name"
   ]
  },
  {
   "cell_type": "code",
   "execution_count": 4,
   "metadata": {},
   "outputs": [],
   "source": [
    "svg_name = \"amber_building_a_f01.svg\"\n",
    "sv = SVGReader(svg_name)\n",
    "sv.run()"
   ]
  },
  {
   "cell_type": "code",
   "execution_count": 5,
   "metadata": {},
   "outputs": [],
   "source": [
    "ag = AdjacencyGenerator(sv.domains)\n",
    "ag.run()"
   ]
  },
  {
   "cell_type": "code",
   "execution_count": 6,
   "metadata": {},
   "outputs": [
    {
     "name": "stdout",
     "output_type": "stream",
     "text": [
      "ne node is bedroom_1\n",
      "next west node is laundry\n",
      "next west node is m_bath\n",
      "next west node is m_bedroom\n",
      "---m_bedroom has no western nbs that are unplaced\n",
      "curr_node in row 0 = bedroom_1\n",
      "next south node is bedroom_2\n",
      "next west node is transit_space\n",
      "next west node is bath\n",
      "---bath has no western nbs that are unplaced\n",
      "curr_node in row 1 = bedroom_2\n",
      "---bedroom_2 has no southern nbs that are unplaced\n",
      "curr_node in row 1 = transit_space\n",
      "next south node is kitchen\n",
      "next west node is dining\n",
      "next west node is m_closet\n",
      "---m_closet has no western nbs that are unplaced\n",
      "curr_node in row 2 = kitchen\n",
      "---kitchen has no southern nbs that are unplaced\n",
      "curr_node in row 2 = dining\n",
      "---dining has no southern nbs that are unplaced\n",
      "curr_node in row 2 = m_closet\n",
      "next south node is closet\n",
      "---closet has no western nbs that are unplaced\n",
      "no more nodes to place\n"
     ]
    }
   ],
   "source": [
    "lp = Looper(ag.G, ag.domains)\n",
    "lp.run_ns_loop()"
   ]
  },
  {
   "cell_type": "code",
   "execution_count": 7,
   "metadata": {},
   "outputs": [
    {
     "data": {
      "text/plain": [
       "[]"
      ]
     },
     "execution_count": 7,
     "metadata": {},
     "output_type": "execute_result"
    }
   ],
   "source": [
    "lp.unplaced"
   ]
  },
  {
   "cell_type": "code",
   "execution_count": 8,
   "metadata": {},
   "outputs": [
    {
     "data": {
      "text/plain": [
       "{0: ['bedroom_1', 'laundry', 'm_bath', 'm_bedroom'],\n",
       " 1: ['bedroom_2', 'transit_space', 'bath'],\n",
       " 2: ['kitchen', 'dining', 'm_closet'],\n",
       " 3: ['closet']}"
      ]
     },
     "execution_count": 8,
     "metadata": {},
     "output_type": "execute_result"
    }
   ],
   "source": [
    "lp.tracker"
   ]
  }
 ],
 "metadata": {
  "kernelspec": {
   "display_name": "gqenv",
   "language": "python",
   "name": "python3"
  },
  "language_info": {
   "codemirror_mode": {
    "name": "ipython",
    "version": 3
   },
   "file_extension": ".py",
   "mimetype": "text/x-python",
   "name": "python",
   "nbconvert_exporter": "python",
   "pygments_lexer": "ipython3",
   "version": "3.10.14"
  }
 },
 "nbformat": 4,
 "nbformat_minor": 2
}
