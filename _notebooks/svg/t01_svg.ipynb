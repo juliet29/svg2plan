{
 "cells": [
  {
   "cell_type": "code",
   "execution_count": 1,
   "metadata": {},
   "outputs": [],
   "source": [
    "import sys\n",
    "sys.path.append(\"/Users/julietnwagwuume-ezeoke/_UILCode/gqe-phd/svg2plan/_scripts\")\n",
    "\n",
    "import os\n",
    "from xml.dom import minidom\n",
    "from dataclasses import dataclass\n",
    "\n",
    "from shapely import LinearRing, Polygon\n",
    "\n",
    "from svg_reader import SVGReader"
   ]
  },
  {
   "cell_type": "code",
   "execution_count": null,
   "metadata": {},
   "outputs": [],
   "source": []
  },
  {
   "cell_type": "code",
   "execution_count": 2,
   "metadata": {},
   "outputs": [],
   "source": [
    "svg_file = \"../../svg_imports/amber_building_a_f01.svg\"\n",
    "svg_name = \"amber_building_a_f01.svg\""
   ]
  },
  {
   "cell_type": "code",
   "execution_count": 3,
   "metadata": {},
   "outputs": [],
   "source": [
    "s = SVGReader(svg_name)\n",
    "s.run()"
   ]
  },
  {
   "cell_type": "code",
   "execution_count": 4,
   "metadata": {},
   "outputs": [
    {
     "data": {
      "text/plain": [
       "{'bedroom_1': <POLYGON ((0 -234, 269 -234, 269 0, 0 0, 0 -234))>,\n",
       " 'kitchen': <POLYGON ((281 135, 431 135, 431 322, 281 322, 281 135))>,\n",
       " 'm_bath': <POLYGON ((443 -109, 637 -109, 637 0, 443 0, 443 -109))>,\n",
       " 'm_bedroom': <POLYGON ((652 -229, 830 -229, 830 0, 652 0, 652 -229))>,\n",
       " 'm_closet': <POLYGON ((746 184, 830 184, 830 234, 746 234, 746 184))>,\n",
       " 'bath': <POLYGON ((443 23, 637 23, 637 126, 443 126, 443 23))>,\n",
       " 'dining': <POLYGON ((453 -17, 734 -17, 734 246, 453 246, 453 -17))>,\n",
       " 'transit_space': <POLYGON ((281 10, 431 10, 431 159, 281 159, 281 10))>,\n",
       " 'closet': <POLYGON ((746 111, 830 111, 830 312, 746 312, 746 111))>,\n",
       " 'bedroom_2': <POLYGON ((0 -17, 269 -17, 269 246, 0 246, 0 -17))>,\n",
       " 'laundry': <POLYGON ((282 -143, 416 -143, 416 3, 282 3, 282 -143))>}"
      ]
     },
     "execution_count": 4,
     "metadata": {},
     "output_type": "execute_result"
    }
   ],
   "source": [
    "s.domains"
   ]
  },
  {
   "cell_type": "code",
   "execution_count": 4,
   "metadata": {},
   "outputs": [],
   "source": [
    "def get_rectangle(path):\n",
    "    s = SVGRect(\n",
    "        path.getAttribute('x'),\n",
    "        path.getAttribute('y'),\n",
    "        path.getAttribute('width'),\n",
    "        path.getAttribute('height'),\n",
    "        path.getAttribute(\"id\")\n",
    "    )\n",
    "    return s"
   ]
  },
  {
   "cell_type": "code",
   "execution_count": 5,
   "metadata": {},
   "outputs": [],
   "source": [
    "doc = minidom.parse(svg_file)  # parseString also exists\n",
    "rectangles = [get_rectangle(path) for path\n",
    "                in doc.getElementsByTagName('rect')]\n",
    "doc.unlink()"
   ]
  },
  {
   "cell_type": "code",
   "execution_count": 6,
   "metadata": {},
   "outputs": [
    {
     "data": {
      "text/plain": [
       "[SVGRect(x='', y='', width='269', height='234', id='bedroom_1'),\n",
       " SVGRect(x='281', y='322', width='150', height='187', id='kitchen'),\n",
       " SVGRect(x='443', y='', width='194', height='109', id='m_bath'),\n",
       " SVGRect(x='652', y='', width='178', height='229', id='m_bedroom'),\n",
       " SVGRect(x='746', y='234', width='84', height='50', id='m_closet'),\n",
       " SVGRect(x='443', y='126', width='194', height='103', id='bath'),\n",
       " SVGRect(x='453', y='246', width='281', height='263', id='dining'),\n",
       " SVGRect(x='281', y='159', width='150', height='149', id='transit_space'),\n",
       " SVGRect(x='746', y='312', width='84', height='201', id='closet'),\n",
       " SVGRect(x='', y='246', width='269', height='263', id='bedroom_2'),\n",
       " SVGRect(x='282', y='3', width='134', height='146', id='laundry')]"
      ]
     },
     "execution_count": 6,
     "metadata": {},
     "output_type": "execute_result"
    }
   ],
   "source": [
    "rectangles"
   ]
  },
  {
   "cell_type": "code",
   "execution_count": 7,
   "metadata": {},
   "outputs": [
    {
     "data": {
      "text/plain": [
       "11"
      ]
     },
     "execution_count": 7,
     "metadata": {},
     "output_type": "execute_result"
    }
   ],
   "source": [
    "len(rectangles)"
   ]
  },
  {
   "cell_type": "code",
   "execution_count": 21,
   "metadata": {},
   "outputs": [],
   "source": [
    "def to_shapely_rect(r:SVGRect):\n",
    "    x0 = float(r.x) if r.x else 0\n",
    "    y0 = float(r.y) if r.y else 0\n",
    "    x1 = x0 + float(r.width)\n",
    "    y1 = y0 - float(r.height)\n",
    "\n",
    "    # ccw from bottom left\n",
    "    coords = [(x0, y1), (x1, y1), (x1, y0), (x0, y0)]\n",
    "    shape = Polygon(LinearRing(coords))\n",
    "\n",
    "    return shape\n"
   ]
  },
  {
   "cell_type": "code",
   "execution_count": 22,
   "metadata": {},
   "outputs": [
    {
     "data": {
      "image/svg+xml": [
       "<svg xmlns=\"http://www.w3.org/2000/svg\" xmlns:xlink=\"http://www.w3.org/1999/xlink\" width=\"290.52\" height=\"255.51999999999998\" viewBox=\"-10.76 -244.76 290.52 255.51999999999998\" preserveAspectRatio=\"xMinYMin meet\"><g transform=\"matrix(1,0,0,-1,0,-234.0)\"><path fill-rule=\"evenodd\" fill=\"#66cc99\" stroke=\"#555555\" stroke-width=\"2.0\" opacity=\"0.6\" d=\"M 0.0,-234.0 L 269.0,-234.0 L 269.0,0.0 L 0.0,0.0 L 0.0,-234.0 z\" /></g></svg>"
      ],
      "text/plain": [
       "<POLYGON ((0 -234, 269 -234, 269 0, 0 0, 0 -234))>"
      ]
     },
     "execution_count": 22,
     "metadata": {},
     "output_type": "execute_result"
    }
   ],
   "source": [
    "to_shapely_rect(rectangles[0])"
   ]
  }
 ],
 "metadata": {
  "kernelspec": {
   "display_name": "gqenv",
   "language": "python",
   "name": "python3"
  },
  "language_info": {
   "codemirror_mode": {
    "name": "ipython",
    "version": 3
   },
   "file_extension": ".py",
   "mimetype": "text/x-python",
   "name": "python",
   "nbconvert_exporter": "python",
   "pygments_lexer": "ipython3",
   "version": "3.10.14"
  }
 },
 "nbformat": 4,
 "nbformat_minor": 2
}
