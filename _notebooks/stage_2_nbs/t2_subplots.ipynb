{
  "cells": [
    {
      "cell_type": "code",
      "execution_count": 113,
      "metadata": {},
      "outputs": [
        {
          "name": "stdout",
          "output_type": "stream",
          "text": [
            "The autoreload extension is already loaded. To reload it, use:\n",
            "  %reload_ext autoreload\n"
          ]
        }
      ],
      "source": [
        "%load_ext autoreload\n",
        "%autoreload 2"
      ]
    },
    {
      "cell_type": "code",
      "execution_count": 114,
      "metadata": {},
      "outputs": [],
      "source": [
        "from __init__ import *\n",
        "from unit_tests.test_problem_types import *\n",
        "from fixes.problem_types.side_hole_id2 import *\n",
        "from helpers.shapely import domain_to_shape\n",
        "from unit_tests.problem_types.test_side_holes import SideHoleSetup\n",
        "from itertools import filterfalse"
      ]
    },
    {
      "cell_type": "code",
      "execution_count": 144,
      "metadata": {},
      "outputs": [],
      "source": [
        "t = SideHoleSetup()\n",
        "t.run()"
      ]
    },
    {
      "cell_type": "code",
      "execution_count": 145,
      "metadata": {},
      "outputs": [],
      "source": [
        "edited_shapes = {domain.name:\n",
        "    domain_to_shape(domain) for domain in t.hole_dict.values()\n",
        "}\n",
        "t.test_layout.shapes = edited_shapes"
      ]
    },
    {
      "cell_type": "code",
      "execution_count": 146,
      "metadata": {},
      "outputs": [
        {
          "data": {
            "text/plain": [
              "[Problem(index=0, problem_type=ProblemType.SIDE_HOLE, resolved=False, nbs=['0', '1']]"
            ]
          },
          "execution_count": 146,
          "metadata": {},
          "output_type": "execute_result"
        }
      ],
      "source": [
        "p = get_side_hole_problems(t.test_layout)\n",
        "p"
      ]
    },
    {
      "cell_type": "code",
      "execution_count": 150,
      "metadata": {},
      "outputs": [
        {
          "data": {
            "text/plain": [
              "True"
            ]
          },
          "execution_count": 150,
          "metadata": {},
          "output_type": "execute_result"
        }
      ],
      "source": [
        "len(list(p[0].geometry.exterior.coords)) > 2"
      ]
    },
    {
      "cell_type": "code",
      "execution_count": 132,
      "metadata": {},
      "outputs": [
        {
          "data": {
            "text/plain": [
              "[Problem(index=0, problem_type=ProblemType.SIDE_HOLE, resolved=False, nbs=['0', '1']]"
            ]
          },
          "execution_count": 132,
          "metadata": {},
          "output_type": "execute_result"
        }
      ],
      "source": [
        "further_filtering = list(filterfalse(lambda i: i.x.min == 2 and i.y.min == 1, t.hole_domains))\n",
        "edited_shapes = {domain.name:\n",
        "    domain_to_shape(domain) for domain in t.hole_dict.values()\n",
        "}\n",
        "t.test_layout.shapes = edited_shapes\n",
        "get_side_hole_problems(t.test_layout)\n"
      ]
    },
    {
      "cell_type": "code",
      "execution_count": 117,
      "metadata": {},
      "outputs": [
        {
          "data": {
            "text/plain": [
              "[(Domain(0, x=[0.00-1.00], y=[0.00-1.00]),\n",
              "  Domain(1, x=[0.20-1.00], y=[1.20-2.00]))]"
            ]
          },
          "execution_count": 117,
          "metadata": {},
          "output_type": "execute_result"
        }
      ],
      "source": [
        "t.pairs"
      ]
    },
    {
      "cell_type": "code",
      "execution_count": 118,
      "metadata": {},
      "outputs": [
        {
          "data": {
            "text/plain": [
              "['0', '1']"
            ]
          },
          "execution_count": 118,
          "metadata": {},
          "output_type": "execute_result"
        }
      ],
      "source": [
        "p = get_pair_names(t.pairs[0])\n",
        "p"
      ]
    },
    {
      "cell_type": "code",
      "execution_count": 119,
      "metadata": {},
      "outputs": [
        {
          "data": {
            "text/plain": [
              "([<Direction.EAST: 2>,\n",
              "  <Direction.NORTH: 0>,\n",
              "  <Direction.SOUTH: 1>,\n",
              "  <Direction.WEST: 3>],\n",
              " [['12', '13', '14', '15'],\n",
              "  ['3', '7', '11', '15'],\n",
              "  ['0', '4', '8', '12'],\n",
              "  ['0', '1', '2', '3']])"
            ]
          },
          "execution_count": 119,
          "metadata": {},
          "output_type": "execute_result"
        }
      ],
      "source": [
        "keys, groups = group_nodes_on_edge(t.test_layout.graph)\n",
        "\n",
        "keys, groups"
      ]
    },
    {
      "cell_type": "code",
      "execution_count": 124,
      "metadata": {},
      "outputs": [
        {
          "name": "stdout",
          "output_type": "stream",
          "text": [
            "['0', '1', '2', '3'] Direction.WEST\n"
          ]
        }
      ],
      "source": [
        "for ix, g in enumerate(groups):\n",
        "    if p[0] and p[1] in g:\n",
        "        drn = keys[ix]\n",
        "        print(g, keys[ix])"
      ]
    },
    {
      "cell_type": "code",
      "execution_count": 126,
      "metadata": {},
      "outputs": [
        {
          "data": {
            "text/plain": [
              "'y'"
            ]
          },
          "execution_count": 126,
          "metadata": {},
          "output_type": "execute_result"
        }
      ],
      "source": [
        "from helpers.directions import get_axis, get_opposite_axis\n",
        "\n",
        "\n",
        "get_opposite_axis(get_axis(drn))"
      ]
    }
  ],
  "metadata": {
    "kernelspec": {
      "display_name": "Python 3",
      "language": "python",
      "name": "python3"
    },
    "language_info": {
      "codemirror_mode": {
        "name": "ipython",
        "version": 3
      },
      "file_extension": ".py",
      "mimetype": "text/x-python",
      "name": "python",
      "nbconvert_exporter": "python",
      "pygments_lexer": "ipython3",
      "version": "3.10.14"
    }
  },
  "nbformat": 4,
  "nbformat_minor": 2
}
