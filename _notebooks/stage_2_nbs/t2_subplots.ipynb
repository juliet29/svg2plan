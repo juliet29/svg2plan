{
  "cells": [
    {
      "cell_type": "code",
      "execution_count": 77,
      "metadata": {},
      "outputs": [
        {
          "name": "stdout",
          "output_type": "stream",
          "text": [
            "The autoreload extension is already loaded. To reload it, use:\n",
            "  %reload_ext autoreload\n"
          ]
        }
      ],
      "source": [
        "%load_ext autoreload\n",
        "%autoreload 2"
      ]
    },
    {
      "cell_type": "code",
      "execution_count": 78,
      "metadata": {},
      "outputs": [],
      "source": [
        "from __init__ import *\n",
        "from unit_tests.test_problem_types import *\n",
        "from fixes.problem_types.side_hole_id2 import *\n",
        "from helpers.shapely import domain_to_shape\n",
        "from unit_tests.problem_types.test_side_holes import SideHoleSetup\n",
        "from itertools import filterfalse"
      ]
    },
    {
      "cell_type": "code",
      "execution_count": 79,
      "metadata": {},
      "outputs": [],
      "source": [
        "t = SideHoleSetup(\"n\")\n",
        "t.run()\n"
      ]
    },
    {
      "cell_type": "code",
      "execution_count": 80,
      "metadata": {},
      "outputs": [],
      "source": [
        "further_filtering = list(filterfalse(lambda i: i.x.min == 2 and i.y.min == 1, t.hole_domains))"
      ]
    },
    {
      "cell_type": "code",
      "execution_count": 81,
      "metadata": {},
      "outputs": [
        {
          "data": {
            "text/plain": [
              "<shapely.strtree.STRtree at 0x11d7529e0>"
            ]
          },
          "execution_count": 81,
          "metadata": {},
          "output_type": "execute_result"
        }
      ],
      "source": [
        "one_hole = [\n",
        "domain_to_shape(domain) for domain in t.hole_dict.values()\n",
        "]\n",
        "two_hole = [\n",
        "domain_to_shape(domain) for domain in further_filtering\n",
        "]\n",
        "find_geometric_holes(one_hole)\n",
        "find_geometric_holes(two_hole)"
      ]
    },
    {
      "cell_type": "code",
      "execution_count": 82,
      "metadata": {},
      "outputs": [
        {
          "data": {
            "text/plain": [
              "[Domain(0, x=[0.00-1.00], y=[0.00-1.00]),\n",
              " Domain(1, x=[0.00-1.00], y=[1.00-2.00]),\n",
              " Domain(2, x=[0.00-1.00], y=[2.00-3.00]),\n",
              " Domain(3, x=[0.00-1.00], y=[3.00-4.00]),\n",
              " Domain(4, x=[1.00-2.00], y=[0.00-1.00]),\n",
              " Domain(5, x=[1.00-2.00], y=[1.00-2.00]),\n",
              " Domain(6, x=[1.00-2.00], y=[2.00-3.00]),\n",
              " Domain(8, x=[2.00-3.00], y=[0.00-1.00]),\n",
              " Domain(9, x=[2.00-3.00], y=[1.00-2.00]),\n",
              " Domain(10, x=[2.00-3.00], y=[2.00-3.00]),\n",
              " Domain(11, x=[2.00-3.00], y=[3.00-4.00]),\n",
              " Domain(12, x=[3.00-4.00], y=[0.00-1.00]),\n",
              " Domain(13, x=[3.00-4.00], y=[1.00-2.00]),\n",
              " Domain(14, x=[3.00-4.00], y=[2.00-3.00]),\n",
              " Domain(15, x=[3.00-4.00], y=[3.00-4.00]),\n",
              " Domain(7, x=[1.20-2.00], y=[3.20-4.00])]"
            ]
          },
          "execution_count": 82,
          "metadata": {},
          "output_type": "execute_result"
        }
      ],
      "source": [
        "t.hole_domains"
      ]
    },
    {
      "cell_type": "code",
      "execution_count": 96,
      "metadata": {},
      "outputs": [
        {
          "name": "stdout",
          "output_type": "stream",
          "text": [
            "3 7\n",
            "LINESTRING (1 3, 1.2 4)\n"
          ]
        },
        {
          "data": {
            "text/plain": [
              "(array('d', [1.0, 1.2]), array('d', [3.0, 4.0]))"
            ]
          },
          "execution_count": 96,
          "metadata": {},
          "output_type": "execute_result"
        }
      ],
      "source": [
        "a,b = (t.hole_domains[3], t.hole_domains[-1])\n",
        "axis = \"x\"\n",
        "\n",
        "l = create_test_line(a, b, axis)\n",
        "print(l)\n",
        "\n",
        "l.xy"
      ]
    },
    {
      "cell_type": "code",
      "execution_count": 100,
      "metadata": {},
      "outputs": [
        {
          "data": {
            "text/plain": [
              "0.2"
            ]
          },
          "execution_count": 100,
          "metadata": {},
          "output_type": "execute_result"
        }
      ],
      "source": [
        "from operator import sub\n",
        "\n",
        "\n",
        "abs(round(sub(*l.xy[0]), 2))"
      ]
    },
    {
      "cell_type": "code",
      "execution_count": 92,
      "metadata": {},
      "outputs": [
        {
          "data": {
            "image/svg+xml": [
              "<svg xmlns=\"http://www.w3.org/2000/svg\" xmlns:xlink=\"http://www.w3.org/1999/xlink\" width=\"100.0\" height=\"100.0\" viewBox=\"0.96 2.96 0.28 1.08\" preserveAspectRatio=\"xMinYMin meet\"><g transform=\"matrix(1,0,0,-1,0,7.0)\"><polyline fill=\"none\" stroke=\"#66cc99\" stroke-width=\"0.0216\" points=\"1.0,3.0 1.2,4.0\" opacity=\"0.8\" /></g></svg>"
            ],
            "text/plain": [
              "<LINESTRING (1 3, 1.2 4)>"
            ]
          },
          "execution_count": 92,
          "metadata": {},
          "output_type": "execute_result"
        }
      ],
      "source": [
        "l"
      ]
    },
    {
      "cell_type": "code",
      "execution_count": 85,
      "metadata": {},
      "outputs": [
        {
          "data": {
            "text/plain": [
              "0.2"
            ]
          },
          "execution_count": 85,
          "metadata": {},
          "output_type": "execute_result"
        }
      ],
      "source": [
        "from decimal import Decimal\n",
        "\n",
        "\n",
        "float(Decimal(\"0.2\"))"
      ]
    },
    {
      "cell_type": "code",
      "execution_count": 58,
      "metadata": {},
      "outputs": [
        {
          "data": {
            "image/svg+xml": [
              "<svg xmlns=\"http://www.w3.org/2000/svg\" xmlns:xlink=\"http://www.w3.org/1999/xlink\" width=\"100.0\" height=\"100.0\" viewBox=\"-0.04 0.96 1.08 0.28\" preserveAspectRatio=\"xMinYMin meet\"><g transform=\"matrix(1,0,0,-1,0,2.2)\"><polyline fill=\"none\" stroke=\"#66cc99\" stroke-width=\"0.0216\" points=\"0.0,1.0 1.0,1.2\" opacity=\"0.8\" /></g></svg>"
            ],
            "text/plain": [
              "<LINESTRING (0 1, 1 1.2)>"
            ]
          },
          "execution_count": 58,
          "metadata": {},
          "output_type": "execute_result"
        }
      ],
      "source": [
        "l"
      ]
    },
    {
      "cell_type": "code",
      "execution_count": 69,
      "metadata": {},
      "outputs": [
        {
          "data": {
            "text/plain": [
              "0.2"
            ]
          },
          "execution_count": 69,
          "metadata": {},
          "output_type": "execute_result"
        }
      ],
      "source": [
        "round(abs(l.xy[0][1] - l.xy[1][1]),2)"
      ]
    },
    {
      "cell_type": "code",
      "execution_count": 65,
      "metadata": {},
      "outputs": [
        {
          "data": {
            "text/plain": [
              "1.2"
            ]
          },
          "execution_count": 65,
          "metadata": {},
          "output_type": "execute_result"
        }
      ],
      "source": []
    },
    {
      "cell_type": "code",
      "execution_count": 52,
      "metadata": {},
      "outputs": [
        {
          "data": {
            "image/svg+xml": [
              "<svg xmlns=\"http://www.w3.org/2000/svg\" xmlns:xlink=\"http://www.w3.org/1999/xlink\" width=\"100.0\" height=\"100.0\" viewBox=\"1.96 2.96 0.08000000000000007 1.08\" preserveAspectRatio=\"xMinYMin meet\"><g transform=\"matrix(1,0,0,-1,0,7.0)\"><polyline fill=\"none\" stroke=\"#66cc99\" stroke-width=\"0.0216\" points=\"2.0,3.0 2.0,4.0\" opacity=\"0.8\" /></g></svg>"
            ],
            "text/plain": [
              "<LINESTRING (2 3, 2 4)>"
            ]
          },
          "execution_count": 52,
          "metadata": {},
          "output_type": "execute_result"
        }
      ],
      "source": [
        "(a,b)  = (t.domains[7], t.domains[11])\n",
        "create_test_line(a, b, \"x\")"
      ]
    },
    {
      "cell_type": "code",
      "execution_count": null,
      "metadata": {},
      "outputs": [],
      "source": [
        "a,b = t.domains[:2]"
      ]
    },
    {
      "cell_type": "code",
      "execution_count": 32,
      "metadata": {},
      "outputs": [
        {
          "data": {
            "image/svg+xml": [
              "<svg xmlns=\"http://www.w3.org/2000/svg\" xmlns:xlink=\"http://www.w3.org/1999/xlink\" width=\"100.0\" height=\"100.0\" viewBox=\"-0.12 0.88 3.24 1.2400000000000002\" preserveAspectRatio=\"xMinYMin meet\"><g transform=\"matrix(1,0,0,-1,0,3.0)\"><g><path fill-rule=\"evenodd\" fill=\"#66cc99\" stroke=\"#555555\" stroke-width=\"0.06480000000000001\" opacity=\"0.6\" d=\"M 0.0,2.0 L 0.2,2.0 L 0.2,1.2 L 1.0,1.2 L 1.0,1.0 L 0.0,1.0 L 0.0,2.0 z\" /><path fill-rule=\"evenodd\" fill=\"#66cc99\" stroke=\"#555555\" stroke-width=\"0.06480000000000001\" opacity=\"0.6\" d=\"M 2.0,2.0 L 3.0,2.0 L 3.0,1.0 L 2.0,1.0 L 2.0,2.0 z\" /></g></g></svg>"
            ],
            "text/plain": [
              "<MULTIPOLYGON (((0 2, 0.2 2, 0.2 1.2, 1 1.2, 1 1, 0 1, 0 2)), ((2 2, 3 2, 3 ...>"
            ]
          },
          "execution_count": 32,
          "metadata": {},
          "output_type": "execute_result"
        }
      ],
      "source": [
        "diff = union.convex_hull.difference(union)\n",
        "diff"
      ]
    },
    {
      "cell_type": "code",
      "execution_count": 35,
      "metadata": {},
      "outputs": [
        {
          "data": {
            "text/plain": [
              "2"
            ]
          },
          "execution_count": 35,
          "metadata": {},
          "output_type": "execute_result"
        }
      ],
      "source": [
        "tree = STRtree(diff.geoms)\n",
        "len(tree.geometries)\n"
      ]
    },
    {
      "cell_type": "code",
      "execution_count": 13,
      "metadata": {},
      "outputs": [
        {
          "data": {
            "text/plain": [
              "True"
            ]
          },
          "execution_count": 13,
          "metadata": {},
          "output_type": "execute_result"
        }
      ],
      "source": [
        "isinstance(diff, Polygon)"
      ]
    },
    {
      "cell_type": "markdown",
      "metadata": {},
      "source": []
    }
  ],
  "metadata": {
    "kernelspec": {
      "display_name": "Python 3",
      "language": "python",
      "name": "python3"
    },
    "language_info": {
      "codemirror_mode": {
        "name": "ipython",
        "version": 3
      },
      "file_extension": ".py",
      "mimetype": "text/x-python",
      "name": "python",
      "nbconvert_exporter": "python",
      "pygments_lexer": "ipython3",
      "version": "3.10.14"
    }
  },
  "nbformat": 4,
  "nbformat_minor": 2
}
