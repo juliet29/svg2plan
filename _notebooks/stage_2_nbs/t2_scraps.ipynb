{
  "cells": [
    {
      "cell_type": "code",
      "execution_count": 1,
      "metadata": {},
      "outputs": [],
      "source": [
        "%load_ext autoreload\n",
        "%autoreload 2"
      ]
    },
    {
      "cell_type": "code",
      "execution_count": 2,
      "metadata": {},
      "outputs": [],
      "source": [
        "from __init__ import *\n",
        "import numpy as np\n",
        "from export.saver import read_pickle\n",
        "from helpers.layout import Layout\n",
        "from helpers.graph_helpers import *\n",
        "from helpers.helpers import sort_and_group_objects\n",
        "from typing import Dict\n",
        "from domains.domain import Domain\n",
        "from helpers.directions import get_axis, get_opposite_axis, Direction\n",
        "from placement2.arrange import *\n",
        "from placement2.place import *\n",
        "from copy import copy, deepcopy\n",
        "from icecream import ic\n",
        "from visuals.plotter import plot_general\n",
        "from itertools import product\n"
      ]
    },
    {
      "cell_type": "code",
      "execution_count": 3,
      "metadata": {},
      "outputs": [],
      "source": [
        "layout: Layout = read_pickle(\"1001_amber_c_ag\")\n",
        "G = layout.graph\n",
        "domains = layout.domains"
      ]
    },
    {
      "cell_type": "code",
      "execution_count": 5,
      "metadata": {},
      "outputs": [
        {
          "name": "stdout",
          "output_type": "stream",
          "text": [
            "arrange> NORTH EAST node added when processing 2: ['corridor']\n",
            "arrange> NORTH EAST node added when processing 3: ['corridor']\n"
          ]
        },
        {
          "data": {
            "text/plain": [
              "Layout(shapes={'m_bed': <POLYGON ((2.13 -2.45, 2.13 0, 0 0, 0 -2.45, 2.13 -2.45))>, 'bed1': <POLYGON ((3.94 -2.45, 3.94 0, 2.13 0, 2.13 -2.45, 3.94 -2.45))>, 'm_closet': <POLYGON ((1.47 -3.33, 1.47 -2.45, 0 -2.45, 0 -3.33, 1.47 -3.33))>, 'transit': <POLYGON ((2.62 -3.41, 2.62 -2.45, 1.47 -2.45, 1.47 -3.41, 2.62 -3.41))>, 'bed1_closet': <POLYGON ((3.77 -2.82, 3.77 -2.45, 2.62 -2.45, 2.62 -2.82, 3.77 -2.82))>, 'm_bath': <POLYGON ((1.61 -4.57, 1.61 -3.33, 0 -3.33, 0 -4.57, 1.61 -4.57))>, 'corridor': <POLYGON ((2.06 -6.12, 2.06 -3.41, 1.61 -3.41, 1.61 -6.12, 2.06 -6.12))>, 'linen': <POLYGON ((2.63 -3.21, 2.63 -2.82, 2.06 -2.82, 2.06 -3.21, 2.63 -3.21))>, 'laundry': <POLYGON ((3.78 -3.91, 3.78 -2.82, 2.63 -2.82, 2.63 -3.91, 3.78 -3.91))>, 'bath': <POLYGON ((1.58 -5.5, 1.58 -4.57, 0 -4.57, 0 -5.5, 1.58 -5.5))>, 'den': <POLYGON ((3.39 -5.26, 3.39 -3.21, 1.58 -3.21, 1.58 -5.26, 3.39 -5.26))>, 'kitchen': <POLYGON ((1.47 -8.17, 1.47 -5.5, 0 -5.5, 0 -8.17, 1.47 -8.17))>, 'dining': <POLYGON ((3.01 -8.1, 3.01 -5.5, 1.47 -5.5, 1.47 -8.1, 3.01 -8.1))>, 'den_closet': <POLYGON ((3.81 -5.62, 3.81 -5.26, 3.01 -5.26, 3.01 -5.62, 3.81 -5.62))>, 'living': <POLYGON ((3.16 -10.59, 3.16 -8.17, 0 -8.17, 0 -10.59, 3.16 -10.59))>}, domains={'m_bed': Domain(m_bed, x=[0.00-2.13], y=[-2.45-0.00]), 'bed1': Domain(bed1, x=[2.13-3.94], y=[-2.45-0.00]), 'm_closet': Domain(m_closet, x=[0.00-1.47], y=[-3.33--2.45]), 'transit': Domain(transit, x=[1.47-2.62], y=[-3.41--2.45]), 'bed1_closet': Domain(bed1_closet, x=[2.62-3.77], y=[-2.82--2.45]), 'm_bath': Domain(m_bath, x=[0.00-1.61], y=[-4.57--3.33]), 'corridor': Domain(corridor, x=[1.61-2.06], y=[-6.12--3.41]), 'linen': Domain(linen, x=[2.06-2.63], y=[-3.21--2.82]), 'laundry': Domain(laundry, x=[2.63-3.78], y=[-3.91--2.82]), 'bath': Domain(bath, x=[0.00-1.58], y=[-5.50--4.57]), 'den': Domain(den, x=[1.58-3.39], y=[-5.26--3.21]), 'kitchen': Domain(kitchen, x=[0.00-1.47], y=[-8.17--5.50]), 'dining': Domain(dining, x=[1.47-3.01], y=[-8.10--5.50]), 'den_closet': Domain(den_closet, x=[3.01-3.81], y=[-5.62--5.26]), 'living': Domain(living, x=[0.00-3.16], y=[-10.59--8.17])}, graph=<networkx.classes.graph.Graph object at 0x10add1d80>)"
            ]
          },
          "execution_count": 5,
          "metadata": {},
          "output_type": "execute_result"
        }
      ],
      "source": [
        "create_placement_and_update_layout(layout)"
      ]
    },
    {
      "cell_type": "code",
      "execution_count": 5,
      "metadata": {},
      "outputs": [
        {
          "name": "stdout",
          "output_type": "stream",
          "text": [
            "arrange> NORTH EAST node added when processing 2: ['corridor']\n",
            "arrange> NORTH EAST node added when processing 3: ['corridor']\n"
          ]
        },
        {
          "data": {
            "text/plain": [
              "array([['m_bed', 'bed1', '', ''],\n",
              "       ['m_closet', 'transit', 'bed1_closet', ''],\n",
              "       ['m_bath', 'corridor', 'linen', 'laundry'],\n",
              "       ['bath', 'corridor', 'den', ''],\n",
              "       ['kitchen', 'dining', 'den_closet', ''],\n",
              "       ['living', '', '', '']], dtype=object)"
            ]
          },
          "execution_count": 5,
          "metadata": {},
          "output_type": "execute_result"
        }
      ],
      "source": [
        "arr = create_placement(layout)\n",
        "arr"
      ]
    },
    {
      "cell_type": "code",
      "execution_count": 6,
      "metadata": {},
      "outputs": [
        {
          "data": {
            "text/plain": [
              "array([['m_bed', 'bed1', '', ''],\n",
              "       ['m_closet', 'transit', 'bed1_closet', ''],\n",
              "       ['m_bath', 'corridor', 'linen', 'laundry'],\n",
              "       ['bath', '', 'den', ''],\n",
              "       ['kitchen', 'dining', 'den_closet', ''],\n",
              "       ['living', '', '', '']], dtype=object)"
            ]
          },
          "execution_count": 6,
          "metadata": {},
          "output_type": "execute_result"
        }
      ],
      "source": [
        "arr = remove_repeat_nodes(arr)\n",
        "arr"
      ]
    },
    {
      "cell_type": "code",
      "execution_count": 7,
      "metadata": {},
      "outputs": [
        {
          "data": {
            "text/plain": [
              "array([[Domain(m_bed, x=[0.11-2.24], y=[8.87-11.32]),\n",
              "        Domain(bed1, x=[2.37-4.18], y=[8.87-11.32]), None, None],\n",
              "       [Domain(m_closet, x=[0.11-1.58], y=[7.94-8.82]),\n",
              "        Domain(transit, x=[1.79-2.94], y=[7.83-8.79]),\n",
              "        Domain(bed1_closet, x=[3.03-4.18], y=[8.42-8.79]), None],\n",
              "       [Domain(m_bath, x=[0.00-1.61], y=[6.49-7.73]),\n",
              "        Domain(corridor, x=[1.79-2.24], y=[5.02-7.73]),\n",
              "        Domain(linen, x=[2.37-2.94], y=[7.25-7.64]),\n",
              "        Domain(laundry, x=[3.03-4.18], y=[7.25-8.34])],\n",
              "       [Domain(bath, x=[0.03-1.61], y=[5.43-6.36]), None,\n",
              "        Domain(den, x=[2.37-4.18], y=[5.12-7.17]), None],\n",
              "       [Domain(kitchen, x=[0.11-1.58], y=[2.60-5.27]),\n",
              "        Domain(dining, x=[1.73-3.27], y=[2.42-5.02]),\n",
              "        Domain(den_closet, x=[3.38-4.18], y=[4.66-5.02]), None],\n",
              "       [Domain(living, x=[0.11-3.27], y=[0.00-2.42]), None, None, None]],\n",
              "      dtype=object)"
            ]
          },
          "execution_count": 7,
          "metadata": {},
          "output_type": "execute_result"
        }
      ],
      "source": [
        "darr = create_domains_arr(arr, domains)\n",
        "darr"
      ]
    },
    {
      "cell_type": "code",
      "execution_count": 16,
      "metadata": {},
      "outputs": [
        {
          "data": {
            "text/plain": [
              "Domain(linen, x=[2.37-2.94], y=[7.25-7.64])"
            ]
          },
          "execution_count": 16,
          "metadata": {},
          "output_type": "execute_result"
        }
      ],
      "source": [
        "get_north_node(darr, np.s_[3,2])"
      ]
    },
    {
      "cell_type": "code",
      "execution_count": 13,
      "metadata": {},
      "outputs": [
        {
          "name": "stdout",
          "output_type": "stream",
          "text": [
            "first row, init col\n",
            "first row, next col\n",
            "next row, init col\n",
            "next row, next col\n",
            "next row, next col\n",
            "next row, init col\n",
            "next row, next col\n",
            "next row, next col\n",
            "next row, next col\n",
            "next row, init col\n",
            "next row, next col\n",
            "next row, init col\n",
            "next row, next col\n",
            "next row, next col\n",
            "next row, init col\n"
          ]
        },
        {
          "data": {
            "text/plain": [
              "array([[Domain(m_bed, x=[0.00-2.13], y=[-2.45-0.00]),\n",
              "        Domain(bed1, x=[2.13-3.94], y=[-2.45-0.00]), None, None],\n",
              "       [Domain(m_closet, x=[0.00-1.47], y=[-3.33--2.45]),\n",
              "        Domain(transit, x=[1.47-2.62], y=[-3.41--2.45]),\n",
              "        Domain(bed1_closet, x=[2.62-3.77], y=[-2.82--2.45]), None],\n",
              "       [Domain(m_bath, x=[0.00-1.61], y=[-4.57--3.33]),\n",
              "        Domain(corridor, x=[1.61-2.06], y=[-6.12--3.41]),\n",
              "        Domain(linen, x=[2.06-2.63], y=[-3.21--2.82]),\n",
              "        Domain(laundry, x=[2.63-3.78], y=[-3.91--2.82])],\n",
              "       [Domain(bath, x=[0.00-1.58], y=[-5.50--4.57]), None,\n",
              "        Domain(den, x=[1.58-3.39], y=[-5.26--3.21]), None],\n",
              "       [Domain(kitchen, x=[0.00-1.47], y=[-8.17--5.50]),\n",
              "        Domain(dining, x=[1.47-3.01], y=[-8.10--5.50]),\n",
              "        Domain(den_closet, x=[3.01-3.81], y=[-5.62--5.26]), None],\n",
              "       [Domain(living, x=[0.00-3.16], y=[-10.59--8.17]), None, None,\n",
              "        None]], dtype=object)"
            ]
          },
          "execution_count": 13,
          "metadata": {},
          "output_type": "execute_result"
        }
      ],
      "source": [
        "darr1 = place_nodes(darr)\n",
        "darr1"
      ]
    },
    {
      "cell_type": "code",
      "execution_count": 14,
      "metadata": {},
      "outputs": [
        {
          "data": {
            "text/plain": [
              "{'m_bed': Domain(m_bed, x=[0.00-2.13], y=[-2.45-0.00]),\n",
              " 'bed1': Domain(bed1, x=[2.13-3.94], y=[-2.45-0.00]),\n",
              " 'm_closet': Domain(m_closet, x=[0.00-1.47], y=[-3.33--2.45]),\n",
              " 'transit': Domain(transit, x=[1.47-2.62], y=[-3.41--2.45]),\n",
              " 'bed1_closet': Domain(bed1_closet, x=[2.62-3.77], y=[-2.82--2.45]),\n",
              " 'm_bath': Domain(m_bath, x=[0.00-1.61], y=[-4.57--3.33]),\n",
              " 'corridor': Domain(corridor, x=[1.61-2.06], y=[-6.12--3.41]),\n",
              " 'linen': Domain(linen, x=[2.06-2.63], y=[-3.21--2.82]),\n",
              " 'laundry': Domain(laundry, x=[2.63-3.78], y=[-3.91--2.82]),\n",
              " 'bath': Domain(bath, x=[0.00-1.58], y=[-5.50--4.57]),\n",
              " 'den': Domain(den, x=[1.58-3.39], y=[-5.26--3.21]),\n",
              " 'kitchen': Domain(kitchen, x=[0.00-1.47], y=[-8.17--5.50]),\n",
              " 'dining': Domain(dining, x=[1.47-3.01], y=[-8.10--5.50]),\n",
              " 'den_closet': Domain(den_closet, x=[3.01-3.81], y=[-5.62--5.26]),\n",
              " 'living': Domain(living, x=[0.00-3.16], y=[-10.59--8.17])}"
            ]
          },
          "execution_count": 14,
          "metadata": {},
          "output_type": "execute_result"
        }
      ],
      "source": [
        "new_domains = create_new_domains(darr1)\n",
        "new_domains\n",
        "# have to be prescriptive about how overwrite corridor"
      ]
    },
    {
      "cell_type": "code",
      "execution_count": 15,
      "metadata": {},
      "outputs": [
        {
          "data": {
            "application/vnd.plotly.v1+json": {
              "config": {
                "plotlyServerURL": "https://plotly.com"
              },
              "data": [],
              "layout": {
                "autosize": false,
                "height": 480,
                "margin": {
                  "b": 50,
                  "l": 50,
                  "pad": 4,
                  "r": 50,
                  "t": 50
                },
                "shapes": [
                  {
                    "fillcolor": "rgb(48, 18, 59)",
                    "label": {
                      "text": "m_bed"
                    },
                    "opacity": 0.5,
                    "type": "rect",
                    "x0": 0,
                    "x1": 2.13,
                    "xref": "x",
                    "y0": -2.45,
                    "y1": 0,
                    "yref": "y"
                  },
                  {
                    "fillcolor": "rgb(65, 69, 171)",
                    "label": {
                      "text": "bed1"
                    },
                    "opacity": 0.5,
                    "type": "rect",
                    "x0": 2.13,
                    "x1": 3.94,
                    "xref": "x",
                    "y0": -2.45,
                    "y1": 0,
                    "yref": "y"
                  },
                  {
                    "fillcolor": "rgb(70, 117, 237)",
                    "label": {
                      "text": "m_closet"
                    },
                    "opacity": 0.5,
                    "type": "rect",
                    "x0": 0,
                    "x1": 1.47,
                    "xref": "x",
                    "y0": -3.33,
                    "y1": -2.45,
                    "yref": "y"
                  },
                  {
                    "fillcolor": "rgb(57, 162, 252)",
                    "label": {
                      "text": "transit"
                    },
                    "opacity": 0.5,
                    "type": "rect",
                    "x0": 1.47,
                    "x1": 2.62,
                    "xref": "x",
                    "y0": -3.41,
                    "y1": -2.45,
                    "yref": "y"
                  },
                  {
                    "fillcolor": "rgb(27, 207, 212)",
                    "label": {
                      "text": "bed1_closet"
                    },
                    "opacity": 0.5,
                    "type": "rect",
                    "x0": 2.62,
                    "x1": 3.77,
                    "xref": "x",
                    "y0": -2.82,
                    "y1": -2.45,
                    "yref": "y"
                  },
                  {
                    "fillcolor": "rgb(36, 236, 166)",
                    "label": {
                      "text": "m_bath"
                    },
                    "opacity": 0.5,
                    "type": "rect",
                    "x0": 0,
                    "x1": 1.61,
                    "xref": "x",
                    "y0": -4.57,
                    "y1": -3.33,
                    "yref": "y"
                  },
                  {
                    "fillcolor": "rgb(97, 252, 108)",
                    "label": {
                      "text": "corridor"
                    },
                    "opacity": 0.5,
                    "type": "rect",
                    "x0": 1.61,
                    "x1": 2.06,
                    "xref": "x",
                    "y0": -6.12,
                    "y1": -3.41,
                    "yref": "y"
                  },
                  {
                    "fillcolor": "rgb(164, 252, 59)",
                    "label": {
                      "text": "linen"
                    },
                    "opacity": 0.5,
                    "type": "rect",
                    "x0": 2.06,
                    "x1": 2.63,
                    "xref": "x",
                    "y0": -3.21,
                    "y1": -2.82,
                    "yref": "y"
                  },
                  {
                    "fillcolor": "rgb(209, 232, 52)",
                    "label": {
                      "text": "laundry"
                    },
                    "opacity": 0.5,
                    "type": "rect",
                    "x0": 2.63,
                    "x1": 3.78,
                    "xref": "x",
                    "y0": -3.91,
                    "y1": -2.82,
                    "yref": "y"
                  },
                  {
                    "fillcolor": "rgb(243, 198, 58)",
                    "label": {
                      "text": "bath"
                    },
                    "opacity": 0.5,
                    "type": "rect",
                    "x0": 0,
                    "x1": 1.58,
                    "xref": "x",
                    "y0": -5.5,
                    "y1": -4.57,
                    "yref": "y"
                  },
                  {
                    "fillcolor": "rgb(254, 155, 45)",
                    "label": {
                      "text": "den"
                    },
                    "opacity": 0.5,
                    "type": "rect",
                    "x0": 1.58,
                    "x1": 3.39,
                    "xref": "x",
                    "y0": -5.26,
                    "y1": -3.21,
                    "yref": "y"
                  },
                  {
                    "fillcolor": "rgb(243, 99, 21)",
                    "label": {
                      "text": "kitchen"
                    },
                    "opacity": 0.5,
                    "type": "rect",
                    "x0": 0,
                    "x1": 1.47,
                    "xref": "x",
                    "y0": -8.17,
                    "y1": -5.5,
                    "yref": "y"
                  },
                  {
                    "fillcolor": "rgb(217, 56, 6)",
                    "label": {
                      "text": "dining"
                    },
                    "opacity": 0.5,
                    "type": "rect",
                    "x0": 1.47,
                    "x1": 3.01,
                    "xref": "x",
                    "y0": -8.1,
                    "y1": -5.5,
                    "yref": "y"
                  },
                  {
                    "fillcolor": "rgb(177, 25, 1)",
                    "label": {
                      "text": "den_closet"
                    },
                    "opacity": 0.5,
                    "type": "rect",
                    "x0": 3.01,
                    "x1": 3.81,
                    "xref": "x",
                    "y0": -5.62,
                    "y1": -5.26,
                    "yref": "y"
                  },
                  {
                    "fillcolor": "rgb(122, 4, 2)",
                    "label": {
                      "text": "living"
                    },
                    "opacity": 0.5,
                    "type": "rect",
                    "x0": 0,
                    "x1": 3.16,
                    "xref": "x",
                    "y0": -10.59,
                    "y1": -8.17,
                    "yref": "y"
                  }
                ],
                "template": {
                  "data": {
                    "bar": [
                      {
                        "error_x": {
                          "color": "#2a3f5f"
                        },
                        "error_y": {
                          "color": "#2a3f5f"
                        },
                        "marker": {
                          "line": {
                            "color": "#E5ECF6",
                            "width": 0.5
                          },
                          "pattern": {
                            "fillmode": "overlay",
                            "size": 10,
                            "solidity": 0.2
                          }
                        },
                        "type": "bar"
                      }
                    ],
                    "barpolar": [
                      {
                        "marker": {
                          "line": {
                            "color": "#E5ECF6",
                            "width": 0.5
                          },
                          "pattern": {
                            "fillmode": "overlay",
                            "size": 10,
                            "solidity": 0.2
                          }
                        },
                        "type": "barpolar"
                      }
                    ],
                    "carpet": [
                      {
                        "aaxis": {
                          "endlinecolor": "#2a3f5f",
                          "gridcolor": "white",
                          "linecolor": "white",
                          "minorgridcolor": "white",
                          "startlinecolor": "#2a3f5f"
                        },
                        "baxis": {
                          "endlinecolor": "#2a3f5f",
                          "gridcolor": "white",
                          "linecolor": "white",
                          "minorgridcolor": "white",
                          "startlinecolor": "#2a3f5f"
                        },
                        "type": "carpet"
                      }
                    ],
                    "choropleth": [
                      {
                        "colorbar": {
                          "outlinewidth": 0,
                          "ticks": ""
                        },
                        "type": "choropleth"
                      }
                    ],
                    "contour": [
                      {
                        "colorbar": {
                          "outlinewidth": 0,
                          "ticks": ""
                        },
                        "colorscale": [
                          [
                            0,
                            "#0d0887"
                          ],
                          [
                            0.1111111111111111,
                            "#46039f"
                          ],
                          [
                            0.2222222222222222,
                            "#7201a8"
                          ],
                          [
                            0.3333333333333333,
                            "#9c179e"
                          ],
                          [
                            0.4444444444444444,
                            "#bd3786"
                          ],
                          [
                            0.5555555555555556,
                            "#d8576b"
                          ],
                          [
                            0.6666666666666666,
                            "#ed7953"
                          ],
                          [
                            0.7777777777777778,
                            "#fb9f3a"
                          ],
                          [
                            0.8888888888888888,
                            "#fdca26"
                          ],
                          [
                            1,
                            "#f0f921"
                          ]
                        ],
                        "type": "contour"
                      }
                    ],
                    "contourcarpet": [
                      {
                        "colorbar": {
                          "outlinewidth": 0,
                          "ticks": ""
                        },
                        "type": "contourcarpet"
                      }
                    ],
                    "heatmap": [
                      {
                        "colorbar": {
                          "outlinewidth": 0,
                          "ticks": ""
                        },
                        "colorscale": [
                          [
                            0,
                            "#0d0887"
                          ],
                          [
                            0.1111111111111111,
                            "#46039f"
                          ],
                          [
                            0.2222222222222222,
                            "#7201a8"
                          ],
                          [
                            0.3333333333333333,
                            "#9c179e"
                          ],
                          [
                            0.4444444444444444,
                            "#bd3786"
                          ],
                          [
                            0.5555555555555556,
                            "#d8576b"
                          ],
                          [
                            0.6666666666666666,
                            "#ed7953"
                          ],
                          [
                            0.7777777777777778,
                            "#fb9f3a"
                          ],
                          [
                            0.8888888888888888,
                            "#fdca26"
                          ],
                          [
                            1,
                            "#f0f921"
                          ]
                        ],
                        "type": "heatmap"
                      }
                    ],
                    "heatmapgl": [
                      {
                        "colorbar": {
                          "outlinewidth": 0,
                          "ticks": ""
                        },
                        "colorscale": [
                          [
                            0,
                            "#0d0887"
                          ],
                          [
                            0.1111111111111111,
                            "#46039f"
                          ],
                          [
                            0.2222222222222222,
                            "#7201a8"
                          ],
                          [
                            0.3333333333333333,
                            "#9c179e"
                          ],
                          [
                            0.4444444444444444,
                            "#bd3786"
                          ],
                          [
                            0.5555555555555556,
                            "#d8576b"
                          ],
                          [
                            0.6666666666666666,
                            "#ed7953"
                          ],
                          [
                            0.7777777777777778,
                            "#fb9f3a"
                          ],
                          [
                            0.8888888888888888,
                            "#fdca26"
                          ],
                          [
                            1,
                            "#f0f921"
                          ]
                        ],
                        "type": "heatmapgl"
                      }
                    ],
                    "histogram": [
                      {
                        "marker": {
                          "pattern": {
                            "fillmode": "overlay",
                            "size": 10,
                            "solidity": 0.2
                          }
                        },
                        "type": "histogram"
                      }
                    ],
                    "histogram2d": [
                      {
                        "colorbar": {
                          "outlinewidth": 0,
                          "ticks": ""
                        },
                        "colorscale": [
                          [
                            0,
                            "#0d0887"
                          ],
                          [
                            0.1111111111111111,
                            "#46039f"
                          ],
                          [
                            0.2222222222222222,
                            "#7201a8"
                          ],
                          [
                            0.3333333333333333,
                            "#9c179e"
                          ],
                          [
                            0.4444444444444444,
                            "#bd3786"
                          ],
                          [
                            0.5555555555555556,
                            "#d8576b"
                          ],
                          [
                            0.6666666666666666,
                            "#ed7953"
                          ],
                          [
                            0.7777777777777778,
                            "#fb9f3a"
                          ],
                          [
                            0.8888888888888888,
                            "#fdca26"
                          ],
                          [
                            1,
                            "#f0f921"
                          ]
                        ],
                        "type": "histogram2d"
                      }
                    ],
                    "histogram2dcontour": [
                      {
                        "colorbar": {
                          "outlinewidth": 0,
                          "ticks": ""
                        },
                        "colorscale": [
                          [
                            0,
                            "#0d0887"
                          ],
                          [
                            0.1111111111111111,
                            "#46039f"
                          ],
                          [
                            0.2222222222222222,
                            "#7201a8"
                          ],
                          [
                            0.3333333333333333,
                            "#9c179e"
                          ],
                          [
                            0.4444444444444444,
                            "#bd3786"
                          ],
                          [
                            0.5555555555555556,
                            "#d8576b"
                          ],
                          [
                            0.6666666666666666,
                            "#ed7953"
                          ],
                          [
                            0.7777777777777778,
                            "#fb9f3a"
                          ],
                          [
                            0.8888888888888888,
                            "#fdca26"
                          ],
                          [
                            1,
                            "#f0f921"
                          ]
                        ],
                        "type": "histogram2dcontour"
                      }
                    ],
                    "mesh3d": [
                      {
                        "colorbar": {
                          "outlinewidth": 0,
                          "ticks": ""
                        },
                        "type": "mesh3d"
                      }
                    ],
                    "parcoords": [
                      {
                        "line": {
                          "colorbar": {
                            "outlinewidth": 0,
                            "ticks": ""
                          }
                        },
                        "type": "parcoords"
                      }
                    ],
                    "pie": [
                      {
                        "automargin": true,
                        "type": "pie"
                      }
                    ],
                    "scatter": [
                      {
                        "fillpattern": {
                          "fillmode": "overlay",
                          "size": 10,
                          "solidity": 0.2
                        },
                        "type": "scatter"
                      }
                    ],
                    "scatter3d": [
                      {
                        "line": {
                          "colorbar": {
                            "outlinewidth": 0,
                            "ticks": ""
                          }
                        },
                        "marker": {
                          "colorbar": {
                            "outlinewidth": 0,
                            "ticks": ""
                          }
                        },
                        "type": "scatter3d"
                      }
                    ],
                    "scattercarpet": [
                      {
                        "marker": {
                          "colorbar": {
                            "outlinewidth": 0,
                            "ticks": ""
                          }
                        },
                        "type": "scattercarpet"
                      }
                    ],
                    "scattergeo": [
                      {
                        "marker": {
                          "colorbar": {
                            "outlinewidth": 0,
                            "ticks": ""
                          }
                        },
                        "type": "scattergeo"
                      }
                    ],
                    "scattergl": [
                      {
                        "marker": {
                          "colorbar": {
                            "outlinewidth": 0,
                            "ticks": ""
                          }
                        },
                        "type": "scattergl"
                      }
                    ],
                    "scattermapbox": [
                      {
                        "marker": {
                          "colorbar": {
                            "outlinewidth": 0,
                            "ticks": ""
                          }
                        },
                        "type": "scattermapbox"
                      }
                    ],
                    "scatterpolar": [
                      {
                        "marker": {
                          "colorbar": {
                            "outlinewidth": 0,
                            "ticks": ""
                          }
                        },
                        "type": "scatterpolar"
                      }
                    ],
                    "scatterpolargl": [
                      {
                        "marker": {
                          "colorbar": {
                            "outlinewidth": 0,
                            "ticks": ""
                          }
                        },
                        "type": "scatterpolargl"
                      }
                    ],
                    "scatterternary": [
                      {
                        "marker": {
                          "colorbar": {
                            "outlinewidth": 0,
                            "ticks": ""
                          }
                        },
                        "type": "scatterternary"
                      }
                    ],
                    "surface": [
                      {
                        "colorbar": {
                          "outlinewidth": 0,
                          "ticks": ""
                        },
                        "colorscale": [
                          [
                            0,
                            "#0d0887"
                          ],
                          [
                            0.1111111111111111,
                            "#46039f"
                          ],
                          [
                            0.2222222222222222,
                            "#7201a8"
                          ],
                          [
                            0.3333333333333333,
                            "#9c179e"
                          ],
                          [
                            0.4444444444444444,
                            "#bd3786"
                          ],
                          [
                            0.5555555555555556,
                            "#d8576b"
                          ],
                          [
                            0.6666666666666666,
                            "#ed7953"
                          ],
                          [
                            0.7777777777777778,
                            "#fb9f3a"
                          ],
                          [
                            0.8888888888888888,
                            "#fdca26"
                          ],
                          [
                            1,
                            "#f0f921"
                          ]
                        ],
                        "type": "surface"
                      }
                    ],
                    "table": [
                      {
                        "cells": {
                          "fill": {
                            "color": "#EBF0F8"
                          },
                          "line": {
                            "color": "white"
                          }
                        },
                        "header": {
                          "fill": {
                            "color": "#C8D4E3"
                          },
                          "line": {
                            "color": "white"
                          }
                        },
                        "type": "table"
                      }
                    ]
                  },
                  "layout": {
                    "annotationdefaults": {
                      "arrowcolor": "#2a3f5f",
                      "arrowhead": 0,
                      "arrowwidth": 1
                    },
                    "autotypenumbers": "strict",
                    "coloraxis": {
                      "colorbar": {
                        "outlinewidth": 0,
                        "ticks": ""
                      }
                    },
                    "colorscale": {
                      "diverging": [
                        [
                          0,
                          "#8e0152"
                        ],
                        [
                          0.1,
                          "#c51b7d"
                        ],
                        [
                          0.2,
                          "#de77ae"
                        ],
                        [
                          0.3,
                          "#f1b6da"
                        ],
                        [
                          0.4,
                          "#fde0ef"
                        ],
                        [
                          0.5,
                          "#f7f7f7"
                        ],
                        [
                          0.6,
                          "#e6f5d0"
                        ],
                        [
                          0.7,
                          "#b8e186"
                        ],
                        [
                          0.8,
                          "#7fbc41"
                        ],
                        [
                          0.9,
                          "#4d9221"
                        ],
                        [
                          1,
                          "#276419"
                        ]
                      ],
                      "sequential": [
                        [
                          0,
                          "#0d0887"
                        ],
                        [
                          0.1111111111111111,
                          "#46039f"
                        ],
                        [
                          0.2222222222222222,
                          "#7201a8"
                        ],
                        [
                          0.3333333333333333,
                          "#9c179e"
                        ],
                        [
                          0.4444444444444444,
                          "#bd3786"
                        ],
                        [
                          0.5555555555555556,
                          "#d8576b"
                        ],
                        [
                          0.6666666666666666,
                          "#ed7953"
                        ],
                        [
                          0.7777777777777778,
                          "#fb9f3a"
                        ],
                        [
                          0.8888888888888888,
                          "#fdca26"
                        ],
                        [
                          1,
                          "#f0f921"
                        ]
                      ],
                      "sequentialminus": [
                        [
                          0,
                          "#0d0887"
                        ],
                        [
                          0.1111111111111111,
                          "#46039f"
                        ],
                        [
                          0.2222222222222222,
                          "#7201a8"
                        ],
                        [
                          0.3333333333333333,
                          "#9c179e"
                        ],
                        [
                          0.4444444444444444,
                          "#bd3786"
                        ],
                        [
                          0.5555555555555556,
                          "#d8576b"
                        ],
                        [
                          0.6666666666666666,
                          "#ed7953"
                        ],
                        [
                          0.7777777777777778,
                          "#fb9f3a"
                        ],
                        [
                          0.8888888888888888,
                          "#fdca26"
                        ],
                        [
                          1,
                          "#f0f921"
                        ]
                      ]
                    },
                    "colorway": [
                      "#636efa",
                      "#EF553B",
                      "#00cc96",
                      "#ab63fa",
                      "#FFA15A",
                      "#19d3f3",
                      "#FF6692",
                      "#B6E880",
                      "#FF97FF",
                      "#FECB52"
                    ],
                    "font": {
                      "color": "#2a3f5f"
                    },
                    "geo": {
                      "bgcolor": "white",
                      "lakecolor": "white",
                      "landcolor": "#E5ECF6",
                      "showlakes": true,
                      "showland": true,
                      "subunitcolor": "white"
                    },
                    "hoverlabel": {
                      "align": "left"
                    },
                    "hovermode": "closest",
                    "mapbox": {
                      "style": "light"
                    },
                    "paper_bgcolor": "white",
                    "plot_bgcolor": "#E5ECF6",
                    "polar": {
                      "angularaxis": {
                        "gridcolor": "white",
                        "linecolor": "white",
                        "ticks": ""
                      },
                      "bgcolor": "#E5ECF6",
                      "radialaxis": {
                        "gridcolor": "white",
                        "linecolor": "white",
                        "ticks": ""
                      }
                    },
                    "scene": {
                      "xaxis": {
                        "backgroundcolor": "#E5ECF6",
                        "gridcolor": "white",
                        "gridwidth": 2,
                        "linecolor": "white",
                        "showbackground": true,
                        "ticks": "",
                        "zerolinecolor": "white"
                      },
                      "yaxis": {
                        "backgroundcolor": "#E5ECF6",
                        "gridcolor": "white",
                        "gridwidth": 2,
                        "linecolor": "white",
                        "showbackground": true,
                        "ticks": "",
                        "zerolinecolor": "white"
                      },
                      "zaxis": {
                        "backgroundcolor": "#E5ECF6",
                        "gridcolor": "white",
                        "gridwidth": 2,
                        "linecolor": "white",
                        "showbackground": true,
                        "ticks": "",
                        "zerolinecolor": "white"
                      }
                    },
                    "shapedefaults": {
                      "line": {
                        "color": "#2a3f5f"
                      }
                    },
                    "ternary": {
                      "aaxis": {
                        "gridcolor": "white",
                        "linecolor": "white",
                        "ticks": ""
                      },
                      "baxis": {
                        "gridcolor": "white",
                        "linecolor": "white",
                        "ticks": ""
                      },
                      "bgcolor": "#E5ECF6",
                      "caxis": {
                        "gridcolor": "white",
                        "linecolor": "white",
                        "ticks": ""
                      }
                    },
                    "title": {
                      "x": 0.05
                    },
                    "xaxis": {
                      "automargin": true,
                      "gridcolor": "white",
                      "linecolor": "white",
                      "ticks": "",
                      "title": {
                        "standoff": 15
                      },
                      "zerolinecolor": "white",
                      "zerolinewidth": 2
                    },
                    "yaxis": {
                      "automargin": true,
                      "gridcolor": "white",
                      "linecolor": "white",
                      "ticks": "",
                      "title": {
                        "standoff": 15
                      },
                      "zerolinecolor": "white",
                      "zerolinewidth": 2
                    }
                  }
                },
                "title": {
                  "text": ""
                },
                "width": 800,
                "xaxis": {
                  "range": [
                    -1,
                    12
                  ]
                },
                "yaxis": {
                  "range": [
                    -10,
                    10
                  ]
                }
              }
            }
          },
          "metadata": {},
          "output_type": "display_data"
        }
      ],
      "source": [
        "plot_general(new_domains)"
      ]
    }
  ],
  "metadata": {
    "kernelspec": {
      "display_name": "Python 3",
      "language": "python",
      "name": "python3"
    },
    "language_info": {
      "codemirror_mode": {
        "name": "ipython",
        "version": 3
      },
      "file_extension": ".py",
      "mimetype": "text/x-python",
      "name": "python",
      "nbconvert_exporter": "python",
      "pygments_lexer": "ipython3",
      "version": "3.10.14"
    }
  },
  "nbformat": 4,
  "nbformat_minor": 2
}
