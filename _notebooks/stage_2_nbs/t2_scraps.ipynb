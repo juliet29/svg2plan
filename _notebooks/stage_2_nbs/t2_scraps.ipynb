{
  "cells": [
    {
      "cell_type": "code",
      "execution_count": null,
      "metadata": {},
      "outputs": [],
      "source": [
        "%load_ext autoreload\n",
        "%autoreload 2"
      ]
    },
    {
      "cell_type": "code",
      "execution_count": 88,
      "metadata": {},
      "outputs": [],
      "source": [
        "from __init__ import *\n",
        "from new_solutions.simple_problem import study_many_problems\n",
        "from runner.svg2plan import run_new_layout\n",
        "from new_solutions.selection import *\n",
        "from itertools import accumulate\n",
        "from operator import add \n",
        "from functools import reduce\n",
        "from visuals.plotter import plot_general\n",
        "# from unit_tests.test_solutions import *\n",
        "from typing import Literal, List\n",
        "from enum import Enum\n",
        "from collections import Counter\n",
        "from typing import TypeVar\n",
        "from typing import Any\n",
        "from domains.domain import Domain\n",
        "\n",
        "import plotly.io as pio\n",
        "pio.renderers.default = \"browser\"\n",
        "\n",
        "from fixes.problem_types.side_hole_id2 import *\n",
        "import pickle"
      ]
    },
    {
      "cell_type": "code",
      "execution_count": 53,
      "metadata": {},
      "outputs": [
        {
          "name": "stdout",
          "output_type": "stream",
          "text": [
            "executer> \n",
            " begining to execute stacking\n",
            "helloo!\n",
            "first bl to try -> node: m_bath, action: SQUEEZE, summary: Counter({'OVERLAP': 3}), # unres probs: 3\n",
            "problem this fixes -> Problem(index=2, problem_type=ProblemType.HOLE, resolved=False, nbs=['transit_space', 'laundry', 'm_bath', 'bath']\n",
            "0\n"
          ]
        }
      ],
      "source": [
        "# report = run_new_layout()\n",
        "# c = Cook(report)\n",
        "# c.run_again()\n",
        "# layout = c.bl_hist[1].layout"
      ]
    },
    {
      "cell_type": "code",
      "execution_count": 59,
      "metadata": {},
      "outputs": [],
      "source": [
        "with open('test_layout.pickle', 'rb') as handle:\n",
        "    lo = pickle.load(handle)"
      ]
    },
    {
      "cell_type": "code",
      "execution_count": 60,
      "metadata": {},
      "outputs": [
        {
          "data": {
            "text/plain": [
              "Layout(shapes={'bedroom_1': <POLYGON ((3.22 -2.8, 3.22 0, 0 0, 0 -2.8, 3.22 -2.8))>, 'kitchen': <POLYGON ((5.02 -5.77, 5.02 -3.53, 3.22 -3.53, 3.22 -5.77, 5.02 -5.77))>, 'm_bath': <POLYGON ((7.14 -1.3, 7.14 0, 5.02 0, 5.02 -1.3, 7.14 -1.3))>, 'm_bedroom': <POLYGON ((9.27 -2.74, 9.27 0, 8.38 0, 8.38 -2.74, 9.27 -2.74))>, 'm_closet': <POLYGON ((9.2 -3.34, 9.2 -2.74, 8.2 -2.74, 8.2 -3.34, 9.2 -3.34))>, 'bath': <POLYGON ((7.34 -2.53, 7.34 -1.3, 5.02 -1.3, 5.02 -2.53, 7.34 -2.53))>, 'dining': <POLYGON ((8.38 -5.68, 8.38 -2.53, 5.02 -2.53, 5.02 -5.68, 8.38 -5.68))>, 'transit_space': <POLYGON ((5.02 -3.53, 5.02 -1.75, 3.22 -1.75, 3.22 -3.53, 5.02 -3.53))>, 'closet': <POLYGON ((9.38 -5.75, 9.38 -3.34, 8.38 -3.34, 8.38 -5.75, 9.38 -5.75))>, 'bedroom_2': <POLYGON ((3.22 -5.95, 3.22 -2.8, 0 -2.8, 0 -5.95, 3.22 -5.95))>, 'laundry': <POLYGON ((4.82 -1.75, 4.82 0, 3.22 0, 3.22 -1.75, 4.82 -1.75))>}, domains={'bedroom_1': Domain(bedroom_1, x=[0.00-3.22], y=[-2.80-0.00]), 'kitchen': Domain(kitchen, x=[3.22-5.02], y=[-5.77--3.53]), 'm_bath': Domain(m_bath, x=[5.02-7.14], y=[-1.30-0.00]), 'm_bedroom': Domain(m_bedroom, x=[8.38-9.27], y=[-2.74-0.00]), 'm_closet': Domain(m_closet, x=[8.20-9.20], y=[-3.34--2.74]), 'bath': Domain(bath, x=[5.02-7.34], y=[-2.53--1.30]), 'dining': Domain(dining, x=[5.02-8.38], y=[-5.68--2.53]), 'transit_space': Domain(transit_space, x=[3.22-5.02], y=[-3.53--1.75]), 'closet': Domain(closet, x=[8.38-9.38], y=[-5.75--3.34]), 'bedroom_2': Domain(bedroom_2, x=[0.00-3.22], y=[-5.95--2.80]), 'laundry': Domain(laundry, x=[3.22-4.82], y=[-1.75-0.00])}, graph=<networkx.classes.graph.Graph object at 0x13301d000>)"
            ]
          },
          "execution_count": 60,
          "metadata": {},
          "output_type": "execute_result"
        }
      ],
      "source": [
        "lo"
      ]
    },
    {
      "cell_type": "code",
      "execution_count": null,
      "metadata": {},
      "outputs": [],
      "source": []
    },
    {
      "cell_type": "code",
      "execution_count": 98,
      "metadata": {},
      "outputs": [
        {
          "data": {
            "text/plain": [
              "[Problem(index=0, problem_type=ProblemType.SIDE_HOLE, resolved=False, nbs=['laundry', 'm_bath'],\n",
              " Problem(index=1, problem_type=ProblemType.SIDE_HOLE, resolved=False, nbs=['m_bath', 'm_bedroom']]"
            ]
          },
          "execution_count": 98,
          "metadata": {},
          "output_type": "execute_result"
        }
      ],
      "source": [
        "get_side_hole_problems(lo)"
      ]
    },
    {
      "cell_type": "code",
      "execution_count": 61,
      "metadata": {},
      "outputs": [
        {
          "data": {
            "text/plain": [
              "[(<Direction.EAST: 2>, ['m_bedroom', 'm_closet', 'closet']),\n",
              " (<Direction.NORTH: 0>, ['bedroom_1', 'm_bath', 'm_bedroom', 'laundry']),\n",
              " (<Direction.SOUTH: 1>, ['kitchen', 'dining', 'closet', 'bedroom_2']),\n",
              " (<Direction.WEST: 3>, ['bedroom_1', 'bedroom_2'])]"
            ]
          },
          "execution_count": 61,
          "metadata": {},
          "output_type": "execute_result"
        }
      ],
      "source": [
        "group_nodes_on_edge(lo.graph)"
      ]
    },
    {
      "cell_type": "code",
      "execution_count": 93,
      "metadata": {},
      "outputs": [
        {
          "data": {
            "text/plain": [
              "(Domain(laundry, x=[3.22-4.82], y=[-1.75-0.00]),\n",
              " Domain(m_bath, x=[5.02-7.14], y=[-1.30-0.00]),\n",
              " 'x')"
            ]
          },
          "execution_count": 93,
          "metadata": {},
          "output_type": "execute_result"
        }
      ],
      "source": [
        "v1, v2 = check_for_side_holes(lo)\n",
        "v1\n"
      ]
    },
    {
      "cell_type": "code",
      "execution_count": 79,
      "metadata": {},
      "outputs": [
        {
          "data": {
            "text/plain": [
              "array([<POLYGON ((5.02 0, 5.02 -1.3, 5.02 -1.75, 4.82 -1.75, 4.82 0, 5.02 0))>,\n",
              "       <POLYGON ((8.38 0, 8.38 -2.53, 7.34 -2.53, 7.34 -1.3, 7.14 -1.3, 7.14 0, 8.3...>,\n",
              "       <POLYGON ((9.38 -3.34, 9.2 -3.34, 9.2 -2.74, 9.27 -2.74, 9.27 0, 9.38 -3.34))>,\n",
              "       <POLYGON ((3.22 -5.95, 3.22 -5.77, 5.02 -5.77, 5.02 -5.68, 8.38 -5.68, 8.38 ...>],\n",
              "      dtype=object)"
            ]
          },
          "execution_count": 79,
          "metadata": {},
          "output_type": "execute_result"
        }
      ],
      "source": [
        "tree = find_geometric_holes(list(lo.shapes.values()))\n",
        "tree.geometries"
      ]
    },
    {
      "cell_type": "code",
      "execution_count": 97,
      "metadata": {},
      "outputs": [
        {
          "data": {
            "text/plain": [
              "Domain(laundry, x=[3.22-4.82], y=[-1.75-0.00])"
            ]
          },
          "execution_count": 97,
          "metadata": {},
          "output_type": "execute_result"
        }
      ],
      "source": [
        "v1[:1]\n",
        "p"
      ]
    },
    {
      "cell_type": "code",
      "execution_count": 91,
      "metadata": {},
      "outputs": [
        {
          "data": {
            "image/svg+xml": [
              "<svg xmlns=\"http://www.w3.org/2000/svg\" xmlns:xlink=\"http://www.w3.org/1999/xlink\" width=\"100.0\" height=\"100.0\" viewBox=\"7.038799999999999 -2.6311999999999998 1.442400000000002 2.7323999999999997\" preserveAspectRatio=\"xMinYMin meet\"><g transform=\"matrix(1,0,0,-1,0,-2.53)\"><path fill-rule=\"evenodd\" fill=\"#66cc99\" stroke=\"#555555\" stroke-width=\"0.054647999999999995\" opacity=\"0.6\" d=\"M 8.38,0.0 L 8.38,-2.53 L 7.34,-2.53 L 7.34,-1.3 L 7.14,-1.3 L 7.14,0.0 L 8.38,0.0 z\" /></g></svg>"
            ],
            "text/plain": [
              "<POLYGON ((8.38 0, 8.38 -2.53, 7.34 -2.53, 7.34 -1.3, 7.14 -1.3, 7.14 0, 8.3...>"
            ]
          },
          "execution_count": 91,
          "metadata": {},
          "output_type": "execute_result"
        }
      ],
      "source": [
        "match_geometry(*v2, tree)"
      ]
    },
    {
      "cell_type": "code",
      "execution_count": 83,
      "metadata": {},
      "outputs": [
        {
          "data": {
            "image/svg+xml": [
              "<svg xmlns=\"http://www.w3.org/2000/svg\" xmlns:xlink=\"http://www.w3.org/1999/xlink\" width=\"100.0\" height=\"100.0\" viewBox=\"2.9736000000000002 -6.196400000000001 6.6528 0.7628000000000013\" preserveAspectRatio=\"xMinYMin meet\"><g transform=\"matrix(1,0,0,-1,0,-11.629999999999999)\"><path fill-rule=\"evenodd\" fill=\"#66cc99\" stroke=\"#555555\" stroke-width=\"0.133056\" opacity=\"0.6\" d=\"M 3.22,-5.95 L 3.22,-5.77 L 5.02,-5.77 L 5.02,-5.68 L 8.38,-5.68 L 8.38,-5.75 L 9.38,-5.75 L 3.22,-5.95 z\" /></g></svg>"
            ],
            "text/plain": [
              "<POLYGON ((3.22 -5.95, 3.22 -5.77, 5.02 -5.77, 5.02 -5.68, 8.38 -5.68, 8.38 ...>"
            ]
          },
          "execution_count": 83,
          "metadata": {},
          "output_type": "execute_result"
        }
      ],
      "source": [
        "tree.geometries[3]"
      ]
    }
  ],
  "metadata": {
    "kernelspec": {
      "display_name": "Python 3",
      "language": "python",
      "name": "python3"
    },
    "language_info": {
      "codemirror_mode": {
        "name": "ipython",
        "version": 3
      },
      "file_extension": ".py",
      "mimetype": "text/x-python",
      "name": "python",
      "nbconvert_exporter": "python",
      "pygments_lexer": "ipython3",
      "version": "3.10.14"
    }
  },
  "nbformat": 4,
  "nbformat_minor": 2
}
