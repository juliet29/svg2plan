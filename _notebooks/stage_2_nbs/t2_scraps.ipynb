{
  "cells": [
    {
      "cell_type": "code",
      "execution_count": 1,
      "metadata": {},
      "outputs": [],
      "source": [
        "%load_ext autoreload\n",
        "%autoreload 2"
      ]
    },
    {
      "cell_type": "code",
      "execution_count": 2,
      "metadata": {},
      "outputs": [],
      "source": [
        "from __init__ import *\n",
        "import numpy as np\n",
        "from export.saver import read_pickle\n",
        "from helpers.layout import Layout\n",
        "from helpers.graph_helpers import *\n",
        "from helpers.helpers import sort_and_group_objects\n",
        "from typing import Dict\n",
        "from domains.domain import Domain\n",
        "from helpers.directions import get_axis, get_opposite_axis, Direction\n",
        "from placement2.arrange import *\n",
        "from placement2.place import *\n",
        "from copy import copy, deepcopy\n",
        "from icecream import ic\n",
        "from visuals.plotter import plot_general\n",
        "from itertools import product\n",
        "from fixes.reporter import Reporter\n",
        "from new_solutions.selection import Cook\n",
        "from domains.range import Range\n",
        "\n"
      ]
    },
    {
      "cell_type": "code",
      "execution_count": 3,
      "metadata": {},
      "outputs": [],
      "source": [
        "layout: Layout = read_pickle(\"1001_amber_c_ag\")\n",
        "G = layout.graph\n",
        "domains = layout.domains"
      ]
    },
    {
      "cell_type": "code",
      "execution_count": 4,
      "metadata": {},
      "outputs": [
        {
          "name": "stdout",
          "output_type": "stream",
          "text": [
            "arrange> NORTH EAST node added when processing 2: ['corridor']\n",
            "arrange> NORTH EAST node added when processing 3: ['corridor']\n"
          ]
        }
      ],
      "source": [
        "arr = create_arrangement(layout)\n",
        "darr = create_domains_arr(arr, layout.domains)\n",
        "darr1 = place_nodes(darr)"
      ]
    },
    {
      "cell_type": "code",
      "execution_count": 5,
      "metadata": {},
      "outputs": [
        {
          "data": {
            "text/plain": [
              "{'m_bed': Domain(m_bed, x=[0.00-2.13], y=[-2.45-0.00]),\n",
              " 'bed1': Domain(bed1, x=[2.13-3.94], y=[-2.45-0.00]),\n",
              " 'm_closet': Domain(m_closet, x=[0.00-1.47], y=[-3.33--2.45]),\n",
              " 'transit': Domain(transit, x=[1.47-2.62], y=[-3.41--2.45]),\n",
              " 'bed1_closet': Domain(bed1_closet, x=[2.62-3.77], y=[-2.82--2.45]),\n",
              " 'm_bath': Domain(m_bath, x=[0.00-1.61], y=[-4.57--3.33]),\n",
              " 'corridor': Domain(corridor, x=[1.61-2.06], y=[-6.12--3.41]),\n",
              " 'linen': Domain(linen, x=[2.06-2.63], y=[-3.80--3.41]),\n",
              " 'laundry': Domain(laundry, x=[2.63-3.78], y=[-3.91--2.82]),\n",
              " 'bath': Domain(bath, x=[0.00-1.58], y=[-5.50--4.57]),\n",
              " 'den': Domain(den, x=[2.06-3.87], y=[-5.96--3.91]),\n",
              " 'kitchen': Domain(kitchen, x=[0.00-1.47], y=[-8.17--5.50]),\n",
              " 'dining': Domain(dining, x=[1.47-3.01], y=[-8.56--5.96]),\n",
              " 'den_closet': Domain(den_closet, x=[3.01-3.81], y=[-6.32--5.96]),\n",
              " 'living': Domain(living, x=[0.00-3.16], y=[-10.59--8.17])}"
            ]
          },
          "execution_count": 5,
          "metadata": {},
          "output_type": "execute_result"
        }
      ],
      "source": [
        "doms = create_new_domains(darr1)\n",
        "doms"
      ]
    },
    {
      "cell_type": "code",
      "execution_count": 6,
      "metadata": {},
      "outputs": [
        {
          "data": {
            "application/vnd.plotly.v1+json": {
              "config": {
                "plotlyServerURL": "https://plotly.com"
              },
              "data": [],
              "layout": {
                "autosize": false,
                "height": 480,
                "margin": {
                  "b": 50,
                  "l": 50,
                  "pad": 4,
                  "r": 50,
                  "t": 50
                },
                "shapes": [
                  {
                    "fillcolor": "rgb(48, 18, 59)",
                    "label": {
                      "text": "m_bed"
                    },
                    "opacity": 0.5,
                    "type": "rect",
                    "x0": 0,
                    "x1": 2.13,
                    "xref": "x",
                    "y0": -2.45,
                    "y1": 0,
                    "yref": "y"
                  },
                  {
                    "fillcolor": "rgb(65, 69, 171)",
                    "label": {
                      "text": "bed1"
                    },
                    "opacity": 0.5,
                    "type": "rect",
                    "x0": 2.13,
                    "x1": 3.94,
                    "xref": "x",
                    "y0": -2.45,
                    "y1": 0,
                    "yref": "y"
                  },
                  {
                    "fillcolor": "rgb(70, 117, 237)",
                    "label": {
                      "text": "m_closet"
                    },
                    "opacity": 0.5,
                    "type": "rect",
                    "x0": 0,
                    "x1": 1.47,
                    "xref": "x",
                    "y0": -3.33,
                    "y1": -2.45,
                    "yref": "y"
                  },
                  {
                    "fillcolor": "rgb(57, 162, 252)",
                    "label": {
                      "text": "transit"
                    },
                    "opacity": 0.5,
                    "type": "rect",
                    "x0": 1.47,
                    "x1": 2.62,
                    "xref": "x",
                    "y0": -3.41,
                    "y1": -2.45,
                    "yref": "y"
                  },
                  {
                    "fillcolor": "rgb(27, 207, 212)",
                    "label": {
                      "text": "bed1_closet"
                    },
                    "opacity": 0.5,
                    "type": "rect",
                    "x0": 2.62,
                    "x1": 3.77,
                    "xref": "x",
                    "y0": -2.82,
                    "y1": -2.45,
                    "yref": "y"
                  },
                  {
                    "fillcolor": "rgb(36, 236, 166)",
                    "label": {
                      "text": "m_bath"
                    },
                    "opacity": 0.5,
                    "type": "rect",
                    "x0": 0,
                    "x1": 1.61,
                    "xref": "x",
                    "y0": -4.57,
                    "y1": -3.33,
                    "yref": "y"
                  },
                  {
                    "fillcolor": "rgb(97, 252, 108)",
                    "label": {
                      "text": "corridor"
                    },
                    "opacity": 0.5,
                    "type": "rect",
                    "x0": 1.61,
                    "x1": 2.06,
                    "xref": "x",
                    "y0": -6.12,
                    "y1": -3.41,
                    "yref": "y"
                  },
                  {
                    "fillcolor": "rgb(164, 252, 59)",
                    "label": {
                      "text": "linen"
                    },
                    "opacity": 0.5,
                    "type": "rect",
                    "x0": 2.06,
                    "x1": 2.63,
                    "xref": "x",
                    "y0": -3.8,
                    "y1": -3.41,
                    "yref": "y"
                  },
                  {
                    "fillcolor": "rgb(209, 232, 52)",
                    "label": {
                      "text": "laundry"
                    },
                    "opacity": 0.5,
                    "type": "rect",
                    "x0": 2.63,
                    "x1": 3.78,
                    "xref": "x",
                    "y0": -3.91,
                    "y1": -2.82,
                    "yref": "y"
                  },
                  {
                    "fillcolor": "rgb(243, 198, 58)",
                    "label": {
                      "text": "bath"
                    },
                    "opacity": 0.5,
                    "type": "rect",
                    "x0": 0,
                    "x1": 1.58,
                    "xref": "x",
                    "y0": -5.5,
                    "y1": -4.57,
                    "yref": "y"
                  },
                  {
                    "fillcolor": "rgb(254, 155, 45)",
                    "label": {
                      "text": "den"
                    },
                    "opacity": 0.5,
                    "type": "rect",
                    "x0": 2.06,
                    "x1": 3.87,
                    "xref": "x",
                    "y0": -5.96,
                    "y1": -3.91,
                    "yref": "y"
                  },
                  {
                    "fillcolor": "rgb(243, 99, 21)",
                    "label": {
                      "text": "kitchen"
                    },
                    "opacity": 0.5,
                    "type": "rect",
                    "x0": 0,
                    "x1": 1.47,
                    "xref": "x",
                    "y0": -8.17,
                    "y1": -5.5,
                    "yref": "y"
                  },
                  {
                    "fillcolor": "rgb(217, 56, 6)",
                    "label": {
                      "text": "dining"
                    },
                    "opacity": 0.5,
                    "type": "rect",
                    "x0": 1.47,
                    "x1": 3.01,
                    "xref": "x",
                    "y0": -8.56,
                    "y1": -5.96,
                    "yref": "y"
                  },
                  {
                    "fillcolor": "rgb(177, 25, 1)",
                    "label": {
                      "text": "den_closet"
                    },
                    "opacity": 0.5,
                    "type": "rect",
                    "x0": 3.01,
                    "x1": 3.81,
                    "xref": "x",
                    "y0": -6.32,
                    "y1": -5.96,
                    "yref": "y"
                  },
                  {
                    "fillcolor": "rgb(122, 4, 2)",
                    "label": {
                      "text": "living"
                    },
                    "opacity": 0.5,
                    "type": "rect",
                    "x0": 0,
                    "x1": 3.16,
                    "xref": "x",
                    "y0": -10.59,
                    "y1": -8.17,
                    "yref": "y"
                  }
                ],
                "template": {
                  "data": {
                    "bar": [
                      {
                        "error_x": {
                          "color": "#2a3f5f"
                        },
                        "error_y": {
                          "color": "#2a3f5f"
                        },
                        "marker": {
                          "line": {
                            "color": "#E5ECF6",
                            "width": 0.5
                          },
                          "pattern": {
                            "fillmode": "overlay",
                            "size": 10,
                            "solidity": 0.2
                          }
                        },
                        "type": "bar"
                      }
                    ],
                    "barpolar": [
                      {
                        "marker": {
                          "line": {
                            "color": "#E5ECF6",
                            "width": 0.5
                          },
                          "pattern": {
                            "fillmode": "overlay",
                            "size": 10,
                            "solidity": 0.2
                          }
                        },
                        "type": "barpolar"
                      }
                    ],
                    "carpet": [
                      {
                        "aaxis": {
                          "endlinecolor": "#2a3f5f",
                          "gridcolor": "white",
                          "linecolor": "white",
                          "minorgridcolor": "white",
                          "startlinecolor": "#2a3f5f"
                        },
                        "baxis": {
                          "endlinecolor": "#2a3f5f",
                          "gridcolor": "white",
                          "linecolor": "white",
                          "minorgridcolor": "white",
                          "startlinecolor": "#2a3f5f"
                        },
                        "type": "carpet"
                      }
                    ],
                    "choropleth": [
                      {
                        "colorbar": {
                          "outlinewidth": 0,
                          "ticks": ""
                        },
                        "type": "choropleth"
                      }
                    ],
                    "contour": [
                      {
                        "colorbar": {
                          "outlinewidth": 0,
                          "ticks": ""
                        },
                        "colorscale": [
                          [
                            0,
                            "#0d0887"
                          ],
                          [
                            0.1111111111111111,
                            "#46039f"
                          ],
                          [
                            0.2222222222222222,
                            "#7201a8"
                          ],
                          [
                            0.3333333333333333,
                            "#9c179e"
                          ],
                          [
                            0.4444444444444444,
                            "#bd3786"
                          ],
                          [
                            0.5555555555555556,
                            "#d8576b"
                          ],
                          [
                            0.6666666666666666,
                            "#ed7953"
                          ],
                          [
                            0.7777777777777778,
                            "#fb9f3a"
                          ],
                          [
                            0.8888888888888888,
                            "#fdca26"
                          ],
                          [
                            1,
                            "#f0f921"
                          ]
                        ],
                        "type": "contour"
                      }
                    ],
                    "contourcarpet": [
                      {
                        "colorbar": {
                          "outlinewidth": 0,
                          "ticks": ""
                        },
                        "type": "contourcarpet"
                      }
                    ],
                    "heatmap": [
                      {
                        "colorbar": {
                          "outlinewidth": 0,
                          "ticks": ""
                        },
                        "colorscale": [
                          [
                            0,
                            "#0d0887"
                          ],
                          [
                            0.1111111111111111,
                            "#46039f"
                          ],
                          [
                            0.2222222222222222,
                            "#7201a8"
                          ],
                          [
                            0.3333333333333333,
                            "#9c179e"
                          ],
                          [
                            0.4444444444444444,
                            "#bd3786"
                          ],
                          [
                            0.5555555555555556,
                            "#d8576b"
                          ],
                          [
                            0.6666666666666666,
                            "#ed7953"
                          ],
                          [
                            0.7777777777777778,
                            "#fb9f3a"
                          ],
                          [
                            0.8888888888888888,
                            "#fdca26"
                          ],
                          [
                            1,
                            "#f0f921"
                          ]
                        ],
                        "type": "heatmap"
                      }
                    ],
                    "heatmapgl": [
                      {
                        "colorbar": {
                          "outlinewidth": 0,
                          "ticks": ""
                        },
                        "colorscale": [
                          [
                            0,
                            "#0d0887"
                          ],
                          [
                            0.1111111111111111,
                            "#46039f"
                          ],
                          [
                            0.2222222222222222,
                            "#7201a8"
                          ],
                          [
                            0.3333333333333333,
                            "#9c179e"
                          ],
                          [
                            0.4444444444444444,
                            "#bd3786"
                          ],
                          [
                            0.5555555555555556,
                            "#d8576b"
                          ],
                          [
                            0.6666666666666666,
                            "#ed7953"
                          ],
                          [
                            0.7777777777777778,
                            "#fb9f3a"
                          ],
                          [
                            0.8888888888888888,
                            "#fdca26"
                          ],
                          [
                            1,
                            "#f0f921"
                          ]
                        ],
                        "type": "heatmapgl"
                      }
                    ],
                    "histogram": [
                      {
                        "marker": {
                          "pattern": {
                            "fillmode": "overlay",
                            "size": 10,
                            "solidity": 0.2
                          }
                        },
                        "type": "histogram"
                      }
                    ],
                    "histogram2d": [
                      {
                        "colorbar": {
                          "outlinewidth": 0,
                          "ticks": ""
                        },
                        "colorscale": [
                          [
                            0,
                            "#0d0887"
                          ],
                          [
                            0.1111111111111111,
                            "#46039f"
                          ],
                          [
                            0.2222222222222222,
                            "#7201a8"
                          ],
                          [
                            0.3333333333333333,
                            "#9c179e"
                          ],
                          [
                            0.4444444444444444,
                            "#bd3786"
                          ],
                          [
                            0.5555555555555556,
                            "#d8576b"
                          ],
                          [
                            0.6666666666666666,
                            "#ed7953"
                          ],
                          [
                            0.7777777777777778,
                            "#fb9f3a"
                          ],
                          [
                            0.8888888888888888,
                            "#fdca26"
                          ],
                          [
                            1,
                            "#f0f921"
                          ]
                        ],
                        "type": "histogram2d"
                      }
                    ],
                    "histogram2dcontour": [
                      {
                        "colorbar": {
                          "outlinewidth": 0,
                          "ticks": ""
                        },
                        "colorscale": [
                          [
                            0,
                            "#0d0887"
                          ],
                          [
                            0.1111111111111111,
                            "#46039f"
                          ],
                          [
                            0.2222222222222222,
                            "#7201a8"
                          ],
                          [
                            0.3333333333333333,
                            "#9c179e"
                          ],
                          [
                            0.4444444444444444,
                            "#bd3786"
                          ],
                          [
                            0.5555555555555556,
                            "#d8576b"
                          ],
                          [
                            0.6666666666666666,
                            "#ed7953"
                          ],
                          [
                            0.7777777777777778,
                            "#fb9f3a"
                          ],
                          [
                            0.8888888888888888,
                            "#fdca26"
                          ],
                          [
                            1,
                            "#f0f921"
                          ]
                        ],
                        "type": "histogram2dcontour"
                      }
                    ],
                    "mesh3d": [
                      {
                        "colorbar": {
                          "outlinewidth": 0,
                          "ticks": ""
                        },
                        "type": "mesh3d"
                      }
                    ],
                    "parcoords": [
                      {
                        "line": {
                          "colorbar": {
                            "outlinewidth": 0,
                            "ticks": ""
                          }
                        },
                        "type": "parcoords"
                      }
                    ],
                    "pie": [
                      {
                        "automargin": true,
                        "type": "pie"
                      }
                    ],
                    "scatter": [
                      {
                        "fillpattern": {
                          "fillmode": "overlay",
                          "size": 10,
                          "solidity": 0.2
                        },
                        "type": "scatter"
                      }
                    ],
                    "scatter3d": [
                      {
                        "line": {
                          "colorbar": {
                            "outlinewidth": 0,
                            "ticks": ""
                          }
                        },
                        "marker": {
                          "colorbar": {
                            "outlinewidth": 0,
                            "ticks": ""
                          }
                        },
                        "type": "scatter3d"
                      }
                    ],
                    "scattercarpet": [
                      {
                        "marker": {
                          "colorbar": {
                            "outlinewidth": 0,
                            "ticks": ""
                          }
                        },
                        "type": "scattercarpet"
                      }
                    ],
                    "scattergeo": [
                      {
                        "marker": {
                          "colorbar": {
                            "outlinewidth": 0,
                            "ticks": ""
                          }
                        },
                        "type": "scattergeo"
                      }
                    ],
                    "scattergl": [
                      {
                        "marker": {
                          "colorbar": {
                            "outlinewidth": 0,
                            "ticks": ""
                          }
                        },
                        "type": "scattergl"
                      }
                    ],
                    "scattermapbox": [
                      {
                        "marker": {
                          "colorbar": {
                            "outlinewidth": 0,
                            "ticks": ""
                          }
                        },
                        "type": "scattermapbox"
                      }
                    ],
                    "scatterpolar": [
                      {
                        "marker": {
                          "colorbar": {
                            "outlinewidth": 0,
                            "ticks": ""
                          }
                        },
                        "type": "scatterpolar"
                      }
                    ],
                    "scatterpolargl": [
                      {
                        "marker": {
                          "colorbar": {
                            "outlinewidth": 0,
                            "ticks": ""
                          }
                        },
                        "type": "scatterpolargl"
                      }
                    ],
                    "scatterternary": [
                      {
                        "marker": {
                          "colorbar": {
                            "outlinewidth": 0,
                            "ticks": ""
                          }
                        },
                        "type": "scatterternary"
                      }
                    ],
                    "surface": [
                      {
                        "colorbar": {
                          "outlinewidth": 0,
                          "ticks": ""
                        },
                        "colorscale": [
                          [
                            0,
                            "#0d0887"
                          ],
                          [
                            0.1111111111111111,
                            "#46039f"
                          ],
                          [
                            0.2222222222222222,
                            "#7201a8"
                          ],
                          [
                            0.3333333333333333,
                            "#9c179e"
                          ],
                          [
                            0.4444444444444444,
                            "#bd3786"
                          ],
                          [
                            0.5555555555555556,
                            "#d8576b"
                          ],
                          [
                            0.6666666666666666,
                            "#ed7953"
                          ],
                          [
                            0.7777777777777778,
                            "#fb9f3a"
                          ],
                          [
                            0.8888888888888888,
                            "#fdca26"
                          ],
                          [
                            1,
                            "#f0f921"
                          ]
                        ],
                        "type": "surface"
                      }
                    ],
                    "table": [
                      {
                        "cells": {
                          "fill": {
                            "color": "#EBF0F8"
                          },
                          "line": {
                            "color": "white"
                          }
                        },
                        "header": {
                          "fill": {
                            "color": "#C8D4E3"
                          },
                          "line": {
                            "color": "white"
                          }
                        },
                        "type": "table"
                      }
                    ]
                  },
                  "layout": {
                    "annotationdefaults": {
                      "arrowcolor": "#2a3f5f",
                      "arrowhead": 0,
                      "arrowwidth": 1
                    },
                    "autotypenumbers": "strict",
                    "coloraxis": {
                      "colorbar": {
                        "outlinewidth": 0,
                        "ticks": ""
                      }
                    },
                    "colorscale": {
                      "diverging": [
                        [
                          0,
                          "#8e0152"
                        ],
                        [
                          0.1,
                          "#c51b7d"
                        ],
                        [
                          0.2,
                          "#de77ae"
                        ],
                        [
                          0.3,
                          "#f1b6da"
                        ],
                        [
                          0.4,
                          "#fde0ef"
                        ],
                        [
                          0.5,
                          "#f7f7f7"
                        ],
                        [
                          0.6,
                          "#e6f5d0"
                        ],
                        [
                          0.7,
                          "#b8e186"
                        ],
                        [
                          0.8,
                          "#7fbc41"
                        ],
                        [
                          0.9,
                          "#4d9221"
                        ],
                        [
                          1,
                          "#276419"
                        ]
                      ],
                      "sequential": [
                        [
                          0,
                          "#0d0887"
                        ],
                        [
                          0.1111111111111111,
                          "#46039f"
                        ],
                        [
                          0.2222222222222222,
                          "#7201a8"
                        ],
                        [
                          0.3333333333333333,
                          "#9c179e"
                        ],
                        [
                          0.4444444444444444,
                          "#bd3786"
                        ],
                        [
                          0.5555555555555556,
                          "#d8576b"
                        ],
                        [
                          0.6666666666666666,
                          "#ed7953"
                        ],
                        [
                          0.7777777777777778,
                          "#fb9f3a"
                        ],
                        [
                          0.8888888888888888,
                          "#fdca26"
                        ],
                        [
                          1,
                          "#f0f921"
                        ]
                      ],
                      "sequentialminus": [
                        [
                          0,
                          "#0d0887"
                        ],
                        [
                          0.1111111111111111,
                          "#46039f"
                        ],
                        [
                          0.2222222222222222,
                          "#7201a8"
                        ],
                        [
                          0.3333333333333333,
                          "#9c179e"
                        ],
                        [
                          0.4444444444444444,
                          "#bd3786"
                        ],
                        [
                          0.5555555555555556,
                          "#d8576b"
                        ],
                        [
                          0.6666666666666666,
                          "#ed7953"
                        ],
                        [
                          0.7777777777777778,
                          "#fb9f3a"
                        ],
                        [
                          0.8888888888888888,
                          "#fdca26"
                        ],
                        [
                          1,
                          "#f0f921"
                        ]
                      ]
                    },
                    "colorway": [
                      "#636efa",
                      "#EF553B",
                      "#00cc96",
                      "#ab63fa",
                      "#FFA15A",
                      "#19d3f3",
                      "#FF6692",
                      "#B6E880",
                      "#FF97FF",
                      "#FECB52"
                    ],
                    "font": {
                      "color": "#2a3f5f"
                    },
                    "geo": {
                      "bgcolor": "white",
                      "lakecolor": "white",
                      "landcolor": "#E5ECF6",
                      "showlakes": true,
                      "showland": true,
                      "subunitcolor": "white"
                    },
                    "hoverlabel": {
                      "align": "left"
                    },
                    "hovermode": "closest",
                    "mapbox": {
                      "style": "light"
                    },
                    "paper_bgcolor": "white",
                    "plot_bgcolor": "#E5ECF6",
                    "polar": {
                      "angularaxis": {
                        "gridcolor": "white",
                        "linecolor": "white",
                        "ticks": ""
                      },
                      "bgcolor": "#E5ECF6",
                      "radialaxis": {
                        "gridcolor": "white",
                        "linecolor": "white",
                        "ticks": ""
                      }
                    },
                    "scene": {
                      "xaxis": {
                        "backgroundcolor": "#E5ECF6",
                        "gridcolor": "white",
                        "gridwidth": 2,
                        "linecolor": "white",
                        "showbackground": true,
                        "ticks": "",
                        "zerolinecolor": "white"
                      },
                      "yaxis": {
                        "backgroundcolor": "#E5ECF6",
                        "gridcolor": "white",
                        "gridwidth": 2,
                        "linecolor": "white",
                        "showbackground": true,
                        "ticks": "",
                        "zerolinecolor": "white"
                      },
                      "zaxis": {
                        "backgroundcolor": "#E5ECF6",
                        "gridcolor": "white",
                        "gridwidth": 2,
                        "linecolor": "white",
                        "showbackground": true,
                        "ticks": "",
                        "zerolinecolor": "white"
                      }
                    },
                    "shapedefaults": {
                      "line": {
                        "color": "#2a3f5f"
                      }
                    },
                    "ternary": {
                      "aaxis": {
                        "gridcolor": "white",
                        "linecolor": "white",
                        "ticks": ""
                      },
                      "baxis": {
                        "gridcolor": "white",
                        "linecolor": "white",
                        "ticks": ""
                      },
                      "bgcolor": "#E5ECF6",
                      "caxis": {
                        "gridcolor": "white",
                        "linecolor": "white",
                        "ticks": ""
                      }
                    },
                    "title": {
                      "x": 0.05
                    },
                    "xaxis": {
                      "automargin": true,
                      "gridcolor": "white",
                      "linecolor": "white",
                      "ticks": "",
                      "title": {
                        "standoff": 15
                      },
                      "zerolinecolor": "white",
                      "zerolinewidth": 2
                    },
                    "yaxis": {
                      "automargin": true,
                      "gridcolor": "white",
                      "linecolor": "white",
                      "ticks": "",
                      "title": {
                        "standoff": 15
                      },
                      "zerolinecolor": "white",
                      "zerolinewidth": 2
                    }
                  }
                },
                "title": {
                  "text": ""
                },
                "width": 800,
                "xaxis": {
                  "range": [
                    -1,
                    12
                  ]
                },
                "yaxis": {
                  "range": [
                    -10,
                    10
                  ]
                }
              }
            }
          },
          "metadata": {},
          "output_type": "display_data"
        }
      ],
      "source": [
        "plot_general(doms)"
      ]
    },
    {
      "cell_type": "code",
      "execution_count": 6,
      "metadata": {},
      "outputs": [
        {
          "data": {
            "text/plain": [
              "[Problem(ix=1, SIDE_HOLE, ['den', 'laundry'], resolved=False,  n_actions=2,\n",
              " Problem(ix=2, SIDE_HOLE, ['bath', 'm_bath'], resolved=False,  n_actions=2,\n",
              " Problem(ix=3, SIDE_HOLE, ['laundry', 'bed1_closet'], resolved=False,  n_actions=2,\n",
              " Problem(ix=4, SIDE_HOLE, ['kitchen', 'bath'], resolved=False,  n_actions=2,\n",
              " Problem(ix=5, SIDE_HOLE, ['m_bath', 'm_closet'], resolved=False,  n_actions=2,\n",
              " Problem(ix=6, SIDE_HOLE, ['living', 'den_closet'], resolved=False,  n_actions=2]"
            ]
          },
          "execution_count": 6,
          "metadata": {},
          "output_type": "execute_result"
        }
      ],
      "source": [
        "re = Reporter(lout)\n",
        "re.run()\n",
        "re.problems"
      ]
    },
    {
      "cell_type": "code",
      "execution_count": 7,
      "metadata": {},
      "outputs": [
        {
          "name": "stdout",
          "output_type": "stream",
          "text": [
            "Could not report on problems for ActionType.PULL on den\n",
            "Could not report on problems for ActionType.PULL on kitchen\n",
            "initializing.. 0\n",
            "running again -> 1\n",
            "problem being studied: -> Problem(ix=2, SIDE_HOLE, ['bath', 'm_bath'], resolved=False,  n_actions=2\n",
            "next best layout m_bath-STRETCH-for-SIDE_HOLE near ['bath', 'm_bath']5-PS:17.29-S:11.15\n"
          ]
        }
      ],
      "source": [
        "c = Cook(re)"
      ]
    },
    {
      "cell_type": "code",
      "execution_count": 17,
      "metadata": {},
      "outputs": [
        {
          "name": "stdout",
          "output_type": "stream",
          "text": [
            "(Domain(linen, x=[2.06-2.63], y=[-3.80--3.41]), Domain(, x=[1.61-2.18], y=[-6.12--3.41]))\n"
          ]
        },
        {
          "ename": "DomainComparisonError",
          "evalue": "Problem domains should have a relationship!",
          "output_type": "error",
          "traceback": [
            "\u001b[0;31m---------------------------------------------------------------------------\u001b[0m",
            "\u001b[0;31mDomainComparisonError\u001b[0m                     Traceback (most recent call last)",
            "Cell \u001b[0;32mIn[17], line 1\u001b[0m\n\u001b[0;32m----> 1\u001b[0m r \u001b[38;5;241m=\u001b[39m \u001b[43mc\u001b[49m\u001b[38;5;241;43m.\u001b[39;49m\u001b[43mrun_again\u001b[49m\u001b[43m(\u001b[49m\u001b[43m)\u001b[49m\n\u001b[1;32m      2\u001b[0m r\n",
            "File \u001b[0;32m~/_UILCode/gqe-phd/svg2plan/_scripts/new_solutions/selection.py:62\u001b[0m, in \u001b[0;36mCook.run_again\u001b[0;34m(self)\u001b[0m\n\u001b[1;32m     61\u001b[0m \u001b[38;5;28;01mdef\u001b[39;00m \u001b[38;5;21mrun_again\u001b[39m(\u001b[38;5;28mself\u001b[39m):\n\u001b[0;32m---> 62\u001b[0m     \u001b[38;5;28mself\u001b[39m\u001b[38;5;241m.\u001b[39mresults \u001b[38;5;241m=\u001b[39m \u001b[43mstudy_many_problems\u001b[49m\u001b[43m(\u001b[49m\n\u001b[1;32m     63\u001b[0m \u001b[43m        \u001b[49m\u001b[38;5;28;43mself\u001b[39;49m\u001b[38;5;241;43m.\u001b[39;49m\u001b[43mbl\u001b[49m\u001b[38;5;241;43m.\u001b[39;49m\u001b[43mlayout\u001b[49m\u001b[43m,\u001b[49m\u001b[43m \u001b[49m\u001b[38;5;28;43mself\u001b[39;49m\u001b[38;5;241;43m.\u001b[39;49m\u001b[43mbl\u001b[49m\u001b[38;5;241;43m.\u001b[39;49m\u001b[43mproblems\u001b[49m\n\u001b[1;32m     64\u001b[0m \u001b[43m    \u001b[49m\u001b[43m)\u001b[49m\n\u001b[1;32m     65\u001b[0m     \u001b[38;5;28mself\u001b[39m\u001b[38;5;241m.\u001b[39mhandle()\n",
            "File \u001b[0;32m~/_UILCode/gqe-phd/svg2plan/_scripts/new_solutions/simple_problem.py:60\u001b[0m, in \u001b[0;36mstudy_many_problems\u001b[0;34m(layout, problems)\u001b[0m\n\u001b[1;32m     58\u001b[0m valid_probs \u001b[38;5;241m=\u001b[39m [p \u001b[38;5;28;01mfor\u001b[39;00m p \u001b[38;5;129;01min\u001b[39;00m problems \u001b[38;5;28;01mif\u001b[39;00m p\u001b[38;5;241m.\u001b[39mresolved \u001b[38;5;241m==\u001b[39m \u001b[38;5;28;01mFalse\u001b[39;00m]\n\u001b[1;32m     59\u001b[0m \u001b[38;5;28;01mfor\u001b[39;00m curr_prob \u001b[38;5;129;01min\u001b[39;00m valid_probs:\n\u001b[0;32m---> 60\u001b[0m     s \u001b[38;5;241m=\u001b[39m \u001b[43mstudy_one_problem\u001b[49m\u001b[43m(\u001b[49m\u001b[43mlayout\u001b[49m\u001b[43m,\u001b[49m\u001b[43m \u001b[49m\u001b[43mcurr_prob\u001b[49m\u001b[43m,\u001b[49m\u001b[43m \u001b[49m\u001b[43mvalid_probs\u001b[49m\u001b[43m)\u001b[49m\n\u001b[1;32m     61\u001b[0m     results\u001b[38;5;241m.\u001b[39mextend(\u001b[38;5;28mlist\u001b[39m(\u001b[38;5;28mfilter\u001b[39m(\u001b[38;5;28;01mNone\u001b[39;00m, s)))\n\u001b[1;32m     62\u001b[0m \u001b[38;5;28;01mreturn\u001b[39;00m results\n",
            "File \u001b[0;32m~/_UILCode/gqe-phd/svg2plan/_scripts/new_solutions/simple_problem.py:50\u001b[0m, in \u001b[0;36mstudy_one_problem\u001b[0;34m(layout, problem, initial_problems)\u001b[0m\n\u001b[1;32m     47\u001b[0m     tmp_layout \u001b[38;5;241m=\u001b[39m update_layout(op, layout)\n\u001b[1;32m     48\u001b[0m     \u001b[38;5;28;01mreturn\u001b[39;00m report_on_actions(op, problem, tmp_layout, initial_problems)\n\u001b[0;32m---> 50\u001b[0m \u001b[38;5;28;01mreturn\u001b[39;00m [update_and_report(i) \u001b[38;5;28;01mfor\u001b[39;00m i \u001b[38;5;129;01min\u001b[39;00m ops]\n",
            "File \u001b[0;32m~/_UILCode/gqe-phd/svg2plan/_scripts/new_solutions/simple_problem.py:50\u001b[0m, in \u001b[0;36m<listcomp>\u001b[0;34m(.0)\u001b[0m\n\u001b[1;32m     47\u001b[0m     tmp_layout \u001b[38;5;241m=\u001b[39m update_layout(op, layout)\n\u001b[1;32m     48\u001b[0m     \u001b[38;5;28;01mreturn\u001b[39;00m report_on_actions(op, problem, tmp_layout, initial_problems)\n\u001b[0;32m---> 50\u001b[0m \u001b[38;5;28;01mreturn\u001b[39;00m [\u001b[43mupdate_and_report\u001b[49m\u001b[43m(\u001b[49m\u001b[43mi\u001b[49m\u001b[43m)\u001b[49m \u001b[38;5;28;01mfor\u001b[39;00m i \u001b[38;5;129;01min\u001b[39;00m ops]\n",
            "File \u001b[0;32m~/_UILCode/gqe-phd/svg2plan/_scripts/new_solutions/simple_problem.py:48\u001b[0m, in \u001b[0;36mstudy_one_problem.<locals>.update_and_report\u001b[0;34m(op)\u001b[0m\n\u001b[1;32m     46\u001b[0m \u001b[38;5;28;01mdef\u001b[39;00m \u001b[38;5;21mupdate_and_report\u001b[39m(op: OperationLog):\n\u001b[1;32m     47\u001b[0m     tmp_layout \u001b[38;5;241m=\u001b[39m update_layout(op, layout)\n\u001b[0;32m---> 48\u001b[0m     \u001b[38;5;28;01mreturn\u001b[39;00m \u001b[43mreport_on_actions\u001b[49m\u001b[43m(\u001b[49m\u001b[43mop\u001b[49m\u001b[43m,\u001b[49m\u001b[43m \u001b[49m\u001b[43mproblem\u001b[49m\u001b[43m,\u001b[49m\u001b[43m \u001b[49m\u001b[43mtmp_layout\u001b[49m\u001b[43m,\u001b[49m\u001b[43m \u001b[49m\u001b[43minitial_problems\u001b[49m\u001b[43m)\u001b[49m\n",
            "File \u001b[0;32m~/_UILCode/gqe-phd/svg2plan/_scripts/new_solutions/simple_problem.py:36\u001b[0m, in \u001b[0;36mreport_on_actions\u001b[0;34m(op, problem, tmp_layout, initial_problems)\u001b[0m\n\u001b[1;32m     34\u001b[0m \u001b[38;5;28;01mtry\u001b[39;00m:\n\u001b[1;32m     35\u001b[0m     re \u001b[38;5;241m=\u001b[39m Reporter(tmp_layout, initial_problems)\n\u001b[0;32m---> 36\u001b[0m     \u001b[43mre\u001b[49m\u001b[38;5;241;43m.\u001b[39;49m\u001b[43mrun\u001b[49m\u001b[43m(\u001b[49m\u001b[43m)\u001b[49m\n\u001b[1;32m     37\u001b[0m     \u001b[38;5;28;01mreturn\u001b[39;00m ResultsLog(op, re\u001b[38;5;241m.\u001b[39msummary, re\u001b[38;5;241m.\u001b[39mproblems, re\u001b[38;5;241m.\u001b[39mnew, tmp_layout, problem)\n\u001b[1;32m     38\u001b[0m \u001b[38;5;28;01mexcept\u001b[39;00m \u001b[38;5;167;01mAssertionError\u001b[39;00m:\n",
            "File \u001b[0;32m~/_UILCode/gqe-phd/svg2plan/_scripts/fixes/reporter.py:24\u001b[0m, in \u001b[0;36mReporter.run\u001b[0;34m(self)\u001b[0m\n\u001b[1;32m     23\u001b[0m \u001b[38;5;28;01mdef\u001b[39;00m \u001b[38;5;21mrun\u001b[39m(\u001b[38;5;28mself\u001b[39m):\n\u001b[0;32m---> 24\u001b[0m     \u001b[38;5;28;43mself\u001b[39;49m\u001b[38;5;241;43m.\u001b[39;49m\u001b[43mfind_new\u001b[49m\u001b[43m(\u001b[49m\u001b[43m)\u001b[49m\n\u001b[1;32m     25\u001b[0m     \u001b[38;5;28mself\u001b[39m\u001b[38;5;241m.\u001b[39mcompare_new_and_old()\n\u001b[1;32m     26\u001b[0m     \u001b[38;5;28mself\u001b[39m\u001b[38;5;241m.\u001b[39mhandle_resolved()\n",
            "File \u001b[0;32m~/_UILCode/gqe-phd/svg2plan/_scripts/fixes/reporter.py:35\u001b[0m, in \u001b[0;36mReporter.find_new\u001b[0;34m(self)\u001b[0m\n\u001b[1;32m     33\u001b[0m \u001b[38;5;28;01mdef\u001b[39;00m \u001b[38;5;21mfind_new\u001b[39m(\u001b[38;5;28mself\u001b[39m):\n\u001b[1;32m     34\u001b[0m     \u001b[38;5;28;01mfor\u001b[39;00m identifier \u001b[38;5;129;01min\u001b[39;00m [create_side_hole_problems, create_overlap_problems, create_hole_problems]:\n\u001b[0;32m---> 35\u001b[0m         probs \u001b[38;5;241m=\u001b[39m \u001b[43midentifier\u001b[49m\u001b[43m(\u001b[49m\u001b[38;5;28;43mself\u001b[39;49m\u001b[38;5;241;43m.\u001b[39;49m\u001b[43mlayout\u001b[49m\u001b[43m)\u001b[49m\n\u001b[1;32m     36\u001b[0m         \u001b[38;5;28;01mif\u001b[39;00m probs:\n\u001b[1;32m     37\u001b[0m             \u001b[38;5;28mself\u001b[39m\u001b[38;5;241m.\u001b[39mcandidates\u001b[38;5;241m.\u001b[39mextend(probs)\n",
            "File \u001b[0;32m~/_UILCode/gqe-phd/svg2plan/_scripts/fixes/problem_types/hole_id.py:51\u001b[0m, in \u001b[0;36mcreate_hole_problems\u001b[0;34m(layout)\u001b[0m\n\u001b[1;32m     49\u001b[0m     hole_domain \u001b[38;5;241m=\u001b[39m shape_to_domain(hole) \n\u001b[1;32m     50\u001b[0m     p \u001b[38;5;241m=\u001b[39m Problem(ix, ProblemType\u001b[38;5;241m.\u001b[39mHOLE, rooms, hole_domain)\n\u001b[0;32m---> 51\u001b[0m     p\u001b[38;5;241m.\u001b[39maction_details\u001b[38;5;241m.\u001b[39mextend(\u001b[43mcreate_action_for_problem\u001b[49m\u001b[43m(\u001b[49m\u001b[43m(\u001b[49m\u001b[43mrooms\u001b[49m\u001b[43m,\u001b[49m\u001b[43m \u001b[49m\u001b[43mhole_domain\u001b[49m\u001b[43m)\u001b[49m\u001b[43m,\u001b[49m\u001b[43m \u001b[49m\u001b[43mlayout\u001b[49m\u001b[38;5;241;43m.\u001b[39;49m\u001b[43mdomains\u001b[49m\u001b[43m)\u001b[49m)\n\u001b[1;32m     52\u001b[0m     problems\u001b[38;5;241m.\u001b[39mappend(p)\n\u001b[1;32m     53\u001b[0m \u001b[38;5;28;01mreturn\u001b[39;00m problems\n",
            "File \u001b[0;32m~/_UILCode/gqe-phd/svg2plan/_scripts/fixes/problem_types/hole_id.py:39\u001b[0m, in \u001b[0;36mcreate_action_for_problem\u001b[0;34m(rooms_and_hole, domains)\u001b[0m\n\u001b[1;32m     36\u001b[0m         \u001b[38;5;28;01mraise\u001b[39;00m \u001b[38;5;167;01mException\u001b[39;00m(\u001b[38;5;124m\"\u001b[39m\u001b[38;5;124mDomain should only have one relationship to hole.. \u001b[39m\u001b[38;5;124m\"\u001b[39m)\n\u001b[1;32m     37\u001b[0m     \u001b[38;5;28;01mreturn\u001b[39;00m ActionDetails(room, drn, get_problem_size(hole_domain, drn), SIDEHOLE_ACTIONS)\n\u001b[0;32m---> 39\u001b[0m \u001b[38;5;28;01mreturn\u001b[39;00m [create_action_details_for_room(i) \u001b[38;5;28;01mfor\u001b[39;00m i \u001b[38;5;129;01min\u001b[39;00m room_domains]\n",
            "File \u001b[0;32m~/_UILCode/gqe-phd/svg2plan/_scripts/fixes/problem_types/hole_id.py:39\u001b[0m, in \u001b[0;36m<listcomp>\u001b[0;34m(.0)\u001b[0m\n\u001b[1;32m     36\u001b[0m         \u001b[38;5;28;01mraise\u001b[39;00m \u001b[38;5;167;01mException\u001b[39;00m(\u001b[38;5;124m\"\u001b[39m\u001b[38;5;124mDomain should only have one relationship to hole.. \u001b[39m\u001b[38;5;124m\"\u001b[39m)\n\u001b[1;32m     37\u001b[0m     \u001b[38;5;28;01mreturn\u001b[39;00m ActionDetails(room, drn, get_problem_size(hole_domain, drn), SIDEHOLE_ACTIONS)\n\u001b[0;32m---> 39\u001b[0m \u001b[38;5;28;01mreturn\u001b[39;00m [\u001b[43mcreate_action_details_for_room\u001b[49m\u001b[43m(\u001b[49m\u001b[43mi\u001b[49m\u001b[43m)\u001b[49m \u001b[38;5;28;01mfor\u001b[39;00m i \u001b[38;5;129;01min\u001b[39;00m room_domains]\n",
            "File \u001b[0;32m~/_UILCode/gqe-phd/svg2plan/_scripts/fixes/problem_types/hole_id.py:31\u001b[0m, in \u001b[0;36mcreate_action_for_problem.<locals>.create_action_details_for_room\u001b[0;34m(room)\u001b[0m\n\u001b[1;32m     30\u001b[0m \u001b[38;5;28;01mdef\u001b[39;00m \u001b[38;5;21mcreate_action_details_for_room\u001b[39m(room: Domain):\n\u001b[0;32m---> 31\u001b[0m     cmp \u001b[38;5;241m=\u001b[39m \u001b[43mget_domain_directions\u001b[49m\u001b[43m(\u001b[49m\u001b[43mroom\u001b[49m\u001b[43m,\u001b[49m\u001b[43m \u001b[49m\u001b[43mhole_domain\u001b[49m\u001b[43m,\u001b[49m\u001b[43m \u001b[49m\u001b[43mconsider_overlap\u001b[49m\u001b[38;5;241;43m=\u001b[39;49m\u001b[38;5;28;43;01mFalse\u001b[39;49;00m\u001b[43m)\u001b[49m\n\u001b[1;32m     32\u001b[0m     drns \u001b[38;5;241m=\u001b[39m cmp\u001b[38;5;241m.\u001b[39mget_domain_directions(room)\n\u001b[1;32m     33\u001b[0m     \u001b[38;5;28;01mtry\u001b[39;00m:\n",
            "File \u001b[0;32m~/_UILCode/gqe-phd/svg2plan/_scripts/fixes/id_helpers.py:27\u001b[0m, in \u001b[0;36mget_domain_directions\u001b[0;34m(a, b, consider_overlap)\u001b[0m\n\u001b[1;32m     25\u001b[0m     cmp \u001b[38;5;241m=\u001b[39m b\u001b[38;5;241m.\u001b[39mcompare_domains(a, consider_overlap)\n\u001b[1;32m     26\u001b[0m \u001b[38;5;28;01mif\u001b[39;00m cmp\u001b[38;5;241m.\u001b[39mis_empty():\n\u001b[0;32m---> 27\u001b[0m     \u001b[38;5;28;01mraise\u001b[39;00m DomainComparisonError((a,b))\n\u001b[1;32m     28\u001b[0m \u001b[38;5;28;01mreturn\u001b[39;00m cmp\n",
            "\u001b[0;31mDomainComparisonError\u001b[0m: Problem domains should have a relationship!"
          ]
        }
      ],
      "source": [
        "try:\n",
        "    c.run_again()\n",
        "except DomainComparisonError as e:\n",
        "    err\n",
        "r"
      ]
    },
    {
      "cell_type": "code",
      "execution_count": 16,
      "metadata": {},
      "outputs": [
        {
          "ename": "NameError",
          "evalue": "name 'r' is not defined",
          "output_type": "error",
          "traceback": [
            "\u001b[0;31m---------------------------------------------------------------------------\u001b[0m",
            "\u001b[0;31mNameError\u001b[0m                                 Traceback (most recent call last)",
            "Cell \u001b[0;32mIn[16], line 1\u001b[0m\n\u001b[0;32m----> 1\u001b[0m \u001b[43mr\u001b[49m\n",
            "\u001b[0;31mNameError\u001b[0m: name 'r' is not defined"
          ]
        }
      ],
      "source": [
        "r"
      ]
    },
    {
      "cell_type": "code",
      "execution_count": 18,
      "metadata": {},
      "outputs": [
        {
          "name": "stdout",
          "output_type": "stream",
          "text": [
            "len sols = 7. Len indices = 9\n"
          ]
        },
        {
          "data": {
            "application/vnd.plotly.v1+json": {
              "config": {
                "plotlyServerURL": "https://plotly.com"
              },
              "data": [],
              "layout": {
                "shapes": [
                  {
                    "fillcolor": "rgb(48, 18, 59)",
                    "label": {
                      "text": "m_bed"
                    },
                    "opacity": 0.5,
                    "type": "rect",
                    "x0": 0,
                    "x1": 2.13,
                    "xref": "x",
                    "y0": -2.45,
                    "y1": 0,
                    "yref": "y"
                  },
                  {
                    "fillcolor": "rgb(65, 69, 171)",
                    "label": {
                      "text": "bed1"
                    },
                    "opacity": 0.5,
                    "type": "rect",
                    "x0": 2.13,
                    "x1": 3.94,
                    "xref": "x",
                    "y0": -2.45,
                    "y1": 0,
                    "yref": "y"
                  },
                  {
                    "fillcolor": "rgb(70, 117, 237)",
                    "label": {
                      "text": "m_closet"
                    },
                    "opacity": 0.5,
                    "type": "rect",
                    "x0": 0,
                    "x1": 1.47,
                    "xref": "x",
                    "y0": -3.33,
                    "y1": -2.45,
                    "yref": "y"
                  },
                  {
                    "fillcolor": "rgb(57, 162, 252)",
                    "label": {
                      "text": "transit"
                    },
                    "opacity": 0.5,
                    "type": "rect",
                    "x0": 1.47,
                    "x1": 2.62,
                    "xref": "x",
                    "y0": -3.41,
                    "y1": -2.45,
                    "yref": "y"
                  },
                  {
                    "fillcolor": "rgb(27, 207, 212)",
                    "label": {
                      "text": "bed1_closet"
                    },
                    "opacity": 0.5,
                    "type": "rect",
                    "x0": 2.62,
                    "x1": 3.77,
                    "xref": "x",
                    "y0": -2.82,
                    "y1": -2.45,
                    "yref": "y"
                  },
                  {
                    "fillcolor": "rgb(36, 236, 166)",
                    "label": {
                      "text": "m_bath"
                    },
                    "opacity": 0.5,
                    "type": "rect",
                    "x0": 0,
                    "x1": 1.61,
                    "xref": "x",
                    "y0": -4.65,
                    "y1": -3.41,
                    "yref": "y"
                  },
                  {
                    "fillcolor": "rgb(97, 252, 108)",
                    "label": {
                      "text": "corridor"
                    },
                    "opacity": 0.5,
                    "type": "rect",
                    "x0": 1.61,
                    "x1": 2.06,
                    "xref": "x",
                    "y0": -6.12,
                    "y1": -3.41,
                    "yref": "y"
                  },
                  {
                    "fillcolor": "rgb(164, 252, 59)",
                    "label": {
                      "text": "linen"
                    },
                    "opacity": 0.5,
                    "type": "rect",
                    "x0": 2.06,
                    "x1": 2.63,
                    "xref": "x",
                    "y0": -3.8,
                    "y1": -3.41,
                    "yref": "y"
                  },
                  {
                    "fillcolor": "rgb(209, 232, 52)",
                    "label": {
                      "text": "laundry"
                    },
                    "opacity": 0.5,
                    "type": "rect",
                    "x0": 2.63,
                    "x1": 3.78,
                    "xref": "x",
                    "y0": -4.5,
                    "y1": -3.41,
                    "yref": "y"
                  },
                  {
                    "fillcolor": "rgb(243, 198, 58)",
                    "label": {
                      "text": "bath"
                    },
                    "opacity": 0.5,
                    "type": "rect",
                    "x0": 0,
                    "x1": 1.58,
                    "xref": "x",
                    "y0": -7.05,
                    "y1": -6.12,
                    "yref": "y"
                  },
                  {
                    "fillcolor": "rgb(254, 155, 45)",
                    "label": {
                      "text": "den"
                    },
                    "opacity": 0.5,
                    "type": "rect",
                    "x0": 1.58,
                    "x1": 3.39,
                    "xref": "x",
                    "y0": -8.17,
                    "y1": -6.12,
                    "yref": "y"
                  },
                  {
                    "fillcolor": "rgb(243, 99, 21)",
                    "label": {
                      "text": "kitchen"
                    },
                    "opacity": 0.5,
                    "type": "rect",
                    "x0": 0,
                    "x1": 1.47,
                    "xref": "x",
                    "y0": -10.84,
                    "y1": -8.17,
                    "yref": "y"
                  },
                  {
                    "fillcolor": "rgb(217, 56, 6)",
                    "label": {
                      "text": "dining"
                    },
                    "opacity": 0.5,
                    "type": "rect",
                    "x0": 1.47,
                    "x1": 3.01,
                    "xref": "x",
                    "y0": -10.77,
                    "y1": -8.17,
                    "yref": "y"
                  },
                  {
                    "fillcolor": "rgb(177, 25, 1)",
                    "label": {
                      "text": "den_closet"
                    },
                    "opacity": 0.5,
                    "type": "rect",
                    "x0": 3.01,
                    "x1": 3.81,
                    "xref": "x",
                    "y0": -8.53,
                    "y1": -8.17,
                    "yref": "y"
                  },
                  {
                    "fillcolor": "rgb(122, 4, 2)",
                    "label": {
                      "text": "living"
                    },
                    "opacity": 0.5,
                    "type": "rect",
                    "x0": 0,
                    "x1": 3.16,
                    "xref": "x",
                    "y0": -13.26,
                    "y1": -10.84,
                    "yref": "y"
                  },
                  {
                    "fillcolor": "rgb(48, 18, 59)",
                    "label": {
                      "text": ""
                    },
                    "opacity": 0.5,
                    "type": "rect",
                    "x0": 0,
                    "x1": 2.13,
                    "xref": "x2",
                    "y0": -2.45,
                    "y1": 0,
                    "yref": "y2"
                  },
                  {
                    "fillcolor": "rgb(65, 69, 171)",
                    "label": {
                      "text": ""
                    },
                    "opacity": 0.5,
                    "type": "rect",
                    "x0": 2.13,
                    "x1": 3.94,
                    "xref": "x2",
                    "y0": -2.45,
                    "y1": 0,
                    "yref": "y2"
                  },
                  {
                    "fillcolor": "rgb(70, 117, 237)",
                    "label": {
                      "text": ""
                    },
                    "opacity": 0.5,
                    "type": "rect",
                    "x0": 0,
                    "x1": 1.47,
                    "xref": "x2",
                    "y0": -3.33,
                    "y1": -2.45,
                    "yref": "y2"
                  },
                  {
                    "fillcolor": "rgb(57, 162, 252)",
                    "label": {
                      "text": ""
                    },
                    "opacity": 0.5,
                    "type": "rect",
                    "x0": 1.47,
                    "x1": 2.62,
                    "xref": "x2",
                    "y0": -3.41,
                    "y1": -2.45,
                    "yref": "y2"
                  },
                  {
                    "fillcolor": "rgb(27, 207, 212)",
                    "label": {
                      "text": ""
                    },
                    "opacity": 0.5,
                    "type": "rect",
                    "x0": 2.62,
                    "x1": 3.77,
                    "xref": "x2",
                    "y0": -2.82,
                    "y1": -2.45,
                    "yref": "y2"
                  },
                  {
                    "fillcolor": "rgb(36, 236, 166)",
                    "label": {
                      "text": ""
                    },
                    "opacity": 0.5,
                    "type": "rect",
                    "x0": 0,
                    "x1": 1.61,
                    "xref": "x2",
                    "y0": -6.12,
                    "y1": -3.41,
                    "yref": "y2"
                  },
                  {
                    "fillcolor": "rgb(97, 252, 108)",
                    "label": {
                      "text": ""
                    },
                    "opacity": 0.5,
                    "type": "rect",
                    "x0": 1.61,
                    "x1": 2.06,
                    "xref": "x2",
                    "y0": -6.12,
                    "y1": -3.41,
                    "yref": "y2"
                  },
                  {
                    "fillcolor": "rgb(164, 252, 59)",
                    "label": {
                      "text": ""
                    },
                    "opacity": 0.5,
                    "type": "rect",
                    "x0": 2.06,
                    "x1": 2.63,
                    "xref": "x2",
                    "y0": -3.8,
                    "y1": -3.41,
                    "yref": "y2"
                  },
                  {
                    "fillcolor": "rgb(209, 232, 52)",
                    "label": {
                      "text": ""
                    },
                    "opacity": 0.5,
                    "type": "rect",
                    "x0": 2.63,
                    "x1": 3.78,
                    "xref": "x2",
                    "y0": -4.5,
                    "y1": -3.41,
                    "yref": "y2"
                  },
                  {
                    "fillcolor": "rgb(243, 198, 58)",
                    "label": {
                      "text": ""
                    },
                    "opacity": 0.5,
                    "type": "rect",
                    "x0": 0,
                    "x1": 1.58,
                    "xref": "x2",
                    "y0": -7.05,
                    "y1": -6.12,
                    "yref": "y2"
                  },
                  {
                    "fillcolor": "rgb(254, 155, 45)",
                    "label": {
                      "text": ""
                    },
                    "opacity": 0.5,
                    "type": "rect",
                    "x0": 1.58,
                    "x1": 3.39,
                    "xref": "x2",
                    "y0": -8.17,
                    "y1": -6.12,
                    "yref": "y2"
                  },
                  {
                    "fillcolor": "rgb(243, 99, 21)",
                    "label": {
                      "text": ""
                    },
                    "opacity": 0.5,
                    "type": "rect",
                    "x0": 0,
                    "x1": 1.47,
                    "xref": "x2",
                    "y0": -10.84,
                    "y1": -8.17,
                    "yref": "y2"
                  },
                  {
                    "fillcolor": "rgb(217, 56, 6)",
                    "label": {
                      "text": ""
                    },
                    "opacity": 0.5,
                    "type": "rect",
                    "x0": 1.47,
                    "x1": 3.01,
                    "xref": "x2",
                    "y0": -10.77,
                    "y1": -8.17,
                    "yref": "y2"
                  },
                  {
                    "fillcolor": "rgb(177, 25, 1)",
                    "label": {
                      "text": ""
                    },
                    "opacity": 0.5,
                    "type": "rect",
                    "x0": 3.01,
                    "x1": 3.81,
                    "xref": "x2",
                    "y0": -8.53,
                    "y1": -8.17,
                    "yref": "y2"
                  },
                  {
                    "fillcolor": "rgb(122, 4, 2)",
                    "label": {
                      "text": ""
                    },
                    "opacity": 0.5,
                    "type": "rect",
                    "x0": 0,
                    "x1": 3.16,
                    "xref": "x2",
                    "y0": -13.26,
                    "y1": -10.84,
                    "yref": "y2"
                  },
                  {
                    "fillcolor": "rgb(48, 18, 59)",
                    "label": {
                      "text": ""
                    },
                    "opacity": 0.5,
                    "type": "rect",
                    "x0": 0,
                    "x1": 2.13,
                    "xref": "x3",
                    "y0": -2.45,
                    "y1": 0,
                    "yref": "y3"
                  },
                  {
                    "fillcolor": "rgb(65, 69, 171)",
                    "label": {
                      "text": ""
                    },
                    "opacity": 0.5,
                    "type": "rect",
                    "x0": 2.13,
                    "x1": 3.94,
                    "xref": "x3",
                    "y0": -2.45,
                    "y1": 0,
                    "yref": "y3"
                  },
                  {
                    "fillcolor": "rgb(70, 117, 237)",
                    "label": {
                      "text": ""
                    },
                    "opacity": 0.5,
                    "type": "rect",
                    "x0": 0,
                    "x1": 1.47,
                    "xref": "x3",
                    "y0": -3.33,
                    "y1": -2.45,
                    "yref": "y3"
                  },
                  {
                    "fillcolor": "rgb(57, 162, 252)",
                    "label": {
                      "text": ""
                    },
                    "opacity": 0.5,
                    "type": "rect",
                    "x0": 1.47,
                    "x1": 2.62,
                    "xref": "x3",
                    "y0": -3.41,
                    "y1": -2.45,
                    "yref": "y3"
                  },
                  {
                    "fillcolor": "rgb(27, 207, 212)",
                    "label": {
                      "text": ""
                    },
                    "opacity": 0.5,
                    "type": "rect",
                    "x0": 2.62,
                    "x1": 3.77,
                    "xref": "x3",
                    "y0": -3.41,
                    "y1": -2.45,
                    "yref": "y3"
                  },
                  {
                    "fillcolor": "rgb(36, 236, 166)",
                    "label": {
                      "text": ""
                    },
                    "opacity": 0.5,
                    "type": "rect",
                    "x0": 0,
                    "x1": 1.61,
                    "xref": "x3",
                    "y0": -6.12,
                    "y1": -3.41,
                    "yref": "y3"
                  },
                  {
                    "fillcolor": "rgb(97, 252, 108)",
                    "label": {
                      "text": ""
                    },
                    "opacity": 0.5,
                    "type": "rect",
                    "x0": 1.61,
                    "x1": 2.06,
                    "xref": "x3",
                    "y0": -6.12,
                    "y1": -3.41,
                    "yref": "y3"
                  },
                  {
                    "fillcolor": "rgb(164, 252, 59)",
                    "label": {
                      "text": ""
                    },
                    "opacity": 0.5,
                    "type": "rect",
                    "x0": 2.06,
                    "x1": 2.63,
                    "xref": "x3",
                    "y0": -3.8,
                    "y1": -3.41,
                    "yref": "y3"
                  },
                  {
                    "fillcolor": "rgb(209, 232, 52)",
                    "label": {
                      "text": ""
                    },
                    "opacity": 0.5,
                    "type": "rect",
                    "x0": 2.63,
                    "x1": 3.78,
                    "xref": "x3",
                    "y0": -4.5,
                    "y1": -3.41,
                    "yref": "y3"
                  },
                  {
                    "fillcolor": "rgb(243, 198, 58)",
                    "label": {
                      "text": ""
                    },
                    "opacity": 0.5,
                    "type": "rect",
                    "x0": 0,
                    "x1": 1.58,
                    "xref": "x3",
                    "y0": -7.05,
                    "y1": -6.12,
                    "yref": "y3"
                  },
                  {
                    "fillcolor": "rgb(254, 155, 45)",
                    "label": {
                      "text": ""
                    },
                    "opacity": 0.5,
                    "type": "rect",
                    "x0": 1.58,
                    "x1": 3.39,
                    "xref": "x3",
                    "y0": -8.17,
                    "y1": -6.12,
                    "yref": "y3"
                  },
                  {
                    "fillcolor": "rgb(243, 99, 21)",
                    "label": {
                      "text": ""
                    },
                    "opacity": 0.5,
                    "type": "rect",
                    "x0": 0,
                    "x1": 1.47,
                    "xref": "x3",
                    "y0": -10.84,
                    "y1": -8.17,
                    "yref": "y3"
                  },
                  {
                    "fillcolor": "rgb(217, 56, 6)",
                    "label": {
                      "text": ""
                    },
                    "opacity": 0.5,
                    "type": "rect",
                    "x0": 1.47,
                    "x1": 3.01,
                    "xref": "x3",
                    "y0": -10.77,
                    "y1": -8.17,
                    "yref": "y3"
                  },
                  {
                    "fillcolor": "rgb(177, 25, 1)",
                    "label": {
                      "text": ""
                    },
                    "opacity": 0.5,
                    "type": "rect",
                    "x0": 3.01,
                    "x1": 3.81,
                    "xref": "x3",
                    "y0": -8.53,
                    "y1": -8.17,
                    "yref": "y3"
                  },
                  {
                    "fillcolor": "rgb(122, 4, 2)",
                    "label": {
                      "text": ""
                    },
                    "opacity": 0.5,
                    "type": "rect",
                    "x0": 0,
                    "x1": 3.16,
                    "xref": "x3",
                    "y0": -13.26,
                    "y1": -10.84,
                    "yref": "y3"
                  },
                  {
                    "fillcolor": "rgb(48, 18, 59)",
                    "label": {
                      "text": ""
                    },
                    "opacity": 0.5,
                    "type": "rect",
                    "x0": 0,
                    "x1": 2.13,
                    "xref": "x4",
                    "y0": -2.45,
                    "y1": 0,
                    "yref": "y4"
                  },
                  {
                    "fillcolor": "rgb(65, 69, 171)",
                    "label": {
                      "text": ""
                    },
                    "opacity": 0.5,
                    "type": "rect",
                    "x0": 2.13,
                    "x1": 3.94,
                    "xref": "x4",
                    "y0": -2.45,
                    "y1": 0,
                    "yref": "y4"
                  },
                  {
                    "fillcolor": "rgb(70, 117, 237)",
                    "label": {
                      "text": ""
                    },
                    "opacity": 0.5,
                    "type": "rect",
                    "x0": 0,
                    "x1": 1.47,
                    "xref": "x4",
                    "y0": -3.33,
                    "y1": -2.45,
                    "yref": "y4"
                  },
                  {
                    "fillcolor": "rgb(57, 162, 252)",
                    "label": {
                      "text": ""
                    },
                    "opacity": 0.5,
                    "type": "rect",
                    "x0": 1.47,
                    "x1": 2.62,
                    "xref": "x4",
                    "y0": -3.41,
                    "y1": -2.45,
                    "yref": "y4"
                  },
                  {
                    "fillcolor": "rgb(27, 207, 212)",
                    "label": {
                      "text": ""
                    },
                    "opacity": 0.5,
                    "type": "rect",
                    "x0": 2.62,
                    "x1": 3.77,
                    "xref": "x4",
                    "y0": -3.41,
                    "y1": -2.45,
                    "yref": "y4"
                  },
                  {
                    "fillcolor": "rgb(36, 236, 166)",
                    "label": {
                      "text": ""
                    },
                    "opacity": 0.5,
                    "type": "rect",
                    "x0": 0,
                    "x1": 1.61,
                    "xref": "x4",
                    "y0": -6.12,
                    "y1": -3.41,
                    "yref": "y4"
                  },
                  {
                    "fillcolor": "rgb(97, 252, 108)",
                    "label": {
                      "text": ""
                    },
                    "opacity": 0.5,
                    "type": "rect",
                    "x0": 1.61,
                    "x1": 2.06,
                    "xref": "x4",
                    "y0": -6.12,
                    "y1": -3.41,
                    "yref": "y4"
                  },
                  {
                    "fillcolor": "rgb(164, 252, 59)",
                    "label": {
                      "text": ""
                    },
                    "opacity": 0.5,
                    "type": "rect",
                    "x0": 2.06,
                    "x1": 2.63,
                    "xref": "x4",
                    "y0": -3.8,
                    "y1": -3.41,
                    "yref": "y4"
                  },
                  {
                    "fillcolor": "rgb(209, 232, 52)",
                    "label": {
                      "text": ""
                    },
                    "opacity": 0.5,
                    "type": "rect",
                    "x0": 2.63,
                    "x1": 3.78,
                    "xref": "x4",
                    "y0": -4.5,
                    "y1": -3.41,
                    "yref": "y4"
                  },
                  {
                    "fillcolor": "rgb(243, 198, 58)",
                    "label": {
                      "text": ""
                    },
                    "opacity": 0.5,
                    "type": "rect",
                    "x0": 0,
                    "x1": 1.58,
                    "xref": "x4",
                    "y0": -8.17,
                    "y1": -6.12,
                    "yref": "y4"
                  },
                  {
                    "fillcolor": "rgb(254, 155, 45)",
                    "label": {
                      "text": ""
                    },
                    "opacity": 0.5,
                    "type": "rect",
                    "x0": 1.58,
                    "x1": 3.39,
                    "xref": "x4",
                    "y0": -8.17,
                    "y1": -6.12,
                    "yref": "y4"
                  },
                  {
                    "fillcolor": "rgb(243, 99, 21)",
                    "label": {
                      "text": ""
                    },
                    "opacity": 0.5,
                    "type": "rect",
                    "x0": 0,
                    "x1": 1.47,
                    "xref": "x4",
                    "y0": -10.84,
                    "y1": -8.17,
                    "yref": "y4"
                  },
                  {
                    "fillcolor": "rgb(217, 56, 6)",
                    "label": {
                      "text": ""
                    },
                    "opacity": 0.5,
                    "type": "rect",
                    "x0": 1.47,
                    "x1": 3.01,
                    "xref": "x4",
                    "y0": -10.77,
                    "y1": -8.17,
                    "yref": "y4"
                  },
                  {
                    "fillcolor": "rgb(177, 25, 1)",
                    "label": {
                      "text": ""
                    },
                    "opacity": 0.5,
                    "type": "rect",
                    "x0": 3.01,
                    "x1": 3.81,
                    "xref": "x4",
                    "y0": -8.53,
                    "y1": -8.17,
                    "yref": "y4"
                  },
                  {
                    "fillcolor": "rgb(122, 4, 2)",
                    "label": {
                      "text": ""
                    },
                    "opacity": 0.5,
                    "type": "rect",
                    "x0": 0,
                    "x1": 3.16,
                    "xref": "x4",
                    "y0": -13.26,
                    "y1": -10.84,
                    "yref": "y4"
                  },
                  {
                    "fillcolor": "rgb(48, 18, 59)",
                    "label": {
                      "text": ""
                    },
                    "opacity": 0.5,
                    "type": "rect",
                    "x0": 0,
                    "x1": 2.13,
                    "xref": "x5",
                    "y0": -2.45,
                    "y1": 0,
                    "yref": "y5"
                  },
                  {
                    "fillcolor": "rgb(65, 69, 171)",
                    "label": {
                      "text": ""
                    },
                    "opacity": 0.5,
                    "type": "rect",
                    "x0": 2.13,
                    "x1": 3.94,
                    "xref": "x5",
                    "y0": -2.45,
                    "y1": 0,
                    "yref": "y5"
                  },
                  {
                    "fillcolor": "rgb(70, 117, 237)",
                    "label": {
                      "text": ""
                    },
                    "opacity": 0.5,
                    "type": "rect",
                    "x0": 0,
                    "x1": 1.47,
                    "xref": "x5",
                    "y0": -3.41,
                    "y1": -2.45,
                    "yref": "y5"
                  },
                  {
                    "fillcolor": "rgb(57, 162, 252)",
                    "label": {
                      "text": ""
                    },
                    "opacity": 0.5,
                    "type": "rect",
                    "x0": 1.47,
                    "x1": 2.62,
                    "xref": "x5",
                    "y0": -3.41,
                    "y1": -2.45,
                    "yref": "y5"
                  },
                  {
                    "fillcolor": "rgb(27, 207, 212)",
                    "label": {
                      "text": ""
                    },
                    "opacity": 0.5,
                    "type": "rect",
                    "x0": 2.62,
                    "x1": 3.77,
                    "xref": "x5",
                    "y0": -3.41,
                    "y1": -2.45,
                    "yref": "y5"
                  },
                  {
                    "fillcolor": "rgb(36, 236, 166)",
                    "label": {
                      "text": ""
                    },
                    "opacity": 0.5,
                    "type": "rect",
                    "x0": 0,
                    "x1": 1.61,
                    "xref": "x5",
                    "y0": -6.12,
                    "y1": -3.41,
                    "yref": "y5"
                  },
                  {
                    "fillcolor": "rgb(97, 252, 108)",
                    "label": {
                      "text": ""
                    },
                    "opacity": 0.5,
                    "type": "rect",
                    "x0": 1.61,
                    "x1": 2.06,
                    "xref": "x5",
                    "y0": -6.12,
                    "y1": -3.41,
                    "yref": "y5"
                  },
                  {
                    "fillcolor": "rgb(164, 252, 59)",
                    "label": {
                      "text": ""
                    },
                    "opacity": 0.5,
                    "type": "rect",
                    "x0": 2.06,
                    "x1": 2.63,
                    "xref": "x5",
                    "y0": -3.8,
                    "y1": -3.41,
                    "yref": "y5"
                  },
                  {
                    "fillcolor": "rgb(209, 232, 52)",
                    "label": {
                      "text": ""
                    },
                    "opacity": 0.5,
                    "type": "rect",
                    "x0": 2.63,
                    "x1": 3.78,
                    "xref": "x5",
                    "y0": -4.5,
                    "y1": -3.41,
                    "yref": "y5"
                  },
                  {
                    "fillcolor": "rgb(243, 198, 58)",
                    "label": {
                      "text": ""
                    },
                    "opacity": 0.5,
                    "type": "rect",
                    "x0": 0,
                    "x1": 1.58,
                    "xref": "x5",
                    "y0": -8.17,
                    "y1": -6.12,
                    "yref": "y5"
                  },
                  {
                    "fillcolor": "rgb(254, 155, 45)",
                    "label": {
                      "text": ""
                    },
                    "opacity": 0.5,
                    "type": "rect",
                    "x0": 1.58,
                    "x1": 3.39,
                    "xref": "x5",
                    "y0": -8.17,
                    "y1": -6.12,
                    "yref": "y5"
                  },
                  {
                    "fillcolor": "rgb(243, 99, 21)",
                    "label": {
                      "text": ""
                    },
                    "opacity": 0.5,
                    "type": "rect",
                    "x0": 0,
                    "x1": 1.47,
                    "xref": "x5",
                    "y0": -10.84,
                    "y1": -8.17,
                    "yref": "y5"
                  },
                  {
                    "fillcolor": "rgb(217, 56, 6)",
                    "label": {
                      "text": ""
                    },
                    "opacity": 0.5,
                    "type": "rect",
                    "x0": 1.47,
                    "x1": 3.01,
                    "xref": "x5",
                    "y0": -10.77,
                    "y1": -8.17,
                    "yref": "y5"
                  },
                  {
                    "fillcolor": "rgb(177, 25, 1)",
                    "label": {
                      "text": ""
                    },
                    "opacity": 0.5,
                    "type": "rect",
                    "x0": 3.01,
                    "x1": 3.81,
                    "xref": "x5",
                    "y0": -8.53,
                    "y1": -8.17,
                    "yref": "y5"
                  },
                  {
                    "fillcolor": "rgb(122, 4, 2)",
                    "label": {
                      "text": ""
                    },
                    "opacity": 0.5,
                    "type": "rect",
                    "x0": 0,
                    "x1": 3.16,
                    "xref": "x5",
                    "y0": -13.26,
                    "y1": -10.84,
                    "yref": "y5"
                  },
                  {
                    "fillcolor": "rgb(48, 18, 59)",
                    "label": {
                      "text": ""
                    },
                    "opacity": 0.5,
                    "type": "rect",
                    "x0": 0,
                    "x1": 2.13,
                    "xref": "x6",
                    "y0": -2.45,
                    "y1": 0,
                    "yref": "y6"
                  },
                  {
                    "fillcolor": "rgb(65, 69, 171)",
                    "label": {
                      "text": ""
                    },
                    "opacity": 0.5,
                    "type": "rect",
                    "x0": 2.13,
                    "x1": 3.94,
                    "xref": "x6",
                    "y0": -2.45,
                    "y1": 0,
                    "yref": "y6"
                  },
                  {
                    "fillcolor": "rgb(70, 117, 237)",
                    "label": {
                      "text": ""
                    },
                    "opacity": 0.5,
                    "type": "rect",
                    "x0": 0,
                    "x1": 1.47,
                    "xref": "x6",
                    "y0": -3.41,
                    "y1": -2.45,
                    "yref": "y6"
                  },
                  {
                    "fillcolor": "rgb(57, 162, 252)",
                    "label": {
                      "text": ""
                    },
                    "opacity": 0.5,
                    "type": "rect",
                    "x0": 1.47,
                    "x1": 2.62,
                    "xref": "x6",
                    "y0": -3.41,
                    "y1": -2.45,
                    "yref": "y6"
                  },
                  {
                    "fillcolor": "rgb(27, 207, 212)",
                    "label": {
                      "text": ""
                    },
                    "opacity": 0.5,
                    "type": "rect",
                    "x0": 2.62,
                    "x1": 3.77,
                    "xref": "x6",
                    "y0": -3.41,
                    "y1": -2.45,
                    "yref": "y6"
                  },
                  {
                    "fillcolor": "rgb(36, 236, 166)",
                    "label": {
                      "text": ""
                    },
                    "opacity": 0.5,
                    "type": "rect",
                    "x0": 0,
                    "x1": 1.61,
                    "xref": "x6",
                    "y0": -6.12,
                    "y1": -3.41,
                    "yref": "y6"
                  },
                  {
                    "fillcolor": "rgb(97, 252, 108)",
                    "label": {
                      "text": ""
                    },
                    "opacity": 0.5,
                    "type": "rect",
                    "x0": 1.61,
                    "x1": 2.06,
                    "xref": "x6",
                    "y0": -6.12,
                    "y1": -3.41,
                    "yref": "y6"
                  },
                  {
                    "fillcolor": "rgb(164, 252, 59)",
                    "label": {
                      "text": ""
                    },
                    "opacity": 0.5,
                    "type": "rect",
                    "x0": 2.06,
                    "x1": 2.63,
                    "xref": "x6",
                    "y0": -3.8,
                    "y1": -3.41,
                    "yref": "y6"
                  },
                  {
                    "fillcolor": "rgb(209, 232, 52)",
                    "label": {
                      "text": ""
                    },
                    "opacity": 0.5,
                    "type": "rect",
                    "x0": 2.63,
                    "x1": 3.78,
                    "xref": "x6",
                    "y0": -4.5,
                    "y1": -3.41,
                    "yref": "y6"
                  },
                  {
                    "fillcolor": "rgb(243, 198, 58)",
                    "label": {
                      "text": ""
                    },
                    "opacity": 0.5,
                    "type": "rect",
                    "x0": 0,
                    "x1": 1.58,
                    "xref": "x6",
                    "y0": -8.17,
                    "y1": -6.12,
                    "yref": "y6"
                  },
                  {
                    "fillcolor": "rgb(254, 155, 45)",
                    "label": {
                      "text": ""
                    },
                    "opacity": 0.5,
                    "type": "rect",
                    "x0": 1.58,
                    "x1": 3.39,
                    "xref": "x6",
                    "y0": -8.17,
                    "y1": -6.12,
                    "yref": "y6"
                  },
                  {
                    "fillcolor": "rgb(243, 99, 21)",
                    "label": {
                      "text": ""
                    },
                    "opacity": 0.5,
                    "type": "rect",
                    "x0": 0,
                    "x1": 1.47,
                    "xref": "x6",
                    "y0": -10.84,
                    "y1": -8.17,
                    "yref": "y6"
                  },
                  {
                    "fillcolor": "rgb(217, 56, 6)",
                    "label": {
                      "text": ""
                    },
                    "opacity": 0.5,
                    "type": "rect",
                    "x0": 1.47,
                    "x1": 3.01,
                    "xref": "x6",
                    "y0": -10.77,
                    "y1": -8.17,
                    "yref": "y6"
                  },
                  {
                    "fillcolor": "rgb(177, 25, 1)",
                    "label": {
                      "text": ""
                    },
                    "opacity": 0.5,
                    "type": "rect",
                    "x0": 3.01,
                    "x1": 3.81,
                    "xref": "x6",
                    "y0": -10.84,
                    "y1": -8.17,
                    "yref": "y6"
                  },
                  {
                    "fillcolor": "rgb(122, 4, 2)",
                    "label": {
                      "text": ""
                    },
                    "opacity": 0.5,
                    "type": "rect",
                    "x0": 0,
                    "x1": 3.16,
                    "xref": "x6",
                    "y0": -13.26,
                    "y1": -10.84,
                    "yref": "y6"
                  },
                  {
                    "fillcolor": "rgb(48, 18, 59)",
                    "label": {
                      "text": ""
                    },
                    "opacity": 0.5,
                    "type": "rect",
                    "x0": 0,
                    "x1": 2.13,
                    "xref": "x7",
                    "y0": -2.45,
                    "y1": 0,
                    "yref": "y7"
                  },
                  {
                    "fillcolor": "rgb(65, 69, 171)",
                    "label": {
                      "text": ""
                    },
                    "opacity": 0.5,
                    "type": "rect",
                    "x0": 2.13,
                    "x1": 3.94,
                    "xref": "x7",
                    "y0": -2.45,
                    "y1": 0,
                    "yref": "y7"
                  },
                  {
                    "fillcolor": "rgb(70, 117, 237)",
                    "label": {
                      "text": ""
                    },
                    "opacity": 0.5,
                    "type": "rect",
                    "x0": 0,
                    "x1": 1.47,
                    "xref": "x7",
                    "y0": -3.41,
                    "y1": -2.45,
                    "yref": "y7"
                  },
                  {
                    "fillcolor": "rgb(57, 162, 252)",
                    "label": {
                      "text": ""
                    },
                    "opacity": 0.5,
                    "type": "rect",
                    "x0": 1.47,
                    "x1": 2.62,
                    "xref": "x7",
                    "y0": -3.41,
                    "y1": -2.45,
                    "yref": "y7"
                  },
                  {
                    "fillcolor": "rgb(27, 207, 212)",
                    "label": {
                      "text": ""
                    },
                    "opacity": 0.5,
                    "type": "rect",
                    "x0": 2.62,
                    "x1": 3.77,
                    "xref": "x7",
                    "y0": -3.41,
                    "y1": -2.45,
                    "yref": "y7"
                  },
                  {
                    "fillcolor": "rgb(36, 236, 166)",
                    "label": {
                      "text": ""
                    },
                    "opacity": 0.5,
                    "type": "rect",
                    "x0": 0,
                    "x1": 1.61,
                    "xref": "x7",
                    "y0": -6.12,
                    "y1": -3.41,
                    "yref": "y7"
                  },
                  {
                    "fillcolor": "rgb(97, 252, 108)",
                    "label": {
                      "text": ""
                    },
                    "opacity": 0.5,
                    "type": "rect",
                    "x0": 1.61,
                    "x1": 2.06,
                    "xref": "x7",
                    "y0": -6.12,
                    "y1": -3.41,
                    "yref": "y7"
                  },
                  {
                    "fillcolor": "rgb(164, 252, 59)",
                    "label": {
                      "text": ""
                    },
                    "opacity": 0.5,
                    "type": "rect",
                    "x0": 2.06,
                    "x1": 2.63,
                    "xref": "x7",
                    "y0": -3.8,
                    "y1": -3.41,
                    "yref": "y7"
                  },
                  {
                    "fillcolor": "rgb(209, 232, 52)",
                    "label": {
                      "text": ""
                    },
                    "opacity": 0.5,
                    "type": "rect",
                    "x0": 2.63,
                    "x1": 3.78,
                    "xref": "x7",
                    "y0": -4.5,
                    "y1": -3.41,
                    "yref": "y7"
                  },
                  {
                    "fillcolor": "rgb(243, 198, 58)",
                    "label": {
                      "text": ""
                    },
                    "opacity": 0.5,
                    "type": "rect",
                    "x0": 0,
                    "x1": 1.58,
                    "xref": "x7",
                    "y0": -8.17,
                    "y1": -6.12,
                    "yref": "y7"
                  },
                  {
                    "fillcolor": "rgb(254, 155, 45)",
                    "label": {
                      "text": ""
                    },
                    "opacity": 0.5,
                    "type": "rect",
                    "x0": 1.58,
                    "x1": 3.39,
                    "xref": "x7",
                    "y0": -8.17,
                    "y1": -6.12,
                    "yref": "y7"
                  },
                  {
                    "fillcolor": "rgb(243, 99, 21)",
                    "label": {
                      "text": ""
                    },
                    "opacity": 0.5,
                    "type": "rect",
                    "x0": 0,
                    "x1": 3.01,
                    "xref": "x7",
                    "y0": -10.84,
                    "y1": -8.17,
                    "yref": "y7"
                  },
                  {
                    "fillcolor": "rgb(217, 56, 6)",
                    "label": {
                      "text": ""
                    },
                    "opacity": 0.5,
                    "type": "rect",
                    "x0": 1.47,
                    "x1": 3.01,
                    "xref": "x7",
                    "y0": -10.77,
                    "y1": -8.17,
                    "yref": "y7"
                  },
                  {
                    "fillcolor": "rgb(177, 25, 1)",
                    "label": {
                      "text": ""
                    },
                    "opacity": 0.5,
                    "type": "rect",
                    "x0": 3.01,
                    "x1": 3.81,
                    "xref": "x7",
                    "y0": -10.84,
                    "y1": -8.17,
                    "yref": "y7"
                  },
                  {
                    "fillcolor": "rgb(122, 4, 2)",
                    "label": {
                      "text": ""
                    },
                    "opacity": 0.5,
                    "type": "rect",
                    "x0": 0,
                    "x1": 3.16,
                    "xref": "x7",
                    "y0": -13.26,
                    "y1": -10.84,
                    "yref": "y7"
                  },
                  {
                    "fillcolor": "rgb(48, 18, 59)",
                    "label": {
                      "text": ""
                    },
                    "opacity": 0.5,
                    "type": "rect",
                    "x0": 0,
                    "x1": 2.13,
                    "xref": "x8",
                    "y0": -2.45,
                    "y1": 0,
                    "yref": "y8"
                  },
                  {
                    "fillcolor": "rgb(65, 69, 171)",
                    "label": {
                      "text": ""
                    },
                    "opacity": 0.5,
                    "type": "rect",
                    "x0": 2.13,
                    "x1": 3.94,
                    "xref": "x8",
                    "y0": -2.45,
                    "y1": 0,
                    "yref": "y8"
                  },
                  {
                    "fillcolor": "rgb(70, 117, 237)",
                    "label": {
                      "text": ""
                    },
                    "opacity": 0.5,
                    "type": "rect",
                    "x0": 0,
                    "x1": 1.47,
                    "xref": "x8",
                    "y0": -3.41,
                    "y1": -2.45,
                    "yref": "y8"
                  },
                  {
                    "fillcolor": "rgb(57, 162, 252)",
                    "label": {
                      "text": ""
                    },
                    "opacity": 0.5,
                    "type": "rect",
                    "x0": 1.47,
                    "x1": 2.62,
                    "xref": "x8",
                    "y0": -3.41,
                    "y1": -2.45,
                    "yref": "y8"
                  },
                  {
                    "fillcolor": "rgb(27, 207, 212)",
                    "label": {
                      "text": ""
                    },
                    "opacity": 0.5,
                    "type": "rect",
                    "x0": 2.62,
                    "x1": 3.77,
                    "xref": "x8",
                    "y0": -3.41,
                    "y1": -2.45,
                    "yref": "y8"
                  },
                  {
                    "fillcolor": "rgb(36, 236, 166)",
                    "label": {
                      "text": ""
                    },
                    "opacity": 0.5,
                    "type": "rect",
                    "x0": 0,
                    "x1": 1.61,
                    "xref": "x8",
                    "y0": -6.12,
                    "y1": -3.41,
                    "yref": "y8"
                  },
                  {
                    "fillcolor": "rgb(97, 252, 108)",
                    "label": {
                      "text": ""
                    },
                    "opacity": 0.5,
                    "type": "rect",
                    "x0": 1.61,
                    "x1": 2.06,
                    "xref": "x8",
                    "y0": -6.12,
                    "y1": -3.41,
                    "yref": "y8"
                  },
                  {
                    "fillcolor": "rgb(164, 252, 59)",
                    "label": {
                      "text": ""
                    },
                    "opacity": 0.5,
                    "type": "rect",
                    "x0": 2.06,
                    "x1": 2.63,
                    "xref": "x8",
                    "y0": -3.8,
                    "y1": -3.41,
                    "yref": "y8"
                  },
                  {
                    "fillcolor": "rgb(209, 232, 52)",
                    "label": {
                      "text": ""
                    },
                    "opacity": 0.5,
                    "type": "rect",
                    "x0": 2.63,
                    "x1": 3.78,
                    "xref": "x8",
                    "y0": -6.12,
                    "y1": -3.41,
                    "yref": "y8"
                  },
                  {
                    "fillcolor": "rgb(243, 198, 58)",
                    "label": {
                      "text": ""
                    },
                    "opacity": 0.5,
                    "type": "rect",
                    "x0": 0,
                    "x1": 1.58,
                    "xref": "x8",
                    "y0": -8.17,
                    "y1": -6.12,
                    "yref": "y8"
                  },
                  {
                    "fillcolor": "rgb(254, 155, 45)",
                    "label": {
                      "text": ""
                    },
                    "opacity": 0.5,
                    "type": "rect",
                    "x0": 1.58,
                    "x1": 3.39,
                    "xref": "x8",
                    "y0": -8.17,
                    "y1": -6.12,
                    "yref": "y8"
                  },
                  {
                    "fillcolor": "rgb(243, 99, 21)",
                    "label": {
                      "text": ""
                    },
                    "opacity": 0.5,
                    "type": "rect",
                    "x0": 0,
                    "x1": 3.01,
                    "xref": "x8",
                    "y0": -10.84,
                    "y1": -8.17,
                    "yref": "y8"
                  },
                  {
                    "fillcolor": "rgb(217, 56, 6)",
                    "label": {
                      "text": ""
                    },
                    "opacity": 0.5,
                    "type": "rect",
                    "x0": 1.47,
                    "x1": 3.01,
                    "xref": "x8",
                    "y0": -10.77,
                    "y1": -8.17,
                    "yref": "y8"
                  },
                  {
                    "fillcolor": "rgb(177, 25, 1)",
                    "label": {
                      "text": ""
                    },
                    "opacity": 0.5,
                    "type": "rect",
                    "x0": 3.01,
                    "x1": 3.81,
                    "xref": "x8",
                    "y0": -10.84,
                    "y1": -8.17,
                    "yref": "y8"
                  },
                  {
                    "fillcolor": "rgb(122, 4, 2)",
                    "label": {
                      "text": ""
                    },
                    "opacity": 0.5,
                    "type": "rect",
                    "x0": 0,
                    "x1": 3.16,
                    "xref": "x8",
                    "y0": -13.26,
                    "y1": -10.84,
                    "yref": "y8"
                  }
                ],
                "template": {
                  "data": {
                    "bar": [
                      {
                        "error_x": {
                          "color": "#2a3f5f"
                        },
                        "error_y": {
                          "color": "#2a3f5f"
                        },
                        "marker": {
                          "line": {
                            "color": "#E5ECF6",
                            "width": 0.5
                          },
                          "pattern": {
                            "fillmode": "overlay",
                            "size": 10,
                            "solidity": 0.2
                          }
                        },
                        "type": "bar"
                      }
                    ],
                    "barpolar": [
                      {
                        "marker": {
                          "line": {
                            "color": "#E5ECF6",
                            "width": 0.5
                          },
                          "pattern": {
                            "fillmode": "overlay",
                            "size": 10,
                            "solidity": 0.2
                          }
                        },
                        "type": "barpolar"
                      }
                    ],
                    "carpet": [
                      {
                        "aaxis": {
                          "endlinecolor": "#2a3f5f",
                          "gridcolor": "white",
                          "linecolor": "white",
                          "minorgridcolor": "white",
                          "startlinecolor": "#2a3f5f"
                        },
                        "baxis": {
                          "endlinecolor": "#2a3f5f",
                          "gridcolor": "white",
                          "linecolor": "white",
                          "minorgridcolor": "white",
                          "startlinecolor": "#2a3f5f"
                        },
                        "type": "carpet"
                      }
                    ],
                    "choropleth": [
                      {
                        "colorbar": {
                          "outlinewidth": 0,
                          "ticks": ""
                        },
                        "type": "choropleth"
                      }
                    ],
                    "contour": [
                      {
                        "colorbar": {
                          "outlinewidth": 0,
                          "ticks": ""
                        },
                        "colorscale": [
                          [
                            0,
                            "#0d0887"
                          ],
                          [
                            0.1111111111111111,
                            "#46039f"
                          ],
                          [
                            0.2222222222222222,
                            "#7201a8"
                          ],
                          [
                            0.3333333333333333,
                            "#9c179e"
                          ],
                          [
                            0.4444444444444444,
                            "#bd3786"
                          ],
                          [
                            0.5555555555555556,
                            "#d8576b"
                          ],
                          [
                            0.6666666666666666,
                            "#ed7953"
                          ],
                          [
                            0.7777777777777778,
                            "#fb9f3a"
                          ],
                          [
                            0.8888888888888888,
                            "#fdca26"
                          ],
                          [
                            1,
                            "#f0f921"
                          ]
                        ],
                        "type": "contour"
                      }
                    ],
                    "contourcarpet": [
                      {
                        "colorbar": {
                          "outlinewidth": 0,
                          "ticks": ""
                        },
                        "type": "contourcarpet"
                      }
                    ],
                    "heatmap": [
                      {
                        "colorbar": {
                          "outlinewidth": 0,
                          "ticks": ""
                        },
                        "colorscale": [
                          [
                            0,
                            "#0d0887"
                          ],
                          [
                            0.1111111111111111,
                            "#46039f"
                          ],
                          [
                            0.2222222222222222,
                            "#7201a8"
                          ],
                          [
                            0.3333333333333333,
                            "#9c179e"
                          ],
                          [
                            0.4444444444444444,
                            "#bd3786"
                          ],
                          [
                            0.5555555555555556,
                            "#d8576b"
                          ],
                          [
                            0.6666666666666666,
                            "#ed7953"
                          ],
                          [
                            0.7777777777777778,
                            "#fb9f3a"
                          ],
                          [
                            0.8888888888888888,
                            "#fdca26"
                          ],
                          [
                            1,
                            "#f0f921"
                          ]
                        ],
                        "type": "heatmap"
                      }
                    ],
                    "heatmapgl": [
                      {
                        "colorbar": {
                          "outlinewidth": 0,
                          "ticks": ""
                        },
                        "colorscale": [
                          [
                            0,
                            "#0d0887"
                          ],
                          [
                            0.1111111111111111,
                            "#46039f"
                          ],
                          [
                            0.2222222222222222,
                            "#7201a8"
                          ],
                          [
                            0.3333333333333333,
                            "#9c179e"
                          ],
                          [
                            0.4444444444444444,
                            "#bd3786"
                          ],
                          [
                            0.5555555555555556,
                            "#d8576b"
                          ],
                          [
                            0.6666666666666666,
                            "#ed7953"
                          ],
                          [
                            0.7777777777777778,
                            "#fb9f3a"
                          ],
                          [
                            0.8888888888888888,
                            "#fdca26"
                          ],
                          [
                            1,
                            "#f0f921"
                          ]
                        ],
                        "type": "heatmapgl"
                      }
                    ],
                    "histogram": [
                      {
                        "marker": {
                          "pattern": {
                            "fillmode": "overlay",
                            "size": 10,
                            "solidity": 0.2
                          }
                        },
                        "type": "histogram"
                      }
                    ],
                    "histogram2d": [
                      {
                        "colorbar": {
                          "outlinewidth": 0,
                          "ticks": ""
                        },
                        "colorscale": [
                          [
                            0,
                            "#0d0887"
                          ],
                          [
                            0.1111111111111111,
                            "#46039f"
                          ],
                          [
                            0.2222222222222222,
                            "#7201a8"
                          ],
                          [
                            0.3333333333333333,
                            "#9c179e"
                          ],
                          [
                            0.4444444444444444,
                            "#bd3786"
                          ],
                          [
                            0.5555555555555556,
                            "#d8576b"
                          ],
                          [
                            0.6666666666666666,
                            "#ed7953"
                          ],
                          [
                            0.7777777777777778,
                            "#fb9f3a"
                          ],
                          [
                            0.8888888888888888,
                            "#fdca26"
                          ],
                          [
                            1,
                            "#f0f921"
                          ]
                        ],
                        "type": "histogram2d"
                      }
                    ],
                    "histogram2dcontour": [
                      {
                        "colorbar": {
                          "outlinewidth": 0,
                          "ticks": ""
                        },
                        "colorscale": [
                          [
                            0,
                            "#0d0887"
                          ],
                          [
                            0.1111111111111111,
                            "#46039f"
                          ],
                          [
                            0.2222222222222222,
                            "#7201a8"
                          ],
                          [
                            0.3333333333333333,
                            "#9c179e"
                          ],
                          [
                            0.4444444444444444,
                            "#bd3786"
                          ],
                          [
                            0.5555555555555556,
                            "#d8576b"
                          ],
                          [
                            0.6666666666666666,
                            "#ed7953"
                          ],
                          [
                            0.7777777777777778,
                            "#fb9f3a"
                          ],
                          [
                            0.8888888888888888,
                            "#fdca26"
                          ],
                          [
                            1,
                            "#f0f921"
                          ]
                        ],
                        "type": "histogram2dcontour"
                      }
                    ],
                    "mesh3d": [
                      {
                        "colorbar": {
                          "outlinewidth": 0,
                          "ticks": ""
                        },
                        "type": "mesh3d"
                      }
                    ],
                    "parcoords": [
                      {
                        "line": {
                          "colorbar": {
                            "outlinewidth": 0,
                            "ticks": ""
                          }
                        },
                        "type": "parcoords"
                      }
                    ],
                    "pie": [
                      {
                        "automargin": true,
                        "type": "pie"
                      }
                    ],
                    "scatter": [
                      {
                        "fillpattern": {
                          "fillmode": "overlay",
                          "size": 10,
                          "solidity": 0.2
                        },
                        "type": "scatter"
                      }
                    ],
                    "scatter3d": [
                      {
                        "line": {
                          "colorbar": {
                            "outlinewidth": 0,
                            "ticks": ""
                          }
                        },
                        "marker": {
                          "colorbar": {
                            "outlinewidth": 0,
                            "ticks": ""
                          }
                        },
                        "type": "scatter3d"
                      }
                    ],
                    "scattercarpet": [
                      {
                        "marker": {
                          "colorbar": {
                            "outlinewidth": 0,
                            "ticks": ""
                          }
                        },
                        "type": "scattercarpet"
                      }
                    ],
                    "scattergeo": [
                      {
                        "marker": {
                          "colorbar": {
                            "outlinewidth": 0,
                            "ticks": ""
                          }
                        },
                        "type": "scattergeo"
                      }
                    ],
                    "scattergl": [
                      {
                        "marker": {
                          "colorbar": {
                            "outlinewidth": 0,
                            "ticks": ""
                          }
                        },
                        "type": "scattergl"
                      }
                    ],
                    "scattermapbox": [
                      {
                        "marker": {
                          "colorbar": {
                            "outlinewidth": 0,
                            "ticks": ""
                          }
                        },
                        "type": "scattermapbox"
                      }
                    ],
                    "scatterpolar": [
                      {
                        "marker": {
                          "colorbar": {
                            "outlinewidth": 0,
                            "ticks": ""
                          }
                        },
                        "type": "scatterpolar"
                      }
                    ],
                    "scatterpolargl": [
                      {
                        "marker": {
                          "colorbar": {
                            "outlinewidth": 0,
                            "ticks": ""
                          }
                        },
                        "type": "scatterpolargl"
                      }
                    ],
                    "scatterternary": [
                      {
                        "marker": {
                          "colorbar": {
                            "outlinewidth": 0,
                            "ticks": ""
                          }
                        },
                        "type": "scatterternary"
                      }
                    ],
                    "surface": [
                      {
                        "colorbar": {
                          "outlinewidth": 0,
                          "ticks": ""
                        },
                        "colorscale": [
                          [
                            0,
                            "#0d0887"
                          ],
                          [
                            0.1111111111111111,
                            "#46039f"
                          ],
                          [
                            0.2222222222222222,
                            "#7201a8"
                          ],
                          [
                            0.3333333333333333,
                            "#9c179e"
                          ],
                          [
                            0.4444444444444444,
                            "#bd3786"
                          ],
                          [
                            0.5555555555555556,
                            "#d8576b"
                          ],
                          [
                            0.6666666666666666,
                            "#ed7953"
                          ],
                          [
                            0.7777777777777778,
                            "#fb9f3a"
                          ],
                          [
                            0.8888888888888888,
                            "#fdca26"
                          ],
                          [
                            1,
                            "#f0f921"
                          ]
                        ],
                        "type": "surface"
                      }
                    ],
                    "table": [
                      {
                        "cells": {
                          "fill": {
                            "color": "#EBF0F8"
                          },
                          "line": {
                            "color": "white"
                          }
                        },
                        "header": {
                          "fill": {
                            "color": "#C8D4E3"
                          },
                          "line": {
                            "color": "white"
                          }
                        },
                        "type": "table"
                      }
                    ]
                  },
                  "layout": {
                    "annotationdefaults": {
                      "arrowcolor": "#2a3f5f",
                      "arrowhead": 0,
                      "arrowwidth": 1
                    },
                    "autotypenumbers": "strict",
                    "coloraxis": {
                      "colorbar": {
                        "outlinewidth": 0,
                        "ticks": ""
                      }
                    },
                    "colorscale": {
                      "diverging": [
                        [
                          0,
                          "#8e0152"
                        ],
                        [
                          0.1,
                          "#c51b7d"
                        ],
                        [
                          0.2,
                          "#de77ae"
                        ],
                        [
                          0.3,
                          "#f1b6da"
                        ],
                        [
                          0.4,
                          "#fde0ef"
                        ],
                        [
                          0.5,
                          "#f7f7f7"
                        ],
                        [
                          0.6,
                          "#e6f5d0"
                        ],
                        [
                          0.7,
                          "#b8e186"
                        ],
                        [
                          0.8,
                          "#7fbc41"
                        ],
                        [
                          0.9,
                          "#4d9221"
                        ],
                        [
                          1,
                          "#276419"
                        ]
                      ],
                      "sequential": [
                        [
                          0,
                          "#0d0887"
                        ],
                        [
                          0.1111111111111111,
                          "#46039f"
                        ],
                        [
                          0.2222222222222222,
                          "#7201a8"
                        ],
                        [
                          0.3333333333333333,
                          "#9c179e"
                        ],
                        [
                          0.4444444444444444,
                          "#bd3786"
                        ],
                        [
                          0.5555555555555556,
                          "#d8576b"
                        ],
                        [
                          0.6666666666666666,
                          "#ed7953"
                        ],
                        [
                          0.7777777777777778,
                          "#fb9f3a"
                        ],
                        [
                          0.8888888888888888,
                          "#fdca26"
                        ],
                        [
                          1,
                          "#f0f921"
                        ]
                      ],
                      "sequentialminus": [
                        [
                          0,
                          "#0d0887"
                        ],
                        [
                          0.1111111111111111,
                          "#46039f"
                        ],
                        [
                          0.2222222222222222,
                          "#7201a8"
                        ],
                        [
                          0.3333333333333333,
                          "#9c179e"
                        ],
                        [
                          0.4444444444444444,
                          "#bd3786"
                        ],
                        [
                          0.5555555555555556,
                          "#d8576b"
                        ],
                        [
                          0.6666666666666666,
                          "#ed7953"
                        ],
                        [
                          0.7777777777777778,
                          "#fb9f3a"
                        ],
                        [
                          0.8888888888888888,
                          "#fdca26"
                        ],
                        [
                          1,
                          "#f0f921"
                        ]
                      ]
                    },
                    "colorway": [
                      "#636efa",
                      "#EF553B",
                      "#00cc96",
                      "#ab63fa",
                      "#FFA15A",
                      "#19d3f3",
                      "#FF6692",
                      "#B6E880",
                      "#FF97FF",
                      "#FECB52"
                    ],
                    "font": {
                      "color": "#2a3f5f"
                    },
                    "geo": {
                      "bgcolor": "white",
                      "lakecolor": "white",
                      "landcolor": "#E5ECF6",
                      "showlakes": true,
                      "showland": true,
                      "subunitcolor": "white"
                    },
                    "hoverlabel": {
                      "align": "left"
                    },
                    "hovermode": "closest",
                    "mapbox": {
                      "style": "light"
                    },
                    "paper_bgcolor": "white",
                    "plot_bgcolor": "#E5ECF6",
                    "polar": {
                      "angularaxis": {
                        "gridcolor": "white",
                        "linecolor": "white",
                        "ticks": ""
                      },
                      "bgcolor": "#E5ECF6",
                      "radialaxis": {
                        "gridcolor": "white",
                        "linecolor": "white",
                        "ticks": ""
                      }
                    },
                    "scene": {
                      "xaxis": {
                        "backgroundcolor": "#E5ECF6",
                        "gridcolor": "white",
                        "gridwidth": 2,
                        "linecolor": "white",
                        "showbackground": true,
                        "ticks": "",
                        "zerolinecolor": "white"
                      },
                      "yaxis": {
                        "backgroundcolor": "#E5ECF6",
                        "gridcolor": "white",
                        "gridwidth": 2,
                        "linecolor": "white",
                        "showbackground": true,
                        "ticks": "",
                        "zerolinecolor": "white"
                      },
                      "zaxis": {
                        "backgroundcolor": "#E5ECF6",
                        "gridcolor": "white",
                        "gridwidth": 2,
                        "linecolor": "white",
                        "showbackground": true,
                        "ticks": "",
                        "zerolinecolor": "white"
                      }
                    },
                    "shapedefaults": {
                      "line": {
                        "color": "#2a3f5f"
                      }
                    },
                    "ternary": {
                      "aaxis": {
                        "gridcolor": "white",
                        "linecolor": "white",
                        "ticks": ""
                      },
                      "baxis": {
                        "gridcolor": "white",
                        "linecolor": "white",
                        "ticks": ""
                      },
                      "bgcolor": "#E5ECF6",
                      "caxis": {
                        "gridcolor": "white",
                        "linecolor": "white",
                        "ticks": ""
                      }
                    },
                    "title": {
                      "x": 0.05
                    },
                    "xaxis": {
                      "automargin": true,
                      "gridcolor": "white",
                      "linecolor": "white",
                      "ticks": "",
                      "title": {
                        "standoff": 15
                      },
                      "zerolinecolor": "white",
                      "zerolinewidth": 2
                    },
                    "yaxis": {
                      "automargin": true,
                      "gridcolor": "white",
                      "linecolor": "white",
                      "ticks": "",
                      "title": {
                        "standoff": 15
                      },
                      "zerolinecolor": "white",
                      "zerolinewidth": 2
                    }
                  }
                },
                "xaxis": {
                  "anchor": "y",
                  "domain": [
                    0,
                    0.2888888888888889
                  ],
                  "range": [
                    -1,
                    12
                  ],
                  "title": {
                    "font": {
                      "size": 10
                    },
                    "text": "Init Layout"
                  }
                },
                "xaxis2": {
                  "anchor": "y2",
                  "domain": [
                    0.35555555555555557,
                    0.6444444444444445
                  ],
                  "range": [
                    -1,
                    12
                  ],
                  "title": {
                    "font": {
                      "size": 10
                    },
                    "text": "0.-m_bath-STRETCH-for-SIDE_HOLE near ['bath', 'm_bath']5-PS:17.29-S:11.15"
                  }
                },
                "xaxis3": {
                  "anchor": "y3",
                  "domain": [
                    0.7111111111111111,
                    1
                  ],
                  "range": [
                    -1,
                    12
                  ],
                  "title": {
                    "font": {
                      "size": 10
                    },
                    "text": "1.-bed1_closet-STRETCH-for-SIDE_HOLE near ['laundry', 'bed1_closet']4-PS:14.92-S:9.46"
                  }
                },
                "xaxis4": {
                  "anchor": "y4",
                  "domain": [
                    0,
                    0.2888888888888889
                  ],
                  "range": [
                    -1,
                    12
                  ],
                  "title": {
                    "font": {
                      "size": 10
                    },
                    "text": "2.-bath-STRETCH-for-SIDE_HOLE near ['kitchen', 'bath']3-PS:14.25-S:8.63"
                  }
                },
                "xaxis5": {
                  "anchor": "y5",
                  "domain": [
                    0.35555555555555557,
                    0.6444444444444445
                  ],
                  "range": [
                    -1,
                    12
                  ],
                  "title": {
                    "font": {
                      "size": 10
                    },
                    "text": "3.-m_closet-STRETCH-for-SIDE_HOLE near ['m_bath', 'm_closet']2-PS:12.48-S:7.24"
                  }
                },
                "xaxis6": {
                  "anchor": "y6",
                  "domain": [
                    0.7111111111111111,
                    1
                  ],
                  "range": [
                    -1,
                    12
                  ],
                  "title": {
                    "font": {
                      "size": 10
                    },
                    "text": "4.-den_closet-STRETCH-for-SIDE_HOLE near ['living', 'den_closet']2-PS:12.47-S:7.24"
                  }
                },
                "xaxis7": {
                  "anchor": "y7",
                  "domain": [
                    0,
                    0.2888888888888889
                  ],
                  "range": [
                    -1,
                    12
                  ],
                  "title": {
                    "font": {
                      "size": 10
                    },
                    "text": "5.-kitchen-STRETCH-for-HOLE near ['living', 'kitchen']1-PS:3.67-S:2.34"
                  }
                },
                "xaxis8": {
                  "anchor": "y8",
                  "domain": [
                    0.35555555555555557,
                    0.6444444444444445
                  ],
                  "range": [
                    -1,
                    12
                  ],
                  "title": {
                    "font": {
                      "size": 10
                    },
                    "text": "6.-laundry-STRETCH-for-SIDE_HOLE near ['den', 'laundry']1-PS:4.89-S:2.94"
                  }
                },
                "xaxis9": {
                  "anchor": "y9",
                  "domain": [
                    0.7111111111111111,
                    1
                  ]
                },
                "yaxis": {
                  "anchor": "x",
                  "domain": [
                    0.7333333333333333,
                    1
                  ],
                  "range": [
                    -10,
                    1
                  ]
                },
                "yaxis2": {
                  "anchor": "x2",
                  "domain": [
                    0.7333333333333333,
                    1
                  ],
                  "range": [
                    -10,
                    1
                  ]
                },
                "yaxis3": {
                  "anchor": "x3",
                  "domain": [
                    0.7333333333333333,
                    1
                  ],
                  "range": [
                    -10,
                    1
                  ]
                },
                "yaxis4": {
                  "anchor": "x4",
                  "domain": [
                    0.36666666666666664,
                    0.6333333333333333
                  ],
                  "range": [
                    -10,
                    1
                  ]
                },
                "yaxis5": {
                  "anchor": "x5",
                  "domain": [
                    0.36666666666666664,
                    0.6333333333333333
                  ],
                  "range": [
                    -10,
                    1
                  ]
                },
                "yaxis6": {
                  "anchor": "x6",
                  "domain": [
                    0.36666666666666664,
                    0.6333333333333333
                  ],
                  "range": [
                    -10,
                    1
                  ]
                },
                "yaxis7": {
                  "anchor": "x7",
                  "domain": [
                    0,
                    0.26666666666666666
                  ],
                  "range": [
                    -10,
                    1
                  ]
                },
                "yaxis8": {
                  "anchor": "x8",
                  "domain": [
                    0,
                    0.26666666666666666
                  ],
                  "range": [
                    -10,
                    1
                  ]
                },
                "yaxis9": {
                  "anchor": "x9",
                  "domain": [
                    0,
                    0.26666666666666666
                  ]
                }
              }
            }
          },
          "metadata": {},
          "output_type": "display_data"
        }
      ],
      "source": [
        "f = c.plot_all()"
      ]
    }
  ],
  "metadata": {
    "kernelspec": {
      "display_name": "Python 3",
      "language": "python",
      "name": "python3"
    },
    "language_info": {
      "codemirror_mode": {
        "name": "ipython",
        "version": 3
      },
      "file_extension": ".py",
      "mimetype": "text/x-python",
      "name": "python",
      "nbconvert_exporter": "python",
      "pygments_lexer": "ipython3",
      "version": "3.10.14"
    }
  },
  "nbformat": 4,
  "nbformat_minor": 2
}
