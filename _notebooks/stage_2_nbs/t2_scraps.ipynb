{
  "cells": [
    {
      "cell_type": "code",
      "execution_count": 1,
      "metadata": {},
      "outputs": [],
      "source": [
        "%load_ext autoreload\n",
        "%autoreload 2"
      ]
    },
    {
      "cell_type": "code",
      "execution_count": 2,
      "metadata": {},
      "outputs": [],
      "source": [
        "from __init__ import *\n",
        "import numpy as np\n",
        "from export.saver import read_pickle\n",
        "from helpers.layout import Layout\n",
        "from helpers.graph_helpers import *\n",
        "from helpers.helpers import sort_and_group_objects\n",
        "from typing import Dict\n",
        "from domains.domain import Domain\n",
        "from helpers.directions import get_axis, get_opposite_axis, Direction\n",
        "from placement2.arrange import *\n",
        "from copy import copy, deepcopy\n",
        "from shapely import LineString, Point, Polygon, BufferCapStyle, BufferJoinStyle, buffer"
      ]
    },
    {
      "cell_type": "code",
      "execution_count": 3,
      "metadata": {},
      "outputs": [],
      "source": [
        "layout: Layout = read_pickle(\"1001_amber_c_ag\")\n",
        "G = layout.graph"
      ]
    },
    {
      "cell_type": "code",
      "execution_count": 5,
      "metadata": {},
      "outputs": [
        {
          "name": "stdout",
          "output_type": "stream",
          "text": [
            "arrange> NORTH EAST node added when processing 2: ['corridor']\n",
            "arrange> NORTH EAST node added when processing 3: ['corridor']\n"
          ]
        },
        {
          "data": {
            "text/plain": [
              "array([['m_bed', 'bed1', '', ''],\n",
              "       ['m_closet', 'transit', 'bed1_closet', ''],\n",
              "       ['m_bath', 'corridor', 'linen', 'laundry'],\n",
              "       ['bath', 'corridor', 'den', ''],\n",
              "       ['kitchen', 'dining', 'den_closet', ''],\n",
              "       ['living', '', '', '']], dtype=object)"
            ]
          },
          "execution_count": 5,
          "metadata": {},
          "output_type": "execute_result"
        }
      ],
      "source": [
        "create_placement(layout)"
      ]
    },
    {
      "cell_type": "code",
      "execution_count": 132,
      "metadata": {},
      "outputs": [
        {
          "data": {
            "text/plain": [
              "array([['m_bed', 'bed1'],\n",
              "       ['m_closet', ''],\n",
              "       ['m_bath', ''],\n",
              "       ['bath', ''],\n",
              "       ['kitchen', ''],\n",
              "       ['living', '']], dtype=object)"
            ]
          },
          "execution_count": 132,
          "metadata": {},
          "output_type": "execute_result"
        }
      ],
      "source": [
        "arr, *_ = initialize_arr(layout)\n",
        "arr"
      ]
    },
    {
      "cell_type": "code",
      "execution_count": 128,
      "metadata": {},
      "outputs": [
        {
          "data": {
            "text/plain": [
              "{'',\n",
              " 'bath',\n",
              " 'bed1',\n",
              " 'bed1_closet',\n",
              " 'kitchen',\n",
              " 'living',\n",
              " 'm_bath',\n",
              " 'm_bed',\n",
              " 'm_closet',\n",
              " 'transit'}"
            ]
          },
          "execution_count": 128,
          "metadata": {},
          "output_type": "execute_result"
        }
      ],
      "source": []
    },
    {
      "cell_type": "code",
      "execution_count": 92,
      "metadata": {},
      "outputs": [
        {
          "name": "stderr",
          "output_type": "stream",
          "text": [
            "ic| north_east: []\n",
            "ic| possible_nodes: ['transit', 'm_closet', 'bed1_closet']\n"
          ]
        },
        {
          "data": {
            "text/plain": [
              "array([['m_bed', 'bed1', ''],\n",
              "       ['m_closet', 'transit', 'bed1_closet'],\n",
              "       ['m_bath', '', ''],\n",
              "       ['bath', '', ''],\n",
              "       ['kitchen', '', ''],\n",
              "       ['living', '', '']], dtype=object)"
            ]
          },
          "execution_count": 92,
          "metadata": {},
          "output_type": "execute_result"
        }
      ],
      "source": [
        "arr1 = place_next_row(G, arr)\n",
        "arr1"
      ]
    },
    {
      "cell_type": "code",
      "execution_count": 93,
      "metadata": {},
      "outputs": [
        {
          "name": "stderr",
          "output_type": "stream",
          "text": [
            "ic| north_east: []\n",
            "ic| possible_nodes: ['corridor', 'laundry', 'linen', 'm_bath']\n"
          ]
        },
        {
          "data": {
            "text/plain": [
              "array([['m_bed', 'bed1', '', ''],\n",
              "       ['m_closet', 'transit', 'bed1_closet', ''],\n",
              "       ['m_bath', 'corridor', 'linen', 'laundry'],\n",
              "       ['bath', '', '', ''],\n",
              "       ['kitchen', '', '', ''],\n",
              "       ['living', '', '', '']], dtype=object)"
            ]
          },
          "execution_count": 93,
          "metadata": {},
          "output_type": "execute_result"
        }
      ],
      "source": [
        "arr2 = place_next_row(G, arr1)\n",
        "arr2"
      ]
    },
    {
      "cell_type": "code",
      "execution_count": 115,
      "metadata": {},
      "outputs": [
        {
          "name": "stderr",
          "output_type": "stream",
          "text": [
            "ic| north_east: ['corridor']\n",
            "ic| possible_nodes: ['corridor', 'dining', 'bath', 'den']\n"
          ]
        },
        {
          "data": {
            "text/plain": [
              "array([['m_bed', 'bed1', '', ''],\n",
              "       ['m_closet', 'transit', 'bed1_closet', ''],\n",
              "       ['m_bath', 'corridor', 'linen', 'laundry'],\n",
              "       ['bath', 'corridor', 'den', ''],\n",
              "       ['kitchen', '', '', ''],\n",
              "       ['living', '', '', '']], dtype=object)"
            ]
          },
          "execution_count": 115,
          "metadata": {},
          "output_type": "execute_result"
        }
      ],
      "source": [
        "arr3 = place_next_row(G, arr2)\n",
        "arr3"
      ]
    },
    {
      "cell_type": "code",
      "execution_count": 118,
      "metadata": {},
      "outputs": [
        {
          "name": "stdout",
          "output_type": "stream",
          "text": [
            "{'', 'm_closet', 'm_bath', 'den', 'linen', 'bath', 'corridor', 'laundry', 'kitchen', 'bed1_closet', 'm_bed', 'bed1', 'transit', 'living'}\n"
          ]
        },
        {
          "data": {
            "text/plain": [
              "{'dining'}"
            ]
          },
          "execution_count": 118,
          "metadata": {},
          "output_type": "execute_result"
        }
      ],
      "source": [
        "aa = set(list(arr3.flatten()))\n",
        "print(aa)\n",
        "bb = {'dining', 'corridor'}\n",
        "bb.difference(aa)"
      ]
    },
    {
      "cell_type": "code",
      "execution_count": 109,
      "metadata": {},
      "outputs": [
        {
          "data": {
            "text/plain": [
              "{1, 3}"
            ]
          },
          "execution_count": 109,
          "metadata": {},
          "output_type": "execute_result"
        }
      ],
      "source": [
        "ga = {1, 2, 3}\n",
        "gb = {2, 4, 5, 6}\n",
        "ga.difference(gb)"
      ]
    },
    {
      "cell_type": "code",
      "execution_count": 119,
      "metadata": {},
      "outputs": [
        {
          "name": "stderr",
          "output_type": "stream",
          "text": [
            "ic| north_east: ['corridor']\n",
            "ic| possible_nodes: ['kitchen', 'dining', 'corridor', 'den_closet']\n",
            "ic| res: {'corridor', 'dining'}\n",
            "ic| r: ['dining']\n"
          ]
        },
        {
          "data": {
            "text/plain": [
              "array([['m_bed', 'bed1', '', ''],\n",
              "       ['m_closet', 'transit', 'bed1_closet', ''],\n",
              "       ['m_bath', 'corridor', 'linen', 'laundry'],\n",
              "       ['bath', 'corridor', 'den', ''],\n",
              "       ['kitchen', 'dining', 'den_closet', ''],\n",
              "       ['living', '', '', '']], dtype=object)"
            ]
          },
          "execution_count": 119,
          "metadata": {},
          "output_type": "execute_result"
        }
      ],
      "source": [
        "arr4 = place_next_row(G, arr3)\n",
        "arr4"
      ]
    },
    {
      "cell_type": "code",
      "execution_count": 124,
      "metadata": {},
      "outputs": [
        {
          "name": "stderr",
          "output_type": "stream",
          "text": [
            "ic"
          ]
        },
        {
          "name": "stderr",
          "output_type": "stream",
          "text": [
            "| north_east: []\n",
            "ic| possible_nodes: ['living']\n",
            "ic| row: ['living']\n"
          ]
        },
        {
          "data": {
            "text/plain": [
              "array([['m_bed', 'bed1', '', ''],\n",
              "       ['m_closet', 'transit', 'bed1_closet', ''],\n",
              "       ['m_bath', 'corridor', 'linen', 'laundry'],\n",
              "       ['bath', 'corridor', 'den', ''],\n",
              "       ['kitchen', 'dining', 'den_closet', ''],\n",
              "       ['living', '', '', '']], dtype=object)"
            ]
          },
          "execution_count": 124,
          "metadata": {},
          "output_type": "execute_result"
        }
      ],
      "source": [
        "arr5 = place_next_row(G, arr4)\n",
        "arr5"
      ]
    },
    {
      "cell_type": "code",
      "execution_count": 129,
      "metadata": {},
      "outputs": [
        {
          "data": {
            "text/plain": [
              "set()"
            ]
          },
          "execution_count": 129,
          "metadata": {},
          "output_type": "execute_result"
        }
      ],
      "source": [
        "get_unplaced(arr5, layout.domains)"
      ]
    }
  ],
  "metadata": {
    "kernelspec": {
      "display_name": "Python 3",
      "language": "python",
      "name": "python3"
    },
    "language_info": {
      "codemirror_mode": {
        "name": "ipython",
        "version": 3
      },
      "file_extension": ".py",
      "mimetype": "text/x-python",
      "name": "python",
      "nbconvert_exporter": "python",
      "pygments_lexer": "ipython3",
      "version": "3.10.14"
    }
  },
  "nbformat": 4,
  "nbformat_minor": 2
}
