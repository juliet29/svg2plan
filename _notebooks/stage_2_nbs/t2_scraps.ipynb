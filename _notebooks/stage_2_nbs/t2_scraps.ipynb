{
  "cells": [
    {
      "cell_type": "code",
      "execution_count": 1,
      "metadata": {},
      "outputs": [],
      "source": [
        "%load_ext autoreload\n",
        "%autoreload 2"
      ]
    },
    {
      "cell_type": "code",
      "execution_count": 28,
      "metadata": {},
      "outputs": [],
      "source": [
        "from __init__ import *\n",
        "import numpy as np\n",
        "from export.saver import read_pickle\n",
        "from helpers.layout import Layout\n",
        "from helpers.graph_helpers import *\n",
        "from helpers.helpers import sort_and_group_objects\n",
        "from typing import Dict\n",
        "from domains.domain import Domain\n",
        "from helpers.directions import get_axis, get_opposite_axis, Direction\n",
        "from placement2.arrange import *\n",
        "from placement2.place import *\n",
        "from copy import copy, deepcopy\n",
        "from icecream import ic\n",
        "from visuals.plotter import plot_general\n",
        "from itertools import product\n",
        "from fixes.reporter import Reporter\n",
        "from new_solutions.selection import Cook\n",
        "from domains.range import Range\n",
        "\n",
        "from fixes.problem_types.overlap_id import create_overlap_problems"
      ]
    },
    {
      "cell_type": "code",
      "execution_count": 3,
      "metadata": {},
      "outputs": [],
      "source": [
        "layout: Layout = read_pickle(\"1001_amber_c_ag\")\n",
        "G = layout.graph\n",
        "domains = layout.domains"
      ]
    },
    {
      "cell_type": "code",
      "execution_count": 4,
      "metadata": {},
      "outputs": [
        {
          "name": "stdout",
          "output_type": "stream",
          "text": [
            "arrange> NORTH EAST node added when processing 2: ['corridor']\n",
            "arrange> NORTH EAST node added when processing 3: ['corridor']\n"
          ]
        }
      ],
      "source": [
        "arr = create_arrangement(layout)\n",
        "darr = create_domains_arr(arr, layout.domains)\n",
        "darr1 = place_nodes(darr)"
      ]
    },
    {
      "cell_type": "code",
      "execution_count": 5,
      "metadata": {},
      "outputs": [
        {
          "data": {
            "text/plain": [
              "{'m_bed': Domain(m_bed, x=[0.00-2.13], y=[-2.45-0.00]),\n",
              " 'bed1': Domain(bed1, x=[2.13-3.94], y=[-2.45-0.00]),\n",
              " 'm_closet': Domain(m_closet, x=[0.00-1.47], y=[-3.33--2.45]),\n",
              " 'transit': Domain(transit, x=[1.47-2.62], y=[-3.41--2.45]),\n",
              " 'bed1_closet': Domain(bed1_closet, x=[2.62-3.77], y=[-2.82--2.45]),\n",
              " 'm_bath': Domain(m_bath, x=[0.00-1.61], y=[-4.57--3.33]),\n",
              " 'corridor': Domain(corridor, x=[1.61-2.06], y=[-6.12--3.41]),\n",
              " 'linen': Domain(linen, x=[2.06-2.63], y=[-3.80--3.41]),\n",
              " 'laundry': Domain(laundry, x=[2.63-3.78], y=[-3.91--2.82]),\n",
              " 'bath': Domain(bath, x=[0.00-1.58], y=[-5.50--4.57]),\n",
              " 'den': Domain(den, x=[2.06-3.87], y=[-5.96--3.91]),\n",
              " 'kitchen': Domain(kitchen, x=[0.00-1.47], y=[-8.17--5.50]),\n",
              " 'dining': Domain(dining, x=[1.47-3.01], y=[-8.56--5.96]),\n",
              " 'den_closet': Domain(den_closet, x=[3.01-3.81], y=[-6.32--5.96]),\n",
              " 'living': Domain(living, x=[0.00-3.16], y=[-10.59--8.17])}"
            ]
          },
          "execution_count": 5,
          "metadata": {},
          "output_type": "execute_result"
        }
      ],
      "source": [
        "doms = create_new_domains(darr1)\n",
        "doms"
      ]
    },
    {
      "cell_type": "code",
      "execution_count": 6,
      "metadata": {},
      "outputs": [
        {
          "name": "stdout",
          "output_type": "stream",
          "text": [
            "arrange> NORTH EAST node added when processing 2: ['corridor']\n",
            "arrange> NORTH EAST node added when processing 3: ['corridor']\n"
          ]
        }
      ],
      "source": [
        "lout = create_placement_and_update_layout(layout)"
      ]
    },
    {
      "cell_type": "code",
      "execution_count": 7,
      "metadata": {},
      "outputs": [
        {
          "data": {
            "application/vnd.plotly.v1+json": {
              "config": {
                "plotlyServerURL": "https://plotly.com"
              },
              "data": [],
              "layout": {
                "autosize": false,
                "height": 480,
                "margin": {
                  "b": 50,
                  "l": 50,
                  "pad": 4,
                  "r": 50,
                  "t": 50
                },
                "shapes": [
                  {
                    "fillcolor": "rgb(48, 18, 59)",
                    "label": {
                      "text": "m_bed"
                    },
                    "opacity": 0.5,
                    "type": "rect",
                    "x0": 0,
                    "x1": 2.13,
                    "xref": "x",
                    "y0": -2.45,
                    "y1": 0,
                    "yref": "y"
                  },
                  {
                    "fillcolor": "rgb(65, 69, 171)",
                    "label": {
                      "text": "bed1"
                    },
                    "opacity": 0.5,
                    "type": "rect",
                    "x0": 2.13,
                    "x1": 3.94,
                    "xref": "x",
                    "y0": -2.45,
                    "y1": 0,
                    "yref": "y"
                  },
                  {
                    "fillcolor": "rgb(70, 117, 237)",
                    "label": {
                      "text": "m_closet"
                    },
                    "opacity": 0.5,
                    "type": "rect",
                    "x0": 0,
                    "x1": 1.47,
                    "xref": "x",
                    "y0": -3.33,
                    "y1": -2.45,
                    "yref": "y"
                  },
                  {
                    "fillcolor": "rgb(57, 162, 252)",
                    "label": {
                      "text": "transit"
                    },
                    "opacity": 0.5,
                    "type": "rect",
                    "x0": 1.47,
                    "x1": 2.62,
                    "xref": "x",
                    "y0": -3.41,
                    "y1": -2.45,
                    "yref": "y"
                  },
                  {
                    "fillcolor": "rgb(27, 207, 212)",
                    "label": {
                      "text": "bed1_closet"
                    },
                    "opacity": 0.5,
                    "type": "rect",
                    "x0": 2.62,
                    "x1": 3.77,
                    "xref": "x",
                    "y0": -2.82,
                    "y1": -2.45,
                    "yref": "y"
                  },
                  {
                    "fillcolor": "rgb(36, 236, 166)",
                    "label": {
                      "text": "m_bath"
                    },
                    "opacity": 0.5,
                    "type": "rect",
                    "x0": 0,
                    "x1": 1.61,
                    "xref": "x",
                    "y0": -4.57,
                    "y1": -3.33,
                    "yref": "y"
                  },
                  {
                    "fillcolor": "rgb(97, 252, 108)",
                    "label": {
                      "text": "corridor"
                    },
                    "opacity": 0.5,
                    "type": "rect",
                    "x0": 1.61,
                    "x1": 2.06,
                    "xref": "x",
                    "y0": -6.12,
                    "y1": -3.41,
                    "yref": "y"
                  },
                  {
                    "fillcolor": "rgb(164, 252, 59)",
                    "label": {
                      "text": "linen"
                    },
                    "opacity": 0.5,
                    "type": "rect",
                    "x0": 2.06,
                    "x1": 2.63,
                    "xref": "x",
                    "y0": -3.8,
                    "y1": -3.41,
                    "yref": "y"
                  },
                  {
                    "fillcolor": "rgb(209, 232, 52)",
                    "label": {
                      "text": "laundry"
                    },
                    "opacity": 0.5,
                    "type": "rect",
                    "x0": 2.63,
                    "x1": 3.78,
                    "xref": "x",
                    "y0": -3.91,
                    "y1": -2.82,
                    "yref": "y"
                  },
                  {
                    "fillcolor": "rgb(243, 198, 58)",
                    "label": {
                      "text": "bath"
                    },
                    "opacity": 0.5,
                    "type": "rect",
                    "x0": 0,
                    "x1": 1.58,
                    "xref": "x",
                    "y0": -5.5,
                    "y1": -4.57,
                    "yref": "y"
                  },
                  {
                    "fillcolor": "rgb(254, 155, 45)",
                    "label": {
                      "text": "den"
                    },
                    "opacity": 0.5,
                    "type": "rect",
                    "x0": 2.06,
                    "x1": 3.87,
                    "xref": "x",
                    "y0": -5.96,
                    "y1": -3.91,
                    "yref": "y"
                  },
                  {
                    "fillcolor": "rgb(243, 99, 21)",
                    "label": {
                      "text": "kitchen"
                    },
                    "opacity": 0.5,
                    "type": "rect",
                    "x0": 0,
                    "x1": 1.47,
                    "xref": "x",
                    "y0": -8.17,
                    "y1": -5.5,
                    "yref": "y"
                  },
                  {
                    "fillcolor": "rgb(217, 56, 6)",
                    "label": {
                      "text": "dining"
                    },
                    "opacity": 0.5,
                    "type": "rect",
                    "x0": 1.47,
                    "x1": 3.01,
                    "xref": "x",
                    "y0": -8.56,
                    "y1": -5.96,
                    "yref": "y"
                  },
                  {
                    "fillcolor": "rgb(177, 25, 1)",
                    "label": {
                      "text": "den_closet"
                    },
                    "opacity": 0.5,
                    "type": "rect",
                    "x0": 3.01,
                    "x1": 3.81,
                    "xref": "x",
                    "y0": -6.32,
                    "y1": -5.96,
                    "yref": "y"
                  },
                  {
                    "fillcolor": "rgb(122, 4, 2)",
                    "label": {
                      "text": "living"
                    },
                    "opacity": 0.5,
                    "type": "rect",
                    "x0": 0,
                    "x1": 3.16,
                    "xref": "x",
                    "y0": -10.59,
                    "y1": -8.17,
                    "yref": "y"
                  }
                ],
                "template": {
                  "data": {
                    "bar": [
                      {
                        "error_x": {
                          "color": "#2a3f5f"
                        },
                        "error_y": {
                          "color": "#2a3f5f"
                        },
                        "marker": {
                          "line": {
                            "color": "#E5ECF6",
                            "width": 0.5
                          },
                          "pattern": {
                            "fillmode": "overlay",
                            "size": 10,
                            "solidity": 0.2
                          }
                        },
                        "type": "bar"
                      }
                    ],
                    "barpolar": [
                      {
                        "marker": {
                          "line": {
                            "color": "#E5ECF6",
                            "width": 0.5
                          },
                          "pattern": {
                            "fillmode": "overlay",
                            "size": 10,
                            "solidity": 0.2
                          }
                        },
                        "type": "barpolar"
                      }
                    ],
                    "carpet": [
                      {
                        "aaxis": {
                          "endlinecolor": "#2a3f5f",
                          "gridcolor": "white",
                          "linecolor": "white",
                          "minorgridcolor": "white",
                          "startlinecolor": "#2a3f5f"
                        },
                        "baxis": {
                          "endlinecolor": "#2a3f5f",
                          "gridcolor": "white",
                          "linecolor": "white",
                          "minorgridcolor": "white",
                          "startlinecolor": "#2a3f5f"
                        },
                        "type": "carpet"
                      }
                    ],
                    "choropleth": [
                      {
                        "colorbar": {
                          "outlinewidth": 0,
                          "ticks": ""
                        },
                        "type": "choropleth"
                      }
                    ],
                    "contour": [
                      {
                        "colorbar": {
                          "outlinewidth": 0,
                          "ticks": ""
                        },
                        "colorscale": [
                          [
                            0,
                            "#0d0887"
                          ],
                          [
                            0.1111111111111111,
                            "#46039f"
                          ],
                          [
                            0.2222222222222222,
                            "#7201a8"
                          ],
                          [
                            0.3333333333333333,
                            "#9c179e"
                          ],
                          [
                            0.4444444444444444,
                            "#bd3786"
                          ],
                          [
                            0.5555555555555556,
                            "#d8576b"
                          ],
                          [
                            0.6666666666666666,
                            "#ed7953"
                          ],
                          [
                            0.7777777777777778,
                            "#fb9f3a"
                          ],
                          [
                            0.8888888888888888,
                            "#fdca26"
                          ],
                          [
                            1,
                            "#f0f921"
                          ]
                        ],
                        "type": "contour"
                      }
                    ],
                    "contourcarpet": [
                      {
                        "colorbar": {
                          "outlinewidth": 0,
                          "ticks": ""
                        },
                        "type": "contourcarpet"
                      }
                    ],
                    "heatmap": [
                      {
                        "colorbar": {
                          "outlinewidth": 0,
                          "ticks": ""
                        },
                        "colorscale": [
                          [
                            0,
                            "#0d0887"
                          ],
                          [
                            0.1111111111111111,
                            "#46039f"
                          ],
                          [
                            0.2222222222222222,
                            "#7201a8"
                          ],
                          [
                            0.3333333333333333,
                            "#9c179e"
                          ],
                          [
                            0.4444444444444444,
                            "#bd3786"
                          ],
                          [
                            0.5555555555555556,
                            "#d8576b"
                          ],
                          [
                            0.6666666666666666,
                            "#ed7953"
                          ],
                          [
                            0.7777777777777778,
                            "#fb9f3a"
                          ],
                          [
                            0.8888888888888888,
                            "#fdca26"
                          ],
                          [
                            1,
                            "#f0f921"
                          ]
                        ],
                        "type": "heatmap"
                      }
                    ],
                    "heatmapgl": [
                      {
                        "colorbar": {
                          "outlinewidth": 0,
                          "ticks": ""
                        },
                        "colorscale": [
                          [
                            0,
                            "#0d0887"
                          ],
                          [
                            0.1111111111111111,
                            "#46039f"
                          ],
                          [
                            0.2222222222222222,
                            "#7201a8"
                          ],
                          [
                            0.3333333333333333,
                            "#9c179e"
                          ],
                          [
                            0.4444444444444444,
                            "#bd3786"
                          ],
                          [
                            0.5555555555555556,
                            "#d8576b"
                          ],
                          [
                            0.6666666666666666,
                            "#ed7953"
                          ],
                          [
                            0.7777777777777778,
                            "#fb9f3a"
                          ],
                          [
                            0.8888888888888888,
                            "#fdca26"
                          ],
                          [
                            1,
                            "#f0f921"
                          ]
                        ],
                        "type": "heatmapgl"
                      }
                    ],
                    "histogram": [
                      {
                        "marker": {
                          "pattern": {
                            "fillmode": "overlay",
                            "size": 10,
                            "solidity": 0.2
                          }
                        },
                        "type": "histogram"
                      }
                    ],
                    "histogram2d": [
                      {
                        "colorbar": {
                          "outlinewidth": 0,
                          "ticks": ""
                        },
                        "colorscale": [
                          [
                            0,
                            "#0d0887"
                          ],
                          [
                            0.1111111111111111,
                            "#46039f"
                          ],
                          [
                            0.2222222222222222,
                            "#7201a8"
                          ],
                          [
                            0.3333333333333333,
                            "#9c179e"
                          ],
                          [
                            0.4444444444444444,
                            "#bd3786"
                          ],
                          [
                            0.5555555555555556,
                            "#d8576b"
                          ],
                          [
                            0.6666666666666666,
                            "#ed7953"
                          ],
                          [
                            0.7777777777777778,
                            "#fb9f3a"
                          ],
                          [
                            0.8888888888888888,
                            "#fdca26"
                          ],
                          [
                            1,
                            "#f0f921"
                          ]
                        ],
                        "type": "histogram2d"
                      }
                    ],
                    "histogram2dcontour": [
                      {
                        "colorbar": {
                          "outlinewidth": 0,
                          "ticks": ""
                        },
                        "colorscale": [
                          [
                            0,
                            "#0d0887"
                          ],
                          [
                            0.1111111111111111,
                            "#46039f"
                          ],
                          [
                            0.2222222222222222,
                            "#7201a8"
                          ],
                          [
                            0.3333333333333333,
                            "#9c179e"
                          ],
                          [
                            0.4444444444444444,
                            "#bd3786"
                          ],
                          [
                            0.5555555555555556,
                            "#d8576b"
                          ],
                          [
                            0.6666666666666666,
                            "#ed7953"
                          ],
                          [
                            0.7777777777777778,
                            "#fb9f3a"
                          ],
                          [
                            0.8888888888888888,
                            "#fdca26"
                          ],
                          [
                            1,
                            "#f0f921"
                          ]
                        ],
                        "type": "histogram2dcontour"
                      }
                    ],
                    "mesh3d": [
                      {
                        "colorbar": {
                          "outlinewidth": 0,
                          "ticks": ""
                        },
                        "type": "mesh3d"
                      }
                    ],
                    "parcoords": [
                      {
                        "line": {
                          "colorbar": {
                            "outlinewidth": 0,
                            "ticks": ""
                          }
                        },
                        "type": "parcoords"
                      }
                    ],
                    "pie": [
                      {
                        "automargin": true,
                        "type": "pie"
                      }
                    ],
                    "scatter": [
                      {
                        "fillpattern": {
                          "fillmode": "overlay",
                          "size": 10,
                          "solidity": 0.2
                        },
                        "type": "scatter"
                      }
                    ],
                    "scatter3d": [
                      {
                        "line": {
                          "colorbar": {
                            "outlinewidth": 0,
                            "ticks": ""
                          }
                        },
                        "marker": {
                          "colorbar": {
                            "outlinewidth": 0,
                            "ticks": ""
                          }
                        },
                        "type": "scatter3d"
                      }
                    ],
                    "scattercarpet": [
                      {
                        "marker": {
                          "colorbar": {
                            "outlinewidth": 0,
                            "ticks": ""
                          }
                        },
                        "type": "scattercarpet"
                      }
                    ],
                    "scattergeo": [
                      {
                        "marker": {
                          "colorbar": {
                            "outlinewidth": 0,
                            "ticks": ""
                          }
                        },
                        "type": "scattergeo"
                      }
                    ],
                    "scattergl": [
                      {
                        "marker": {
                          "colorbar": {
                            "outlinewidth": 0,
                            "ticks": ""
                          }
                        },
                        "type": "scattergl"
                      }
                    ],
                    "scattermapbox": [
                      {
                        "marker": {
                          "colorbar": {
                            "outlinewidth": 0,
                            "ticks": ""
                          }
                        },
                        "type": "scattermapbox"
                      }
                    ],
                    "scatterpolar": [
                      {
                        "marker": {
                          "colorbar": {
                            "outlinewidth": 0,
                            "ticks": ""
                          }
                        },
                        "type": "scatterpolar"
                      }
                    ],
                    "scatterpolargl": [
                      {
                        "marker": {
                          "colorbar": {
                            "outlinewidth": 0,
                            "ticks": ""
                          }
                        },
                        "type": "scatterpolargl"
                      }
                    ],
                    "scatterternary": [
                      {
                        "marker": {
                          "colorbar": {
                            "outlinewidth": 0,
                            "ticks": ""
                          }
                        },
                        "type": "scatterternary"
                      }
                    ],
                    "surface": [
                      {
                        "colorbar": {
                          "outlinewidth": 0,
                          "ticks": ""
                        },
                        "colorscale": [
                          [
                            0,
                            "#0d0887"
                          ],
                          [
                            0.1111111111111111,
                            "#46039f"
                          ],
                          [
                            0.2222222222222222,
                            "#7201a8"
                          ],
                          [
                            0.3333333333333333,
                            "#9c179e"
                          ],
                          [
                            0.4444444444444444,
                            "#bd3786"
                          ],
                          [
                            0.5555555555555556,
                            "#d8576b"
                          ],
                          [
                            0.6666666666666666,
                            "#ed7953"
                          ],
                          [
                            0.7777777777777778,
                            "#fb9f3a"
                          ],
                          [
                            0.8888888888888888,
                            "#fdca26"
                          ],
                          [
                            1,
                            "#f0f921"
                          ]
                        ],
                        "type": "surface"
                      }
                    ],
                    "table": [
                      {
                        "cells": {
                          "fill": {
                            "color": "#EBF0F8"
                          },
                          "line": {
                            "color": "white"
                          }
                        },
                        "header": {
                          "fill": {
                            "color": "#C8D4E3"
                          },
                          "line": {
                            "color": "white"
                          }
                        },
                        "type": "table"
                      }
                    ]
                  },
                  "layout": {
                    "annotationdefaults": {
                      "arrowcolor": "#2a3f5f",
                      "arrowhead": 0,
                      "arrowwidth": 1
                    },
                    "autotypenumbers": "strict",
                    "coloraxis": {
                      "colorbar": {
                        "outlinewidth": 0,
                        "ticks": ""
                      }
                    },
                    "colorscale": {
                      "diverging": [
                        [
                          0,
                          "#8e0152"
                        ],
                        [
                          0.1,
                          "#c51b7d"
                        ],
                        [
                          0.2,
                          "#de77ae"
                        ],
                        [
                          0.3,
                          "#f1b6da"
                        ],
                        [
                          0.4,
                          "#fde0ef"
                        ],
                        [
                          0.5,
                          "#f7f7f7"
                        ],
                        [
                          0.6,
                          "#e6f5d0"
                        ],
                        [
                          0.7,
                          "#b8e186"
                        ],
                        [
                          0.8,
                          "#7fbc41"
                        ],
                        [
                          0.9,
                          "#4d9221"
                        ],
                        [
                          1,
                          "#276419"
                        ]
                      ],
                      "sequential": [
                        [
                          0,
                          "#0d0887"
                        ],
                        [
                          0.1111111111111111,
                          "#46039f"
                        ],
                        [
                          0.2222222222222222,
                          "#7201a8"
                        ],
                        [
                          0.3333333333333333,
                          "#9c179e"
                        ],
                        [
                          0.4444444444444444,
                          "#bd3786"
                        ],
                        [
                          0.5555555555555556,
                          "#d8576b"
                        ],
                        [
                          0.6666666666666666,
                          "#ed7953"
                        ],
                        [
                          0.7777777777777778,
                          "#fb9f3a"
                        ],
                        [
                          0.8888888888888888,
                          "#fdca26"
                        ],
                        [
                          1,
                          "#f0f921"
                        ]
                      ],
                      "sequentialminus": [
                        [
                          0,
                          "#0d0887"
                        ],
                        [
                          0.1111111111111111,
                          "#46039f"
                        ],
                        [
                          0.2222222222222222,
                          "#7201a8"
                        ],
                        [
                          0.3333333333333333,
                          "#9c179e"
                        ],
                        [
                          0.4444444444444444,
                          "#bd3786"
                        ],
                        [
                          0.5555555555555556,
                          "#d8576b"
                        ],
                        [
                          0.6666666666666666,
                          "#ed7953"
                        ],
                        [
                          0.7777777777777778,
                          "#fb9f3a"
                        ],
                        [
                          0.8888888888888888,
                          "#fdca26"
                        ],
                        [
                          1,
                          "#f0f921"
                        ]
                      ]
                    },
                    "colorway": [
                      "#636efa",
                      "#EF553B",
                      "#00cc96",
                      "#ab63fa",
                      "#FFA15A",
                      "#19d3f3",
                      "#FF6692",
                      "#B6E880",
                      "#FF97FF",
                      "#FECB52"
                    ],
                    "font": {
                      "color": "#2a3f5f"
                    },
                    "geo": {
                      "bgcolor": "white",
                      "lakecolor": "white",
                      "landcolor": "#E5ECF6",
                      "showlakes": true,
                      "showland": true,
                      "subunitcolor": "white"
                    },
                    "hoverlabel": {
                      "align": "left"
                    },
                    "hovermode": "closest",
                    "mapbox": {
                      "style": "light"
                    },
                    "paper_bgcolor": "white",
                    "plot_bgcolor": "#E5ECF6",
                    "polar": {
                      "angularaxis": {
                        "gridcolor": "white",
                        "linecolor": "white",
                        "ticks": ""
                      },
                      "bgcolor": "#E5ECF6",
                      "radialaxis": {
                        "gridcolor": "white",
                        "linecolor": "white",
                        "ticks": ""
                      }
                    },
                    "scene": {
                      "xaxis": {
                        "backgroundcolor": "#E5ECF6",
                        "gridcolor": "white",
                        "gridwidth": 2,
                        "linecolor": "white",
                        "showbackground": true,
                        "ticks": "",
                        "zerolinecolor": "white"
                      },
                      "yaxis": {
                        "backgroundcolor": "#E5ECF6",
                        "gridcolor": "white",
                        "gridwidth": 2,
                        "linecolor": "white",
                        "showbackground": true,
                        "ticks": "",
                        "zerolinecolor": "white"
                      },
                      "zaxis": {
                        "backgroundcolor": "#E5ECF6",
                        "gridcolor": "white",
                        "gridwidth": 2,
                        "linecolor": "white",
                        "showbackground": true,
                        "ticks": "",
                        "zerolinecolor": "white"
                      }
                    },
                    "shapedefaults": {
                      "line": {
                        "color": "#2a3f5f"
                      }
                    },
                    "ternary": {
                      "aaxis": {
                        "gridcolor": "white",
                        "linecolor": "white",
                        "ticks": ""
                      },
                      "baxis": {
                        "gridcolor": "white",
                        "linecolor": "white",
                        "ticks": ""
                      },
                      "bgcolor": "#E5ECF6",
                      "caxis": {
                        "gridcolor": "white",
                        "linecolor": "white",
                        "ticks": ""
                      }
                    },
                    "title": {
                      "x": 0.05
                    },
                    "xaxis": {
                      "automargin": true,
                      "gridcolor": "white",
                      "linecolor": "white",
                      "ticks": "",
                      "title": {
                        "standoff": 15
                      },
                      "zerolinecolor": "white",
                      "zerolinewidth": 2
                    },
                    "yaxis": {
                      "automargin": true,
                      "gridcolor": "white",
                      "linecolor": "white",
                      "ticks": "",
                      "title": {
                        "standoff": 15
                      },
                      "zerolinecolor": "white",
                      "zerolinewidth": 2
                    }
                  }
                },
                "title": {
                  "text": ""
                },
                "width": 800,
                "xaxis": {
                  "range": [
                    -1,
                    12
                  ]
                },
                "yaxis": {
                  "range": [
                    -10,
                    10
                  ]
                }
              }
            }
          },
          "metadata": {},
          "output_type": "display_data"
        }
      ],
      "source": [
        "plot_general(lout.domains)"
      ]
    },
    {
      "cell_type": "code",
      "execution_count": 8,
      "metadata": {},
      "outputs": [
        {
          "data": {
            "image/svg+xml": [
              "<svg xmlns=\"http://www.w3.org/2000/svg\" xmlns:xlink=\"http://www.w3.org/1999/xlink\" width=\"100.0\" height=\"100.0\" viewBox=\"1.4143999999999999 -6.0156 0.2512000000000003 1.5011999999999999\" preserveAspectRatio=\"xMinYMin meet\"><g transform=\"matrix(1,0,0,-1,0,-10.530000000000001)\"><path fill-rule=\"evenodd\" fill=\"#66cc99\" stroke=\"#555555\" stroke-width=\"0.030024\" opacity=\"0.6\" d=\"M 1.61,-4.57 L 1.58,-4.57 L 1.58,-5.5 L 1.47,-5.5 L 1.47,-5.96 L 1.61,-5.96 L 1.61,-4.57 z\" /></g></svg>"
            ],
            "text/plain": [
              "<POLYGON ((1.61 -4.57, 1.58 -4.57, 1.58 -5.5, 1.47 -5.5, 1.47 -5.96, 1.61 -5...>"
            ]
          },
          "execution_count": 8,
          "metadata": {},
          "output_type": "execute_result"
        }
      ],
      "source": [
        "from fixes.problem_types.hole_id import find_holes\n",
        "\n",
        "\n",
        "find_holes(list(lout.shapes.values()))[2]"
      ]
    },
    {
      "cell_type": "code",
      "execution_count": 9,
      "metadata": {},
      "outputs": [],
      "source": [
        "a = Domain.create_domain([0, 1.58, -5.50, -4.57], \"bath\")\n",
        "b = Domain.create_domain([1.47, 1.61, -5.96, -4.57], \"hole\")"
      ]
    },
    {
      "cell_type": "code",
      "execution_count": 10,
      "metadata": {},
      "outputs": [
        {
          "data": {
            "text/plain": [
              "([-5.50--4.57], [-5.96--4.57])"
            ]
          },
          "execution_count": 10,
          "metadata": {},
          "output_type": "execute_result"
        }
      ],
      "source": [
        "(a.y, b.y)"
      ]
    },
    {
      "cell_type": "code",
      "execution_count": 11,
      "metadata": {},
      "outputs": [
        {
          "data": {
            "text/plain": [
              "(Lesser=None, Greater=None)"
            ]
          },
          "execution_count": 11,
          "metadata": {},
          "output_type": "execute_result"
        }
      ],
      "source": [
        "a.y.compare_ranges(b.y)"
      ]
    },
    {
      "cell_type": "code",
      "execution_count": 12,
      "metadata": {},
      "outputs": [
        {
          "data": {
            "text/plain": [
              "N=None \n",
              " S=None \n",
              " E=None \n",
              " W=None"
            ]
          },
          "execution_count": 12,
          "metadata": {},
          "output_type": "execute_result"
        }
      ],
      "source": [
        "a.compare_domains(b)"
      ]
    },
    {
      "cell_type": "code",
      "execution_count": null,
      "metadata": {},
      "outputs": [],
      "source": []
    },
    {
      "cell_type": "code",
      "execution_count": 13,
      "metadata": {},
      "outputs": [
        {
          "data": {
            "text/plain": [
              "[Problem(ix=1, HOLE, ['corridor', 'den', 'linen', 'laundry'], resolved=False,  n_actions=4,\n",
              " Problem(ix=2, HOLE, ['kitchen', 'bath', 'corridor', 'm_bath', 'dining'], resolved=False,  n_actions=4,\n",
              " Problem(ix=3, OVERLAP, ['dining', 'corridor'], resolved=False,  n_actions=2,\n",
              " Problem(ix=4, HOLE, ['transit', 'linen', 'laundry', 'bed1_closet'], resolved=False,  n_actions=4,\n",
              " Problem(ix=5, OVERLAP, ['living', 'dining'], resolved=False,  n_actions=2,\n",
              " Problem(ix=6, SIDE_HOLE, ['living', 'den_closet'], resolved=False,  n_actions=2]"
            ]
          },
          "execution_count": 13,
          "metadata": {},
          "output_type": "execute_result"
        }
      ],
      "source": [
        "re = Reporter(lout)\n",
        "re.run()\n",
        "re.problems"
      ]
    },
    {
      "cell_type": "code",
      "execution_count": 14,
      "metadata": {},
      "outputs": [
        {
          "name": "stdout",
          "output_type": "stream",
          "text": [
            "initializing.. 0\n",
            "running again -> 1\n",
            "problem being studied: -> Problem(ix=1, HOLE, ['corridor', 'den', 'linen', 'laundry'], resolved=False,  n_actions=4\n",
            "next best layout linen-STRETCH-for-HOLE near ['corridor', 'den']5-PS:7.98-S:6.49\n"
          ]
        }
      ],
      "source": [
        "c = Cook(re)"
      ]
    },
    {
      "cell_type": "code",
      "execution_count": 26,
      "metadata": {},
      "outputs": [
        {
          "data": {
            "text/plain": [
              "[node: linen, action: STRETCH, summary: Counter({'HOLE': 2, 'OVERLAP': 2, 'SIDE_HOLE': 1}), # unres probs: 5,\n",
              " node: corridor, action: SQUEEZE, summary: Counter({'HOLE': 2, 'OVERLAP': 1, 'SIDE_HOLE': 1}), # unres probs: 4,\n",
              " node: dining, action: SQUEEZE, summary: Counter({'HOLE': 2, 'SIDE_HOLE': 1}), # unres probs: 3,\n",
              " node: den_closet, action: STRETCH, summary: Counter({'HOLE': 2}), # unres probs: 2,\n",
              " node: transit, action: STRETCH, summary: Counter({'HOLE': 1, 'OVERLAP': 1}), # unres probs: 2,\n",
              " node: bed1_closet, action: PUSH, summary: Counter({'HOLE': 1}), # unres probs: 1,\n",
              " node: kitchen, action: PULL, summary: Counter({'OVERLAP': 1, 'HOLE': 1}), # unres probs: 2]"
            ]
          },
          "execution_count": 26,
          "metadata": {},
          "output_type": "execute_result"
        }
      ],
      "source": [
        "c.bl_hist"
      ]
    },
    {
      "cell_type": "code",
      "execution_count": 40,
      "metadata": {},
      "outputs": [
        {
          "data": {
            "application/vnd.plotly.v1+json": {
              "config": {
                "plotlyServerURL": "https://plotly.com"
              },
              "data": [],
              "layout": {
                "autosize": false,
                "height": 480,
                "margin": {
                  "b": 50,
                  "l": 50,
                  "pad": 4,
                  "r": 50,
                  "t": 50
                },
                "shapes": [
                  {
                    "fillcolor": "rgb(48, 18, 59)",
                    "label": {
                      "text": "m_bed"
                    },
                    "opacity": 0.5,
                    "type": "rect",
                    "x0": 0,
                    "x1": 2.13,
                    "xref": "x",
                    "y0": -2.45,
                    "y1": 0,
                    "yref": "y"
                  },
                  {
                    "fillcolor": "rgb(65, 69, 171)",
                    "label": {
                      "text": "bed1"
                    },
                    "opacity": 0.5,
                    "type": "rect",
                    "x0": 2.13,
                    "x1": 3.94,
                    "xref": "x",
                    "y0": -2.45,
                    "y1": 0,
                    "yref": "y"
                  },
                  {
                    "fillcolor": "rgb(70, 117, 237)",
                    "label": {
                      "text": "m_closet"
                    },
                    "opacity": 0.5,
                    "type": "rect",
                    "x0": 0,
                    "x1": 1.47,
                    "xref": "x",
                    "y0": -3.33,
                    "y1": -2.45,
                    "yref": "y"
                  },
                  {
                    "fillcolor": "rgb(57, 162, 252)",
                    "label": {
                      "text": "transit"
                    },
                    "opacity": 0.5,
                    "type": "rect",
                    "x0": 1.47,
                    "x1": 2.63,
                    "xref": "x",
                    "y0": -3.41,
                    "y1": -2.45,
                    "yref": "y"
                  },
                  {
                    "fillcolor": "rgb(27, 207, 212)",
                    "label": {
                      "text": "bed1_closet"
                    },
                    "opacity": 0.5,
                    "type": "rect",
                    "x0": 2.63,
                    "x1": 3.78,
                    "xref": "x",
                    "y0": -2.82,
                    "y1": -2.45,
                    "yref": "y"
                  },
                  {
                    "fillcolor": "rgb(36, 236, 166)",
                    "label": {
                      "text": "m_bath"
                    },
                    "opacity": 0.5,
                    "type": "rect",
                    "x0": 0,
                    "x1": 1.61,
                    "xref": "x",
                    "y0": -4.57,
                    "y1": -3.33,
                    "yref": "y"
                  },
                  {
                    "fillcolor": "rgb(97, 252, 108)",
                    "label": {
                      "text": "corridor"
                    },
                    "opacity": 0.5,
                    "type": "rect",
                    "x0": 1.61,
                    "x1": 2.06,
                    "xref": "x",
                    "y0": -5.96,
                    "y1": -3.41,
                    "yref": "y"
                  },
                  {
                    "fillcolor": "rgb(164, 252, 59)",
                    "label": {
                      "text": "linen"
                    },
                    "opacity": 0.5,
                    "type": "rect",
                    "x0": 2.06,
                    "x1": 2.63,
                    "xref": "x",
                    "y0": -3.91,
                    "y1": -3.41,
                    "yref": "y"
                  },
                  {
                    "fillcolor": "rgb(209, 232, 52)",
                    "label": {
                      "text": "laundry"
                    },
                    "opacity": 0.5,
                    "type": "rect",
                    "x0": 2.63,
                    "x1": 3.78,
                    "xref": "x",
                    "y0": -3.91,
                    "y1": -2.82,
                    "yref": "y"
                  },
                  {
                    "fillcolor": "rgb(243, 198, 58)",
                    "label": {
                      "text": "bath"
                    },
                    "opacity": 0.5,
                    "type": "rect",
                    "x0": 0.03,
                    "x1": 1.61,
                    "xref": "x",
                    "y0": -5.5,
                    "y1": -4.57,
                    "yref": "y"
                  },
                  {
                    "fillcolor": "rgb(254, 155, 45)",
                    "label": {
                      "text": "den"
                    },
                    "opacity": 0.5,
                    "type": "rect",
                    "x0": 2.06,
                    "x1": 3.87,
                    "xref": "x",
                    "y0": -5.96,
                    "y1": -3.91,
                    "yref": "y"
                  },
                  {
                    "fillcolor": "rgb(243, 99, 21)",
                    "label": {
                      "text": "kitchen"
                    },
                    "opacity": 0.5,
                    "type": "rect",
                    "x0": 0.14,
                    "x1": 1.61,
                    "xref": "x",
                    "y0": -8.17,
                    "y1": -5.5,
                    "yref": "y"
                  },
                  {
                    "fillcolor": "rgb(217, 56, 6)",
                    "label": {
                      "text": "dining"
                    },
                    "opacity": 0.5,
                    "type": "rect",
                    "x0": 1.61,
                    "x1": 3.01,
                    "xref": "x",
                    "y0": -8.17,
                    "y1": -5.96,
                    "yref": "y"
                  },
                  {
                    "fillcolor": "rgb(177, 25, 1)",
                    "label": {
                      "text": "den_closet"
                    },
                    "opacity": 0.5,
                    "type": "rect",
                    "x0": 3.01,
                    "x1": 3.81,
                    "xref": "x",
                    "y0": -8.17,
                    "y1": -5.96,
                    "yref": "y"
                  },
                  {
                    "fillcolor": "rgb(122, 4, 2)",
                    "label": {
                      "text": "living"
                    },
                    "opacity": 0.5,
                    "type": "rect",
                    "x0": 0,
                    "x1": 3.16,
                    "xref": "x",
                    "y0": -10.59,
                    "y1": -8.17,
                    "yref": "y"
                  }
                ],
                "template": {
                  "data": {
                    "bar": [
                      {
                        "error_x": {
                          "color": "#2a3f5f"
                        },
                        "error_y": {
                          "color": "#2a3f5f"
                        },
                        "marker": {
                          "line": {
                            "color": "#E5ECF6",
                            "width": 0.5
                          },
                          "pattern": {
                            "fillmode": "overlay",
                            "size": 10,
                            "solidity": 0.2
                          }
                        },
                        "type": "bar"
                      }
                    ],
                    "barpolar": [
                      {
                        "marker": {
                          "line": {
                            "color": "#E5ECF6",
                            "width": 0.5
                          },
                          "pattern": {
                            "fillmode": "overlay",
                            "size": 10,
                            "solidity": 0.2
                          }
                        },
                        "type": "barpolar"
                      }
                    ],
                    "carpet": [
                      {
                        "aaxis": {
                          "endlinecolor": "#2a3f5f",
                          "gridcolor": "white",
                          "linecolor": "white",
                          "minorgridcolor": "white",
                          "startlinecolor": "#2a3f5f"
                        },
                        "baxis": {
                          "endlinecolor": "#2a3f5f",
                          "gridcolor": "white",
                          "linecolor": "white",
                          "minorgridcolor": "white",
                          "startlinecolor": "#2a3f5f"
                        },
                        "type": "carpet"
                      }
                    ],
                    "choropleth": [
                      {
                        "colorbar": {
                          "outlinewidth": 0,
                          "ticks": ""
                        },
                        "type": "choropleth"
                      }
                    ],
                    "contour": [
                      {
                        "colorbar": {
                          "outlinewidth": 0,
                          "ticks": ""
                        },
                        "colorscale": [
                          [
                            0,
                            "#0d0887"
                          ],
                          [
                            0.1111111111111111,
                            "#46039f"
                          ],
                          [
                            0.2222222222222222,
                            "#7201a8"
                          ],
                          [
                            0.3333333333333333,
                            "#9c179e"
                          ],
                          [
                            0.4444444444444444,
                            "#bd3786"
                          ],
                          [
                            0.5555555555555556,
                            "#d8576b"
                          ],
                          [
                            0.6666666666666666,
                            "#ed7953"
                          ],
                          [
                            0.7777777777777778,
                            "#fb9f3a"
                          ],
                          [
                            0.8888888888888888,
                            "#fdca26"
                          ],
                          [
                            1,
                            "#f0f921"
                          ]
                        ],
                        "type": "contour"
                      }
                    ],
                    "contourcarpet": [
                      {
                        "colorbar": {
                          "outlinewidth": 0,
                          "ticks": ""
                        },
                        "type": "contourcarpet"
                      }
                    ],
                    "heatmap": [
                      {
                        "colorbar": {
                          "outlinewidth": 0,
                          "ticks": ""
                        },
                        "colorscale": [
                          [
                            0,
                            "#0d0887"
                          ],
                          [
                            0.1111111111111111,
                            "#46039f"
                          ],
                          [
                            0.2222222222222222,
                            "#7201a8"
                          ],
                          [
                            0.3333333333333333,
                            "#9c179e"
                          ],
                          [
                            0.4444444444444444,
                            "#bd3786"
                          ],
                          [
                            0.5555555555555556,
                            "#d8576b"
                          ],
                          [
                            0.6666666666666666,
                            "#ed7953"
                          ],
                          [
                            0.7777777777777778,
                            "#fb9f3a"
                          ],
                          [
                            0.8888888888888888,
                            "#fdca26"
                          ],
                          [
                            1,
                            "#f0f921"
                          ]
                        ],
                        "type": "heatmap"
                      }
                    ],
                    "heatmapgl": [
                      {
                        "colorbar": {
                          "outlinewidth": 0,
                          "ticks": ""
                        },
                        "colorscale": [
                          [
                            0,
                            "#0d0887"
                          ],
                          [
                            0.1111111111111111,
                            "#46039f"
                          ],
                          [
                            0.2222222222222222,
                            "#7201a8"
                          ],
                          [
                            0.3333333333333333,
                            "#9c179e"
                          ],
                          [
                            0.4444444444444444,
                            "#bd3786"
                          ],
                          [
                            0.5555555555555556,
                            "#d8576b"
                          ],
                          [
                            0.6666666666666666,
                            "#ed7953"
                          ],
                          [
                            0.7777777777777778,
                            "#fb9f3a"
                          ],
                          [
                            0.8888888888888888,
                            "#fdca26"
                          ],
                          [
                            1,
                            "#f0f921"
                          ]
                        ],
                        "type": "heatmapgl"
                      }
                    ],
                    "histogram": [
                      {
                        "marker": {
                          "pattern": {
                            "fillmode": "overlay",
                            "size": 10,
                            "solidity": 0.2
                          }
                        },
                        "type": "histogram"
                      }
                    ],
                    "histogram2d": [
                      {
                        "colorbar": {
                          "outlinewidth": 0,
                          "ticks": ""
                        },
                        "colorscale": [
                          [
                            0,
                            "#0d0887"
                          ],
                          [
                            0.1111111111111111,
                            "#46039f"
                          ],
                          [
                            0.2222222222222222,
                            "#7201a8"
                          ],
                          [
                            0.3333333333333333,
                            "#9c179e"
                          ],
                          [
                            0.4444444444444444,
                            "#bd3786"
                          ],
                          [
                            0.5555555555555556,
                            "#d8576b"
                          ],
                          [
                            0.6666666666666666,
                            "#ed7953"
                          ],
                          [
                            0.7777777777777778,
                            "#fb9f3a"
                          ],
                          [
                            0.8888888888888888,
                            "#fdca26"
                          ],
                          [
                            1,
                            "#f0f921"
                          ]
                        ],
                        "type": "histogram2d"
                      }
                    ],
                    "histogram2dcontour": [
                      {
                        "colorbar": {
                          "outlinewidth": 0,
                          "ticks": ""
                        },
                        "colorscale": [
                          [
                            0,
                            "#0d0887"
                          ],
                          [
                            0.1111111111111111,
                            "#46039f"
                          ],
                          [
                            0.2222222222222222,
                            "#7201a8"
                          ],
                          [
                            0.3333333333333333,
                            "#9c179e"
                          ],
                          [
                            0.4444444444444444,
                            "#bd3786"
                          ],
                          [
                            0.5555555555555556,
                            "#d8576b"
                          ],
                          [
                            0.6666666666666666,
                            "#ed7953"
                          ],
                          [
                            0.7777777777777778,
                            "#fb9f3a"
                          ],
                          [
                            0.8888888888888888,
                            "#fdca26"
                          ],
                          [
                            1,
                            "#f0f921"
                          ]
                        ],
                        "type": "histogram2dcontour"
                      }
                    ],
                    "mesh3d": [
                      {
                        "colorbar": {
                          "outlinewidth": 0,
                          "ticks": ""
                        },
                        "type": "mesh3d"
                      }
                    ],
                    "parcoords": [
                      {
                        "line": {
                          "colorbar": {
                            "outlinewidth": 0,
                            "ticks": ""
                          }
                        },
                        "type": "parcoords"
                      }
                    ],
                    "pie": [
                      {
                        "automargin": true,
                        "type": "pie"
                      }
                    ],
                    "scatter": [
                      {
                        "fillpattern": {
                          "fillmode": "overlay",
                          "size": 10,
                          "solidity": 0.2
                        },
                        "type": "scatter"
                      }
                    ],
                    "scatter3d": [
                      {
                        "line": {
                          "colorbar": {
                            "outlinewidth": 0,
                            "ticks": ""
                          }
                        },
                        "marker": {
                          "colorbar": {
                            "outlinewidth": 0,
                            "ticks": ""
                          }
                        },
                        "type": "scatter3d"
                      }
                    ],
                    "scattercarpet": [
                      {
                        "marker": {
                          "colorbar": {
                            "outlinewidth": 0,
                            "ticks": ""
                          }
                        },
                        "type": "scattercarpet"
                      }
                    ],
                    "scattergeo": [
                      {
                        "marker": {
                          "colorbar": {
                            "outlinewidth": 0,
                            "ticks": ""
                          }
                        },
                        "type": "scattergeo"
                      }
                    ],
                    "scattergl": [
                      {
                        "marker": {
                          "colorbar": {
                            "outlinewidth": 0,
                            "ticks": ""
                          }
                        },
                        "type": "scattergl"
                      }
                    ],
                    "scattermapbox": [
                      {
                        "marker": {
                          "colorbar": {
                            "outlinewidth": 0,
                            "ticks": ""
                          }
                        },
                        "type": "scattermapbox"
                      }
                    ],
                    "scatterpolar": [
                      {
                        "marker": {
                          "colorbar": {
                            "outlinewidth": 0,
                            "ticks": ""
                          }
                        },
                        "type": "scatterpolar"
                      }
                    ],
                    "scatterpolargl": [
                      {
                        "marker": {
                          "colorbar": {
                            "outlinewidth": 0,
                            "ticks": ""
                          }
                        },
                        "type": "scatterpolargl"
                      }
                    ],
                    "scatterternary": [
                      {
                        "marker": {
                          "colorbar": {
                            "outlinewidth": 0,
                            "ticks": ""
                          }
                        },
                        "type": "scatterternary"
                      }
                    ],
                    "surface": [
                      {
                        "colorbar": {
                          "outlinewidth": 0,
                          "ticks": ""
                        },
                        "colorscale": [
                          [
                            0,
                            "#0d0887"
                          ],
                          [
                            0.1111111111111111,
                            "#46039f"
                          ],
                          [
                            0.2222222222222222,
                            "#7201a8"
                          ],
                          [
                            0.3333333333333333,
                            "#9c179e"
                          ],
                          [
                            0.4444444444444444,
                            "#bd3786"
                          ],
                          [
                            0.5555555555555556,
                            "#d8576b"
                          ],
                          [
                            0.6666666666666666,
                            "#ed7953"
                          ],
                          [
                            0.7777777777777778,
                            "#fb9f3a"
                          ],
                          [
                            0.8888888888888888,
                            "#fdca26"
                          ],
                          [
                            1,
                            "#f0f921"
                          ]
                        ],
                        "type": "surface"
                      }
                    ],
                    "table": [
                      {
                        "cells": {
                          "fill": {
                            "color": "#EBF0F8"
                          },
                          "line": {
                            "color": "white"
                          }
                        },
                        "header": {
                          "fill": {
                            "color": "#C8D4E3"
                          },
                          "line": {
                            "color": "white"
                          }
                        },
                        "type": "table"
                      }
                    ]
                  },
                  "layout": {
                    "annotationdefaults": {
                      "arrowcolor": "#2a3f5f",
                      "arrowhead": 0,
                      "arrowwidth": 1
                    },
                    "autotypenumbers": "strict",
                    "coloraxis": {
                      "colorbar": {
                        "outlinewidth": 0,
                        "ticks": ""
                      }
                    },
                    "colorscale": {
                      "diverging": [
                        [
                          0,
                          "#8e0152"
                        ],
                        [
                          0.1,
                          "#c51b7d"
                        ],
                        [
                          0.2,
                          "#de77ae"
                        ],
                        [
                          0.3,
                          "#f1b6da"
                        ],
                        [
                          0.4,
                          "#fde0ef"
                        ],
                        [
                          0.5,
                          "#f7f7f7"
                        ],
                        [
                          0.6,
                          "#e6f5d0"
                        ],
                        [
                          0.7,
                          "#b8e186"
                        ],
                        [
                          0.8,
                          "#7fbc41"
                        ],
                        [
                          0.9,
                          "#4d9221"
                        ],
                        [
                          1,
                          "#276419"
                        ]
                      ],
                      "sequential": [
                        [
                          0,
                          "#0d0887"
                        ],
                        [
                          0.1111111111111111,
                          "#46039f"
                        ],
                        [
                          0.2222222222222222,
                          "#7201a8"
                        ],
                        [
                          0.3333333333333333,
                          "#9c179e"
                        ],
                        [
                          0.4444444444444444,
                          "#bd3786"
                        ],
                        [
                          0.5555555555555556,
                          "#d8576b"
                        ],
                        [
                          0.6666666666666666,
                          "#ed7953"
                        ],
                        [
                          0.7777777777777778,
                          "#fb9f3a"
                        ],
                        [
                          0.8888888888888888,
                          "#fdca26"
                        ],
                        [
                          1,
                          "#f0f921"
                        ]
                      ],
                      "sequentialminus": [
                        [
                          0,
                          "#0d0887"
                        ],
                        [
                          0.1111111111111111,
                          "#46039f"
                        ],
                        [
                          0.2222222222222222,
                          "#7201a8"
                        ],
                        [
                          0.3333333333333333,
                          "#9c179e"
                        ],
                        [
                          0.4444444444444444,
                          "#bd3786"
                        ],
                        [
                          0.5555555555555556,
                          "#d8576b"
                        ],
                        [
                          0.6666666666666666,
                          "#ed7953"
                        ],
                        [
                          0.7777777777777778,
                          "#fb9f3a"
                        ],
                        [
                          0.8888888888888888,
                          "#fdca26"
                        ],
                        [
                          1,
                          "#f0f921"
                        ]
                      ]
                    },
                    "colorway": [
                      "#636efa",
                      "#EF553B",
                      "#00cc96",
                      "#ab63fa",
                      "#FFA15A",
                      "#19d3f3",
                      "#FF6692",
                      "#B6E880",
                      "#FF97FF",
                      "#FECB52"
                    ],
                    "font": {
                      "color": "#2a3f5f"
                    },
                    "geo": {
                      "bgcolor": "white",
                      "lakecolor": "white",
                      "landcolor": "#E5ECF6",
                      "showlakes": true,
                      "showland": true,
                      "subunitcolor": "white"
                    },
                    "hoverlabel": {
                      "align": "left"
                    },
                    "hovermode": "closest",
                    "mapbox": {
                      "style": "light"
                    },
                    "paper_bgcolor": "white",
                    "plot_bgcolor": "#E5ECF6",
                    "polar": {
                      "angularaxis": {
                        "gridcolor": "white",
                        "linecolor": "white",
                        "ticks": ""
                      },
                      "bgcolor": "#E5ECF6",
                      "radialaxis": {
                        "gridcolor": "white",
                        "linecolor": "white",
                        "ticks": ""
                      }
                    },
                    "scene": {
                      "xaxis": {
                        "backgroundcolor": "#E5ECF6",
                        "gridcolor": "white",
                        "gridwidth": 2,
                        "linecolor": "white",
                        "showbackground": true,
                        "ticks": "",
                        "zerolinecolor": "white"
                      },
                      "yaxis": {
                        "backgroundcolor": "#E5ECF6",
                        "gridcolor": "white",
                        "gridwidth": 2,
                        "linecolor": "white",
                        "showbackground": true,
                        "ticks": "",
                        "zerolinecolor": "white"
                      },
                      "zaxis": {
                        "backgroundcolor": "#E5ECF6",
                        "gridcolor": "white",
                        "gridwidth": 2,
                        "linecolor": "white",
                        "showbackground": true,
                        "ticks": "",
                        "zerolinecolor": "white"
                      }
                    },
                    "shapedefaults": {
                      "line": {
                        "color": "#2a3f5f"
                      }
                    },
                    "ternary": {
                      "aaxis": {
                        "gridcolor": "white",
                        "linecolor": "white",
                        "ticks": ""
                      },
                      "baxis": {
                        "gridcolor": "white",
                        "linecolor": "white",
                        "ticks": ""
                      },
                      "bgcolor": "#E5ECF6",
                      "caxis": {
                        "gridcolor": "white",
                        "linecolor": "white",
                        "ticks": ""
                      }
                    },
                    "title": {
                      "x": 0.05
                    },
                    "xaxis": {
                      "automargin": true,
                      "gridcolor": "white",
                      "linecolor": "white",
                      "ticks": "",
                      "title": {
                        "standoff": 15
                      },
                      "zerolinecolor": "white",
                      "zerolinewidth": 2
                    },
                    "yaxis": {
                      "automargin": true,
                      "gridcolor": "white",
                      "linecolor": "white",
                      "ticks": "",
                      "title": {
                        "standoff": 15
                      },
                      "zerolinecolor": "white",
                      "zerolinewidth": 2
                    }
                  }
                },
                "title": {
                  "text": ""
                },
                "width": 800,
                "xaxis": {
                  "range": [
                    -1,
                    12
                  ]
                },
                "yaxis": {
                  "range": [
                    -10,
                    10
                  ]
                }
              }
            }
          },
          "metadata": {},
          "output_type": "display_data"
        }
      ],
      "source": [
        "plot_general(c.bl_hist[-1].layout.domains)"
      ]
    },
    {
      "cell_type": "code",
      "execution_count": 33,
      "metadata": {},
      "outputs": [
        {
          "data": {
            "text/plain": [
              "[<ActionType.PUSH: 1>, <ActionType.SQUEEZE: 4>]"
            ]
          },
          "execution_count": 33,
          "metadata": {},
          "output_type": "execute_result"
        }
      ],
      "source": [
        "p = create_overlap_problems(c.bl_hist[-1].layout)\n",
        "p[0].action_details[1].action_types"
      ]
    },
    {
      "cell_type": "code",
      "execution_count": 38,
      "metadata": {},
      "outputs": [
        {
          "name": "stdout",
          "output_type": "stream",
          "text": [
            "running again -> 9\n",
            "problem being studied: -> Problem(ix=3, HOLE, ['kitchen', 'bath', 'corridor', 'm_bath'], resolved=False,  n_actions=4\n",
            "next best layout bath-PULL-for-HOLE near ['kitchen', 'bath']0-PS:0.03-S:0.01\n"
          ]
        }
      ],
      "source": [
        "c.run_again()\n"
      ]
    },
    {
      "cell_type": "code",
      "execution_count": 39,
      "metadata": {},
      "outputs": [
        {
          "name": "stdout",
          "output_type": "stream",
          "text": [
            "len sols = 9. Len indices = 9\n"
          ]
        },
        {
          "data": {
            "application/vnd.plotly.v1+json": {
              "config": {
                "plotlyServerURL": "https://plotly.com"
              },
              "data": [],
              "layout": {
                "shapes": [
                  {
                    "fillcolor": "rgb(48, 18, 59)",
                    "label": {
                      "text": "m_bed"
                    },
                    "opacity": 0.5,
                    "type": "rect",
                    "x0": 0,
                    "x1": 2.13,
                    "xref": "x",
                    "y0": -2.45,
                    "y1": 0,
                    "yref": "y"
                  },
                  {
                    "fillcolor": "rgb(65, 69, 171)",
                    "label": {
                      "text": "bed1"
                    },
                    "opacity": 0.5,
                    "type": "rect",
                    "x0": 2.13,
                    "x1": 3.94,
                    "xref": "x",
                    "y0": -2.45,
                    "y1": 0,
                    "yref": "y"
                  },
                  {
                    "fillcolor": "rgb(70, 117, 237)",
                    "label": {
                      "text": "m_closet"
                    },
                    "opacity": 0.5,
                    "type": "rect",
                    "x0": 0,
                    "x1": 1.47,
                    "xref": "x",
                    "y0": -3.33,
                    "y1": -2.45,
                    "yref": "y"
                  },
                  {
                    "fillcolor": "rgb(57, 162, 252)",
                    "label": {
                      "text": "transit"
                    },
                    "opacity": 0.5,
                    "type": "rect",
                    "x0": 1.47,
                    "x1": 2.62,
                    "xref": "x",
                    "y0": -3.41,
                    "y1": -2.45,
                    "yref": "y"
                  },
                  {
                    "fillcolor": "rgb(27, 207, 212)",
                    "label": {
                      "text": "bed1_closet"
                    },
                    "opacity": 0.5,
                    "type": "rect",
                    "x0": 2.62,
                    "x1": 3.77,
                    "xref": "x",
                    "y0": -2.82,
                    "y1": -2.45,
                    "yref": "y"
                  },
                  {
                    "fillcolor": "rgb(36, 236, 166)",
                    "label": {
                      "text": "m_bath"
                    },
                    "opacity": 0.5,
                    "type": "rect",
                    "x0": 0,
                    "x1": 1.61,
                    "xref": "x",
                    "y0": -4.57,
                    "y1": -3.33,
                    "yref": "y"
                  },
                  {
                    "fillcolor": "rgb(97, 252, 108)",
                    "label": {
                      "text": "corridor"
                    },
                    "opacity": 0.5,
                    "type": "rect",
                    "x0": 1.61,
                    "x1": 2.06,
                    "xref": "x",
                    "y0": -6.12,
                    "y1": -3.41,
                    "yref": "y"
                  },
                  {
                    "fillcolor": "rgb(164, 252, 59)",
                    "label": {
                      "text": "linen"
                    },
                    "opacity": 0.5,
                    "type": "rect",
                    "x0": 2.06,
                    "x1": 2.63,
                    "xref": "x",
                    "y0": -3.8,
                    "y1": -3.41,
                    "yref": "y"
                  },
                  {
                    "fillcolor": "rgb(209, 232, 52)",
                    "label": {
                      "text": "laundry"
                    },
                    "opacity": 0.5,
                    "type": "rect",
                    "x0": 2.63,
                    "x1": 3.78,
                    "xref": "x",
                    "y0": -3.91,
                    "y1": -2.82,
                    "yref": "y"
                  },
                  {
                    "fillcolor": "rgb(243, 198, 58)",
                    "label": {
                      "text": "bath"
                    },
                    "opacity": 0.5,
                    "type": "rect",
                    "x0": 0,
                    "x1": 1.58,
                    "xref": "x",
                    "y0": -5.5,
                    "y1": -4.57,
                    "yref": "y"
                  },
                  {
                    "fillcolor": "rgb(254, 155, 45)",
                    "label": {
                      "text": "den"
                    },
                    "opacity": 0.5,
                    "type": "rect",
                    "x0": 2.06,
                    "x1": 3.87,
                    "xref": "x",
                    "y0": -5.96,
                    "y1": -3.91,
                    "yref": "y"
                  },
                  {
                    "fillcolor": "rgb(243, 99, 21)",
                    "label": {
                      "text": "kitchen"
                    },
                    "opacity": 0.5,
                    "type": "rect",
                    "x0": 0,
                    "x1": 1.47,
                    "xref": "x",
                    "y0": -8.17,
                    "y1": -5.5,
                    "yref": "y"
                  },
                  {
                    "fillcolor": "rgb(217, 56, 6)",
                    "label": {
                      "text": "dining"
                    },
                    "opacity": 0.5,
                    "type": "rect",
                    "x0": 1.47,
                    "x1": 3.01,
                    "xref": "x",
                    "y0": -8.56,
                    "y1": -5.96,
                    "yref": "y"
                  },
                  {
                    "fillcolor": "rgb(177, 25, 1)",
                    "label": {
                      "text": "den_closet"
                    },
                    "opacity": 0.5,
                    "type": "rect",
                    "x0": 3.01,
                    "x1": 3.81,
                    "xref": "x",
                    "y0": -6.32,
                    "y1": -5.96,
                    "yref": "y"
                  },
                  {
                    "fillcolor": "rgb(122, 4, 2)",
                    "label": {
                      "text": "living"
                    },
                    "opacity": 0.5,
                    "type": "rect",
                    "x0": 0,
                    "x1": 3.16,
                    "xref": "x",
                    "y0": -10.59,
                    "y1": -8.17,
                    "yref": "y"
                  },
                  {
                    "fillcolor": "rgb(48, 18, 59)",
                    "label": {
                      "text": ""
                    },
                    "opacity": 0.5,
                    "type": "rect",
                    "x0": 0,
                    "x1": 2.13,
                    "xref": "x2",
                    "y0": -2.45,
                    "y1": 0,
                    "yref": "y2"
                  },
                  {
                    "fillcolor": "rgb(65, 69, 171)",
                    "label": {
                      "text": ""
                    },
                    "opacity": 0.5,
                    "type": "rect",
                    "x0": 2.13,
                    "x1": 3.94,
                    "xref": "x2",
                    "y0": -2.45,
                    "y1": 0,
                    "yref": "y2"
                  },
                  {
                    "fillcolor": "rgb(70, 117, 237)",
                    "label": {
                      "text": ""
                    },
                    "opacity": 0.5,
                    "type": "rect",
                    "x0": 0,
                    "x1": 1.47,
                    "xref": "x2",
                    "y0": -3.33,
                    "y1": -2.45,
                    "yref": "y2"
                  },
                  {
                    "fillcolor": "rgb(57, 162, 252)",
                    "label": {
                      "text": ""
                    },
                    "opacity": 0.5,
                    "type": "rect",
                    "x0": 1.47,
                    "x1": 2.62,
                    "xref": "x2",
                    "y0": -3.41,
                    "y1": -2.45,
                    "yref": "y2"
                  },
                  {
                    "fillcolor": "rgb(27, 207, 212)",
                    "label": {
                      "text": ""
                    },
                    "opacity": 0.5,
                    "type": "rect",
                    "x0": 2.62,
                    "x1": 3.77,
                    "xref": "x2",
                    "y0": -2.82,
                    "y1": -2.45,
                    "yref": "y2"
                  },
                  {
                    "fillcolor": "rgb(36, 236, 166)",
                    "label": {
                      "text": ""
                    },
                    "opacity": 0.5,
                    "type": "rect",
                    "x0": 0,
                    "x1": 1.61,
                    "xref": "x2",
                    "y0": -4.57,
                    "y1": -3.33,
                    "yref": "y2"
                  },
                  {
                    "fillcolor": "rgb(97, 252, 108)",
                    "label": {
                      "text": ""
                    },
                    "opacity": 0.5,
                    "type": "rect",
                    "x0": 1.61,
                    "x1": 2.06,
                    "xref": "x2",
                    "y0": -6.12,
                    "y1": -3.41,
                    "yref": "y2"
                  },
                  {
                    "fillcolor": "rgb(164, 252, 59)",
                    "label": {
                      "text": ""
                    },
                    "opacity": 0.5,
                    "type": "rect",
                    "x0": 2.06,
                    "x1": 2.63,
                    "xref": "x2",
                    "y0": -3.91,
                    "y1": -3.41,
                    "yref": "y2"
                  },
                  {
                    "fillcolor": "rgb(209, 232, 52)",
                    "label": {
                      "text": ""
                    },
                    "opacity": 0.5,
                    "type": "rect",
                    "x0": 2.63,
                    "x1": 3.78,
                    "xref": "x2",
                    "y0": -3.91,
                    "y1": -2.82,
                    "yref": "y2"
                  },
                  {
                    "fillcolor": "rgb(243, 198, 58)",
                    "label": {
                      "text": ""
                    },
                    "opacity": 0.5,
                    "type": "rect",
                    "x0": 0,
                    "x1": 1.58,
                    "xref": "x2",
                    "y0": -5.5,
                    "y1": -4.57,
                    "yref": "y2"
                  },
                  {
                    "fillcolor": "rgb(254, 155, 45)",
                    "label": {
                      "text": ""
                    },
                    "opacity": 0.5,
                    "type": "rect",
                    "x0": 2.06,
                    "x1": 3.87,
                    "xref": "x2",
                    "y0": -5.96,
                    "y1": -3.91,
                    "yref": "y2"
                  },
                  {
                    "fillcolor": "rgb(243, 99, 21)",
                    "label": {
                      "text": ""
                    },
                    "opacity": 0.5,
                    "type": "rect",
                    "x0": 0,
                    "x1": 1.47,
                    "xref": "x2",
                    "y0": -8.17,
                    "y1": -5.5,
                    "yref": "y2"
                  },
                  {
                    "fillcolor": "rgb(217, 56, 6)",
                    "label": {
                      "text": ""
                    },
                    "opacity": 0.5,
                    "type": "rect",
                    "x0": 1.47,
                    "x1": 3.01,
                    "xref": "x2",
                    "y0": -8.56,
                    "y1": -5.96,
                    "yref": "y2"
                  },
                  {
                    "fillcolor": "rgb(177, 25, 1)",
                    "label": {
                      "text": ""
                    },
                    "opacity": 0.5,
                    "type": "rect",
                    "x0": 3.01,
                    "x1": 3.81,
                    "xref": "x2",
                    "y0": -6.32,
                    "y1": -5.96,
                    "yref": "y2"
                  },
                  {
                    "fillcolor": "rgb(122, 4, 2)",
                    "label": {
                      "text": ""
                    },
                    "opacity": 0.5,
                    "type": "rect",
                    "x0": 0,
                    "x1": 3.16,
                    "xref": "x2",
                    "y0": -10.59,
                    "y1": -8.17,
                    "yref": "y2"
                  },
                  {
                    "fillcolor": "rgb(48, 18, 59)",
                    "label": {
                      "text": ""
                    },
                    "opacity": 0.5,
                    "type": "rect",
                    "x0": 0,
                    "x1": 2.13,
                    "xref": "x3",
                    "y0": -2.45,
                    "y1": 0,
                    "yref": "y3"
                  },
                  {
                    "fillcolor": "rgb(65, 69, 171)",
                    "label": {
                      "text": ""
                    },
                    "opacity": 0.5,
                    "type": "rect",
                    "x0": 2.13,
                    "x1": 3.94,
                    "xref": "x3",
                    "y0": -2.45,
                    "y1": 0,
                    "yref": "y3"
                  },
                  {
                    "fillcolor": "rgb(70, 117, 237)",
                    "label": {
                      "text": ""
                    },
                    "opacity": 0.5,
                    "type": "rect",
                    "x0": 0,
                    "x1": 1.47,
                    "xref": "x3",
                    "y0": -3.33,
                    "y1": -2.45,
                    "yref": "y3"
                  },
                  {
                    "fillcolor": "rgb(57, 162, 252)",
                    "label": {
                      "text": ""
                    },
                    "opacity": 0.5,
                    "type": "rect",
                    "x0": 1.47,
                    "x1": 2.62,
                    "xref": "x3",
                    "y0": -3.41,
                    "y1": -2.45,
                    "yref": "y3"
                  },
                  {
                    "fillcolor": "rgb(27, 207, 212)",
                    "label": {
                      "text": ""
                    },
                    "opacity": 0.5,
                    "type": "rect",
                    "x0": 2.62,
                    "x1": 3.77,
                    "xref": "x3",
                    "y0": -2.82,
                    "y1": -2.45,
                    "yref": "y3"
                  },
                  {
                    "fillcolor": "rgb(36, 236, 166)",
                    "label": {
                      "text": ""
                    },
                    "opacity": 0.5,
                    "type": "rect",
                    "x0": 0,
                    "x1": 1.61,
                    "xref": "x3",
                    "y0": -4.57,
                    "y1": -3.33,
                    "yref": "y3"
                  },
                  {
                    "fillcolor": "rgb(97, 252, 108)",
                    "label": {
                      "text": ""
                    },
                    "opacity": 0.5,
                    "type": "rect",
                    "x0": 1.61,
                    "x1": 2.06,
                    "xref": "x3",
                    "y0": -5.96,
                    "y1": -3.41,
                    "yref": "y3"
                  },
                  {
                    "fillcolor": "rgb(164, 252, 59)",
                    "label": {
                      "text": ""
                    },
                    "opacity": 0.5,
                    "type": "rect",
                    "x0": 2.06,
                    "x1": 2.63,
                    "xref": "x3",
                    "y0": -3.91,
                    "y1": -3.41,
                    "yref": "y3"
                  },
                  {
                    "fillcolor": "rgb(209, 232, 52)",
                    "label": {
                      "text": ""
                    },
                    "opacity": 0.5,
                    "type": "rect",
                    "x0": 2.63,
                    "x1": 3.78,
                    "xref": "x3",
                    "y0": -3.91,
                    "y1": -2.82,
                    "yref": "y3"
                  },
                  {
                    "fillcolor": "rgb(243, 198, 58)",
                    "label": {
                      "text": ""
                    },
                    "opacity": 0.5,
                    "type": "rect",
                    "x0": 0,
                    "x1": 1.58,
                    "xref": "x3",
                    "y0": -5.5,
                    "y1": -4.57,
                    "yref": "y3"
                  },
                  {
                    "fillcolor": "rgb(254, 155, 45)",
                    "label": {
                      "text": ""
                    },
                    "opacity": 0.5,
                    "type": "rect",
                    "x0": 2.06,
                    "x1": 3.87,
                    "xref": "x3",
                    "y0": -5.96,
                    "y1": -3.91,
                    "yref": "y3"
                  },
                  {
                    "fillcolor": "rgb(243, 99, 21)",
                    "label": {
                      "text": ""
                    },
                    "opacity": 0.5,
                    "type": "rect",
                    "x0": 0,
                    "x1": 1.47,
                    "xref": "x3",
                    "y0": -8.17,
                    "y1": -5.5,
                    "yref": "y3"
                  },
                  {
                    "fillcolor": "rgb(217, 56, 6)",
                    "label": {
                      "text": ""
                    },
                    "opacity": 0.5,
                    "type": "rect",
                    "x0": 1.47,
                    "x1": 3.01,
                    "xref": "x3",
                    "y0": -8.56,
                    "y1": -5.96,
                    "yref": "y3"
                  },
                  {
                    "fillcolor": "rgb(177, 25, 1)",
                    "label": {
                      "text": ""
                    },
                    "opacity": 0.5,
                    "type": "rect",
                    "x0": 3.01,
                    "x1": 3.81,
                    "xref": "x3",
                    "y0": -6.32,
                    "y1": -5.96,
                    "yref": "y3"
                  },
                  {
                    "fillcolor": "rgb(122, 4, 2)",
                    "label": {
                      "text": ""
                    },
                    "opacity": 0.5,
                    "type": "rect",
                    "x0": 0,
                    "x1": 3.16,
                    "xref": "x3",
                    "y0": -10.59,
                    "y1": -8.17,
                    "yref": "y3"
                  },
                  {
                    "fillcolor": "rgb(48, 18, 59)",
                    "label": {
                      "text": ""
                    },
                    "opacity": 0.5,
                    "type": "rect",
                    "x0": 0,
                    "x1": 2.13,
                    "xref": "x4",
                    "y0": -2.45,
                    "y1": 0,
                    "yref": "y4"
                  },
                  {
                    "fillcolor": "rgb(65, 69, 171)",
                    "label": {
                      "text": ""
                    },
                    "opacity": 0.5,
                    "type": "rect",
                    "x0": 2.13,
                    "x1": 3.94,
                    "xref": "x4",
                    "y0": -2.45,
                    "y1": 0,
                    "yref": "y4"
                  },
                  {
                    "fillcolor": "rgb(70, 117, 237)",
                    "label": {
                      "text": ""
                    },
                    "opacity": 0.5,
                    "type": "rect",
                    "x0": 0,
                    "x1": 1.47,
                    "xref": "x4",
                    "y0": -3.33,
                    "y1": -2.45,
                    "yref": "y4"
                  },
                  {
                    "fillcolor": "rgb(57, 162, 252)",
                    "label": {
                      "text": ""
                    },
                    "opacity": 0.5,
                    "type": "rect",
                    "x0": 1.47,
                    "x1": 2.62,
                    "xref": "x4",
                    "y0": -3.41,
                    "y1": -2.45,
                    "yref": "y4"
                  },
                  {
                    "fillcolor": "rgb(27, 207, 212)",
                    "label": {
                      "text": ""
                    },
                    "opacity": 0.5,
                    "type": "rect",
                    "x0": 2.62,
                    "x1": 3.77,
                    "xref": "x4",
                    "y0": -2.82,
                    "y1": -2.45,
                    "yref": "y4"
                  },
                  {
                    "fillcolor": "rgb(36, 236, 166)",
                    "label": {
                      "text": ""
                    },
                    "opacity": 0.5,
                    "type": "rect",
                    "x0": 0,
                    "x1": 1.61,
                    "xref": "x4",
                    "y0": -4.57,
                    "y1": -3.33,
                    "yref": "y4"
                  },
                  {
                    "fillcolor": "rgb(97, 252, 108)",
                    "label": {
                      "text": ""
                    },
                    "opacity": 0.5,
                    "type": "rect",
                    "x0": 1.61,
                    "x1": 2.06,
                    "xref": "x4",
                    "y0": -5.96,
                    "y1": -3.41,
                    "yref": "y4"
                  },
                  {
                    "fillcolor": "rgb(164, 252, 59)",
                    "label": {
                      "text": ""
                    },
                    "opacity": 0.5,
                    "type": "rect",
                    "x0": 2.06,
                    "x1": 2.63,
                    "xref": "x4",
                    "y0": -3.91,
                    "y1": -3.41,
                    "yref": "y4"
                  },
                  {
                    "fillcolor": "rgb(209, 232, 52)",
                    "label": {
                      "text": ""
                    },
                    "opacity": 0.5,
                    "type": "rect",
                    "x0": 2.63,
                    "x1": 3.78,
                    "xref": "x4",
                    "y0": -3.91,
                    "y1": -2.82,
                    "yref": "y4"
                  },
                  {
                    "fillcolor": "rgb(243, 198, 58)",
                    "label": {
                      "text": ""
                    },
                    "opacity": 0.5,
                    "type": "rect",
                    "x0": 0,
                    "x1": 1.58,
                    "xref": "x4",
                    "y0": -5.5,
                    "y1": -4.57,
                    "yref": "y4"
                  },
                  {
                    "fillcolor": "rgb(254, 155, 45)",
                    "label": {
                      "text": ""
                    },
                    "opacity": 0.5,
                    "type": "rect",
                    "x0": 2.06,
                    "x1": 3.87,
                    "xref": "x4",
                    "y0": -5.96,
                    "y1": -3.91,
                    "yref": "y4"
                  },
                  {
                    "fillcolor": "rgb(243, 99, 21)",
                    "label": {
                      "text": ""
                    },
                    "opacity": 0.5,
                    "type": "rect",
                    "x0": 0,
                    "x1": 1.47,
                    "xref": "x4",
                    "y0": -8.17,
                    "y1": -5.5,
                    "yref": "y4"
                  },
                  {
                    "fillcolor": "rgb(217, 56, 6)",
                    "label": {
                      "text": ""
                    },
                    "opacity": 0.5,
                    "type": "rect",
                    "x0": 1.47,
                    "x1": 3.01,
                    "xref": "x4",
                    "y0": -8.17,
                    "y1": -5.96,
                    "yref": "y4"
                  },
                  {
                    "fillcolor": "rgb(177, 25, 1)",
                    "label": {
                      "text": ""
                    },
                    "opacity": 0.5,
                    "type": "rect",
                    "x0": 3.01,
                    "x1": 3.81,
                    "xref": "x4",
                    "y0": -6.32,
                    "y1": -5.96,
                    "yref": "y4"
                  },
                  {
                    "fillcolor": "rgb(122, 4, 2)",
                    "label": {
                      "text": ""
                    },
                    "opacity": 0.5,
                    "type": "rect",
                    "x0": 0,
                    "x1": 3.16,
                    "xref": "x4",
                    "y0": -10.59,
                    "y1": -8.17,
                    "yref": "y4"
                  },
                  {
                    "fillcolor": "rgb(48, 18, 59)",
                    "label": {
                      "text": ""
                    },
                    "opacity": 0.5,
                    "type": "rect",
                    "x0": 0,
                    "x1": 2.13,
                    "xref": "x5",
                    "y0": -2.45,
                    "y1": 0,
                    "yref": "y5"
                  },
                  {
                    "fillcolor": "rgb(65, 69, 171)",
                    "label": {
                      "text": ""
                    },
                    "opacity": 0.5,
                    "type": "rect",
                    "x0": 2.13,
                    "x1": 3.94,
                    "xref": "x5",
                    "y0": -2.45,
                    "y1": 0,
                    "yref": "y5"
                  },
                  {
                    "fillcolor": "rgb(70, 117, 237)",
                    "label": {
                      "text": ""
                    },
                    "opacity": 0.5,
                    "type": "rect",
                    "x0": 0,
                    "x1": 1.47,
                    "xref": "x5",
                    "y0": -3.33,
                    "y1": -2.45,
                    "yref": "y5"
                  },
                  {
                    "fillcolor": "rgb(57, 162, 252)",
                    "label": {
                      "text": ""
                    },
                    "opacity": 0.5,
                    "type": "rect",
                    "x0": 1.47,
                    "x1": 2.62,
                    "xref": "x5",
                    "y0": -3.41,
                    "y1": -2.45,
                    "yref": "y5"
                  },
                  {
                    "fillcolor": "rgb(27, 207, 212)",
                    "label": {
                      "text": ""
                    },
                    "opacity": 0.5,
                    "type": "rect",
                    "x0": 2.62,
                    "x1": 3.77,
                    "xref": "x5",
                    "y0": -2.82,
                    "y1": -2.45,
                    "yref": "y5"
                  },
                  {
                    "fillcolor": "rgb(36, 236, 166)",
                    "label": {
                      "text": ""
                    },
                    "opacity": 0.5,
                    "type": "rect",
                    "x0": 0,
                    "x1": 1.61,
                    "xref": "x5",
                    "y0": -4.57,
                    "y1": -3.33,
                    "yref": "y5"
                  },
                  {
                    "fillcolor": "rgb(97, 252, 108)",
                    "label": {
                      "text": ""
                    },
                    "opacity": 0.5,
                    "type": "rect",
                    "x0": 1.61,
                    "x1": 2.06,
                    "xref": "x5",
                    "y0": -5.96,
                    "y1": -3.41,
                    "yref": "y5"
                  },
                  {
                    "fillcolor": "rgb(164, 252, 59)",
                    "label": {
                      "text": ""
                    },
                    "opacity": 0.5,
                    "type": "rect",
                    "x0": 2.06,
                    "x1": 2.63,
                    "xref": "x5",
                    "y0": -3.91,
                    "y1": -3.41,
                    "yref": "y5"
                  },
                  {
                    "fillcolor": "rgb(209, 232, 52)",
                    "label": {
                      "text": ""
                    },
                    "opacity": 0.5,
                    "type": "rect",
                    "x0": 2.63,
                    "x1": 3.78,
                    "xref": "x5",
                    "y0": -3.91,
                    "y1": -2.82,
                    "yref": "y5"
                  },
                  {
                    "fillcolor": "rgb(243, 198, 58)",
                    "label": {
                      "text": ""
                    },
                    "opacity": 0.5,
                    "type": "rect",
                    "x0": 0,
                    "x1": 1.58,
                    "xref": "x5",
                    "y0": -5.5,
                    "y1": -4.57,
                    "yref": "y5"
                  },
                  {
                    "fillcolor": "rgb(254, 155, 45)",
                    "label": {
                      "text": ""
                    },
                    "opacity": 0.5,
                    "type": "rect",
                    "x0": 2.06,
                    "x1": 3.87,
                    "xref": "x5",
                    "y0": -5.96,
                    "y1": -3.91,
                    "yref": "y5"
                  },
                  {
                    "fillcolor": "rgb(243, 99, 21)",
                    "label": {
                      "text": ""
                    },
                    "opacity": 0.5,
                    "type": "rect",
                    "x0": 0,
                    "x1": 1.47,
                    "xref": "x5",
                    "y0": -8.17,
                    "y1": -5.5,
                    "yref": "y5"
                  },
                  {
                    "fillcolor": "rgb(217, 56, 6)",
                    "label": {
                      "text": ""
                    },
                    "opacity": 0.5,
                    "type": "rect",
                    "x0": 1.47,
                    "x1": 3.01,
                    "xref": "x5",
                    "y0": -8.17,
                    "y1": -5.96,
                    "yref": "y5"
                  },
                  {
                    "fillcolor": "rgb(177, 25, 1)",
                    "label": {
                      "text": ""
                    },
                    "opacity": 0.5,
                    "type": "rect",
                    "x0": 3.01,
                    "x1": 3.81,
                    "xref": "x5",
                    "y0": -8.17,
                    "y1": -5.96,
                    "yref": "y5"
                  },
                  {
                    "fillcolor": "rgb(122, 4, 2)",
                    "label": {
                      "text": ""
                    },
                    "opacity": 0.5,
                    "type": "rect",
                    "x0": 0,
                    "x1": 3.16,
                    "xref": "x5",
                    "y0": -10.59,
                    "y1": -8.17,
                    "yref": "y5"
                  },
                  {
                    "fillcolor": "rgb(48, 18, 59)",
                    "label": {
                      "text": ""
                    },
                    "opacity": 0.5,
                    "type": "rect",
                    "x0": 0,
                    "x1": 2.13,
                    "xref": "x6",
                    "y0": -2.45,
                    "y1": 0,
                    "yref": "y6"
                  },
                  {
                    "fillcolor": "rgb(65, 69, 171)",
                    "label": {
                      "text": ""
                    },
                    "opacity": 0.5,
                    "type": "rect",
                    "x0": 2.13,
                    "x1": 3.94,
                    "xref": "x6",
                    "y0": -2.45,
                    "y1": 0,
                    "yref": "y6"
                  },
                  {
                    "fillcolor": "rgb(70, 117, 237)",
                    "label": {
                      "text": ""
                    },
                    "opacity": 0.5,
                    "type": "rect",
                    "x0": 0,
                    "x1": 1.47,
                    "xref": "x6",
                    "y0": -3.33,
                    "y1": -2.45,
                    "yref": "y6"
                  },
                  {
                    "fillcolor": "rgb(57, 162, 252)",
                    "label": {
                      "text": ""
                    },
                    "opacity": 0.5,
                    "type": "rect",
                    "x0": 1.47,
                    "x1": 2.63,
                    "xref": "x6",
                    "y0": -3.41,
                    "y1": -2.45,
                    "yref": "y6"
                  },
                  {
                    "fillcolor": "rgb(27, 207, 212)",
                    "label": {
                      "text": ""
                    },
                    "opacity": 0.5,
                    "type": "rect",
                    "x0": 2.62,
                    "x1": 3.77,
                    "xref": "x6",
                    "y0": -2.82,
                    "y1": -2.45,
                    "yref": "y6"
                  },
                  {
                    "fillcolor": "rgb(36, 236, 166)",
                    "label": {
                      "text": ""
                    },
                    "opacity": 0.5,
                    "type": "rect",
                    "x0": 0,
                    "x1": 1.61,
                    "xref": "x6",
                    "y0": -4.57,
                    "y1": -3.33,
                    "yref": "y6"
                  },
                  {
                    "fillcolor": "rgb(97, 252, 108)",
                    "label": {
                      "text": ""
                    },
                    "opacity": 0.5,
                    "type": "rect",
                    "x0": 1.61,
                    "x1": 2.06,
                    "xref": "x6",
                    "y0": -5.96,
                    "y1": -3.41,
                    "yref": "y6"
                  },
                  {
                    "fillcolor": "rgb(164, 252, 59)",
                    "label": {
                      "text": ""
                    },
                    "opacity": 0.5,
                    "type": "rect",
                    "x0": 2.06,
                    "x1": 2.63,
                    "xref": "x6",
                    "y0": -3.91,
                    "y1": -3.41,
                    "yref": "y6"
                  },
                  {
                    "fillcolor": "rgb(209, 232, 52)",
                    "label": {
                      "text": ""
                    },
                    "opacity": 0.5,
                    "type": "rect",
                    "x0": 2.63,
                    "x1": 3.78,
                    "xref": "x6",
                    "y0": -3.91,
                    "y1": -2.82,
                    "yref": "y6"
                  },
                  {
                    "fillcolor": "rgb(243, 198, 58)",
                    "label": {
                      "text": ""
                    },
                    "opacity": 0.5,
                    "type": "rect",
                    "x0": 0,
                    "x1": 1.58,
                    "xref": "x6",
                    "y0": -5.5,
                    "y1": -4.57,
                    "yref": "y6"
                  },
                  {
                    "fillcolor": "rgb(254, 155, 45)",
                    "label": {
                      "text": ""
                    },
                    "opacity": 0.5,
                    "type": "rect",
                    "x0": 2.06,
                    "x1": 3.87,
                    "xref": "x6",
                    "y0": -5.96,
                    "y1": -3.91,
                    "yref": "y6"
                  },
                  {
                    "fillcolor": "rgb(243, 99, 21)",
                    "label": {
                      "text": ""
                    },
                    "opacity": 0.5,
                    "type": "rect",
                    "x0": 0,
                    "x1": 1.47,
                    "xref": "x6",
                    "y0": -8.17,
                    "y1": -5.5,
                    "yref": "y6"
                  },
                  {
                    "fillcolor": "rgb(217, 56, 6)",
                    "label": {
                      "text": ""
                    },
                    "opacity": 0.5,
                    "type": "rect",
                    "x0": 1.47,
                    "x1": 3.01,
                    "xref": "x6",
                    "y0": -8.17,
                    "y1": -5.96,
                    "yref": "y6"
                  },
                  {
                    "fillcolor": "rgb(177, 25, 1)",
                    "label": {
                      "text": ""
                    },
                    "opacity": 0.5,
                    "type": "rect",
                    "x0": 3.01,
                    "x1": 3.81,
                    "xref": "x6",
                    "y0": -8.17,
                    "y1": -5.96,
                    "yref": "y6"
                  },
                  {
                    "fillcolor": "rgb(122, 4, 2)",
                    "label": {
                      "text": ""
                    },
                    "opacity": 0.5,
                    "type": "rect",
                    "x0": 0,
                    "x1": 3.16,
                    "xref": "x6",
                    "y0": -10.59,
                    "y1": -8.17,
                    "yref": "y6"
                  },
                  {
                    "fillcolor": "rgb(48, 18, 59)",
                    "label": {
                      "text": ""
                    },
                    "opacity": 0.5,
                    "type": "rect",
                    "x0": 0,
                    "x1": 2.13,
                    "xref": "x7",
                    "y0": -2.45,
                    "y1": 0,
                    "yref": "y7"
                  },
                  {
                    "fillcolor": "rgb(65, 69, 171)",
                    "label": {
                      "text": ""
                    },
                    "opacity": 0.5,
                    "type": "rect",
                    "x0": 2.13,
                    "x1": 3.94,
                    "xref": "x7",
                    "y0": -2.45,
                    "y1": 0,
                    "yref": "y7"
                  },
                  {
                    "fillcolor": "rgb(70, 117, 237)",
                    "label": {
                      "text": ""
                    },
                    "opacity": 0.5,
                    "type": "rect",
                    "x0": 0,
                    "x1": 1.47,
                    "xref": "x7",
                    "y0": -3.33,
                    "y1": -2.45,
                    "yref": "y7"
                  },
                  {
                    "fillcolor": "rgb(57, 162, 252)",
                    "label": {
                      "text": ""
                    },
                    "opacity": 0.5,
                    "type": "rect",
                    "x0": 1.47,
                    "x1": 2.63,
                    "xref": "x7",
                    "y0": -3.41,
                    "y1": -2.45,
                    "yref": "y7"
                  },
                  {
                    "fillcolor": "rgb(27, 207, 212)",
                    "label": {
                      "text": ""
                    },
                    "opacity": 0.5,
                    "type": "rect",
                    "x0": 2.63,
                    "x1": 3.78,
                    "xref": "x7",
                    "y0": -2.82,
                    "y1": -2.45,
                    "yref": "y7"
                  },
                  {
                    "fillcolor": "rgb(36, 236, 166)",
                    "label": {
                      "text": ""
                    },
                    "opacity": 0.5,
                    "type": "rect",
                    "x0": 0,
                    "x1": 1.61,
                    "xref": "x7",
                    "y0": -4.57,
                    "y1": -3.33,
                    "yref": "y7"
                  },
                  {
                    "fillcolor": "rgb(97, 252, 108)",
                    "label": {
                      "text": ""
                    },
                    "opacity": 0.5,
                    "type": "rect",
                    "x0": 1.61,
                    "x1": 2.06,
                    "xref": "x7",
                    "y0": -5.96,
                    "y1": -3.41,
                    "yref": "y7"
                  },
                  {
                    "fillcolor": "rgb(164, 252, 59)",
                    "label": {
                      "text": ""
                    },
                    "opacity": 0.5,
                    "type": "rect",
                    "x0": 2.06,
                    "x1": 2.63,
                    "xref": "x7",
                    "y0": -3.91,
                    "y1": -3.41,
                    "yref": "y7"
                  },
                  {
                    "fillcolor": "rgb(209, 232, 52)",
                    "label": {
                      "text": ""
                    },
                    "opacity": 0.5,
                    "type": "rect",
                    "x0": 2.63,
                    "x1": 3.78,
                    "xref": "x7",
                    "y0": -3.91,
                    "y1": -2.82,
                    "yref": "y7"
                  },
                  {
                    "fillcolor": "rgb(243, 198, 58)",
                    "label": {
                      "text": ""
                    },
                    "opacity": 0.5,
                    "type": "rect",
                    "x0": 0,
                    "x1": 1.58,
                    "xref": "x7",
                    "y0": -5.5,
                    "y1": -4.57,
                    "yref": "y7"
                  },
                  {
                    "fillcolor": "rgb(254, 155, 45)",
                    "label": {
                      "text": ""
                    },
                    "opacity": 0.5,
                    "type": "rect",
                    "x0": 2.06,
                    "x1": 3.87,
                    "xref": "x7",
                    "y0": -5.96,
                    "y1": -3.91,
                    "yref": "y7"
                  },
                  {
                    "fillcolor": "rgb(243, 99, 21)",
                    "label": {
                      "text": ""
                    },
                    "opacity": 0.5,
                    "type": "rect",
                    "x0": 0,
                    "x1": 1.47,
                    "xref": "x7",
                    "y0": -8.17,
                    "y1": -5.5,
                    "yref": "y7"
                  },
                  {
                    "fillcolor": "rgb(217, 56, 6)",
                    "label": {
                      "text": ""
                    },
                    "opacity": 0.5,
                    "type": "rect",
                    "x0": 1.47,
                    "x1": 3.01,
                    "xref": "x7",
                    "y0": -8.17,
                    "y1": -5.96,
                    "yref": "y7"
                  },
                  {
                    "fillcolor": "rgb(177, 25, 1)",
                    "label": {
                      "text": ""
                    },
                    "opacity": 0.5,
                    "type": "rect",
                    "x0": 3.01,
                    "x1": 3.81,
                    "xref": "x7",
                    "y0": -8.17,
                    "y1": -5.96,
                    "yref": "y7"
                  },
                  {
                    "fillcolor": "rgb(122, 4, 2)",
                    "label": {
                      "text": ""
                    },
                    "opacity": 0.5,
                    "type": "rect",
                    "x0": 0,
                    "x1": 3.16,
                    "xref": "x7",
                    "y0": -10.59,
                    "y1": -8.17,
                    "yref": "y7"
                  },
                  {
                    "fillcolor": "rgb(48, 18, 59)",
                    "label": {
                      "text": ""
                    },
                    "opacity": 0.5,
                    "type": "rect",
                    "x0": 0,
                    "x1": 2.13,
                    "xref": "x8",
                    "y0": -2.45,
                    "y1": 0,
                    "yref": "y8"
                  },
                  {
                    "fillcolor": "rgb(65, 69, 171)",
                    "label": {
                      "text": ""
                    },
                    "opacity": 0.5,
                    "type": "rect",
                    "x0": 2.13,
                    "x1": 3.94,
                    "xref": "x8",
                    "y0": -2.45,
                    "y1": 0,
                    "yref": "y8"
                  },
                  {
                    "fillcolor": "rgb(70, 117, 237)",
                    "label": {
                      "text": ""
                    },
                    "opacity": 0.5,
                    "type": "rect",
                    "x0": 0,
                    "x1": 1.47,
                    "xref": "x8",
                    "y0": -3.33,
                    "y1": -2.45,
                    "yref": "y8"
                  },
                  {
                    "fillcolor": "rgb(57, 162, 252)",
                    "label": {
                      "text": ""
                    },
                    "opacity": 0.5,
                    "type": "rect",
                    "x0": 1.47,
                    "x1": 2.63,
                    "xref": "x8",
                    "y0": -3.41,
                    "y1": -2.45,
                    "yref": "y8"
                  },
                  {
                    "fillcolor": "rgb(27, 207, 212)",
                    "label": {
                      "text": ""
                    },
                    "opacity": 0.5,
                    "type": "rect",
                    "x0": 2.63,
                    "x1": 3.78,
                    "xref": "x8",
                    "y0": -2.82,
                    "y1": -2.45,
                    "yref": "y8"
                  },
                  {
                    "fillcolor": "rgb(36, 236, 166)",
                    "label": {
                      "text": ""
                    },
                    "opacity": 0.5,
                    "type": "rect",
                    "x0": 0,
                    "x1": 1.61,
                    "xref": "x8",
                    "y0": -4.57,
                    "y1": -3.33,
                    "yref": "y8"
                  },
                  {
                    "fillcolor": "rgb(97, 252, 108)",
                    "label": {
                      "text": ""
                    },
                    "opacity": 0.5,
                    "type": "rect",
                    "x0": 1.61,
                    "x1": 2.06,
                    "xref": "x8",
                    "y0": -5.96,
                    "y1": -3.41,
                    "yref": "y8"
                  },
                  {
                    "fillcolor": "rgb(164, 252, 59)",
                    "label": {
                      "text": ""
                    },
                    "opacity": 0.5,
                    "type": "rect",
                    "x0": 2.06,
                    "x1": 2.63,
                    "xref": "x8",
                    "y0": -3.91,
                    "y1": -3.41,
                    "yref": "y8"
                  },
                  {
                    "fillcolor": "rgb(209, 232, 52)",
                    "label": {
                      "text": ""
                    },
                    "opacity": 0.5,
                    "type": "rect",
                    "x0": 2.63,
                    "x1": 3.78,
                    "xref": "x8",
                    "y0": -3.91,
                    "y1": -2.82,
                    "yref": "y8"
                  },
                  {
                    "fillcolor": "rgb(243, 198, 58)",
                    "label": {
                      "text": ""
                    },
                    "opacity": 0.5,
                    "type": "rect",
                    "x0": 0,
                    "x1": 1.58,
                    "xref": "x8",
                    "y0": -5.5,
                    "y1": -4.57,
                    "yref": "y8"
                  },
                  {
                    "fillcolor": "rgb(254, 155, 45)",
                    "label": {
                      "text": ""
                    },
                    "opacity": 0.5,
                    "type": "rect",
                    "x0": 2.06,
                    "x1": 3.87,
                    "xref": "x8",
                    "y0": -5.96,
                    "y1": -3.91,
                    "yref": "y8"
                  },
                  {
                    "fillcolor": "rgb(243, 99, 21)",
                    "label": {
                      "text": ""
                    },
                    "opacity": 0.5,
                    "type": "rect",
                    "x0": 0.14,
                    "x1": 1.61,
                    "xref": "x8",
                    "y0": -8.17,
                    "y1": -5.5,
                    "yref": "y8"
                  },
                  {
                    "fillcolor": "rgb(217, 56, 6)",
                    "label": {
                      "text": ""
                    },
                    "opacity": 0.5,
                    "type": "rect",
                    "x0": 1.47,
                    "x1": 3.01,
                    "xref": "x8",
                    "y0": -8.17,
                    "y1": -5.96,
                    "yref": "y8"
                  },
                  {
                    "fillcolor": "rgb(177, 25, 1)",
                    "label": {
                      "text": ""
                    },
                    "opacity": 0.5,
                    "type": "rect",
                    "x0": 3.01,
                    "x1": 3.81,
                    "xref": "x8",
                    "y0": -8.17,
                    "y1": -5.96,
                    "yref": "y8"
                  },
                  {
                    "fillcolor": "rgb(122, 4, 2)",
                    "label": {
                      "text": ""
                    },
                    "opacity": 0.5,
                    "type": "rect",
                    "x0": 0,
                    "x1": 3.16,
                    "xref": "x8",
                    "y0": -10.59,
                    "y1": -8.17,
                    "yref": "y8"
                  },
                  {
                    "fillcolor": "rgb(48, 18, 59)",
                    "label": {
                      "text": ""
                    },
                    "opacity": 0.5,
                    "type": "rect",
                    "x0": 0,
                    "x1": 2.13,
                    "xref": "x9",
                    "y0": -2.45,
                    "y1": 0,
                    "yref": "y9"
                  },
                  {
                    "fillcolor": "rgb(65, 69, 171)",
                    "label": {
                      "text": ""
                    },
                    "opacity": 0.5,
                    "type": "rect",
                    "x0": 2.13,
                    "x1": 3.94,
                    "xref": "x9",
                    "y0": -2.45,
                    "y1": 0,
                    "yref": "y9"
                  },
                  {
                    "fillcolor": "rgb(70, 117, 237)",
                    "label": {
                      "text": ""
                    },
                    "opacity": 0.5,
                    "type": "rect",
                    "x0": 0,
                    "x1": 1.47,
                    "xref": "x9",
                    "y0": -3.33,
                    "y1": -2.45,
                    "yref": "y9"
                  },
                  {
                    "fillcolor": "rgb(57, 162, 252)",
                    "label": {
                      "text": ""
                    },
                    "opacity": 0.5,
                    "type": "rect",
                    "x0": 1.47,
                    "x1": 2.63,
                    "xref": "x9",
                    "y0": -3.41,
                    "y1": -2.45,
                    "yref": "y9"
                  },
                  {
                    "fillcolor": "rgb(27, 207, 212)",
                    "label": {
                      "text": ""
                    },
                    "opacity": 0.5,
                    "type": "rect",
                    "x0": 2.63,
                    "x1": 3.78,
                    "xref": "x9",
                    "y0": -2.82,
                    "y1": -2.45,
                    "yref": "y9"
                  },
                  {
                    "fillcolor": "rgb(36, 236, 166)",
                    "label": {
                      "text": ""
                    },
                    "opacity": 0.5,
                    "type": "rect",
                    "x0": 0,
                    "x1": 1.61,
                    "xref": "x9",
                    "y0": -4.57,
                    "y1": -3.33,
                    "yref": "y9"
                  },
                  {
                    "fillcolor": "rgb(97, 252, 108)",
                    "label": {
                      "text": ""
                    },
                    "opacity": 0.5,
                    "type": "rect",
                    "x0": 1.61,
                    "x1": 2.06,
                    "xref": "x9",
                    "y0": -5.96,
                    "y1": -3.41,
                    "yref": "y9"
                  },
                  {
                    "fillcolor": "rgb(164, 252, 59)",
                    "label": {
                      "text": ""
                    },
                    "opacity": 0.5,
                    "type": "rect",
                    "x0": 2.06,
                    "x1": 2.63,
                    "xref": "x9",
                    "y0": -3.91,
                    "y1": -3.41,
                    "yref": "y9"
                  },
                  {
                    "fillcolor": "rgb(209, 232, 52)",
                    "label": {
                      "text": ""
                    },
                    "opacity": 0.5,
                    "type": "rect",
                    "x0": 2.63,
                    "x1": 3.78,
                    "xref": "x9",
                    "y0": -3.91,
                    "y1": -2.82,
                    "yref": "y9"
                  },
                  {
                    "fillcolor": "rgb(243, 198, 58)",
                    "label": {
                      "text": ""
                    },
                    "opacity": 0.5,
                    "type": "rect",
                    "x0": 0,
                    "x1": 1.58,
                    "xref": "x9",
                    "y0": -5.5,
                    "y1": -4.57,
                    "yref": "y9"
                  },
                  {
                    "fillcolor": "rgb(254, 155, 45)",
                    "label": {
                      "text": ""
                    },
                    "opacity": 0.5,
                    "type": "rect",
                    "x0": 2.06,
                    "x1": 3.87,
                    "xref": "x9",
                    "y0": -5.96,
                    "y1": -3.91,
                    "yref": "y9"
                  },
                  {
                    "fillcolor": "rgb(243, 99, 21)",
                    "label": {
                      "text": ""
                    },
                    "opacity": 0.5,
                    "type": "rect",
                    "x0": 0.14,
                    "x1": 1.61,
                    "xref": "x9",
                    "y0": -8.17,
                    "y1": -5.5,
                    "yref": "y9"
                  },
                  {
                    "fillcolor": "rgb(217, 56, 6)",
                    "label": {
                      "text": ""
                    },
                    "opacity": 0.5,
                    "type": "rect",
                    "x0": 1.61,
                    "x1": 3.01,
                    "xref": "x9",
                    "y0": -8.17,
                    "y1": -5.96,
                    "yref": "y9"
                  },
                  {
                    "fillcolor": "rgb(177, 25, 1)",
                    "label": {
                      "text": ""
                    },
                    "opacity": 0.5,
                    "type": "rect",
                    "x0": 3.01,
                    "x1": 3.81,
                    "xref": "x9",
                    "y0": -8.17,
                    "y1": -5.96,
                    "yref": "y9"
                  },
                  {
                    "fillcolor": "rgb(122, 4, 2)",
                    "label": {
                      "text": ""
                    },
                    "opacity": 0.5,
                    "type": "rect",
                    "x0": 0,
                    "x1": 3.16,
                    "xref": "x9",
                    "y0": -10.59,
                    "y1": -8.17,
                    "yref": "y9"
                  }
                ],
                "template": {
                  "data": {
                    "bar": [
                      {
                        "error_x": {
                          "color": "#2a3f5f"
                        },
                        "error_y": {
                          "color": "#2a3f5f"
                        },
                        "marker": {
                          "line": {
                            "color": "#E5ECF6",
                            "width": 0.5
                          },
                          "pattern": {
                            "fillmode": "overlay",
                            "size": 10,
                            "solidity": 0.2
                          }
                        },
                        "type": "bar"
                      }
                    ],
                    "barpolar": [
                      {
                        "marker": {
                          "line": {
                            "color": "#E5ECF6",
                            "width": 0.5
                          },
                          "pattern": {
                            "fillmode": "overlay",
                            "size": 10,
                            "solidity": 0.2
                          }
                        },
                        "type": "barpolar"
                      }
                    ],
                    "carpet": [
                      {
                        "aaxis": {
                          "endlinecolor": "#2a3f5f",
                          "gridcolor": "white",
                          "linecolor": "white",
                          "minorgridcolor": "white",
                          "startlinecolor": "#2a3f5f"
                        },
                        "baxis": {
                          "endlinecolor": "#2a3f5f",
                          "gridcolor": "white",
                          "linecolor": "white",
                          "minorgridcolor": "white",
                          "startlinecolor": "#2a3f5f"
                        },
                        "type": "carpet"
                      }
                    ],
                    "choropleth": [
                      {
                        "colorbar": {
                          "outlinewidth": 0,
                          "ticks": ""
                        },
                        "type": "choropleth"
                      }
                    ],
                    "contour": [
                      {
                        "colorbar": {
                          "outlinewidth": 0,
                          "ticks": ""
                        },
                        "colorscale": [
                          [
                            0,
                            "#0d0887"
                          ],
                          [
                            0.1111111111111111,
                            "#46039f"
                          ],
                          [
                            0.2222222222222222,
                            "#7201a8"
                          ],
                          [
                            0.3333333333333333,
                            "#9c179e"
                          ],
                          [
                            0.4444444444444444,
                            "#bd3786"
                          ],
                          [
                            0.5555555555555556,
                            "#d8576b"
                          ],
                          [
                            0.6666666666666666,
                            "#ed7953"
                          ],
                          [
                            0.7777777777777778,
                            "#fb9f3a"
                          ],
                          [
                            0.8888888888888888,
                            "#fdca26"
                          ],
                          [
                            1,
                            "#f0f921"
                          ]
                        ],
                        "type": "contour"
                      }
                    ],
                    "contourcarpet": [
                      {
                        "colorbar": {
                          "outlinewidth": 0,
                          "ticks": ""
                        },
                        "type": "contourcarpet"
                      }
                    ],
                    "heatmap": [
                      {
                        "colorbar": {
                          "outlinewidth": 0,
                          "ticks": ""
                        },
                        "colorscale": [
                          [
                            0,
                            "#0d0887"
                          ],
                          [
                            0.1111111111111111,
                            "#46039f"
                          ],
                          [
                            0.2222222222222222,
                            "#7201a8"
                          ],
                          [
                            0.3333333333333333,
                            "#9c179e"
                          ],
                          [
                            0.4444444444444444,
                            "#bd3786"
                          ],
                          [
                            0.5555555555555556,
                            "#d8576b"
                          ],
                          [
                            0.6666666666666666,
                            "#ed7953"
                          ],
                          [
                            0.7777777777777778,
                            "#fb9f3a"
                          ],
                          [
                            0.8888888888888888,
                            "#fdca26"
                          ],
                          [
                            1,
                            "#f0f921"
                          ]
                        ],
                        "type": "heatmap"
                      }
                    ],
                    "heatmapgl": [
                      {
                        "colorbar": {
                          "outlinewidth": 0,
                          "ticks": ""
                        },
                        "colorscale": [
                          [
                            0,
                            "#0d0887"
                          ],
                          [
                            0.1111111111111111,
                            "#46039f"
                          ],
                          [
                            0.2222222222222222,
                            "#7201a8"
                          ],
                          [
                            0.3333333333333333,
                            "#9c179e"
                          ],
                          [
                            0.4444444444444444,
                            "#bd3786"
                          ],
                          [
                            0.5555555555555556,
                            "#d8576b"
                          ],
                          [
                            0.6666666666666666,
                            "#ed7953"
                          ],
                          [
                            0.7777777777777778,
                            "#fb9f3a"
                          ],
                          [
                            0.8888888888888888,
                            "#fdca26"
                          ],
                          [
                            1,
                            "#f0f921"
                          ]
                        ],
                        "type": "heatmapgl"
                      }
                    ],
                    "histogram": [
                      {
                        "marker": {
                          "pattern": {
                            "fillmode": "overlay",
                            "size": 10,
                            "solidity": 0.2
                          }
                        },
                        "type": "histogram"
                      }
                    ],
                    "histogram2d": [
                      {
                        "colorbar": {
                          "outlinewidth": 0,
                          "ticks": ""
                        },
                        "colorscale": [
                          [
                            0,
                            "#0d0887"
                          ],
                          [
                            0.1111111111111111,
                            "#46039f"
                          ],
                          [
                            0.2222222222222222,
                            "#7201a8"
                          ],
                          [
                            0.3333333333333333,
                            "#9c179e"
                          ],
                          [
                            0.4444444444444444,
                            "#bd3786"
                          ],
                          [
                            0.5555555555555556,
                            "#d8576b"
                          ],
                          [
                            0.6666666666666666,
                            "#ed7953"
                          ],
                          [
                            0.7777777777777778,
                            "#fb9f3a"
                          ],
                          [
                            0.8888888888888888,
                            "#fdca26"
                          ],
                          [
                            1,
                            "#f0f921"
                          ]
                        ],
                        "type": "histogram2d"
                      }
                    ],
                    "histogram2dcontour": [
                      {
                        "colorbar": {
                          "outlinewidth": 0,
                          "ticks": ""
                        },
                        "colorscale": [
                          [
                            0,
                            "#0d0887"
                          ],
                          [
                            0.1111111111111111,
                            "#46039f"
                          ],
                          [
                            0.2222222222222222,
                            "#7201a8"
                          ],
                          [
                            0.3333333333333333,
                            "#9c179e"
                          ],
                          [
                            0.4444444444444444,
                            "#bd3786"
                          ],
                          [
                            0.5555555555555556,
                            "#d8576b"
                          ],
                          [
                            0.6666666666666666,
                            "#ed7953"
                          ],
                          [
                            0.7777777777777778,
                            "#fb9f3a"
                          ],
                          [
                            0.8888888888888888,
                            "#fdca26"
                          ],
                          [
                            1,
                            "#f0f921"
                          ]
                        ],
                        "type": "histogram2dcontour"
                      }
                    ],
                    "mesh3d": [
                      {
                        "colorbar": {
                          "outlinewidth": 0,
                          "ticks": ""
                        },
                        "type": "mesh3d"
                      }
                    ],
                    "parcoords": [
                      {
                        "line": {
                          "colorbar": {
                            "outlinewidth": 0,
                            "ticks": ""
                          }
                        },
                        "type": "parcoords"
                      }
                    ],
                    "pie": [
                      {
                        "automargin": true,
                        "type": "pie"
                      }
                    ],
                    "scatter": [
                      {
                        "fillpattern": {
                          "fillmode": "overlay",
                          "size": 10,
                          "solidity": 0.2
                        },
                        "type": "scatter"
                      }
                    ],
                    "scatter3d": [
                      {
                        "line": {
                          "colorbar": {
                            "outlinewidth": 0,
                            "ticks": ""
                          }
                        },
                        "marker": {
                          "colorbar": {
                            "outlinewidth": 0,
                            "ticks": ""
                          }
                        },
                        "type": "scatter3d"
                      }
                    ],
                    "scattercarpet": [
                      {
                        "marker": {
                          "colorbar": {
                            "outlinewidth": 0,
                            "ticks": ""
                          }
                        },
                        "type": "scattercarpet"
                      }
                    ],
                    "scattergeo": [
                      {
                        "marker": {
                          "colorbar": {
                            "outlinewidth": 0,
                            "ticks": ""
                          }
                        },
                        "type": "scattergeo"
                      }
                    ],
                    "scattergl": [
                      {
                        "marker": {
                          "colorbar": {
                            "outlinewidth": 0,
                            "ticks": ""
                          }
                        },
                        "type": "scattergl"
                      }
                    ],
                    "scattermapbox": [
                      {
                        "marker": {
                          "colorbar": {
                            "outlinewidth": 0,
                            "ticks": ""
                          }
                        },
                        "type": "scattermapbox"
                      }
                    ],
                    "scatterpolar": [
                      {
                        "marker": {
                          "colorbar": {
                            "outlinewidth": 0,
                            "ticks": ""
                          }
                        },
                        "type": "scatterpolar"
                      }
                    ],
                    "scatterpolargl": [
                      {
                        "marker": {
                          "colorbar": {
                            "outlinewidth": 0,
                            "ticks": ""
                          }
                        },
                        "type": "scatterpolargl"
                      }
                    ],
                    "scatterternary": [
                      {
                        "marker": {
                          "colorbar": {
                            "outlinewidth": 0,
                            "ticks": ""
                          }
                        },
                        "type": "scatterternary"
                      }
                    ],
                    "surface": [
                      {
                        "colorbar": {
                          "outlinewidth": 0,
                          "ticks": ""
                        },
                        "colorscale": [
                          [
                            0,
                            "#0d0887"
                          ],
                          [
                            0.1111111111111111,
                            "#46039f"
                          ],
                          [
                            0.2222222222222222,
                            "#7201a8"
                          ],
                          [
                            0.3333333333333333,
                            "#9c179e"
                          ],
                          [
                            0.4444444444444444,
                            "#bd3786"
                          ],
                          [
                            0.5555555555555556,
                            "#d8576b"
                          ],
                          [
                            0.6666666666666666,
                            "#ed7953"
                          ],
                          [
                            0.7777777777777778,
                            "#fb9f3a"
                          ],
                          [
                            0.8888888888888888,
                            "#fdca26"
                          ],
                          [
                            1,
                            "#f0f921"
                          ]
                        ],
                        "type": "surface"
                      }
                    ],
                    "table": [
                      {
                        "cells": {
                          "fill": {
                            "color": "#EBF0F8"
                          },
                          "line": {
                            "color": "white"
                          }
                        },
                        "header": {
                          "fill": {
                            "color": "#C8D4E3"
                          },
                          "line": {
                            "color": "white"
                          }
                        },
                        "type": "table"
                      }
                    ]
                  },
                  "layout": {
                    "annotationdefaults": {
                      "arrowcolor": "#2a3f5f",
                      "arrowhead": 0,
                      "arrowwidth": 1
                    },
                    "autotypenumbers": "strict",
                    "coloraxis": {
                      "colorbar": {
                        "outlinewidth": 0,
                        "ticks": ""
                      }
                    },
                    "colorscale": {
                      "diverging": [
                        [
                          0,
                          "#8e0152"
                        ],
                        [
                          0.1,
                          "#c51b7d"
                        ],
                        [
                          0.2,
                          "#de77ae"
                        ],
                        [
                          0.3,
                          "#f1b6da"
                        ],
                        [
                          0.4,
                          "#fde0ef"
                        ],
                        [
                          0.5,
                          "#f7f7f7"
                        ],
                        [
                          0.6,
                          "#e6f5d0"
                        ],
                        [
                          0.7,
                          "#b8e186"
                        ],
                        [
                          0.8,
                          "#7fbc41"
                        ],
                        [
                          0.9,
                          "#4d9221"
                        ],
                        [
                          1,
                          "#276419"
                        ]
                      ],
                      "sequential": [
                        [
                          0,
                          "#0d0887"
                        ],
                        [
                          0.1111111111111111,
                          "#46039f"
                        ],
                        [
                          0.2222222222222222,
                          "#7201a8"
                        ],
                        [
                          0.3333333333333333,
                          "#9c179e"
                        ],
                        [
                          0.4444444444444444,
                          "#bd3786"
                        ],
                        [
                          0.5555555555555556,
                          "#d8576b"
                        ],
                        [
                          0.6666666666666666,
                          "#ed7953"
                        ],
                        [
                          0.7777777777777778,
                          "#fb9f3a"
                        ],
                        [
                          0.8888888888888888,
                          "#fdca26"
                        ],
                        [
                          1,
                          "#f0f921"
                        ]
                      ],
                      "sequentialminus": [
                        [
                          0,
                          "#0d0887"
                        ],
                        [
                          0.1111111111111111,
                          "#46039f"
                        ],
                        [
                          0.2222222222222222,
                          "#7201a8"
                        ],
                        [
                          0.3333333333333333,
                          "#9c179e"
                        ],
                        [
                          0.4444444444444444,
                          "#bd3786"
                        ],
                        [
                          0.5555555555555556,
                          "#d8576b"
                        ],
                        [
                          0.6666666666666666,
                          "#ed7953"
                        ],
                        [
                          0.7777777777777778,
                          "#fb9f3a"
                        ],
                        [
                          0.8888888888888888,
                          "#fdca26"
                        ],
                        [
                          1,
                          "#f0f921"
                        ]
                      ]
                    },
                    "colorway": [
                      "#636efa",
                      "#EF553B",
                      "#00cc96",
                      "#ab63fa",
                      "#FFA15A",
                      "#19d3f3",
                      "#FF6692",
                      "#B6E880",
                      "#FF97FF",
                      "#FECB52"
                    ],
                    "font": {
                      "color": "#2a3f5f"
                    },
                    "geo": {
                      "bgcolor": "white",
                      "lakecolor": "white",
                      "landcolor": "#E5ECF6",
                      "showlakes": true,
                      "showland": true,
                      "subunitcolor": "white"
                    },
                    "hoverlabel": {
                      "align": "left"
                    },
                    "hovermode": "closest",
                    "mapbox": {
                      "style": "light"
                    },
                    "paper_bgcolor": "white",
                    "plot_bgcolor": "#E5ECF6",
                    "polar": {
                      "angularaxis": {
                        "gridcolor": "white",
                        "linecolor": "white",
                        "ticks": ""
                      },
                      "bgcolor": "#E5ECF6",
                      "radialaxis": {
                        "gridcolor": "white",
                        "linecolor": "white",
                        "ticks": ""
                      }
                    },
                    "scene": {
                      "xaxis": {
                        "backgroundcolor": "#E5ECF6",
                        "gridcolor": "white",
                        "gridwidth": 2,
                        "linecolor": "white",
                        "showbackground": true,
                        "ticks": "",
                        "zerolinecolor": "white"
                      },
                      "yaxis": {
                        "backgroundcolor": "#E5ECF6",
                        "gridcolor": "white",
                        "gridwidth": 2,
                        "linecolor": "white",
                        "showbackground": true,
                        "ticks": "",
                        "zerolinecolor": "white"
                      },
                      "zaxis": {
                        "backgroundcolor": "#E5ECF6",
                        "gridcolor": "white",
                        "gridwidth": 2,
                        "linecolor": "white",
                        "showbackground": true,
                        "ticks": "",
                        "zerolinecolor": "white"
                      }
                    },
                    "shapedefaults": {
                      "line": {
                        "color": "#2a3f5f"
                      }
                    },
                    "ternary": {
                      "aaxis": {
                        "gridcolor": "white",
                        "linecolor": "white",
                        "ticks": ""
                      },
                      "baxis": {
                        "gridcolor": "white",
                        "linecolor": "white",
                        "ticks": ""
                      },
                      "bgcolor": "#E5ECF6",
                      "caxis": {
                        "gridcolor": "white",
                        "linecolor": "white",
                        "ticks": ""
                      }
                    },
                    "title": {
                      "x": 0.05
                    },
                    "xaxis": {
                      "automargin": true,
                      "gridcolor": "white",
                      "linecolor": "white",
                      "ticks": "",
                      "title": {
                        "standoff": 15
                      },
                      "zerolinecolor": "white",
                      "zerolinewidth": 2
                    },
                    "yaxis": {
                      "automargin": true,
                      "gridcolor": "white",
                      "linecolor": "white",
                      "ticks": "",
                      "title": {
                        "standoff": 15
                      },
                      "zerolinecolor": "white",
                      "zerolinewidth": 2
                    }
                  }
                },
                "xaxis": {
                  "anchor": "y",
                  "domain": [
                    0,
                    0.2888888888888889
                  ],
                  "range": [
                    -1,
                    12
                  ],
                  "title": {
                    "font": {
                      "size": 10
                    },
                    "text": "Init Layout"
                  }
                },
                "xaxis2": {
                  "anchor": "y2",
                  "domain": [
                    0.35555555555555557,
                    0.6444444444444445
                  ],
                  "range": [
                    -1,
                    12
                  ],
                  "title": {
                    "font": {
                      "size": 10
                    },
                    "text": "0.-linen-STRETCH-for-HOLE near ['corridor', 'den']5-PS:7.98-S:6.49"
                  }
                },
                "xaxis3": {
                  "anchor": "y3",
                  "domain": [
                    0.7111111111111111,
                    1
                  ],
                  "range": [
                    -1,
                    12
                  ],
                  "title": {
                    "font": {
                      "size": 10
                    },
                    "text": "1.-corridor-SQUEEZE-for-OVERLAP near ['dining', 'corridor']4-PS:7.92-S:5.96"
                  }
                },
                "xaxis4": {
                  "anchor": "y4",
                  "domain": [
                    0,
                    0.2888888888888889
                  ],
                  "range": [
                    -1,
                    12
                  ],
                  "title": {
                    "font": {
                      "size": 10
                    },
                    "text": "2.-dining-SQUEEZE-for-OVERLAP near ['living', 'dining']3-PS:7.85-S:5.42"
                  }
                },
                "xaxis5": {
                  "anchor": "y5",
                  "domain": [
                    0.35555555555555557,
                    0.6444444444444445
                  ],
                  "range": [
                    -1,
                    12
                  ],
                  "title": {
                    "font": {
                      "size": 10
                    },
                    "text": "3.-den_closet-STRETCH-for-SIDE_HOLE near ['living', 'den_closet']2-PS:7.25-S:4.62"
                  }
                },
                "xaxis6": {
                  "anchor": "y6",
                  "domain": [
                    0.7111111111111111,
                    1
                  ],
                  "range": [
                    -1,
                    12
                  ],
                  "title": {
                    "font": {
                      "size": 10
                    },
                    "text": "4.-transit-STRETCH-for-HOLE near ['transit', 'linen']2-PS:0.20-S:1.10"
                  }
                },
                "xaxis7": {
                  "anchor": "y7",
                  "domain": [
                    0,
                    0.2888888888888889
                  ],
                  "range": [
                    -1,
                    12
                  ],
                  "title": {
                    "font": {
                      "size": 10
                    },
                    "text": "5.-bed1_closet-PUSH-for-OVERLAP near ['bed1_closet', 'transit']1-PS:0.20-S:0.60"
                  }
                },
                "xaxis8": {
                  "anchor": "y8",
                  "domain": [
                    0.35555555555555557,
                    0.6444444444444445
                  ],
                  "range": [
                    -1,
                    12
                  ],
                  "title": {
                    "font": {
                      "size": 10
                    },
                    "text": "6.-kitchen-PULL-for-HOLE near ['kitchen', 'bath']2-PS:0.53-S:1.27"
                  }
                },
                "xaxis9": {
                  "anchor": "y9",
                  "domain": [
                    0.7111111111111111,
                    1
                  ],
                  "range": [
                    -1,
                    12
                  ],
                  "title": {
                    "font": {
                      "size": 10
                    },
                    "text": "7.-dining-SQUEEZE-for-OVERLAP near ['kitchen', 'dining']1-PS:0.34-S:0.67"
                  }
                },
                "yaxis": {
                  "anchor": "x",
                  "domain": [
                    0.7333333333333333,
                    1
                  ],
                  "range": [
                    -10,
                    1
                  ]
                },
                "yaxis2": {
                  "anchor": "x2",
                  "domain": [
                    0.7333333333333333,
                    1
                  ],
                  "range": [
                    -10,
                    1
                  ]
                },
                "yaxis3": {
                  "anchor": "x3",
                  "domain": [
                    0.7333333333333333,
                    1
                  ],
                  "range": [
                    -10,
                    1
                  ]
                },
                "yaxis4": {
                  "anchor": "x4",
                  "domain": [
                    0.36666666666666664,
                    0.6333333333333333
                  ],
                  "range": [
                    -10,
                    1
                  ]
                },
                "yaxis5": {
                  "anchor": "x5",
                  "domain": [
                    0.36666666666666664,
                    0.6333333333333333
                  ],
                  "range": [
                    -10,
                    1
                  ]
                },
                "yaxis6": {
                  "anchor": "x6",
                  "domain": [
                    0.36666666666666664,
                    0.6333333333333333
                  ],
                  "range": [
                    -10,
                    1
                  ]
                },
                "yaxis7": {
                  "anchor": "x7",
                  "domain": [
                    0,
                    0.26666666666666666
                  ],
                  "range": [
                    -10,
                    1
                  ]
                },
                "yaxis8": {
                  "anchor": "x8",
                  "domain": [
                    0,
                    0.26666666666666666
                  ],
                  "range": [
                    -10,
                    1
                  ]
                },
                "yaxis9": {
                  "anchor": "x9",
                  "domain": [
                    0,
                    0.26666666666666666
                  ],
                  "range": [
                    -10,
                    1
                  ]
                }
              }
            }
          },
          "metadata": {},
          "output_type": "display_data"
        }
      ],
      "source": [
        "f = c.plot_all()"
      ]
    }
  ],
  "metadata": {
    "kernelspec": {
      "display_name": "Python 3",
      "language": "python",
      "name": "python3"
    },
    "language_info": {
      "codemirror_mode": {
        "name": "ipython",
        "version": 3
      },
      "file_extension": ".py",
      "mimetype": "text/x-python",
      "name": "python",
      "nbconvert_exporter": "python",
      "pygments_lexer": "ipython3",
      "version": "3.10.14"
    }
  },
  "nbformat": 4,
  "nbformat_minor": 2
}
