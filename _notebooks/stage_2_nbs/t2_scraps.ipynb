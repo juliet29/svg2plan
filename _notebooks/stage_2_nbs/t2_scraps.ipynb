{
  "cells": [
    {
      "cell_type": "code",
      "execution_count": 1,
      "metadata": {},
      "outputs": [],
      "source": [
        "%load_ext autoreload\n",
        "%autoreload 2"
      ]
    },
    {
      "cell_type": "code",
      "execution_count": 13,
      "metadata": {},
      "outputs": [],
      "source": [
        "from __init__ import *\n",
        "from runner.svg2plan import run_new_layout\n",
        "from new_solutions.selection import *\n",
        "from domains.domain import Domain\n",
        "\n",
        "import plotly.io as pio\n",
        "pio.renderers.default = \"browser\"\n",
        "\n",
        "from fixes.problem_types.side_hole_id2 import *\n",
        "from visuals.plots import make_subplot_for_all_probs\n",
        "from export.saver import read_layout, save_layout\n",
        "from actions.details import Details\n",
        "from helpers.shapely import shape_to_domain\n",
        "from actions.interfaces import CurrentDomains\n",
        "\n",
        "\n"
      ]
    },
    {
      "cell_type": "code",
      "execution_count": 2,
      "metadata": {},
      "outputs": [],
      "source": [
        "# report = run_new_layout()\n",
        "# c = Cook(report)\n",
        "# plot_general(c.history[0], \"starting doma\")\n",
        "# make_subplot_for_all_probs(c.history[0], c.bl_hist)"
      ]
    },
    {
      "cell_type": "code",
      "execution_count": 3,
      "metadata": {},
      "outputs": [
        {
          "data": {
            "text/plain": [
              "node: dining, action: SQUEEZE, summary: Counter({'SIDE_HOLE': 1}), # unres probs: 1"
            ]
          },
          "execution_count": 3,
          "metadata": {},
          "output_type": "execute_result"
        }
      ],
      "source": [
        "ld: ResultsLog = read_layout(\"dining_squeeze_sidehole\")\n",
        "ld"
      ]
    },
    {
      "cell_type": "code",
      "execution_count": 4,
      "metadata": {},
      "outputs": [],
      "source": [
        "plot_general(ld.layout.domains, \"sidehole start\")"
      ]
    },
    {
      "cell_type": "code",
      "execution_count": 5,
      "metadata": {},
      "outputs": [
        {
          "data": {
            "text/plain": [
              "{'bedroom_1': Domain(bedroom_1, x=[0.00-3.22], y=[-2.80-0.00]),\n",
              " 'kitchen': Domain(kitchen, x=[3.22-5.02], y=[-5.77--3.53]),\n",
              " 'm_bath': Domain(m_bath, x=[4.82-7.14], y=[-1.30-0.00]),\n",
              " 'm_bedroom': Domain(m_bedroom, x=[7.14-9.27], y=[-2.74-0.00]),\n",
              " 'm_closet': Domain(m_closet, x=[8.20-9.20], y=[-3.34--2.74]),\n",
              " 'bath': Domain(bath, x=[5.02-7.14], y=[-2.53--1.30]),\n",
              " 'dining': Domain(dining, x=[5.02-7.14], y=[-5.68--2.53]),\n",
              " 'transit_space': Domain(transit_space, x=[3.22-5.02], y=[-3.53--1.30]),\n",
              " 'closet': Domain(closet, x=[8.38-9.38], y=[-5.75--3.34]),\n",
              " 'bedroom_2': Domain(bedroom_2, x=[0.00-3.22], y=[-5.95--2.80]),\n",
              " 'laundry': Domain(laundry, x=[3.22-4.82], y=[-1.30-0.45])}"
            ]
          },
          "execution_count": 5,
          "metadata": {},
          "output_type": "execute_result"
        }
      ],
      "source": [
        "ld_doms = ld.layout.domains\n",
        "ld_doms"
      ]
    },
    {
      "cell_type": "code",
      "execution_count": 6,
      "metadata": {},
      "outputs": [
        {
          "data": {
            "text/plain": [
              "Problem(index=2, problem_type=ProblemType.OVERLAP, resolved=False, nbs=('m_bedroom', 'dining')"
            ]
          },
          "execution_count": 6,
          "metadata": {},
          "output_type": "execute_result"
        }
      ],
      "source": [
        "ld.problem_being_addressed"
      ]
    },
    {
      "cell_type": "code",
      "execution_count": 7,
      "metadata": {},
      "outputs": [],
      "source": [
        "re = Reporter(ld.layout)\n",
        "re.run()"
      ]
    },
    {
      "cell_type": "code",
      "execution_count": 17,
      "metadata": {},
      "outputs": [
        {
          "data": {
            "text/plain": [
              "Problem(index=1, problem_type=ProblemType.SIDE_HOLE, resolved=False, nbs=['dining', 'closet']"
            ]
          },
          "execution_count": 17,
          "metadata": {},
          "output_type": "execute_result"
        }
      ],
      "source": [
        "re.problems[0]"
      ]
    },
    {
      "cell_type": "code",
      "execution_count": 8,
      "metadata": {},
      "outputs": [
        {
          "data": {
            "image/svg+xml": [
              "<svg xmlns=\"http://www.w3.org/2000/svg\" xmlns:xlink=\"http://www.w3.org/1999/xlink\" width=\"100.0\" height=\"100.0\" viewBox=\"7.046399999999999 -5.7736 1.4272000000000018 2.5272\" preserveAspectRatio=\"xMinYMin meet\"><g transform=\"matrix(1,0,0,-1,0,-9.02)\"><path fill-rule=\"evenodd\" fill=\"#66cc99\" stroke=\"#555555\" stroke-width=\"0.050544000000000006\" opacity=\"0.6\" d=\"M 8.38,-5.68 L 8.38,-3.34 L 7.14,-3.34 L 7.14,-5.68 L 8.38,-5.68 z\" /></g></svg>"
            ],
            "text/plain": [
              "<POLYGON ((8.38 -5.68, 8.38 -3.34, 7.14 -3.34, 7.14 -5.68, 8.38 -5.68))>"
            ]
          },
          "execution_count": 8,
          "metadata": {},
          "output_type": "execute_result"
        }
      ],
      "source": [
        "re.problems[0].geometry"
      ]
    },
    {
      "cell_type": "code",
      "execution_count": 11,
      "metadata": {},
      "outputs": [
        {
          "data": {
            "text/plain": [
              "Domain(problem, x=[7.14-8.38], y=[-5.68--3.34])"
            ]
          },
          "execution_count": 11,
          "metadata": {},
          "output_type": "execute_result"
        }
      ],
      "source": [
        "pdom = shape_to_domain(re.problems[0].geometry, \"problem\")\n",
        "pdom"
      ]
    },
    {
      "cell_type": "code",
      "execution_count": 18,
      "metadata": {},
      "outputs": [
        {
          "data": {
            "text/plain": [
              "Domain(closet, x=[8.38-9.38], y=[-5.75--3.34])"
            ]
          },
          "execution_count": 18,
          "metadata": {},
          "output_type": "execute_result"
        }
      ],
      "source": [
        "ld_doms[\"closet\"]"
      ]
    },
    {
      "cell_type": "code",
      "execution_count": 19,
      "metadata": {},
      "outputs": [
        {
          "data": {
            "text/plain": [
              "Domain(dining, x=[5.02-7.14], y=[-5.68--2.53])"
            ]
          },
          "execution_count": 19,
          "metadata": {},
          "output_type": "execute_result"
        }
      ],
      "source": [
        "ld_doms[\"dining\"]"
      ]
    },
    {
      "cell_type": "code",
      "execution_count": 15,
      "metadata": {},
      "outputs": [
        {
          "data": {
            "text/plain": [
              "[(Decimal('2.34'), <Direction.SOUTH: 1>),\n",
              " (Decimal('1.24'), <Direction.EAST: 2>)]"
            ]
          },
          "execution_count": 15,
          "metadata": {},
          "output_type": "execute_result"
        }
      ],
      "source": [
        "det = Details(CurrentDomains(ld_doms[\"closet\"], pdom))\n",
        "det.run()\n",
        "det.result"
      ]
    },
    {
      "cell_type": "code",
      "execution_count": 16,
      "metadata": {},
      "outputs": [
        {
          "data": {
            "text/plain": [
              "Domain(closet, x=[8.38-9.38], y=[-5.75--3.34])"
            ]
          },
          "execution_count": 16,
          "metadata": {},
          "output_type": "execute_result"
        }
      ],
      "source": [
        "ld_doms[\"closet\"]"
      ]
    }
  ],
  "metadata": {
    "kernelspec": {
      "display_name": "Python 3",
      "language": "python",
      "name": "python3"
    },
    "language_info": {
      "codemirror_mode": {
        "name": "ipython",
        "version": 3
      },
      "file_extension": ".py",
      "mimetype": "text/x-python",
      "name": "python",
      "nbconvert_exporter": "python",
      "pygments_lexer": "ipython3",
      "version": "3.10.14"
    }
  },
  "nbformat": 4,
  "nbformat_minor": 2
}
