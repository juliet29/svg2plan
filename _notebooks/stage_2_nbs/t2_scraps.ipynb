{
  "cells": [
    {
      "cell_type": "code",
      "execution_count": 1,
      "metadata": {},
      "outputs": [],
      "source": [
        "%load_ext autoreload\n",
        "%autoreload 2"
      ]
    },
    {
      "cell_type": "code",
      "execution_count": 2,
      "metadata": {},
      "outputs": [],
      "source": [
        "from __init__ import *\n",
        "from new_solutions.simple_problem import study_many_problems\n",
        "from runner.svg2plan import run_new_layout\n",
        "from new_solutions.selection import *\n",
        "from itertools import accumulate\n",
        "from operator import add \n",
        "from functools import reduce\n",
        "from visuals.plotter import plot_general\n",
        "# from unit_tests.test_solutions import *\n",
        "from typing import Literal, List\n",
        "from enum import Enum\n",
        "from collections import Counter\n",
        "from typing import TypeVar\n",
        "from typing import Any\n",
        "from domains.domain import Domain\n",
        "\n",
        "import plotly.io as pio\n",
        "pio.renderers.default = \"browser\""
      ]
    },
    {
      "cell_type": "code",
      "execution_count": 3,
      "metadata": {},
      "outputs": [
        {
          "name": "stdout",
          "output_type": "stream",
          "text": [
            "executer> \n",
            " begining to execute stacking\n",
            "one problem\n",
            "many problem\n",
            "one problem\n",
            "many problem\n",
            "one problem\n",
            "many problem\n",
            "one problem\n",
            "many problem\n",
            "one problem\n",
            "many problem\n",
            "one problem\n",
            "many problem\n",
            "one problem\n",
            "many problem\n",
            "one problem\n",
            "many problem\n",
            "one problem\n",
            "many problem\n",
            "one problem\n",
            "many problem\n",
            "one problem\n",
            "many problem\n",
            "one problem\n",
            "many problem\n",
            "one problem\n",
            "many problem\n",
            "one problem\n",
            "many problem\n",
            "one problem\n",
            "many problem\n",
            "one problem\n",
            "many problem\n",
            "one problem\n",
            "many problem\n",
            "one problem\n",
            "many problem\n",
            "one problem\n",
            "many problem\n",
            "one problem\n",
            "many problem\n",
            "one problem\n",
            "many problem\n",
            "one problem\n",
            "many problem\n",
            "one problem\n",
            "many problem\n",
            "one problem\n",
            "many problem\n",
            "one problem\n",
            "many problem\n",
            "one problem\n",
            "many problem\n",
            "one problem\n",
            "many problem\n",
            "one problem\n",
            "many problem\n",
            "one problem\n",
            "many problem\n",
            "one problem\n",
            "many problem\n",
            "one problem\n",
            "many problem\n",
            "one problem\n",
            "many problem\n",
            "one problem\n",
            "many problem\n",
            "one problem\n",
            "many problem\n",
            "one problem\n",
            "many problem\n",
            "one problem\n",
            "many problem\n",
            "one problem\n",
            "many problem\n",
            "one problem\n",
            "many problem\n",
            "one problem\n",
            "many problem\n",
            "one problem\n",
            "many problem\n",
            "one problem\n",
            "many problem\n",
            "one problem\n",
            "many problem\n",
            "one problem\n",
            "many problem\n",
            "one problem\n",
            "many problem\n",
            "one problem\n",
            "many problem\n",
            "one problem\n",
            "many problem\n",
            "one problem\n",
            "many problem\n",
            "one problem\n",
            "many problem\n",
            "one problem\n",
            "many problem\n",
            "one problem\n",
            "many problem\n",
            "one problem\n",
            "many problem\n",
            "one problem\n",
            "many problem\n",
            "one problem\n",
            "many problem\n",
            "one problem\n",
            "many problem\n",
            "one problem\n",
            "many problem\n",
            "one problem\n",
            "many problem\n",
            "one problem\n",
            "many problem\n",
            "one problem\n",
            "many problem\n",
            "one problem\n",
            "many problem\n",
            "one problem\n",
            "many problem\n",
            "one problem\n",
            "many problem\n",
            "one problem\n",
            "many problem\n",
            "one problem\n",
            "many problem\n",
            "one problem\n",
            "many problem\n",
            "one problem\n",
            "many problem\n",
            "one problem\n",
            "many problem\n",
            "one problem\n",
            "many problem\n",
            "one problem\n",
            "many problem\n",
            "one problem\n",
            "many problem\n",
            "one problem\n",
            "many problem\n",
            "one problem\n",
            "many problem\n",
            "one problem\n",
            "many problem\n",
            "one problem\n",
            "many problem\n",
            "one problem\n",
            "many problem\n",
            "one problem\n",
            "many problem\n",
            "one problem\n",
            "many problem\n",
            "one problem\n",
            "many problem\n",
            "one problem\n",
            "many problem\n",
            "one problem\n",
            "many problem\n",
            "one problem\n",
            "many problem\n",
            "one problem\n",
            "many problem\n",
            "one problem\n",
            "many problem\n",
            "one problem\n",
            "many problem\n",
            "one problem\n",
            "many problem\n",
            "one problem\n",
            "many problem\n",
            "one problem\n",
            "many problem\n",
            "one problem\n",
            "many problem\n",
            "one problem\n",
            "many problem\n",
            "one problem\n",
            "many problem\n",
            "one problem\n",
            "many problem\n",
            "one problem\n",
            "many problem\n",
            "one problem\n",
            "many problem\n",
            "one problem\n",
            "many problem\n",
            "one problem\n",
            "many problem\n",
            "one problem\n",
            "many problem\n",
            "one problem\n",
            "many problem\n",
            "one problem\n",
            "many problem\n",
            "one problem\n",
            "many problem\n",
            "one problem\n",
            "many problem\n",
            "one problem\n",
            "many problem\n",
            "one problem\n",
            "many problem\n",
            "one problem\n",
            "many problem\n",
            "one problem\n",
            "many problem\n",
            "one problem\n",
            "many problem\n",
            "one problem\n",
            "many problem\n",
            "one problem\n",
            "many problem\n",
            "one problem\n",
            "many problem\n",
            "one problem\n",
            "many problem\n",
            "one problem\n",
            "many problem\n",
            "one problem\n",
            "many problem\n",
            "one problem\n",
            "many problem\n",
            "one problem\n",
            "many problem\n",
            "one problem\n",
            "many problem\n",
            "one problem\n",
            "many problem\n",
            "one problem\n",
            "many problem\n",
            "one problem\n",
            "many problem\n",
            "one problem\n",
            "many problem\n",
            "one problem\n",
            "many problem\n",
            "one problem\n",
            "many problem\n",
            "one problem\n",
            "many problem\n",
            "one problem\n",
            "many problem\n",
            "one problem\n",
            "many problem\n",
            "one problem\n",
            "many problem\n",
            "one problem\n",
            "many problem\n",
            "one problem\n",
            "many problem\n",
            "one problem\n",
            "many problem\n",
            "one problem\n",
            "many problem\n",
            "one problem\n",
            "many problem\n",
            "one problem\n",
            "many problem\n",
            "helloo!\n",
            "first bl to try -> node: m_bath, action: SQUEEZE, summary: Counter({'OVERLAP': 3}), # unres probs: 3\n",
            "problem this fixes -> Problem(index=2, problem_type=ProblemType.HOLE, resolved=False, nbs=['transit_space', 'laundry', 'm_bath', 'bath']\n",
            "0\n"
          ]
        }
      ],
      "source": [
        "report = run_new_layout()\n",
        "c = Cook(report)\n"
      ]
    },
    {
      "cell_type": "code",
      "execution_count": 5,
      "metadata": {},
      "outputs": [
        {
          "data": {
            "text/plain": [
              "[Problem(index=1, problem_type=ProblemType.OVERLAP, resolved=False, nbs=('m_bedroom', 'dining'),\n",
              " Problem(index=2, problem_type=ProblemType.HOLE, resolved=True, nbs=['transit_space', 'laundry', 'm_bath', 'bath'],\n",
              " Problem(index=3, problem_type=ProblemType.OVERLAP, resolved=False, nbs=('m_closet', 'dining'),\n",
              " Problem(index=4, problem_type=ProblemType.OVERLAP, resolved=False, nbs=('m_bedroom', 'bath')]"
            ]
          },
          "execution_count": 5,
          "metadata": {},
          "output_type": "execute_result"
        }
      ],
      "source": [
        "c.bl.problems"
      ]
    },
    {
      "cell_type": "code",
      "execution_count": 7,
      "metadata": {},
      "outputs": [
        {
          "name": "stdout",
          "output_type": "stream",
          "text": [
            "running again -> 1\n",
            "one problem\n",
            "many problem\n",
            "one problem\n",
            "many problem\n",
            "one problem\n",
            "many problem\n",
            "one problem\n",
            "many problem\n",
            "one problem\n",
            "many problem\n",
            "one problem\n",
            "many problem\n",
            "one problem\n",
            "many problem\n",
            "one problem\n",
            "many problem\n",
            "one problem\n",
            "many problem\n",
            "one problem\n",
            "many problem\n",
            "one problem\n",
            "many problem\n",
            "one problem\n",
            "many problem\n",
            "one problem\n",
            "many problem\n",
            "one problem\n",
            "many problem\n",
            "one problem\n",
            "many problem\n",
            "one problem\n",
            "many problem\n",
            "one problem\n",
            "many problem\n",
            "one problem\n",
            "many problem\n",
            "one problem\n",
            "many problem\n",
            "one problem\n",
            "many problem\n",
            "one problem\n",
            "many problem\n",
            "one problem\n",
            "many problem\n",
            "one problem\n",
            "many problem\n",
            "one problem\n",
            "many problem\n",
            "one problem\n",
            "many problem\n",
            "one problem\n",
            "many problem\n",
            "one problem\n",
            "many problem\n",
            "one problem\n",
            "many problem\n",
            "one problem\n",
            "many problem\n",
            "one problem\n",
            "many problem\n",
            "one problem\n",
            "many problem\n",
            "one problem\n",
            "many problem\n",
            "one problem\n",
            "many problem\n",
            "one problem\n",
            "many problem\n",
            "one problem\n",
            "many problem\n",
            "one problem\n",
            "many problem\n",
            "one problem\n",
            "many problem\n",
            "one problem\n",
            "many problem\n",
            "one problem\n",
            "many problem\n",
            "one problem\n",
            "many problem\n",
            "one problem\n",
            "many problem\n",
            "one problem\n",
            "many problem\n",
            "one problem\n",
            "many problem\n",
            "one problem\n",
            "many problem\n",
            "one problem\n",
            "many problem\n",
            "one problem\n",
            "many problem\n",
            "one problem\n",
            "many problem\n",
            "one problem\n",
            "many problem\n",
            "helloo!\n",
            "first bl to try -> node: m_bedroom, action: SQUEEZE, summary: Counter({'OVERLAP': 1}), # unres probs: 1\n",
            "problem this fixes -> Problem(index=1, problem_type=ProblemType.OVERLAP, resolved=False, nbs=('m_bedroom', 'dining')\n"
          ]
        }
      ],
      "source": [
        "c.run_again()"
      ]
    },
    {
      "cell_type": "code",
      "execution_count": 9,
      "metadata": {},
      "outputs": [],
      "source": [
        "c.plot(1)"
      ]
    },
    {
      "cell_type": "code",
      "execution_count": 10,
      "metadata": {},
      "outputs": [
        {
          "data": {
            "text/plain": [
              "[Problem(index=1, problem_type=ProblemType.OVERLAP, resolved=True, nbs=('m_bedroom', 'dining'),\n",
              " Problem(index=3, problem_type=ProblemType.OVERLAP, resolved=False, nbs=('m_closet', 'dining'),\n",
              " Problem(index=4, problem_type=ProblemType.OVERLAP, resolved=True, nbs=('m_bedroom', 'bath')]"
            ]
          },
          "execution_count": 10,
          "metadata": {},
          "output_type": "execute_result"
        }
      ],
      "source": [
        "c.bl.problems"
      ]
    },
    {
      "cell_type": "code",
      "execution_count": 8,
      "metadata": {},
      "outputs": [
        {
          "data": {
            "text/plain": [
              "[Problem(index=1, problem_type=ProblemType.OVERLAP, resolved=True, nbs=('m_bedroom', 'dining'),\n",
              " Problem(index=3, problem_type=ProblemType.OVERLAP, resolved=False, nbs=('m_closet', 'dining'),\n",
              " Problem(index=4, problem_type=ProblemType.OVERLAP, resolved=True, nbs=('m_bedroom', 'bath')]"
            ]
          },
          "execution_count": 8,
          "metadata": {},
          "output_type": "execute_result"
        }
      ],
      "source": [
        "c.bl_hist[1].problems"
      ]
    },
    {
      "cell_type": "code",
      "execution_count": 14,
      "metadata": {},
      "outputs": [
        {
          "name": "stdout",
          "output_type": "stream",
          "text": [
            "running again -> 4\n"
          ]
        },
        {
          "ename": "IndexError",
          "evalue": "list index out of range",
          "output_type": "error",
          "traceback": [
            "\u001b[0;31m---------------------------------------------------------------------------\u001b[0m",
            "\u001b[0;31mIndexError\u001b[0m                                Traceback (most recent call last)",
            "Cell \u001b[0;32mIn[14], line 1\u001b[0m\n\u001b[0;32m----> 1\u001b[0m \u001b[43mc\u001b[49m\u001b[38;5;241;43m.\u001b[39;49m\u001b[43mrun_again\u001b[49m\u001b[43m(\u001b[49m\u001b[43m)\u001b[49m\n",
            "File \u001b[0;32m~/_UILCode/gqe-phd/svg2plan/_scripts/new_solutions/selection.py:205\u001b[0m, in \u001b[0;36mCook.run_again\u001b[0;34m(self)\u001b[0m\n\u001b[1;32m    201\u001b[0m \u001b[38;5;28mprint\u001b[39m(\u001b[38;5;124mf\u001b[39m\u001b[38;5;124m\"\u001b[39m\u001b[38;5;124mrunning again -> \u001b[39m\u001b[38;5;132;01m{\u001b[39;00m\u001b[38;5;28mself\u001b[39m\u001b[38;5;241m.\u001b[39mcount\u001b[38;5;132;01m}\u001b[39;00m\u001b[38;5;124m\"\u001b[39m)\n\u001b[1;32m    202\u001b[0m \u001b[38;5;28mself\u001b[39m\u001b[38;5;241m.\u001b[39mresults \u001b[38;5;241m=\u001b[39m study_many_problems(\n\u001b[1;32m    203\u001b[0m     \u001b[38;5;28mself\u001b[39m\u001b[38;5;241m.\u001b[39mbl\u001b[38;5;241m.\u001b[39mlayout, \u001b[38;5;28mself\u001b[39m\u001b[38;5;241m.\u001b[39mbl\u001b[38;5;241m.\u001b[39msummary, \u001b[38;5;28mself\u001b[39m\u001b[38;5;241m.\u001b[39mbl\u001b[38;5;241m.\u001b[39mproblems\n\u001b[1;32m    204\u001b[0m )\n\u001b[0;32m--> 205\u001b[0m \u001b[38;5;28;43mself\u001b[39;49m\u001b[38;5;241;43m.\u001b[39;49m\u001b[43mhandle\u001b[49m\u001b[43m(\u001b[49m\u001b[43m)\u001b[49m\n",
            "File \u001b[0;32m~/_UILCode/gqe-phd/svg2plan/_scripts/new_solutions/selection.py:210\u001b[0m, in \u001b[0;36mCook.handle\u001b[0;34m(self)\u001b[0m\n\u001b[1;32m    208\u001b[0m \u001b[38;5;28mself\u001b[39m\u001b[38;5;241m.\u001b[39msorted_res \u001b[38;5;241m=\u001b[39m sort_results(\u001b[38;5;28mself\u001b[39m\u001b[38;5;241m.\u001b[39mresults)\n\u001b[1;32m    209\u001b[0m \u001b[38;5;28mself\u001b[39m\u001b[38;5;241m.\u001b[39mres_hist\u001b[38;5;241m.\u001b[39mappend(\u001b[38;5;28mself\u001b[39m\u001b[38;5;241m.\u001b[39msorted_res)\n\u001b[0;32m--> 210\u001b[0m \u001b[38;5;28mself\u001b[39m\u001b[38;5;241m.\u001b[39mbl \u001b[38;5;241m=\u001b[39m get_next_best_result_wo_corner_overlap(\u001b[38;5;28;43mself\u001b[39;49m\u001b[38;5;241;43m.\u001b[39;49m\u001b[43msorted_res\u001b[49m\u001b[43m[\u001b[49m\u001b[38;5;241;43m0\u001b[39;49m\u001b[43m]\u001b[49m, \u001b[38;5;28mself\u001b[39m\u001b[38;5;241m.\u001b[39msorted_res)\n\u001b[1;32m    211\u001b[0m \u001b[38;5;28mprint\u001b[39m(\u001b[38;5;124mf\u001b[39m\u001b[38;5;124m\"\u001b[39m\u001b[38;5;124mfirst bl to try -> \u001b[39m\u001b[38;5;132;01m{\u001b[39;00m\u001b[38;5;28mself\u001b[39m\u001b[38;5;241m.\u001b[39mbl\u001b[38;5;132;01m}\u001b[39;00m\u001b[38;5;124m\"\u001b[39m)\n\u001b[1;32m    212\u001b[0m \u001b[38;5;28;01mwhile\u001b[39;00m is_domain_in_history(\u001b[38;5;28mself\u001b[39m\u001b[38;5;241m.\u001b[39mbl\u001b[38;5;241m.\u001b[39mlayout\u001b[38;5;241m.\u001b[39mdomains, \u001b[38;5;28mself\u001b[39m\u001b[38;5;241m.\u001b[39mhistory):\n",
            "\u001b[0;31mIndexError\u001b[0m: list index out of range"
          ]
        }
      ],
      "source": [
        "c.run_again()"
      ]
    },
    {
      "cell_type": "code",
      "execution_count": 12,
      "metadata": {},
      "outputs": [],
      "source": [
        "c.plot(2)"
      ]
    },
    {
      "cell_type": "code",
      "execution_count": 13,
      "metadata": {},
      "outputs": [
        {
          "name": "stdout",
          "output_type": "stream",
          "text": [
            "running again -> 3\n"
          ]
        },
        {
          "ename": "IndexError",
          "evalue": "list index out of range",
          "output_type": "error",
          "traceback": [
            "\u001b[0;31m---------------------------------------------------------------------------\u001b[0m",
            "\u001b[0;31mIndexError\u001b[0m                                Traceback (most recent call last)",
            "Cell \u001b[0;32mIn[13], line 1\u001b[0m\n\u001b[0;32m----> 1\u001b[0m \u001b[43mc\u001b[49m\u001b[38;5;241;43m.\u001b[39;49m\u001b[43mrun_again\u001b[49m\u001b[43m(\u001b[49m\u001b[43m)\u001b[49m\n",
            "File \u001b[0;32m~/_UILCode/gqe-phd/svg2plan/_scripts/new_solutions/selection.py:205\u001b[0m, in \u001b[0;36mCook.run_again\u001b[0;34m(self)\u001b[0m\n\u001b[1;32m    201\u001b[0m \u001b[38;5;28mprint\u001b[39m(\u001b[38;5;124mf\u001b[39m\u001b[38;5;124m\"\u001b[39m\u001b[38;5;124mrunning again -> \u001b[39m\u001b[38;5;132;01m{\u001b[39;00m\u001b[38;5;28mself\u001b[39m\u001b[38;5;241m.\u001b[39mcount\u001b[38;5;132;01m}\u001b[39;00m\u001b[38;5;124m\"\u001b[39m)\n\u001b[1;32m    202\u001b[0m \u001b[38;5;28mself\u001b[39m\u001b[38;5;241m.\u001b[39mresults \u001b[38;5;241m=\u001b[39m study_many_problems(\n\u001b[1;32m    203\u001b[0m     \u001b[38;5;28mself\u001b[39m\u001b[38;5;241m.\u001b[39mbl\u001b[38;5;241m.\u001b[39mlayout, \u001b[38;5;28mself\u001b[39m\u001b[38;5;241m.\u001b[39mbl\u001b[38;5;241m.\u001b[39msummary, \u001b[38;5;28mself\u001b[39m\u001b[38;5;241m.\u001b[39mbl\u001b[38;5;241m.\u001b[39mproblems\n\u001b[1;32m    204\u001b[0m )\n\u001b[0;32m--> 205\u001b[0m \u001b[38;5;28;43mself\u001b[39;49m\u001b[38;5;241;43m.\u001b[39;49m\u001b[43mhandle\u001b[49m\u001b[43m(\u001b[49m\u001b[43m)\u001b[49m\n",
            "File \u001b[0;32m~/_UILCode/gqe-phd/svg2plan/_scripts/new_solutions/selection.py:210\u001b[0m, in \u001b[0;36mCook.handle\u001b[0;34m(self)\u001b[0m\n\u001b[1;32m    208\u001b[0m \u001b[38;5;28mself\u001b[39m\u001b[38;5;241m.\u001b[39msorted_res \u001b[38;5;241m=\u001b[39m sort_results(\u001b[38;5;28mself\u001b[39m\u001b[38;5;241m.\u001b[39mresults)\n\u001b[1;32m    209\u001b[0m \u001b[38;5;28mself\u001b[39m\u001b[38;5;241m.\u001b[39mres_hist\u001b[38;5;241m.\u001b[39mappend(\u001b[38;5;28mself\u001b[39m\u001b[38;5;241m.\u001b[39msorted_res)\n\u001b[0;32m--> 210\u001b[0m \u001b[38;5;28mself\u001b[39m\u001b[38;5;241m.\u001b[39mbl \u001b[38;5;241m=\u001b[39m get_next_best_result_wo_corner_overlap(\u001b[38;5;28;43mself\u001b[39;49m\u001b[38;5;241;43m.\u001b[39;49m\u001b[43msorted_res\u001b[49m\u001b[43m[\u001b[49m\u001b[38;5;241;43m0\u001b[39;49m\u001b[43m]\u001b[49m, \u001b[38;5;28mself\u001b[39m\u001b[38;5;241m.\u001b[39msorted_res)\n\u001b[1;32m    211\u001b[0m \u001b[38;5;28mprint\u001b[39m(\u001b[38;5;124mf\u001b[39m\u001b[38;5;124m\"\u001b[39m\u001b[38;5;124mfirst bl to try -> \u001b[39m\u001b[38;5;132;01m{\u001b[39;00m\u001b[38;5;28mself\u001b[39m\u001b[38;5;241m.\u001b[39mbl\u001b[38;5;132;01m}\u001b[39;00m\u001b[38;5;124m\"\u001b[39m)\n\u001b[1;32m    212\u001b[0m \u001b[38;5;28;01mwhile\u001b[39;00m is_domain_in_history(\u001b[38;5;28mself\u001b[39m\u001b[38;5;241m.\u001b[39mbl\u001b[38;5;241m.\u001b[39mlayout\u001b[38;5;241m.\u001b[39mdomains, \u001b[38;5;28mself\u001b[39m\u001b[38;5;241m.\u001b[39mhistory):\n",
            "\u001b[0;31mIndexError\u001b[0m: list index out of range"
          ]
        }
      ],
      "source": [
        "c.run_again()"
      ]
    },
    {
      "cell_type": "code",
      "execution_count": 6,
      "metadata": {},
      "outputs": [
        {
          "name": "stdout",
          "output_type": "stream",
          "text": [
            "running again -> 3\n",
            "reporter> Couldn't identify problems.. \n"
          ]
        },
        {
          "ename": "AttributeError",
          "evalue": "'SideHoleIdentifier' object has no attribute 'problems'",
          "output_type": "error",
          "traceback": [
            "\u001b[0;31m---------------------------------------------------------------------------\u001b[0m",
            "\u001b[0;31mAttributeError\u001b[0m                            Traceback (most recent call last)",
            "Cell \u001b[0;32mIn[6], line 1\u001b[0m\n\u001b[0;32m----> 1\u001b[0m \u001b[43mc\u001b[49m\u001b[38;5;241;43m.\u001b[39;49m\u001b[43mrun_again\u001b[49m\u001b[43m(\u001b[49m\u001b[43m)\u001b[49m\n",
            "File \u001b[0;32m~/_UILCode/gqe-phd/svg2plan/_scripts/new_solutions/selection.py:202\u001b[0m, in \u001b[0;36mCook.run_again\u001b[0;34m(self)\u001b[0m\n\u001b[1;32m    200\u001b[0m \u001b[38;5;28mself\u001b[39m\u001b[38;5;241m.\u001b[39mcount\u001b[38;5;241m+\u001b[39m\u001b[38;5;241m=\u001b[39m\u001b[38;5;241m1\u001b[39m\n\u001b[1;32m    201\u001b[0m \u001b[38;5;28mprint\u001b[39m(\u001b[38;5;124mf\u001b[39m\u001b[38;5;124m\"\u001b[39m\u001b[38;5;124mrunning again -> \u001b[39m\u001b[38;5;132;01m{\u001b[39;00m\u001b[38;5;28mself\u001b[39m\u001b[38;5;241m.\u001b[39mcount\u001b[38;5;132;01m}\u001b[39;00m\u001b[38;5;124m\"\u001b[39m)\n\u001b[0;32m--> 202\u001b[0m \u001b[38;5;28mself\u001b[39m\u001b[38;5;241m.\u001b[39mresults \u001b[38;5;241m=\u001b[39m \u001b[43mstudy_many_problems\u001b[49m\u001b[43m(\u001b[49m\n\u001b[1;32m    203\u001b[0m \u001b[43m    \u001b[49m\u001b[38;5;28;43mself\u001b[39;49m\u001b[38;5;241;43m.\u001b[39;49m\u001b[43mbl\u001b[49m\u001b[38;5;241;43m.\u001b[39;49m\u001b[43mlayout\u001b[49m\u001b[43m,\u001b[49m\u001b[43m \u001b[49m\u001b[38;5;28;43mself\u001b[39;49m\u001b[38;5;241;43m.\u001b[39;49m\u001b[43mbl\u001b[49m\u001b[38;5;241;43m.\u001b[39;49m\u001b[43msummary\u001b[49m\u001b[43m,\u001b[49m\u001b[43m \u001b[49m\u001b[38;5;28;43mself\u001b[39;49m\u001b[38;5;241;43m.\u001b[39;49m\u001b[43mbl\u001b[49m\u001b[38;5;241;43m.\u001b[39;49m\u001b[43mproblems\u001b[49m\n\u001b[1;32m    204\u001b[0m \u001b[43m\u001b[49m\u001b[43m)\u001b[49m\n\u001b[1;32m    205\u001b[0m \u001b[38;5;28mself\u001b[39m\u001b[38;5;241m.\u001b[39mhandle()\n",
            "File \u001b[0;32m~/_UILCode/gqe-phd/svg2plan/_scripts/new_solutions/simple_problem.py:113\u001b[0m, in \u001b[0;36mstudy_many_problems\u001b[0;34m(layout, summary, problems)\u001b[0m\n\u001b[1;32m    111\u001b[0m \u001b[38;5;28;01mfor\u001b[39;00m curr_prob \u001b[38;5;129;01min\u001b[39;00m valid_probs:\n\u001b[1;32m    112\u001b[0m     s \u001b[38;5;241m=\u001b[39m StudyOneProblem(layout, summary, valid_probs, problem\u001b[38;5;241m=\u001b[39mcurr_prob)\n\u001b[0;32m--> 113\u001b[0m     \u001b[43ms\u001b[49m\u001b[38;5;241;43m.\u001b[39;49m\u001b[43mrun\u001b[49m\u001b[43m(\u001b[49m\u001b[43m)\u001b[49m\n\u001b[1;32m    114\u001b[0m     results\u001b[38;5;241m.\u001b[39mextend(s\u001b[38;5;241m.\u001b[39mresults)\n\u001b[1;32m    115\u001b[0m \u001b[38;5;28;01mreturn\u001b[39;00m results\n",
            "File \u001b[0;32m~/_UILCode/gqe-phd/svg2plan/_scripts/new_solutions/simple_problem.py:75\u001b[0m, in \u001b[0;36mStudyOneProblem.run\u001b[0;34m(self)\u001b[0m\n\u001b[1;32m     73\u001b[0m \u001b[38;5;28;01mdef\u001b[39;00m \u001b[38;5;21mrun\u001b[39m(\u001b[38;5;28mself\u001b[39m):\n\u001b[1;32m     74\u001b[0m     ops \u001b[38;5;241m=\u001b[39m \u001b[38;5;28mself\u001b[39m\u001b[38;5;241m.\u001b[39mexecute_actions()\n\u001b[0;32m---> 75\u001b[0m     \u001b[38;5;28mself\u001b[39m\u001b[38;5;241m.\u001b[39mresults \u001b[38;5;241m=\u001b[39m \u001b[38;5;28mlist\u001b[39m(\u001b[38;5;28mfilter\u001b[39m(\u001b[38;5;28;01mNone\u001b[39;00m, [\u001b[38;5;28mself\u001b[39m\u001b[38;5;241m.\u001b[39mstudy_operation(i) \u001b[38;5;28;01mfor\u001b[39;00m i \u001b[38;5;129;01min\u001b[39;00m ops]))\n\u001b[1;32m     76\u001b[0m     \u001b[38;5;28mself\u001b[39m\u001b[38;5;241m.\u001b[39mproblem_results \u001b[38;5;241m=\u001b[39m ProblemResults(\u001b[38;5;28mself\u001b[39m\u001b[38;5;241m.\u001b[39mproblem, \u001b[38;5;28mself\u001b[39m\u001b[38;5;241m.\u001b[39mlayout, \u001b[38;5;28mself\u001b[39m\u001b[38;5;241m.\u001b[39mresults)\n",
            "File \u001b[0;32m~/_UILCode/gqe-phd/svg2plan/_scripts/new_solutions/simple_problem.py:75\u001b[0m, in \u001b[0;36m<listcomp>\u001b[0;34m(.0)\u001b[0m\n\u001b[1;32m     73\u001b[0m \u001b[38;5;28;01mdef\u001b[39;00m \u001b[38;5;21mrun\u001b[39m(\u001b[38;5;28mself\u001b[39m):\n\u001b[1;32m     74\u001b[0m     ops \u001b[38;5;241m=\u001b[39m \u001b[38;5;28mself\u001b[39m\u001b[38;5;241m.\u001b[39mexecute_actions()\n\u001b[0;32m---> 75\u001b[0m     \u001b[38;5;28mself\u001b[39m\u001b[38;5;241m.\u001b[39mresults \u001b[38;5;241m=\u001b[39m \u001b[38;5;28mlist\u001b[39m(\u001b[38;5;28mfilter\u001b[39m(\u001b[38;5;28;01mNone\u001b[39;00m, [\u001b[38;5;28;43mself\u001b[39;49m\u001b[38;5;241;43m.\u001b[39;49m\u001b[43mstudy_operation\u001b[49m\u001b[43m(\u001b[49m\u001b[43mi\u001b[49m\u001b[43m)\u001b[49m \u001b[38;5;28;01mfor\u001b[39;00m i \u001b[38;5;129;01min\u001b[39;00m ops]))\n\u001b[1;32m     76\u001b[0m     \u001b[38;5;28mself\u001b[39m\u001b[38;5;241m.\u001b[39mproblem_results \u001b[38;5;241m=\u001b[39m ProblemResults(\u001b[38;5;28mself\u001b[39m\u001b[38;5;241m.\u001b[39mproblem, \u001b[38;5;28mself\u001b[39m\u001b[38;5;241m.\u001b[39mlayout, \u001b[38;5;28mself\u001b[39m\u001b[38;5;241m.\u001b[39mresults)\n",
            "File \u001b[0;32m~/_UILCode/gqe-phd/svg2plan/_scripts/new_solutions/simple_problem.py:99\u001b[0m, in \u001b[0;36mStudyOneProblem.study_operation\u001b[0;34m(self, op)\u001b[0m\n\u001b[1;32m     97\u001b[0m \u001b[38;5;28;01mtry\u001b[39;00m:\n\u001b[1;32m     98\u001b[0m     re \u001b[38;5;241m=\u001b[39m Reporter(tmp_layout, \u001b[38;5;28mself\u001b[39m\u001b[38;5;241m.\u001b[39minit_problems)\n\u001b[0;32m---> 99\u001b[0m     \u001b[43mre\u001b[49m\u001b[38;5;241;43m.\u001b[39;49m\u001b[43mrun\u001b[49m\u001b[43m(\u001b[49m\u001b[43m)\u001b[49m\n\u001b[1;32m    100\u001b[0m     \u001b[38;5;28;01mreturn\u001b[39;00m ResultsLog(op, re\u001b[38;5;241m.\u001b[39msummary, re\u001b[38;5;241m.\u001b[39mproblems, re\u001b[38;5;241m.\u001b[39mnew, tmp_layout, \u001b[38;5;28mself\u001b[39m\u001b[38;5;241m.\u001b[39mproblem)\n\u001b[1;32m    101\u001b[0m \u001b[38;5;28;01mexcept\u001b[39;00m \u001b[38;5;167;01mAssertionError\u001b[39;00m:\n",
            "File \u001b[0;32m~/_UILCode/gqe-phd/svg2plan/_scripts/fixes/reporter.py:24\u001b[0m, in \u001b[0;36mReporter.run\u001b[0;34m(self)\u001b[0m\n\u001b[1;32m     23\u001b[0m \u001b[38;5;28;01mdef\u001b[39;00m \u001b[38;5;21mrun\u001b[39m(\u001b[38;5;28mself\u001b[39m):\n\u001b[0;32m---> 24\u001b[0m     \u001b[38;5;28;43mself\u001b[39;49m\u001b[38;5;241;43m.\u001b[39;49m\u001b[43mfind_new\u001b[49m\u001b[43m(\u001b[49m\u001b[43m)\u001b[49m\n\u001b[1;32m     25\u001b[0m     \u001b[38;5;28mself\u001b[39m\u001b[38;5;241m.\u001b[39mcompare_new_and_old()\n\u001b[1;32m     26\u001b[0m     \u001b[38;5;28mself\u001b[39m\u001b[38;5;241m.\u001b[39mhandle_resolved()\n",
            "File \u001b[0;32m~/_UILCode/gqe-phd/svg2plan/_scripts/fixes/reporter.py:42\u001b[0m, in \u001b[0;36mReporter.find_new\u001b[0;34m(self)\u001b[0m\n\u001b[1;32m     40\u001b[0m     svlogger\u001b[38;5;241m.\u001b[39mwarning(\u001b[38;5;124m\"\u001b[39m\u001b[38;5;124mCouldn\u001b[39m\u001b[38;5;124m'\u001b[39m\u001b[38;5;124mt identify problems.. \u001b[39m\u001b[38;5;124m\"\u001b[39m)\n\u001b[1;32m     41\u001b[0m     \u001b[38;5;28;01mpass\u001b[39;00m\n\u001b[0;32m---> 42\u001b[0m \u001b[38;5;28mself\u001b[39m\u001b[38;5;241m.\u001b[39mcandidates\u001b[38;5;241m.\u001b[39mextend(\u001b[38;5;28;43mself\u001b[39;49m\u001b[38;5;241;43m.\u001b[39;49m\u001b[43midentifier\u001b[49m\u001b[38;5;241;43m.\u001b[39;49m\u001b[43mproblems\u001b[49m)\n",
            "\u001b[0;31mAttributeError\u001b[0m: 'SideHoleIdentifier' object has no attribute 'problems'"
          ]
        }
      ],
      "source": [
        "c.run_again()"
      ]
    },
    {
      "cell_type": "code",
      "execution_count": null,
      "metadata": {},
      "outputs": [],
      "source": [
        "c.plot(4)"
      ]
    }
  ],
  "metadata": {
    "kernelspec": {
      "display_name": "Python 3",
      "language": "python",
      "name": "python3"
    },
    "language_info": {
      "codemirror_mode": {
        "name": "ipython",
        "version": 3
      },
      "file_extension": ".py",
      "mimetype": "text/x-python",
      "name": "python",
      "nbconvert_exporter": "python",
      "pygments_lexer": "ipython3",
      "version": "3.10.14"
    }
  },
  "nbformat": 4,
  "nbformat_minor": 2
}
