{
  "cells": [
    {
      "cell_type": "code",
      "execution_count": 1,
      "metadata": {},
      "outputs": [],
      "source": [
        "%load_ext autoreload\n",
        "%autoreload 2"
      ]
    },
    {
      "cell_type": "code",
      "execution_count": 2,
      "metadata": {},
      "outputs": [],
      "source": [
        "from __init__ import *\n",
        "import numpy as np\n",
        "from export.saver import read_pickle\n",
        "from helpers.layout import Layout\n",
        "from helpers.graph_helpers import *\n",
        "from helpers.helpers import sort_and_group_objects\n",
        "from typing import Dict\n",
        "from domains.domain import Domain\n",
        "from helpers.directions import get_axis, get_opposite_axis, Direction\n",
        "from placement2.arrange import *\n",
        "from copy import copy, deepcopy"
      ]
    },
    {
      "cell_type": "code",
      "execution_count": 3,
      "metadata": {},
      "outputs": [
        {
          "data": {
            "text/plain": [
              "Layout(shapes={'m_bed': <POLYGON ((2.24 8.87, 2.24 11.32, 0.11 11.32, 0.11 8.87, 2.24 8.87))>, 'bed1_closet': <POLYGON ((4.18 8.42, 4.18 8.79, 3.03 8.79, 3.03 8.42, 4.18 8.42))>, 'transit': <POLYGON ((2.89 7.91, 2.89 8.79, 1.73 8.79, 1.73 7.91, 2.89 7.91))>, 'm_closet': <POLYGON ((1.58 7.94, 1.58 8.82, 0.11 8.82, 0.11 7.94, 1.58 7.94))>, 'laundry': <POLYGON ((4.18 7.25, 4.18 8.34, 3.03 8.34, 3.03 7.25, 4.18 7.25))>, 'den': <POLYGON ((4.18 5.12, 4.18 7.17, 2.37 7.17, 2.37 5.12, 4.18 5.12))>, 'kitchen': <POLYGON ((1.58 2.6, 1.58 5.27, 0.11 5.27, 0.11 2.6, 1.58 2.6))>, 'living': <POLYGON ((3.27 0, 3.27 2.42, 0.11 2.42, 0.11 0, 3.27 0))>, 'dining': <POLYGON ((3.27 2.42, 3.27 5.02, 1.73 5.02, 1.73 2.42, 3.27 2.42))>, 'den_closet': <POLYGON ((4.18 4.66, 4.18 5.02, 3.52 5.02, 3.52 4.66, 4.18 4.66))>, 'm_bath': <POLYGON ((1.58 6.49, 1.58 7.73, 0 7.73, 0 6.49, 1.58 6.49))>, 'bath': <POLYGON ((1.61 5.43, 1.61 6.36, 0.03 6.36, 0.03 5.43, 1.61 5.43))>, 'linen': <POLYGON ((2.94 7.25, 2.94 7.64, 2.37 7.64, 2.37 7.25, 2.94 7.25))>, 'corridor': <POLYGON ((2.24 5.02, 2.24 7.83, 1.79 7.83, 1.79 5.02, 2.24 5.02))>, 'bed1': <POLYGON ((4.18 8.87, 4.18 11.32, 2.37 11.32, 2.37 8.87, 4.18 8.87))>}, domains={'m_bed': Domain(m_bed, x=[0.11-2.24], y=[8.87-11.32]), 'bed1_closet': Domain(bed1_closet, x=[3.03-4.18], y=[8.42-8.79]), 'transit': Domain(transit, x=[1.73-2.89], y=[7.91-8.79]), 'm_closet': Domain(m_closet, x=[0.11-1.58], y=[7.94-8.82]), 'laundry': Domain(laundry, x=[3.03-4.18], y=[7.25-8.34]), 'den': Domain(den, x=[2.37-4.18], y=[5.12-7.17]), 'kitchen': Domain(kitchen, x=[0.11-1.58], y=[2.60-5.27]), 'living': Domain(living, x=[0.11-3.27], y=[0.00-2.42]), 'dining': Domain(dining, x=[1.73-3.27], y=[2.42-5.02]), 'den_closet': Domain(den_closet, x=[3.52-4.18], y=[4.66-5.02]), 'm_bath': Domain(m_bath, x=[0.00-1.58], y=[6.49-7.73]), 'bath': Domain(bath, x=[0.03-1.61], y=[5.43-6.36]), 'linen': Domain(linen, x=[2.37-2.94], y=[7.25-7.64]), 'corridor': Domain(corridor, x=[1.79-2.24], y=[5.02-7.83]), 'bed1': Domain(bed1, x=[2.37-4.18], y=[8.87-11.32])}, graph=<networkx.classes.graph.Graph object at 0x1093633d0>)"
            ]
          },
          "execution_count": 3,
          "metadata": {},
          "output_type": "execute_result"
        }
      ],
      "source": [
        "layout: Layout = read_pickle(\"1001_amber_c_ag\")\n",
        "layout"
      ]
    },
    {
      "cell_type": "code",
      "execution_count": 9,
      "metadata": {},
      "outputs": [],
      "source": [
        "arr, *_ = initialize_arr(layout)"
      ]
    },
    {
      "cell_type": "code",
      "execution_count": 10,
      "metadata": {},
      "outputs": [
        {
          "data": {
            "text/plain": [
              "array([['m_bed', 'bed1'],\n",
              "       ['', ''],\n",
              "       ['', ''],\n",
              "       ['', ''],\n",
              "       ['', ''],\n",
              "       ['', '']], dtype=object)"
            ]
          },
          "execution_count": 10,
          "metadata": {},
          "output_type": "execute_result"
        }
      ],
      "source": [
        "arr"
      ]
    },
    {
      "cell_type": "code",
      "execution_count": null,
      "metadata": {},
      "outputs": [],
      "source": [
        "get_next_row(0, layout.graph, arr, layout.domains)"
      ]
    },
    {
      "cell_type": "code",
      "execution_count": 8,
      "metadata": {},
      "outputs": [
        {
          "name": "stdout",
          "output_type": "stream",
          "text": [
            "0\n",
            "1\n",
            "2\n",
            "3\n"
          ]
        },
        {
          "data": {
            "text/plain": [
              "array([['m_bed', 'bed1', '', ''],\n",
              "       ['m_closet', 'transit', 'bed1_closet', ''],\n",
              "       ['m_bath', 'corridor', 'linen', 'laundry'],\n",
              "       ['bath', 'dining', 'den', ''],\n",
              "       ['kitchen', 'living', 'den_closet', ''],\n",
              "       ['', '', '', '']], dtype=object)"
            ]
          },
          "execution_count": 8,
          "metadata": {},
          "output_type": "execute_result"
        }
      ],
      "source": []
    },
    {
      "cell_type": "code",
      "execution_count": null,
      "metadata": {},
      "outputs": [],
      "source": []
    }
  ],
  "metadata": {
    "kernelspec": {
      "display_name": "Python 3",
      "language": "python",
      "name": "python3"
    },
    "language_info": {
      "codemirror_mode": {
        "name": "ipython",
        "version": 3
      },
      "file_extension": ".py",
      "mimetype": "text/x-python",
      "name": "python",
      "nbconvert_exporter": "python",
      "pygments_lexer": "ipython3",
      "version": "3.10.14"
    }
  },
  "nbformat": 4,
  "nbformat_minor": 2
}
