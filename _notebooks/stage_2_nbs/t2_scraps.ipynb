{
  "cells": [
    {
      "cell_type": "code",
      "execution_count": 1,
      "metadata": {},
      "outputs": [],
      "source": [
        "%load_ext autoreload\n",
        "%autoreload 2"
      ]
    },
    {
      "cell_type": "code",
      "execution_count": 2,
      "metadata": {},
      "outputs": [],
      "source": [
        "from __init__ import *\n",
        "from new_solutions.simple_problem import study_many_problems\n",
        "from runner.svg2plan import run_new_layout\n",
        "from new_solutions.selection import *\n",
        "from itertools import accumulate\n",
        "from operator import add \n",
        "from functools import reduce\n",
        "from visuals.plotter import plot_general\n",
        "# from unit_tests.test_solutions import *\n",
        "from typing import Literal, List\n",
        "from enum import Enum\n",
        "from collections import Counter\n",
        "from typing import TypeVar\n",
        "from typing import Any\n",
        "from domains.domain import Domain\n",
        "\n",
        "import plotly.io as pio\n",
        "pio.renderers.default = \"browser\""
      ]
    },
    {
      "cell_type": "code",
      "execution_count": 3,
      "metadata": {},
      "outputs": [
        {
          "name": "stdout",
          "output_type": "stream",
          "text": [
            "executer> \n",
            " begining to execute stacking\n",
            "helloo!\n",
            "skipping bc of corner overlap 0\n",
            "skipping bc of corner overlap 1\n",
            "skipping bc of corner overlap 2\n",
            "skipping bc of corner overlap 3\n",
            "skipping bc of corner overlap 4\n",
            "skipping bc of corner overlap 5\n",
            "skipping bc of corner overlap 6\n",
            "skipping bc of corner overlap 7\n",
            "first bl to try -> node: laundry, action: STRETCH, summary: Counter({'OVERLAP': 4}), # unres probs: 4\n",
            "problem this fixes -> Problem(index=4, problem_type=ProblemType.HOLE, resolved=False, nbs=['transit_space', 'laundry', 'm_bath', 'bath']\n",
            "0\n"
          ]
        }
      ],
      "source": [
        "report = run_new_layout()\n",
        "c = Cook(report)\n"
      ]
    },
    {
      "cell_type": "code",
      "execution_count": 4,
      "metadata": {},
      "outputs": [
        {
          "name": "stdout",
          "output_type": "stream",
          "text": [
            "running again -> 1\n",
            "helloo!\n",
            "first bl to try -> node: laundry, action: SQUEEZE, summary: Counter({'OVERLAP': 3}), # unres probs: 3\n",
            "problem this fixes -> Problem(index=5, problem_type=ProblemType.OVERLAP, resolved=False, nbs=('m_bath', 'laundry')\n"
          ]
        }
      ],
      "source": [
        "c.run_again()"
      ]
    },
    {
      "cell_type": "code",
      "execution_count": 5,
      "metadata": {},
      "outputs": [
        {
          "name": "stdout",
          "output_type": "stream",
          "text": [
            "running again -> 2\n",
            "helloo!\n",
            "first bl to try -> node: bath, action: SQUEEZE, summary: Counter({'OVERLAP': 2}), # unres probs: 2\n",
            "problem this fixes -> Problem(index=2, problem_type=ProblemType.OVERLAP, resolved=False, nbs=('m_bedroom', 'bath')\n"
          ]
        }
      ],
      "source": [
        "c.run_again()"
      ]
    },
    {
      "cell_type": "code",
      "execution_count": 6,
      "metadata": {},
      "outputs": [
        {
          "name": "stdout",
          "output_type": "stream",
          "text": [
            "running again -> 3\n",
            "helloo!\n",
            "first bl to try -> node: m_bedroom, action: SQUEEZE, summary: Counter({'OVERLAP': 1}), # unres probs: 1\n",
            "problem this fixes -> Problem(index=3, problem_type=ProblemType.OVERLAP, resolved=False, nbs=('m_bedroom', 'dining')\n"
          ]
        }
      ],
      "source": [
        "c.run_again()"
      ]
    },
    {
      "cell_type": "code",
      "execution_count": 7,
      "metadata": {},
      "outputs": [
        {
          "name": "stdout",
          "output_type": "stream",
          "text": [
            "running again -> 4\n",
            "helloo!\n",
            "first bl to try -> node: m_closet, action: SQUEEZE, summary: Counter(), # unres probs: 0\n",
            "problem this fixes -> Problem(index=1, problem_type=ProblemType.OVERLAP, resolved=False, nbs=('m_closet', 'dining')\n"
          ]
        }
      ],
      "source": [
        "c.run_again()"
      ]
    },
    {
      "cell_type": "code",
      "execution_count": null,
      "metadata": {},
      "outputs": [],
      "source": [
        "c.plot(4)"
      ]
    }
  ],
  "metadata": {
    "kernelspec": {
      "display_name": "Python 3",
      "language": "python",
      "name": "python3"
    },
    "language_info": {
      "codemirror_mode": {
        "name": "ipython",
        "version": 3
      },
      "file_extension": ".py",
      "mimetype": "text/x-python",
      "name": "python",
      "nbconvert_exporter": "python",
      "pygments_lexer": "ipython3",
      "version": "3.10.14"
    }
  },
  "nbformat": 4,
  "nbformat_minor": 2
}
