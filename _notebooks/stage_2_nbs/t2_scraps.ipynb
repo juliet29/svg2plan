{
  "cells": [
    {
      "cell_type": "code",
      "execution_count": 1,
      "metadata": {},
      "outputs": [],
      "source": [
        "%load_ext autoreload\n",
        "%autoreload 2"
      ]
    },
    {
      "cell_type": "code",
      "execution_count": 2,
      "metadata": {},
      "outputs": [],
      "source": [
        "from __init__ import *\n",
        "import numpy as np\n",
        "from export.saver import read_pickle\n",
        "from helpers.layout import Layout\n",
        "from helpers.graph_helpers import *\n",
        "from helpers.helpers import sort_and_group_objects\n",
        "from typing import Dict\n",
        "from domains.domain import Domain\n",
        "from helpers.directions import get_axis, get_opposite_axis, Direction\n",
        "from placement2.arrange import *\n",
        "from copy import copy, deepcopy"
      ]
    },
    {
      "cell_type": "code",
      "execution_count": 3,
      "metadata": {},
      "outputs": [],
      "source": [
        "layout: Layout = read_pickle(\"1001_amber_c_ag\")\n",
        "G = layout.graph"
      ]
    },
    {
      "cell_type": "code",
      "execution_count": 36,
      "metadata": {},
      "outputs": [
        {
          "data": {
            "text/plain": [
              "{'data': NeighborDirections(NORTH=['laundry', 'linen'], SOUTH=['dining', 'den_closet'], EAST=[], WEST=['corridor'])}"
            ]
          },
          "execution_count": 36,
          "metadata": {},
          "output_type": "execute_result"
        }
      ],
      "source": [
        "G.nodes[\"den\"]"
      ]
    },
    {
      "cell_type": "code",
      "execution_count": 19,
      "metadata": {},
      "outputs": [
        {
          "data": {
            "text/plain": [
              "array([['m_bed', 'bed1'],\n",
              "       ['m_closet', ''],\n",
              "       ['m_bath', ''],\n",
              "       ['bath', ''],\n",
              "       ['kitchen', ''],\n",
              "       ['living', '']], dtype=object)"
            ]
          },
          "execution_count": 19,
          "metadata": {},
          "output_type": "execute_result"
        }
      ],
      "source": [
        "arr, *_ = initialize_arr(layout)\n",
        "arr"
      ]
    },
    {
      "cell_type": "code",
      "execution_count": 25,
      "metadata": {},
      "outputs": [
        {
          "name": "stdout",
          "output_type": "stream",
          "text": [
            "['bed1_closet', 'transit', 'm_closet']\n"
          ]
        },
        {
          "data": {
            "text/plain": [
              "array([['m_bed', 'bed1', ''],\n",
              "       ['m_closet', 'transit', 'bed1_closet'],\n",
              "       ['m_bath', '', ''],\n",
              "       ['bath', '', ''],\n",
              "       ['kitchen', '', ''],\n",
              "       ['living', '', '']], dtype=object)"
            ]
          },
          "execution_count": 25,
          "metadata": {},
          "output_type": "execute_result"
        }
      ],
      "source": [
        "arr1 = place_next_row(G, arr)\n",
        "arr1"
      ]
    },
    {
      "cell_type": "code",
      "execution_count": 26,
      "metadata": {},
      "outputs": [
        {
          "name": "stdout",
          "output_type": "stream",
          "text": [
            "['laundry', 'm_bath', 'linen', 'corridor']\n"
          ]
        },
        {
          "data": {
            "text/plain": [
              "array([['m_bed', 'bed1', '', ''],\n",
              "       ['m_closet', 'transit', 'bed1_closet', ''],\n",
              "       ['m_bath', 'corridor', 'linen', 'laundry'],\n",
              "       ['bath', '', '', ''],\n",
              "       ['kitchen', '', '', ''],\n",
              "       ['living', '', '', '']], dtype=object)"
            ]
          },
          "execution_count": 26,
          "metadata": {},
          "output_type": "execute_result"
        }
      ],
      "source": [
        "arr2 = place_next_row(G, arr1)\n",
        "arr2"
      ]
    },
    {
      "cell_type": "code",
      "execution_count": 34,
      "metadata": {},
      "outputs": [
        {
          "name": "stdout",
          "output_type": "stream",
          "text": [
            "['den', 'dining', 'bath']\n",
            "ne nb: corridor, ix 2\n",
            "next node den\n"
          ]
        },
        {
          "ename": "Exception",
          "evalue": "Exceeded max iter",
          "output_type": "error",
          "traceback": [
            "\u001b[0;31m---------------------------------------------------------------------------\u001b[0m",
            "\u001b[0;31mException\u001b[0m                                 Traceback (most recent call last)",
            "Cell \u001b[0;32mIn[34], line 1\u001b[0m\n\u001b[0;32m----> 1\u001b[0m arr3 \u001b[38;5;241m=\u001b[39m \u001b[43mplace_next_row\u001b[49m\u001b[43m(\u001b[49m\u001b[43mG\u001b[49m\u001b[43m,\u001b[49m\u001b[43m \u001b[49m\u001b[43marr2\u001b[49m\u001b[43m)\u001b[49m\n\u001b[1;32m      2\u001b[0m arr3\n",
            "File \u001b[0;32m~/_UILCode/gqe-phd/svg2plan/_scripts/placement2/arrange.py:117\u001b[0m, in \u001b[0;36mplace_next_row\u001b[0;34m(G, arr)\u001b[0m\n\u001b[1;32m    115\u001b[0m \u001b[38;5;28;01mdef\u001b[39;00m \u001b[38;5;21mplace_next_row\u001b[39m(G, arr):\n\u001b[1;32m    116\u001b[0m     ix \u001b[38;5;241m=\u001b[39m get_current_row(arr)\n\u001b[0;32m--> 117\u001b[0m     row \u001b[38;5;241m=\u001b[39m \u001b[43mcreate_next_row\u001b[49m\u001b[43m(\u001b[49m\u001b[43mG\u001b[49m\u001b[43m,\u001b[49m\u001b[43m \u001b[49m\u001b[43marr\u001b[49m\u001b[43m,\u001b[49m\u001b[43m \u001b[49m\u001b[43mix\u001b[49m\u001b[43m)\u001b[49m\n\u001b[1;32m    118\u001b[0m     narr \u001b[38;5;241m=\u001b[39m adjust_arr_for_row(arr, row)\n\u001b[1;32m    119\u001b[0m     \u001b[38;5;28;01mreturn\u001b[39;00m update_arr(narr, row, ix\u001b[38;5;241m+\u001b[39m\u001b[38;5;241m1\u001b[39m)\n",
            "File \u001b[0;32m~/_UILCode/gqe-phd/svg2plan/_scripts/placement2/arrange.py:91\u001b[0m, in \u001b[0;36mcreate_next_row\u001b[0;34m(G, arr, ix)\u001b[0m\n\u001b[1;32m     89\u001b[0m     curr_node \u001b[38;5;241m=\u001b[39m next_node\n\u001b[1;32m     90\u001b[0m \u001b[38;5;28;01mif\u001b[39;00m cnt \u001b[38;5;241m>\u001b[39m max_iter:\n\u001b[0;32m---> 91\u001b[0m     \u001b[38;5;28;01mraise\u001b[39;00m \u001b[38;5;167;01mException\u001b[39;00m(\u001b[38;5;124m\"\u001b[39m\u001b[38;5;124mExceeded max iter\u001b[39m\u001b[38;5;124m\"\u001b[39m)\n",
            "\u001b[0;31mException\u001b[0m: Exceeded max iter"
          ]
        }
      ],
      "source": [
        "arr3 = place_next_row(G, arr2)\n",
        "arr3"
      ]
    },
    {
      "cell_type": "code",
      "execution_count": 16,
      "metadata": {},
      "outputs": [
        {
          "data": {
            "text/plain": [
              "'corridor'"
            ]
          },
          "execution_count": 16,
          "metadata": {},
          "output_type": "execute_result"
        }
      ],
      "source": [
        "find_east_nb(G, \"bath\", get_row(arr3, 2))"
      ]
    },
    {
      "cell_type": "code",
      "execution_count": 18,
      "metadata": {},
      "outputs": [
        {
          "data": {
            "text/plain": [
              "'den'"
            ]
          },
          "execution_count": 18,
          "metadata": {},
          "output_type": "execute_result"
        }
      ],
      "source": [
        "find_east_nb(G, \"corridor\", ['den', 'dining', 'bath'])"
      ]
    },
    {
      "cell_type": "code",
      "execution_count": 7,
      "metadata": {},
      "outputs": [],
      "source": [
        "def create_row(G, arr, ix):\n",
        "    valid_nodes = get_next_row_all(ix, G, arr)\n",
        "    found_nodes = [arr[ix+1, 0]]\n",
        "    avail_nodes = list(set(valid_nodes).difference(set(found_nodes)))\n",
        "    print(avail_nodes, found_nodes)\n",
        "\n",
        "    max_iter = 10\n",
        "    cnt = 0\n",
        "\n",
        "    while avail_nodes:\n",
        "        cnt+=1\n",
        "        curr_node = found_nodes[-1]\n",
        "        next_node = find_east_nb(G, curr_node, avail_nodes)\n",
        "        if not next_node:\n",
        "            return found_nodes\n",
        "        else:\n",
        "            found_nodes.append(next_node)\n",
        "            curr_node = next_node\n",
        "        if cnt > max_iter:\n",
        "            raise Exception(\"Exceeded max iter\")\n"
      ]
    },
    {
      "cell_type": "code",
      "execution_count": 10,
      "metadata": {},
      "outputs": [
        {
          "name": "stdout",
          "output_type": "stream",
          "text": [
            "['transit', 'bed1_closet'] ['m_closet']\n",
            "m_closet\n",
            "transit\n",
            "bed1_closet\n"
          ]
        },
        {
          "data": {
            "text/plain": [
              "['m_closet', 'transit', 'bed1_closet']"
            ]
          },
          "execution_count": 10,
          "metadata": {},
          "output_type": "execute_result"
        }
      ],
      "source": [
        "create_row(layout.graph, arr, 0)"
      ]
    },
    {
      "cell_type": "code",
      "execution_count": 63,
      "metadata": {},
      "outputs": [],
      "source": [
        "from itertools import count"
      ]
    },
    {
      "cell_type": "code",
      "execution_count": 67,
      "metadata": {},
      "outputs": [
        {
          "data": {
            "text/plain": [
              "count(0)"
            ]
          },
          "execution_count": 67,
          "metadata": {},
          "output_type": "execute_result"
        }
      ],
      "source": [
        "count()"
      ]
    },
    {
      "cell_type": "code",
      "execution_count": 35,
      "metadata": {},
      "outputs": [
        {
          "data": {
            "text/plain": [
              "{2, 3}"
            ]
          },
          "execution_count": 35,
          "metadata": {},
          "output_type": "execute_result"
        }
      ],
      "source": [
        "{1,2,3}.difference({1})"
      ]
    },
    {
      "cell_type": "code",
      "execution_count": 61,
      "metadata": {},
      "outputs": [
        {
          "name": "stdout",
          "output_type": "stream",
          "text": [
            "{'transit', 'bed1_closet'} ['m_closet']\n"
          ]
        }
      ],
      "source": [
        "create_row(layout.graph, arr, 0)"
      ]
    },
    {
      "cell_type": "code",
      "execution_count": 25,
      "metadata": {},
      "outputs": [],
      "source": [
        "def find_east_nb(G, node, north_nbs):\n",
        "    valid_nbs = [i for i in north_nbs if i != node]\n",
        "    east_nbs = G.nodes()[node][\"data\"][\"EAST\"]\n",
        "    res = set(east_nbs).intersection(set(valid_nbs))\n",
        "    if len(res) == 1:\n",
        "        return res\n",
        "    if len(res) == 0:\n",
        "        return None\n",
        "    if len(res) > 1:\n",
        "        raise Exception(\"More than one east nb\")"
      ]
    },
    {
      "cell_type": "code",
      "execution_count": 62,
      "metadata": {},
      "outputs": [],
      "source": [
        "find_east_nb(layout.graph, w_node, valid_nodes)"
      ]
    },
    {
      "cell_type": "code",
      "execution_count": 8,
      "metadata": {},
      "outputs": [
        {
          "name": "stdout",
          "output_type": "stream",
          "text": [
            "0\n",
            "1\n",
            "2\n",
            "3\n"
          ]
        },
        {
          "data": {
            "text/plain": [
              "array([['m_bed', 'bed1', '', ''],\n",
              "       ['m_closet', 'transit', 'bed1_closet', ''],\n",
              "       ['m_bath', 'corridor', 'linen', 'laundry'],\n",
              "       ['bath', 'dining', 'den', ''],\n",
              "       ['kitchen', 'living', 'den_closet', ''],\n",
              "       ['', '', '', '']], dtype=object)"
            ]
          },
          "execution_count": 8,
          "metadata": {},
          "output_type": "execute_result"
        }
      ],
      "source": []
    },
    {
      "cell_type": "code",
      "execution_count": null,
      "metadata": {},
      "outputs": [],
      "source": []
    }
  ],
  "metadata": {
    "kernelspec": {
      "display_name": "Python 3",
      "language": "python",
      "name": "python3"
    },
    "language_info": {
      "codemirror_mode": {
        "name": "ipython",
        "version": 3
      },
      "file_extension": ".py",
      "mimetype": "text/x-python",
      "name": "python",
      "nbconvert_exporter": "python",
      "pygments_lexer": "ipython3",
      "version": "3.10.14"
    }
  },
  "nbformat": 4,
  "nbformat_minor": 2
}
