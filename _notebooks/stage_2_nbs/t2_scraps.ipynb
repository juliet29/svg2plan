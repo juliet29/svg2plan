{
  "cells": [
    {
      "cell_type": "code",
      "execution_count": 1,
      "metadata": {},
      "outputs": [],
      "source": [
        "%load_ext autoreload\n",
        "%autoreload 2"
      ]
    },
    {
      "cell_type": "code",
      "execution_count": 2,
      "metadata": {},
      "outputs": [],
      "source": [
        "from __init__ import *\n",
        "from runner.svg2plan import run_new_layout\n",
        "from new_solutions.selection import *\n",
        "from domains.domain import Domain\n",
        "\n",
        "import plotly.io as pio\n",
        "pio.renderers.default = \"browser\"\n",
        "\n",
        "from fixes.problem_types.side_hole_id2 import *\n",
        "from visuals.plots import make_subplot_for_all_probs\n",
        "from export.saver import read_pickle, save_pickle\n",
        "from actions.details import Details\n",
        "from helpers.shapely import shape_to_domain\n",
        "from actions.interfaces import CurrentDomains\n",
        "from fixes.problem_types.overlap_id import *"
      ]
    },
    {
      "cell_type": "code",
      "execution_count": 16,
      "metadata": {},
      "outputs": [
        {
          "name": "stdout",
          "output_type": "stream",
          "text": [
            "executer> \n",
            " begining to execute stacking\n"
          ]
        }
      ],
      "source": [
        "report = run_new_layout()"
      ]
    },
    {
      "cell_type": "code",
      "execution_count": 18,
      "metadata": {},
      "outputs": [
        {
          "data": {
            "text/plain": [
              "[Problem(ix=1, OVERLAP, ['m_closet', 'dining'], resolved=False,  n_actions=2,\n",
              " Problem(ix=2, OVERLAP, ['m_bedroom', 'dining'], resolved=False,  n_actions=4,\n",
              " Problem(ix=3, OVERLAP, ['m_bedroom', 'bath'], resolved=False,  n_actions=2]"
            ]
          },
          "execution_count": 18,
          "metadata": {},
          "output_type": "execute_result"
        }
      ],
      "source": [
        "re = Reporter(report.layout)\n",
        "re.run()\n",
        "re.problems"
      ]
    },
    {
      "cell_type": "code",
      "execution_count": 4,
      "metadata": {},
      "outputs": [
        {
          "data": {
            "text/plain": [
              "[(Domain(dining, x=[5.02-7.14], y=[-5.68--2.53]),\n",
              "  Domain(closet, x=[8.38-9.38], y=[-5.75--3.34]),\n",
              "  'x')]"
            ]
          },
          "execution_count": 4,
          "metadata": {},
          "output_type": "execute_result"
        }
      ],
      "source": [
        "rl:ResultsLog = read_pickle(\"dining_squeeze_sidehole\")\n",
        "p = check_for_side_holes(rl.layout)\n",
        "p"
      ]
    },
    {
      "cell_type": "code",
      "execution_count": 14,
      "metadata": {},
      "outputs": [],
      "source": [
        "re = Reporter(rl.layout)\n",
        "re.run()"
      ]
    },
    {
      "cell_type": "code",
      "execution_count": 15,
      "metadata": {},
      "outputs": [
        {
          "data": {
            "text/plain": [
              "[Problem(ix=1, SIDE_HOLE, ['dining', 'closet'], resolved=False,  n_actions=2]"
            ]
          },
          "execution_count": 15,
          "metadata": {},
          "output_type": "execute_result"
        }
      ],
      "source": [
        "re.problems"
      ]
    },
    {
      "cell_type": "code",
      "execution_count": 13,
      "metadata": {},
      "outputs": [
        {
          "data": {
            "text/plain": [
              "[dining-WEST-1.24, closet-EAST-1.24]"
            ]
          },
          "execution_count": 13,
          "metadata": {},
          "output_type": "execute_result"
        }
      ],
      "source": [
        "res = create_side_hole_problems(rl.layout)\n",
        "res[0].action_details"
      ]
    },
    {
      "cell_type": "code",
      "execution_count": 9,
      "metadata": {},
      "outputs": [
        {
          "data": {
            "text/plain": [
              "[<Direction.WEST: 3>]"
            ]
          },
          "execution_count": 9,
          "metadata": {},
          "output_type": "execute_result"
        }
      ],
      "source": [
        "cmp = p[0][0].compare_domains(p[0][1])\n",
        "cmp.get_domain_directions(p[0][0])"
      ]
    },
    {
      "cell_type": "code",
      "execution_count": 10,
      "metadata": {},
      "outputs": [
        {
          "data": {
            "text/plain": [
              "'x'"
            ]
          },
          "execution_count": 10,
          "metadata": {},
          "output_type": "execute_result"
        }
      ],
      "source": [
        "get_axis(cmp.get_domain_directions(p[0][0])[0])"
      ]
    },
    {
      "cell_type": "code",
      "execution_count": 14,
      "metadata": {},
      "outputs": [
        {
          "data": {
            "text/plain": [
              "[Problem(ix=1, OVERLAP, ['m_bedroom', 'dining'], resolved=False,  n_actions=4,\n",
              " Problem(ix=2, OVERLAP, ['m_bedroom', 'bath'], resolved=False,  n_actions=2,\n",
              " Problem(ix=3, OVERLAP, ['m_closet', 'dining'], resolved=False,  n_actions=2]"
            ]
          },
          "execution_count": 14,
          "metadata": {},
          "output_type": "execute_result"
        }
      ],
      "source": [
        "re.problems"
      ]
    },
    {
      "cell_type": "code",
      "execution_count": 9,
      "metadata": {},
      "outputs": [
        {
          "data": {
            "text/plain": [
              "[Problem(ix=0, OVERLAP, ['m_bedroom', 'bath'], resolved=False,  n_actions=2,\n",
              " Problem(ix=1, OVERLAP, ['m_bedroom', 'dining'], resolved=False,  n_actions=4,\n",
              " Problem(ix=2, OVERLAP, ['m_closet', 'dining'], resolved=False,  n_actions=2]"
            ]
          },
          "execution_count": 9,
          "metadata": {},
          "output_type": "execute_result"
        }
      ],
      "source": [
        "ov = create_overlap_problems(report.layout)\n",
        "ov"
      ]
    },
    {
      "cell_type": "code",
      "execution_count": 8,
      "metadata": {},
      "outputs": [
        {
          "data": {
            "text/plain": [
              "[m_closet EAST, sz=0.18, dining WEST, sz=0.18]"
            ]
          },
          "execution_count": 8,
          "metadata": {},
          "output_type": "execute_result"
        }
      ],
      "source": [
        "ov[2].action_details"
      ]
    },
    {
      "cell_type": "code",
      "execution_count": 5,
      "metadata": {},
      "outputs": [
        {
          "name": "stdout",
          "output_type": "stream",
          "text": [
            " 20\n"
          ]
        }
      ],
      "source": [
        "d = Decimal(\"20\")\n",
        "print(f\" {d}\")"
      ]
    },
    {
      "cell_type": "code",
      "execution_count": 6,
      "metadata": {},
      "outputs": [
        {
          "data": {
            "text/plain": [
              "[[node:m_bedroom, EAST, sz=0.20, node:bath, WEST, sz=0.20],\n",
              " [node:m_bedroom, NORTH, sz=0.21,\n",
              "  node:m_bedroom, EAST, sz=1.24,\n",
              "  node:dining, SOUTH, sz=0.21,\n",
              "  node:dining, WEST, sz=1.24],\n",
              " [node:m_closet, EAST, sz=0.18, node:dining, WEST, sz=0.18]]"
            ]
          },
          "execution_count": 6,
          "metadata": {},
          "output_type": "execute_result"
        }
      ],
      "source": [
        "res = [create_action_details(o, report.layout.domains) for o in ov]\n",
        "res"
      ]
    },
    {
      "cell_type": "code",
      "execution_count": 13,
      "metadata": {},
      "outputs": [
        {
          "data": {
            "text/plain": [
              "['x', 'y']"
            ]
          },
          "execution_count": 13,
          "metadata": {},
          "output_type": "execute_result"
        }
      ],
      "source": [
        "res[1].get_axis()"
      ]
    },
    {
      "cell_type": "code",
      "execution_count": 9,
      "metadata": {},
      "outputs": [
        {
          "data": {
            "text/plain": [
              "['NORTH', 'EAST']"
            ]
          },
          "execution_count": 9,
          "metadata": {},
          "output_type": "execute_result"
        }
      ],
      "source": [
        "res[1].get_domain_directions(report.layout.domains[\"m_bedroom\"])"
      ]
    },
    {
      "cell_type": "code",
      "execution_count": 5,
      "metadata": {},
      "outputs": [],
      "source": [
        "plot_general(report.layout.domains)"
      ]
    },
    {
      "cell_type": "code",
      "execution_count": null,
      "metadata": {},
      "outputs": [],
      "source": []
    },
    {
      "cell_type": "code",
      "execution_count": 38,
      "metadata": {},
      "outputs": [
        {
          "name": "stdout",
          "output_type": "stream",
          "text": [
            "problem being studied: -> Problem(index=5, problem_type=ProblemType.OVERLAP, resolved=False, nbs=('bath', 'transit_space')\n",
            "first bl to try -> node: bath, action: SQUEEZE, summary: Counter({'OVERLAP': 2, 'HOLE': 1}), # unres probs: 3\n",
            "next best layout node: bath, action: SQUEEZE, summary: Counter({'OVERLAP': 2, 'HOLE': 1}), # unres probs: 3\n",
            "running again -> 2\n"
          ]
        }
      ],
      "source": []
    },
    {
      "cell_type": "code",
      "execution_count": 39,
      "metadata": {},
      "outputs": [
        {
          "name": "stdout",
          "output_type": "stream",
          "text": [
            "problem being studied: -> Problem(index=4, problem_type=ProblemType.HOLE, resolved=False, nbs=['transit_space', 'laundry', 'm_bath', 'bath']\n",
            "first bl to try -> node: bath, action: STRETCH, summary: Counter({'OVERLAP': 3}), # unres probs: 3\n",
            "skipping bc prev domains are in history\n",
            "skipping bc prev domains are in history\n",
            "next best layout node: laundry, action: STRETCH, summary: Counter({'OVERLAP': 3}), # unres probs: 3\n",
            "running again -> 3\n"
          ]
        }
      ],
      "source": [
        "c.run_again()"
      ]
    },
    {
      "cell_type": "code",
      "execution_count": 40,
      "metadata": {},
      "outputs": [
        {
          "name": "stdout",
          "output_type": "stream",
          "text": [
            "problem being studied: -> Problem(index=4, problem_type=ProblemType.OVERLAP, resolved=False, nbs=('m_bath', 'laundry')\n",
            "first bl to try -> node: laundry, action: SQUEEZE, summary: Counter({'OVERLAP': 2}), # unres probs: 2\n",
            "next best layout node: laundry, action: SQUEEZE, summary: Counter({'OVERLAP': 2}), # unres probs: 2\n",
            "running again -> 4\n"
          ]
        }
      ],
      "source": [
        "c.run_again()"
      ]
    },
    {
      "cell_type": "code",
      "execution_count": 41,
      "metadata": {},
      "outputs": [
        {
          "name": "stdout",
          "output_type": "stream",
          "text": [
            "problem being studied: -> Problem(index=1, problem_type=ProblemType.OVERLAP, resolved=False, nbs=('m_bedroom', 'dining')\n",
            "first bl to try -> node: dining, action: SQUEEZE, summary: Counter(), # unres probs: 0\n",
            "next best layout node: dining, action: SQUEEZE, summary: Counter(), # unres probs: 0\n",
            "running again -> 5\n"
          ]
        }
      ],
      "source": [
        "c.run_again()"
      ]
    },
    {
      "cell_type": "code",
      "execution_count": 43,
      "metadata": {},
      "outputs": [
        {
          "name": "stdout",
          "output_type": "stream",
          "text": [
            "len sols = 5. Len indices = 9\n"
          ]
        }
      ],
      "source": [
        "make_subplot_for_all_probs(c.history[0], c.bl_hist)"
      ]
    },
    {
      "cell_type": "code",
      "execution_count": 5,
      "metadata": {},
      "outputs": [
        {
          "data": {
            "text/plain": [
              "node: dining, action: SQUEEZE, summary: Counter({'SIDE_HOLE': 1}), # unres probs: 1"
            ]
          },
          "execution_count": 5,
          "metadata": {},
          "output_type": "execute_result"
        }
      ],
      "source": [
        "ld: ResultsLog = read_layout(\"dining_squeeze_sidehole\")\n",
        "ld"
      ]
    },
    {
      "cell_type": "code",
      "execution_count": 6,
      "metadata": {},
      "outputs": [],
      "source": [
        "plot_general(ld.layout.domains, \"sidehole start\")"
      ]
    },
    {
      "cell_type": "code",
      "execution_count": 7,
      "metadata": {},
      "outputs": [
        {
          "data": {
            "text/plain": [
              "{'bedroom_1': Domain(bedroom_1, x=[0.00-3.22], y=[-2.80-0.00]),\n",
              " 'kitchen': Domain(kitchen, x=[3.22-5.02], y=[-5.77--3.53]),\n",
              " 'm_bath': Domain(m_bath, x=[4.82-7.14], y=[-1.30-0.00]),\n",
              " 'm_bedroom': Domain(m_bedroom, x=[7.14-9.27], y=[-2.74-0.00]),\n",
              " 'm_closet': Domain(m_closet, x=[8.20-9.20], y=[-3.34--2.74]),\n",
              " 'bath': Domain(bath, x=[5.02-7.14], y=[-2.53--1.30]),\n",
              " 'dining': Domain(dining, x=[5.02-7.14], y=[-5.68--2.53]),\n",
              " 'transit_space': Domain(transit_space, x=[3.22-5.02], y=[-3.53--1.30]),\n",
              " 'closet': Domain(closet, x=[8.38-9.38], y=[-5.75--3.34]),\n",
              " 'bedroom_2': Domain(bedroom_2, x=[0.00-3.22], y=[-5.95--2.80]),\n",
              " 'laundry': Domain(laundry, x=[3.22-4.82], y=[-1.30-0.45])}"
            ]
          },
          "execution_count": 7,
          "metadata": {},
          "output_type": "execute_result"
        }
      ],
      "source": [
        "ld_doms = ld.layout.domains\n",
        "ld_doms"
      ]
    },
    {
      "cell_type": "code",
      "execution_count": 8,
      "metadata": {},
      "outputs": [
        {
          "data": {
            "text/plain": [
              "Problem(index=2, problem_type=ProblemType.OVERLAP, resolved=False, nbs=('m_bedroom', 'dining')"
            ]
          },
          "execution_count": 8,
          "metadata": {},
          "output_type": "execute_result"
        }
      ],
      "source": [
        "ld.problem_being_addressed"
      ]
    },
    {
      "cell_type": "code",
      "execution_count": 9,
      "metadata": {},
      "outputs": [
        {
          "name": "stdout",
          "output_type": "stream",
          "text": [
            "shid Domain(dining, x=[5.02-7.14], y=[-5.68--2.53]) Domain(closet, x=[8.38-9.38], y=[-5.75--3.34]) x\n"
          ]
        }
      ],
      "source": [
        "re = Reporter(ld.layout)\n",
        "re.run()"
      ]
    },
    {
      "cell_type": "code",
      "execution_count": 17,
      "metadata": {},
      "outputs": [
        {
          "data": {
            "text/plain": [
              "Problem(index=1, problem_type=ProblemType.SIDE_HOLE, resolved=False, nbs=['dining', 'closet']"
            ]
          },
          "execution_count": 17,
          "metadata": {},
          "output_type": "execute_result"
        }
      ],
      "source": [
        "re.problems[0]"
      ]
    },
    {
      "cell_type": "code",
      "execution_count": 14,
      "metadata": {},
      "outputs": [
        {
          "name": "stdout",
          "output_type": "stream",
          "text": [
            "shid Domain(dining, x=[5.02-7.14], y=[-8.02--2.53]) Domain(closet, x=[8.38-9.38], y=[-5.75--3.34]) x\n",
            "shid Domain(dining, x=[5.02-7.14], y=[-8.02--4.87]) Domain(closet, x=[8.38-9.38], y=[-5.75--3.34]) x\n",
            "shid Domain(kitchen, x=[3.22-5.02], y=[-5.77--3.53]) Domain(dining, x=[6.26-8.38], y=[-5.68--2.53]) x\n"
          ]
        }
      ],
      "source": [
        "sop = StudyOneProblem(ld.layout, ld.summary, re.problems, problem=re.problems[0])\n",
        "sop.run()"
      ]
    },
    {
      "cell_type": "code",
      "execution_count": 23,
      "metadata": {},
      "outputs": [
        {
          "data": {
            "text/plain": [
              "'diagonal_hole'"
            ]
          },
          "execution_count": 23,
          "metadata": {},
          "output_type": "execute_result"
        }
      ],
      "source": [
        "save_pickle(sop.results[-1], \"diagonal_hole\")"
      ]
    },
    {
      "cell_type": "code",
      "execution_count": 25,
      "metadata": {},
      "outputs": [
        {
          "data": {
            "text/plain": [
              "node: closet, action: PULL, summary: Counter(), # unres probs: 0"
            ]
          },
          "execution_count": 25,
          "metadata": {},
          "output_type": "execute_result"
        }
      ],
      "source": [
        "dh: ResultsLog = read_pickle(\"diagonal_hole\")\n",
        "dh"
      ]
    },
    {
      "cell_type": "code",
      "execution_count": 32,
      "metadata": {},
      "outputs": [
        {
          "data": {
            "image/svg+xml": [
              "<svg xmlns=\"http://www.w3.org/2000/svg\" xmlns:xlink=\"http://www.w3.org/1999/xlink\" width=\"100.0\" height=\"100.0\" viewBox=\"-0.37079999999999996 -6.3208 10.011599999999998 7.1416\" preserveAspectRatio=\"xMinYMin meet\"><g transform=\"matrix(1,0,0,-1,0,-5.5)\"><path fill-rule=\"evenodd\" fill=\"#66cc99\" stroke=\"#555555\" stroke-width=\"0.20023199999999997\" opacity=\"0.6\" d=\"M 3.22,-5.77 L 3.22,-5.95 L 0.0,-5.95 L 0.0,-2.8 L 0.0,0.0 L 3.22,0.0 L 3.22,0.45 L 4.82,0.45 L 4.82,0.0 L 7.14,0.0 L 9.27,0.0 L 9.27,-2.74 L 9.2,-2.74 L 9.2,-3.34 L 8.2,-3.34 L 8.2,-2.74 L 7.14,-2.74 L 7.14,-3.34 L 8.14,-3.34 L 8.14,-5.75 L 7.14,-5.75 L 7.14,-5.68 L 5.02,-5.68 L 5.02,-5.77 L 3.22,-5.77 z\" /></g></svg>"
            ],
            "text/plain": [
              "<POLYGON ((3.22 -5.77, 3.22 -5.95, 0 -5.95, 0 -2.8, 0 0, 3.22 0, 3.22 0.45, ...>"
            ]
          },
          "execution_count": 32,
          "metadata": {},
          "output_type": "execute_result"
        }
      ],
      "source": [
        "u = union_all(list(dh.layout.shapes.values()))\n",
        "u"
      ]
    },
    {
      "cell_type": "code",
      "execution_count": 35,
      "metadata": {},
      "outputs": [
        {
          "data": {
            "image/svg+xml": [
              "<svg xmlns=\"http://www.w3.org/2000/svg\" xmlns:xlink=\"http://www.w3.org/1999/xlink\" width=\"100.0\" height=\"100.0\" viewBox=\"-0.37079999999999996 -6.3208 10.011599999999998 7.1416\" preserveAspectRatio=\"xMinYMin meet\"><g transform=\"matrix(1,0,0,-1,0,-5.5)\"><g><path fill-rule=\"evenodd\" fill=\"#66cc99\" stroke=\"#555555\" stroke-width=\"0.20023199999999997\" opacity=\"0.6\" d=\"M 3.22,0.45 L 3.22,0.0 L 0.0,0.0 L 3.22,0.45 z\" /><path fill-rule=\"evenodd\" fill=\"#66cc99\" stroke=\"#555555\" stroke-width=\"0.20023199999999997\" opacity=\"0.6\" d=\"M 9.27,0.0 L 7.14,0.0 L 4.82,0.0 L 4.82,0.45 L 9.27,0.0 z\" /><path fill-rule=\"evenodd\" fill=\"#66cc99\" stroke=\"#555555\" stroke-width=\"0.20023199999999997\" opacity=\"0.6\" d=\"M 9.2,-3.34 L 9.2,-2.74 L 9.27,-2.74 L 9.2,-3.34 z\" /><path fill-rule=\"evenodd\" fill=\"#66cc99\" stroke=\"#555555\" stroke-width=\"0.20023199999999997\" opacity=\"0.6\" d=\"M 8.14,-5.75 L 8.14,-3.34 L 7.14,-3.34 L 7.14,-2.74 L 8.2,-2.74 L 8.2,-3.34 L 9.2,-3.34 L 8.14,-5.75 z\" /><path fill-rule=\"evenodd\" fill=\"#66cc99\" stroke=\"#555555\" stroke-width=\"0.20023199999999997\" opacity=\"0.6\" d=\"M 3.22,-5.95 L 3.22,-5.77 L 5.02,-5.77 L 5.02,-5.68 L 7.14,-5.68 L 7.14,-5.75 L 8.14,-5.75 L 3.22,-5.95 z\" /></g></g></svg>"
            ],
            "text/plain": [
              "<MULTIPOLYGON (((3.22 0.45, 3.22 0, 0 0, 3.22 0.45)), ((9.27 0, 7.14 0, 4.82...>"
            ]
          },
          "execution_count": 35,
          "metadata": {},
          "output_type": "execute_result"
        }
      ],
      "source": [
        "u.convex_hull.difference(u)"
      ]
    },
    {
      "cell_type": "code",
      "execution_count": null,
      "metadata": {},
      "outputs": [],
      "source": []
    },
    {
      "cell_type": "code",
      "execution_count": 26,
      "metadata": {},
      "outputs": [],
      "source": [
        "plot_general(dh.layout.domains, \"diag_hole\")"
      ]
    },
    {
      "cell_type": "code",
      "execution_count": 16,
      "metadata": {},
      "outputs": [
        {
          "name": "stdout",
          "output_type": "stream",
          "text": [
            "len sols = 8. Len indices = 9\n"
          ]
        }
      ],
      "source": [
        "make_subplot_for_all_probs(ld.layout.domains, sop.results)"
      ]
    },
    {
      "cell_type": "code",
      "execution_count": 8,
      "metadata": {},
      "outputs": [
        {
          "data": {
            "image/svg+xml": [
              "<svg xmlns=\"http://www.w3.org/2000/svg\" xmlns:xlink=\"http://www.w3.org/1999/xlink\" width=\"100.0\" height=\"100.0\" viewBox=\"7.046399999999999 -5.7736 1.4272000000000018 2.5272\" preserveAspectRatio=\"xMinYMin meet\"><g transform=\"matrix(1,0,0,-1,0,-9.02)\"><path fill-rule=\"evenodd\" fill=\"#66cc99\" stroke=\"#555555\" stroke-width=\"0.050544000000000006\" opacity=\"0.6\" d=\"M 8.38,-5.68 L 8.38,-3.34 L 7.14,-3.34 L 7.14,-5.68 L 8.38,-5.68 z\" /></g></svg>"
            ],
            "text/plain": [
              "<POLYGON ((8.38 -5.68, 8.38 -3.34, 7.14 -3.34, 7.14 -5.68, 8.38 -5.68))>"
            ]
          },
          "execution_count": 8,
          "metadata": {},
          "output_type": "execute_result"
        }
      ],
      "source": [
        "re.problems[0].geometry"
      ]
    },
    {
      "cell_type": "code",
      "execution_count": 11,
      "metadata": {},
      "outputs": [
        {
          "data": {
            "text/plain": [
              "Domain(problem, x=[7.14-8.38], y=[-5.68--3.34])"
            ]
          },
          "execution_count": 11,
          "metadata": {},
          "output_type": "execute_result"
        }
      ],
      "source": [
        "pdom = shape_to_domain(re.problems[0].geometry, \"problem\")\n",
        "pdom"
      ]
    },
    {
      "cell_type": "code",
      "execution_count": 20,
      "metadata": {},
      "outputs": [
        {
          "data": {
            "text/plain": [
              "[Domain(closet, x=[8.38-9.38], y=[-5.75--3.34]),\n",
              " Domain(dining, x=[5.02-7.14], y=[-5.68--2.53])]"
            ]
          },
          "execution_count": 20,
          "metadata": {},
          "output_type": "execute_result"
        }
      ],
      "source": [
        "sorted([ld_doms[\"closet\"],ld_doms[\"dining\"]], key=lambda d: d.y.min)"
      ]
    },
    {
      "cell_type": "code",
      "execution_count": 18,
      "metadata": {},
      "outputs": [
        {
          "data": {
            "text/plain": [
              "Domain(closet, x=[8.38-9.38], y=[-5.75--3.34])"
            ]
          },
          "execution_count": 18,
          "metadata": {},
          "output_type": "execute_result"
        }
      ],
      "source": [
        "ld_doms[\"closet\"]"
      ]
    },
    {
      "cell_type": "code",
      "execution_count": 19,
      "metadata": {},
      "outputs": [
        {
          "data": {
            "text/plain": [
              "Domain(dining, x=[5.02-7.14], y=[-5.68--2.53])"
            ]
          },
          "execution_count": 19,
          "metadata": {},
          "output_type": "execute_result"
        }
      ],
      "source": [
        "ld_doms[\"dining\"]"
      ]
    },
    {
      "cell_type": "code",
      "execution_count": 12,
      "metadata": {},
      "outputs": [
        {
          "data": {
            "text/plain": [
              "[(Decimal('2.34'), <Direction.NORTH: 0>),\n",
              " (Decimal('1.24'), <Direction.WEST: 3>)]"
            ]
          },
          "execution_count": 12,
          "metadata": {},
          "output_type": "execute_result"
        }
      ],
      "source": [
        "det = Details(CurrentDomains(ld_doms[\"dining\"], pdom))\n",
        "det.run()\n",
        "det.result"
      ]
    },
    {
      "cell_type": "code",
      "execution_count": 15,
      "metadata": {},
      "outputs": [
        {
          "data": {
            "text/plain": [
              "[(Decimal('2.34'), <Direction.SOUTH: 1>),\n",
              " (Decimal('1.24'), <Direction.EAST: 2>)]"
            ]
          },
          "execution_count": 15,
          "metadata": {},
          "output_type": "execute_result"
        }
      ],
      "source": [
        "det = Details(CurrentDomains(ld_doms[\"closet\"], pdom))\n",
        "det.run()\n",
        "det.result"
      ]
    },
    {
      "cell_type": "code",
      "execution_count": 13,
      "metadata": {},
      "outputs": [
        {
          "data": {
            "text/plain": [
              "[OperationLog(node=Domain(closet, x=[8.38-9.38], y=[-5.75--3.34]), action_type=<ActionType.STRETCH: 3>, modified_domain=Domain(closet, x=[8.38-9.38], y=[-5.75--1.00])),\n",
              " OperationLog(node=Domain(closet, x=[8.38-9.38], y=[-5.75--3.34]), action_type=<ActionType.PULL: 2>, modified_domain=Domain(closet, x=[8.38-9.38], y=[-3.41--1.00])),\n",
              " OperationLog(node=Domain(closet, x=[8.38-9.38], y=[-5.75--3.34]), action_type=<ActionType.STRETCH: 3>, modified_domain=Domain(closet, x=[7.14-9.38], y=[-5.75--3.34])),\n",
              " OperationLog(node=Domain(closet, x=[8.38-9.38], y=[-5.75--3.34]), action_type=<ActionType.PULL: 2>, modified_domain=Domain(closet, x=[7.14-8.14], y=[-5.75--3.34]))]"
            ]
          },
          "execution_count": 13,
          "metadata": {},
          "output_type": "execute_result"
        }
      ],
      "source": [
        "from actions.actions import create_node_operations\n",
        "\n",
        "\n",
        "create_node_operations(CurrentDomains(ld_doms[\"closet\"], pdom), ProblemType.SIDE_HOLE)"
      ]
    },
    {
      "cell_type": "code",
      "execution_count": 16,
      "metadata": {},
      "outputs": [
        {
          "data": {
            "text/plain": [
              "Domain(closet, x=[8.38-9.38], y=[-5.75--3.34])"
            ]
          },
          "execution_count": 16,
          "metadata": {},
          "output_type": "execute_result"
        }
      ],
      "source": [
        "ld_doms[\"closet\"]"
      ]
    }
  ],
  "metadata": {
    "kernelspec": {
      "display_name": "Python 3",
      "language": "python",
      "name": "python3"
    },
    "language_info": {
      "codemirror_mode": {
        "name": "ipython",
        "version": 3
      },
      "file_extension": ".py",
      "mimetype": "text/x-python",
      "name": "python",
      "nbconvert_exporter": "python",
      "pygments_lexer": "ipython3",
      "version": "3.10.14"
    }
  },
  "nbformat": 4,
  "nbformat_minor": 2
}
