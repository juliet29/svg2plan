{
  "cells": [
    {
      "cell_type": "code",
      "execution_count": 249,
      "metadata": {},
      "outputs": [
        {
          "name": "stdout",
          "output_type": "stream",
          "text": [
            "The autoreload extension is already loaded. To reload it, use:\n",
            "  %reload_ext autoreload\n"
          ]
        }
      ],
      "source": [
        "%load_ext autoreload\n",
        "%autoreload 2"
      ]
    },
    {
      "cell_type": "code",
      "execution_count": 250,
      "metadata": {},
      "outputs": [],
      "source": [
        "from __init__ import *\n",
        "from new_solutions.simple_problem import *\n",
        "from new_solutions.selection import *\n",
        "from itertools import accumulate\n",
        "from operator import add \n",
        "from functools import reduce\n",
        "from visuals.plotter import plot_general\n",
        "from unit_tests.test_solutions import *\n",
        "from typing import Literal, List\n",
        "from enum import Enum\n",
        "from collections import Counter\n",
        "from typing import TypeVar\n",
        "from typing import Any\n",
        "from domains.domain import Domain\n",
        "\n",
        "import plotly.io as pio\n",
        "pio.renderers.default = \"browser\""
      ]
    },
    {
      "cell_type": "code",
      "execution_count": 251,
      "metadata": {},
      "outputs": [
        {
          "name": "stdout",
          "output_type": "stream",
          "text": [
            "executer> \n",
            " begining to execute stacking\n",
            "Initial Problems: Counter({'OVERLAP': 3, 'HOLE': 1})\n",
            "simple_problem> studying operations for node: transit_space\n",
            "simple_problem> studying operations for node: laundry\n",
            "simple_problem> studying operations for node: m_bath\n",
            "simple_problem> studying operations for node: bath\n",
            "First best layout: node: laundry, action: STRETCH, summary: Counter({'OVERLAP': 4, 'HOLE': 1}), # unres probs: 4\n"
          ]
        },
        {
          "data": {
            "text/plain": [
              "(Layout(shapes={'bedroom_1': <POLYGON ((3.22 -2.8, 3.22 0, 0 0, 0 -2.8, 3.22 -2.8))>, 'kitchen': <POLYGON ((5.02 -5.77, 5.02 -3.53, 3.22 -3.53, 3.22 -5.77, 5.02 -5.77))>, 'm_bath': <POLYGON ((7.14 -1.3, 7.14 0, 4.82 0, 4.82 -1.3, 7.14 -1.3))>, 'm_bedroom': <POLYGON ((9.27 -2.74, 9.27 0, 7.14 0, 7.14 -2.74, 9.27 -2.74))>, 'm_closet': <POLYGON ((9.2 -3.34, 9.2 -2.74, 8.2 -2.74, 8.2 -3.34, 9.2 -3.34))>, 'bath': <POLYGON ((7.14 -2.53, 7.14 -1.3, 4.82 -1.3, 4.82 -2.53, 7.14 -2.53))>, 'dining': <POLYGON ((8.38 -5.68, 8.38 -2.53, 5.02 -2.53, 5.02 -5.68, 8.38 -5.68))>, 'transit_space': <POLYGON ((5.02 -3.53, 5.02 -1.75, 3.22 -1.75, 3.22 -3.53, 5.02 -3.53))>, 'closet': <POLYGON ((9.38 -5.75, 9.38 -3.34, 8.38 -3.34, 8.38 -5.75, 9.38 -5.75))>, 'bedroom_2': <POLYGON ((3.22 -5.95, 3.22 -2.8, 0 -2.8, 0 -5.95, 3.22 -5.95))>, 'laundry': <POLYGON ((4.82 -1.75, 4.82 0, 3.22 0, 3.22 -1.75, 4.82 -1.75))>}, domains={'bedroom_1': Domain(bedroom_1, x=[0.00-3.22], y=[-2.80-0.00]), 'kitchen': Domain(kitchen, x=[3.22-5.02], y=[-5.77--3.53]), 'm_bath': Domain(m_bath, x=[4.82-7.14], y=[-1.30-0.00]), 'm_bedroom': Domain(m_bedroom, x=[7.14-9.27], y=[-2.74-0.00]), 'm_closet': Domain(m_closet, x=[8.20-9.20], y=[-3.34--2.74]), 'bath': Domain(bath, x=[4.82-7.14], y=[-2.53--1.30]), 'dining': Domain(dining, x=[5.02-8.38], y=[-5.68--2.53]), 'transit_space': Domain(transit_space, x=[3.22-5.02], y=[-3.53--1.75]), 'closet': Domain(closet, x=[8.38-9.38], y=[-5.75--3.34]), 'bedroom_2': Domain(bedroom_2, x=[0.00-3.22], y=[-5.95--2.80]), 'laundry': Domain(laundry, x=[3.22-4.82], y=[-1.75-0.00])}, graph=<networkx.classes.graph.Graph object at 0x119f65810>),\n",
              " Counter({'OVERLAP': 3}),\n",
              " [Problem(index=1, problem_type=ProblemType.OVERLAP, resolved=False, nbs=('m_closet', 'dining'),\n",
              "  Problem(index=2, problem_type=ProblemType.OVERLAP, resolved=False, nbs=('m_bedroom', 'dining'),\n",
              "  Problem(index=3, problem_type=ProblemType.OVERLAP, resolved=False, nbs=('bath', 'transit_space')])"
            ]
          },
          "execution_count": 251,
          "metadata": {},
          "output_type": "execute_result"
        }
      ],
      "source": [
        "report = run_new_layout()\n",
        "output1 = init_let_it_cook(report, FilterDesc(ProblemType.HOLE, []))\n",
        "output"
      ]
    },
    {
      "cell_type": "code",
      "execution_count": 252,
      "metadata": {},
      "outputs": [],
      "source": [
        "plot_general(output1[0].domains)"
      ]
    },
    {
      "cell_type": "code",
      "execution_count": 248,
      "metadata": {},
      "outputs": [
        {
          "name": "stdout",
          "output_type": "stream",
          "text": [
            "simple_problem> studying operations for node: transit_space\n",
            "simple_problem> studying operations for node: laundry\n",
            "simple_problem> studying operations for node: m_bath\n",
            "simple_problem> studying operations for node: bath\n",
            "Next best layout: node: laundry, action: SQUEEZE, summary: Counter({'OVERLAP': 4, 'HOLE': 1}), # unres probs: 3\n"
          ]
        }
      ],
      "source": [
        "output2 = let_it_cook(output1)\n",
        "plot_general(output[0].domains)"
      ]
    },
    {
      "cell_type": "code",
      "execution_count": 244,
      "metadata": {},
      "outputs": [
        {
          "name": "stdout",
          "output_type": "stream",
          "text": [
            "simple_problem> studying operations for node: transit_space\n",
            "simple_problem> studying operations for node: laundry\n",
            "simple_problem> studying operations for node: m_bath\n",
            "simple_problem> studying operations for node: bath\n",
            "Next best layout: node: laundry, action: STRETCH, summary: Counter({'OVERLAP': 4, 'HOLE': 1}), # unres probs: 3\n"
          ]
        }
      ],
      "source": [
        "output = let_it_cook(output)"
      ]
    },
    {
      "cell_type": "code",
      "execution_count": 245,
      "metadata": {},
      "outputs": [
        {
          "name": "stdout",
          "output_type": "stream",
          "text": [
            "simple_problem> studying operations for node: transit_space\n",
            "simple_problem> studying operations for node: laundry\n",
            "simple_problem> studying operations for node: m_bath\n",
            "simple_problem> studying operations for node: bath\n",
            "Next best layout: node: laundry, action: SQUEEZE, summary: Counter({'OVERLAP': 4, 'HOLE': 1}), # unres probs: 3\n"
          ]
        }
      ],
      "source": [
        "output = let_it_cook(output)"
      ]
    },
    {
      "cell_type": "code",
      "execution_count": 246,
      "metadata": {},
      "outputs": [],
      "source": []
    }
  ],
  "metadata": {
    "kernelspec": {
      "display_name": "Python 3",
      "language": "python",
      "name": "python3"
    },
    "language_info": {
      "codemirror_mode": {
        "name": "ipython",
        "version": 3
      },
      "file_extension": ".py",
      "mimetype": "text/x-python",
      "name": "python",
      "nbconvert_exporter": "python",
      "pygments_lexer": "ipython3",
      "version": "3.10.14"
    }
  },
  "nbformat": 4,
  "nbformat_minor": 2
}
