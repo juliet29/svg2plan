{
  "cells": [
    {
      "cell_type": "code",
      "execution_count": null,
      "metadata": {},
      "outputs": [],
      "source": [
        "%load_ext autoreload\n",
        "%autoreload 2"
      ]
    },
    {
      "cell_type": "code",
      "execution_count": 117,
      "metadata": {},
      "outputs": [],
      "source": [
        "from __init__ import *\n",
        "from new_solutions.simple_problem import study_many_problems\n",
        "from runner.svg2plan import run_new_layout\n",
        "from new_solutions.selection import *\n",
        "from itertools import accumulate\n",
        "from operator import add \n",
        "from functools import reduce\n",
        "from visuals.plotter import plot_general\n",
        "# from unit_tests.test_solutions import *\n",
        "from typing import Literal, List\n",
        "from enum import Enum\n",
        "from collections import Counter\n",
        "from typing import TypeVar\n",
        "from typing import Any\n",
        "from domains.domain import Domain\n",
        "\n",
        "import plotly.io as pio\n",
        "pio.renderers.default = \"browser\"\n",
        "\n",
        "from fixes.problem_types.side_hole_id2 import *\n",
        "import pickle"
      ]
    },
    {
      "cell_type": "code",
      "execution_count": 175,
      "metadata": {},
      "outputs": [
        {
          "name": "stdout",
          "output_type": "stream",
          "text": [
            "executer> \n",
            " begining to execute stacking\n",
            "problem being studied: -> Problem(index=2, problem_type=ProblemType.HOLE, resolved=False, nbs=['transit_space', 'laundry', 'm_bath', 'bath']\n",
            "first bl to try -> node: bath, action: PULL, summary: Counter({'OVERLAP': 3}), # unres probs: 3\n",
            "next best layout node: bath, action: PULL, summary: Counter({'OVERLAP': 3}), # unres probs: 3\n",
            "1\n"
          ]
        },
        {
          "data": {
            "text/plain": [
              "[Problem(index=1, problem_type=ProblemType.OVERLAP, resolved=False, nbs=('m_bedroom', 'dining'),\n",
              " Problem(index=2, problem_type=ProblemType.HOLE, resolved=True, nbs=['transit_space', 'laundry', 'm_bath', 'bath'],\n",
              " Problem(index=3, problem_type=ProblemType.OVERLAP, resolved=False, nbs=('m_closet', 'dining'),\n",
              " Problem(index=4, problem_type=ProblemType.OVERLAP, resolved=True, nbs=('m_bedroom', 'bath'),\n",
              " Problem(index=5, problem_type=ProblemType.OVERLAP, resolved=False, nbs=('bath', 'transit_space')]"
            ]
          },
          "execution_count": 175,
          "metadata": {},
          "output_type": "execute_result"
        }
      ],
      "source": [
        "report = run_new_layout()\n",
        "c = Cook(report)\n",
        "plot_general(c.history[0], \"starting doma\")\n"
      ]
    },
    {
      "cell_type": "code",
      "execution_count": 173,
      "metadata": {},
      "outputs": [
        {
          "data": {
            "text/plain": [
              "[Problem(index=1, problem_type=ProblemType.OVERLAP, resolved=False, nbs=('m_bedroom', 'dining'),\n",
              " Problem(index=2, problem_type=ProblemType.HOLE, resolved=True, nbs=['transit_space', 'laundry', 'm_bath', 'bath'],\n",
              " Problem(index=3, problem_type=ProblemType.OVERLAP, resolved=False, nbs=('m_closet', 'dining'),\n",
              " Problem(index=4, problem_type=ProblemType.OVERLAP, resolved=True, nbs=('m_bedroom', 'bath'),\n",
              " Problem(index=5, problem_type=ProblemType.OVERLAP, resolved=False, nbs=('bath', 'transit_space')]"
            ]
          },
          "execution_count": 173,
          "metadata": {},
          "output_type": "execute_result"
        }
      ],
      "source": [
        "c.plot(c.count)\n",
        "c.bl_hist[0].problems"
      ]
    },
    {
      "cell_type": "code",
      "execution_count": 176,
      "metadata": {},
      "outputs": [
        {
          "name": "stdout",
          "output_type": "stream",
          "text": [
            "problem being studied: -> Problem(index=5, problem_type=ProblemType.OVERLAP, resolved=False, nbs=('bath', 'transit_space')\n",
            "first bl to try -> node: bath, action: SQUEEZE, summary: Counter({'OVERLAP': 2, 'HOLE': 1}), # unres probs: 3\n",
            "next best layout node: bath, action: SQUEEZE, summary: Counter({'OVERLAP': 2, 'HOLE': 1}), # unres probs: 3\n",
            "running again -> 2\n"
          ]
        }
      ],
      "source": [
        "c.run_again()\n",
        "c.plot(c.count)"
      ]
    },
    {
      "cell_type": "code",
      "execution_count": 177,
      "metadata": {},
      "outputs": [
        {
          "name": "stdout",
          "output_type": "stream",
          "text": [
            "problem being studied: -> Problem(index=4, problem_type=ProblemType.HOLE, resolved=False, nbs=['transit_space', 'laundry', 'm_bath', 'bath']\n",
            "first bl to try -> node: bath, action: STRETCH, summary: Counter({'OVERLAP': 3}), # unres probs: 3\n",
            "skipping bc prev domains are in history\n",
            "skipping bc prev domains are in history\n",
            "next best layout node: transit_space, action: STRETCH, summary: Counter({'OVERLAP': 3}), # unres probs: 3\n",
            "running again -> 3\n"
          ]
        }
      ],
      "source": [
        "c.run_again()\n",
        "c.plot(c.count)"
      ]
    },
    {
      "cell_type": "code",
      "execution_count": 178,
      "metadata": {},
      "outputs": [
        {
          "data": {
            "text/plain": [
              "[Problem(index=1, problem_type=ProblemType.OVERLAP, resolved=False, nbs=('m_bedroom', 'dining'),\n",
              " Problem(index=3, problem_type=ProblemType.OVERLAP, resolved=False, nbs=('m_closet', 'dining'),\n",
              " Problem(index=4, problem_type=ProblemType.HOLE, resolved=True, nbs=['transit_space', 'laundry', 'm_bath', 'bath'],\n",
              " Problem(index=4, problem_type=ProblemType.OVERLAP, resolved=False, nbs=('transit_space', 'laundry')]"
            ]
          },
          "execution_count": 178,
          "metadata": {},
          "output_type": "execute_result"
        }
      ],
      "source": [
        "c.bl.problems"
      ]
    },
    {
      "cell_type": "code",
      "execution_count": 179,
      "metadata": {},
      "outputs": [
        {
          "name": "stdout",
          "output_type": "stream",
          "text": [
            "problem being studied: -> Problem(index=4, problem_type=ProblemType.OVERLAP, resolved=False, nbs=('transit_space', 'laundry')\n",
            "first bl to try -> node: laundry, action: PUSH, summary: Counter({'OVERLAP': 2}), # unres probs: 2\n",
            "next best layout node: laundry, action: PUSH, summary: Counter({'OVERLAP': 2}), # unres probs: 2\n",
            "running again -> 4\n"
          ]
        }
      ],
      "source": [
        "c.run_again()\n",
        "c.plot(c.count)"
      ]
    },
    {
      "cell_type": "code",
      "execution_count": 180,
      "metadata": {},
      "outputs": [
        {
          "data": {
            "text/plain": [
              "[Problem(index=1, problem_type=ProblemType.OVERLAP, resolved=False, nbs=('m_bedroom', 'dining'),\n",
              " Problem(index=3, problem_type=ProblemType.OVERLAP, resolved=False, nbs=('m_closet', 'dining'),\n",
              " Problem(index=4, problem_type=ProblemType.OVERLAP, resolved=True, nbs=('transit_space', 'laundry')]"
            ]
          },
          "execution_count": 180,
          "metadata": {},
          "output_type": "execute_result"
        }
      ],
      "source": [
        "c.bl.problems"
      ]
    },
    {
      "cell_type": "code",
      "execution_count": 181,
      "metadata": {},
      "outputs": [
        {
          "name": "stdout",
          "output_type": "stream",
          "text": [
            "problem being studied: -> Problem(index=1, problem_type=ProblemType.OVERLAP, resolved=False, nbs=('m_bedroom', 'dining')\n",
            "first bl to try -> node: dining, action: SQUEEZE, summary: Counter({'SIDE_HOLE': 1}), # unres probs: 1\n",
            "next best layout node: dining, action: SQUEEZE, summary: Counter({'SIDE_HOLE': 1}), # unres probs: 1\n",
            "running again -> 5\n"
          ]
        },
        {
          "data": {
            "text/plain": [
              "[Problem(index=1, problem_type=ProblemType.OVERLAP, resolved=True, nbs=('m_bedroom', 'dining'),\n",
              " Problem(index=3, problem_type=ProblemType.OVERLAP, resolved=True, nbs=('m_closet', 'dining'),\n",
              " Problem(index=3, problem_type=ProblemType.SIDE_HOLE, resolved=False, nbs=['dining', 'closet']]"
            ]
          },
          "execution_count": 181,
          "metadata": {},
          "output_type": "execute_result"
        }
      ],
      "source": [
        "c.run_again()\n",
        "c.plot(c.count)\n",
        "c.bl.problems"
      ]
    },
    {
      "cell_type": "code",
      "execution_count": 182,
      "metadata": {},
      "outputs": [
        {
          "name": "stdout",
          "output_type": "stream",
          "text": [
            "problem being studied: -> Problem(index=3, problem_type=ProblemType.SIDE_HOLE, resolved=False, nbs=['dining', 'closet']\n",
            "first bl to try -> node: dining, action: STRETCH, summary: Counter({'SIDE_HOLE': 1}), # unres probs: 1\n",
            "next best layout node: dining, action: STRETCH, summary: Counter({'SIDE_HOLE': 1}), # unres probs: 1\n",
            "running again -> 6\n"
          ]
        }
      ],
      "source": [
        "c.run_again()\n",
        "c.plot(c.count)"
      ]
    },
    {
      "cell_type": "code",
      "execution_count": 183,
      "metadata": {},
      "outputs": [
        {
          "name": "stdout",
          "output_type": "stream",
          "text": [
            "simple_problem> Could not report on problems for ActionType.PULL on dining\n",
            "problem being studied: -> Problem(index=2, problem_type=ProblemType.SIDE_HOLE, resolved=False, nbs=['dining', 'closet']\n",
            "first bl to try -> node: dining, action: STRETCH, summary: Counter({'SIDE_HOLE': 1}), # unres probs: 1\n",
            "next best layout node: dining, action: STRETCH, summary: Counter({'SIDE_HOLE': 1}), # unres probs: 1\n",
            "running again -> 7\n"
          ]
        }
      ],
      "source": [
        "c.run_again()\n",
        "c.plot(c.count)"
      ]
    },
    {
      "cell_type": "code",
      "execution_count": null,
      "metadata": {},
      "outputs": [],
      "source": [
        "sized = [(calculate_size_of_problems(i.problems),i) for i in c.res_hist[c.count-1]]\n",
        "sorted(c.res_hist[c.count-1], key=lambda x: calculate_size_of_problems(x.problems))"
      ]
    },
    {
      "cell_type": "code",
      "execution_count": 188,
      "metadata": {},
      "outputs": [
        {
          "data": {
            "text/plain": [
              "[node: closet, action: PULL, summary: Counter({'SIDE_HOLE': 1}), # unres probs: 1,\n",
              " node: dining, action: STRETCH, summary: Counter({'SIDE_HOLE': 1}), # unres probs: 1,\n",
              " node: dining, action: PULL, summary: Counter({'SIDE_HOLE': 1}), # unres probs: 1,\n",
              " node: closet, action: STRETCH, summary: Counter({'SIDE_HOLE': 2, 'HOLE': 1, 'OVERLAP': 1}), # unres probs: 4]"
            ]
          },
          "execution_count": 188,
          "metadata": {},
          "output_type": "execute_result"
        }
      ],
      "source": [
        "c.res_hist[5]"
      ]
    },
    {
      "cell_type": "code",
      "execution_count": 189,
      "metadata": {},
      "outputs": [
        {
          "data": {
            "text/plain": [
              "[node: closet, action: PULL, summary: Counter({'SIDE_HOLE': 1}), # unres probs: 1,\n",
              " node: dining, action: STRETCH, summary: Counter({'SIDE_HOLE': 1}), # unres probs: 1,\n",
              " node: dining, action: STRETCH, summary: Counter({'OVERLAP': 1, 'SIDE_HOLE': 1}), # unres probs: 2,\n",
              " node: closet, action: STRETCH, summary: Counter({'HOLE': 1, 'OVERLAP': 1, 'SIDE_HOLE': 1}), # unres probs: 3,\n",
              " node: dining, action: PULL, summary: Counter({'SIDE_HOLE': 2, 'OVERLAP': 1}), # unres probs: 3]"
            ]
          },
          "execution_count": 189,
          "metadata": {},
          "output_type": "execute_result"
        }
      ],
      "source": [
        "c.res_hist[6]"
      ]
    },
    {
      "cell_type": "code",
      "execution_count": 190,
      "metadata": {},
      "outputs": [],
      "source": [
        "plot_general(c.res_hist[5][0].layout.domains)"
      ]
    },
    {
      "cell_type": "code",
      "execution_count": 121,
      "metadata": {},
      "outputs": [
        {
          "name": "stdout",
          "output_type": "stream",
          "text": [
            "simple_problem> Could not report on problems for ActionType.PUSH on kitchen\n",
            "simple_problem> Could not report on problems for ActionType.PUSH on laundry\n",
            "simple_problem> Could not report on problems for ActionType.PUSH on m_bath\n",
            "simple_problem> Could not report on problems for ActionType.PUSH on dining\n",
            "simple_problem> Could not report on problems for ActionType.PUSH on closet\n",
            "simple_problem> Could not report on problems for ActionType.PUSH on closet\n",
            "simple_problem> Could not report on problems for ActionType.PUSH on m_closet\n",
            "simple_problem> Could not report on problems for ActionType.PUSH on m_bedroom\n",
            "simple_problem> Could not report on problems for ActionType.PUSH on kitchen\n",
            "simple_problem> Could not report on problems for ActionType.PUSH on laundry\n",
            "simple_problem> Could not report on problems for ActionType.PUSH on m_bath\n",
            "simple_problem> Could not report on problems for ActionType.PUSH on dining\n",
            "simple_problem> Could not report on problems for ActionType.PUSH on closet\n",
            "simple_problem> Could not report on problems for ActionType.PUSH on closet\n",
            "simple_problem> Could not report on problems for ActionType.PUSH on m_closet\n",
            "simple_problem> Could not report on problems for ActionType.PUSH on m_bedroom\n",
            "helloo!\n",
            "first bl to try -> node: m_closet, action: PULL, summary: Counter({'OVERLAP': 1}), # unres probs: 1\n",
            "problem this fixes -> Problem(index=5, problem_type=ProblemType.HOLE, resolved=False, nbs=['kitchen', 'transit_space', 'laundry', 'm_bath', 'dining', 'closet', 'm_closet', 'bath', 'm_bedroom']\n",
            "running again -> 3\n"
          ]
        }
      ],
      "source": [
        "c.run_again()\n",
        "plot_general(c.bl.layout.domains)"
      ]
    },
    {
      "cell_type": "code",
      "execution_count": 59,
      "metadata": {},
      "outputs": [],
      "source": [
        "with open('test_layout.pickle', 'rb') as handle:\n",
        "    lo = pickle.load(handle)"
      ]
    },
    {
      "cell_type": "code",
      "execution_count": 60,
      "metadata": {},
      "outputs": [
        {
          "data": {
            "text/plain": [
              "Layout(shapes={'bedroom_1': <POLYGON ((3.22 -2.8, 3.22 0, 0 0, 0 -2.8, 3.22 -2.8))>, 'kitchen': <POLYGON ((5.02 -5.77, 5.02 -3.53, 3.22 -3.53, 3.22 -5.77, 5.02 -5.77))>, 'm_bath': <POLYGON ((7.14 -1.3, 7.14 0, 5.02 0, 5.02 -1.3, 7.14 -1.3))>, 'm_bedroom': <POLYGON ((9.27 -2.74, 9.27 0, 8.38 0, 8.38 -2.74, 9.27 -2.74))>, 'm_closet': <POLYGON ((9.2 -3.34, 9.2 -2.74, 8.2 -2.74, 8.2 -3.34, 9.2 -3.34))>, 'bath': <POLYGON ((7.34 -2.53, 7.34 -1.3, 5.02 -1.3, 5.02 -2.53, 7.34 -2.53))>, 'dining': <POLYGON ((8.38 -5.68, 8.38 -2.53, 5.02 -2.53, 5.02 -5.68, 8.38 -5.68))>, 'transit_space': <POLYGON ((5.02 -3.53, 5.02 -1.75, 3.22 -1.75, 3.22 -3.53, 5.02 -3.53))>, 'closet': <POLYGON ((9.38 -5.75, 9.38 -3.34, 8.38 -3.34, 8.38 -5.75, 9.38 -5.75))>, 'bedroom_2': <POLYGON ((3.22 -5.95, 3.22 -2.8, 0 -2.8, 0 -5.95, 3.22 -5.95))>, 'laundry': <POLYGON ((4.82 -1.75, 4.82 0, 3.22 0, 3.22 -1.75, 4.82 -1.75))>}, domains={'bedroom_1': Domain(bedroom_1, x=[0.00-3.22], y=[-2.80-0.00]), 'kitchen': Domain(kitchen, x=[3.22-5.02], y=[-5.77--3.53]), 'm_bath': Domain(m_bath, x=[5.02-7.14], y=[-1.30-0.00]), 'm_bedroom': Domain(m_bedroom, x=[8.38-9.27], y=[-2.74-0.00]), 'm_closet': Domain(m_closet, x=[8.20-9.20], y=[-3.34--2.74]), 'bath': Domain(bath, x=[5.02-7.34], y=[-2.53--1.30]), 'dining': Domain(dining, x=[5.02-8.38], y=[-5.68--2.53]), 'transit_space': Domain(transit_space, x=[3.22-5.02], y=[-3.53--1.75]), 'closet': Domain(closet, x=[8.38-9.38], y=[-5.75--3.34]), 'bedroom_2': Domain(bedroom_2, x=[0.00-3.22], y=[-5.95--2.80]), 'laundry': Domain(laundry, x=[3.22-4.82], y=[-1.75-0.00])}, graph=<networkx.classes.graph.Graph object at 0x13301d000>)"
            ]
          },
          "execution_count": 60,
          "metadata": {},
          "output_type": "execute_result"
        }
      ],
      "source": [
        "lo"
      ]
    },
    {
      "cell_type": "code",
      "execution_count": 99,
      "metadata": {},
      "outputs": [
        {
          "data": {
            "text/plain": [
              "{'bedroom_1': Domain(bedroom_1, x=[0.00-3.22], y=[-2.80-0.00]),\n",
              " 'kitchen': Domain(kitchen, x=[3.22-5.02], y=[-5.77--3.53]),\n",
              " 'm_bath': Domain(m_bath, x=[5.02-7.14], y=[-1.30-0.00]),\n",
              " 'm_bedroom': Domain(m_bedroom, x=[8.38-9.27], y=[-2.74-0.00]),\n",
              " 'm_closet': Domain(m_closet, x=[8.20-9.20], y=[-3.34--2.74]),\n",
              " 'bath': Domain(bath, x=[5.02-7.34], y=[-2.53--1.30]),\n",
              " 'dining': Domain(dining, x=[5.02-8.38], y=[-5.68--2.53]),\n",
              " 'transit_space': Domain(transit_space, x=[3.22-5.02], y=[-3.53--1.75]),\n",
              " 'closet': Domain(closet, x=[8.38-9.38], y=[-5.75--3.34]),\n",
              " 'bedroom_2': Domain(bedroom_2, x=[0.00-3.22], y=[-5.95--2.80]),\n",
              " 'laundry': Domain(laundry, x=[3.22-4.82], y=[-1.75-0.00])}"
            ]
          },
          "execution_count": 99,
          "metadata": {},
          "output_type": "execute_result"
        }
      ],
      "source": [
        "lo.domains"
      ]
    },
    {
      "cell_type": "code",
      "execution_count": 100,
      "metadata": {},
      "outputs": [],
      "source": [
        "plot_general(lo.domains, \"iter1 test\")"
      ]
    },
    {
      "cell_type": "code",
      "execution_count": 98,
      "metadata": {},
      "outputs": [
        {
          "data": {
            "text/plain": [
              "[Problem(index=0, problem_type=ProblemType.SIDE_HOLE, resolved=False, nbs=['laundry', 'm_bath'],\n",
              " Problem(index=1, problem_type=ProblemType.SIDE_HOLE, resolved=False, nbs=['m_bath', 'm_bedroom']]"
            ]
          },
          "execution_count": 98,
          "metadata": {},
          "output_type": "execute_result"
        }
      ],
      "source": [
        "get_side_hole_problems(lo)"
      ]
    },
    {
      "cell_type": "code",
      "execution_count": 61,
      "metadata": {},
      "outputs": [
        {
          "data": {
            "text/plain": [
              "[(<Direction.EAST: 2>, ['m_bedroom', 'm_closet', 'closet']),\n",
              " (<Direction.NORTH: 0>, ['bedroom_1', 'm_bath', 'm_bedroom', 'laundry']),\n",
              " (<Direction.SOUTH: 1>, ['kitchen', 'dining', 'closet', 'bedroom_2']),\n",
              " (<Direction.WEST: 3>, ['bedroom_1', 'bedroom_2'])]"
            ]
          },
          "execution_count": 61,
          "metadata": {},
          "output_type": "execute_result"
        }
      ],
      "source": [
        "group_nodes_on_edge(lo.graph)"
      ]
    },
    {
      "cell_type": "code",
      "execution_count": 93,
      "metadata": {},
      "outputs": [
        {
          "data": {
            "text/plain": [
              "(Domain(laundry, x=[3.22-4.82], y=[-1.75-0.00]),\n",
              " Domain(m_bath, x=[5.02-7.14], y=[-1.30-0.00]),\n",
              " 'x')"
            ]
          },
          "execution_count": 93,
          "metadata": {},
          "output_type": "execute_result"
        }
      ],
      "source": [
        "v1, v2 = check_for_side_holes(lo)\n",
        "v1\n"
      ]
    },
    {
      "cell_type": "code",
      "execution_count": 79,
      "metadata": {},
      "outputs": [
        {
          "data": {
            "text/plain": [
              "array([<POLYGON ((5.02 0, 5.02 -1.3, 5.02 -1.75, 4.82 -1.75, 4.82 0, 5.02 0))>,\n",
              "       <POLYGON ((8.38 0, 8.38 -2.53, 7.34 -2.53, 7.34 -1.3, 7.14 -1.3, 7.14 0, 8.3...>,\n",
              "       <POLYGON ((9.38 -3.34, 9.2 -3.34, 9.2 -2.74, 9.27 -2.74, 9.27 0, 9.38 -3.34))>,\n",
              "       <POLYGON ((3.22 -5.95, 3.22 -5.77, 5.02 -5.77, 5.02 -5.68, 8.38 -5.68, 8.38 ...>],\n",
              "      dtype=object)"
            ]
          },
          "execution_count": 79,
          "metadata": {},
          "output_type": "execute_result"
        }
      ],
      "source": [
        "tree = find_geometric_holes(list(lo.shapes.values()))\n",
        "tree.geometries"
      ]
    },
    {
      "cell_type": "code",
      "execution_count": 97,
      "metadata": {},
      "outputs": [
        {
          "data": {
            "text/plain": [
              "Domain(laundry, x=[3.22-4.82], y=[-1.75-0.00])"
            ]
          },
          "execution_count": 97,
          "metadata": {},
          "output_type": "execute_result"
        }
      ],
      "source": [
        "v1[:1]\n",
        "p"
      ]
    },
    {
      "cell_type": "code",
      "execution_count": 91,
      "metadata": {},
      "outputs": [
        {
          "data": {
            "image/svg+xml": [
              "<svg xmlns=\"http://www.w3.org/2000/svg\" xmlns:xlink=\"http://www.w3.org/1999/xlink\" width=\"100.0\" height=\"100.0\" viewBox=\"7.038799999999999 -2.6311999999999998 1.442400000000002 2.7323999999999997\" preserveAspectRatio=\"xMinYMin meet\"><g transform=\"matrix(1,0,0,-1,0,-2.53)\"><path fill-rule=\"evenodd\" fill=\"#66cc99\" stroke=\"#555555\" stroke-width=\"0.054647999999999995\" opacity=\"0.6\" d=\"M 8.38,0.0 L 8.38,-2.53 L 7.34,-2.53 L 7.34,-1.3 L 7.14,-1.3 L 7.14,0.0 L 8.38,0.0 z\" /></g></svg>"
            ],
            "text/plain": [
              "<POLYGON ((8.38 0, 8.38 -2.53, 7.34 -2.53, 7.34 -1.3, 7.14 -1.3, 7.14 0, 8.3...>"
            ]
          },
          "execution_count": 91,
          "metadata": {},
          "output_type": "execute_result"
        }
      ],
      "source": [
        "match_geometry(*v2, tree)"
      ]
    },
    {
      "cell_type": "code",
      "execution_count": 83,
      "metadata": {},
      "outputs": [
        {
          "data": {
            "image/svg+xml": [
              "<svg xmlns=\"http://www.w3.org/2000/svg\" xmlns:xlink=\"http://www.w3.org/1999/xlink\" width=\"100.0\" height=\"100.0\" viewBox=\"2.9736000000000002 -6.196400000000001 6.6528 0.7628000000000013\" preserveAspectRatio=\"xMinYMin meet\"><g transform=\"matrix(1,0,0,-1,0,-11.629999999999999)\"><path fill-rule=\"evenodd\" fill=\"#66cc99\" stroke=\"#555555\" stroke-width=\"0.133056\" opacity=\"0.6\" d=\"M 3.22,-5.95 L 3.22,-5.77 L 5.02,-5.77 L 5.02,-5.68 L 8.38,-5.68 L 8.38,-5.75 L 9.38,-5.75 L 3.22,-5.95 z\" /></g></svg>"
            ],
            "text/plain": [
              "<POLYGON ((3.22 -5.95, 3.22 -5.77, 5.02 -5.77, 5.02 -5.68, 8.38 -5.68, 8.38 ...>"
            ]
          },
          "execution_count": 83,
          "metadata": {},
          "output_type": "execute_result"
        }
      ],
      "source": [
        "tree.geometries[3]"
      ]
    }
  ],
  "metadata": {
    "kernelspec": {
      "display_name": "Python 3",
      "language": "python",
      "name": "python3"
    },
    "language_info": {
      "codemirror_mode": {
        "name": "ipython",
        "version": 3
      },
      "file_extension": ".py",
      "mimetype": "text/x-python",
      "name": "python",
      "nbconvert_exporter": "python",
      "pygments_lexer": "ipython3",
      "version": "3.10.14"
    }
  },
  "nbformat": 4,
  "nbformat_minor": 2
}
