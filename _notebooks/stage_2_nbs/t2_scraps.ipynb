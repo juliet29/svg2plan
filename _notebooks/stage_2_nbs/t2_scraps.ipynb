{
  "cells": [
    {
      "cell_type": "code",
      "execution_count": 1,
      "metadata": {},
      "outputs": [],
      "source": [
        "%load_ext autoreload\n",
        "%autoreload 2"
      ]
    },
    {
      "cell_type": "code",
      "execution_count": 2,
      "metadata": {},
      "outputs": [],
      "source": [
        "from __init__ import *\n",
        "from runner.svg2plan import run_new_layout\n",
        "from new_solutions.selection import *\n",
        "from domains.domain import Domain\n",
        "\n",
        "import plotly.io as pio\n",
        "pio.renderers.default = \"browser\"\n",
        "\n",
        "from fixes.problem_types.side_hole_id import *\n",
        "from visuals.plots import make_subplot_for_all_probs\n",
        "from export.saver import read_pickle, save_pickle\n",
        "from helpers.shapely import shape_to_domain\n",
        "from actions.interfaces import CurrentDomains\n",
        "from fixes.problem_types.overlap_id import *\n",
        "from fixes.problem_types.hole_id import *\n",
        "from actions.actions import create_node_operations"
      ]
    },
    {
      "cell_type": "code",
      "execution_count": 3,
      "metadata": {},
      "outputs": [
        {
          "name": "stdout",
          "output_type": "stream",
          "text": [
            "executer> \n",
            " begining to execute stacking\n",
            "initializing.. 0\n",
            "running again -> 1\n",
            "problem being studied: -> Problem(ix=1, OVERLAP, ['m_bedroom', 'bath'], resolved=False,  n_actions=2\n",
            "next best layout bath-SQUEEZE-for-OVERLAP near ['m_bedroom', 'bath']3-PS:0.70-S:1.85\n"
          ]
        }
      ],
      "source": [
        "report = run_new_layout()\n",
        "c = Cook(report)\n"
      ]
    },
    {
      "cell_type": "code",
      "execution_count": 4,
      "metadata": {},
      "outputs": [
        {
          "data": {
            "text/plain": [
              "[<ActionType.PUSH: 1>, <ActionType.SQUEEZE: 4>]"
            ]
          },
          "execution_count": 4,
          "metadata": {},
          "output_type": "execute_result"
        }
      ],
      "source": [
        "c.bl_hist[0].problems[0].action_details[0].action_types"
      ]
    },
    {
      "cell_type": "code",
      "execution_count": 5,
      "metadata": {},
      "outputs": [
        {
          "data": {
            "text/plain": [
              "[OperationLog(node=Domain(m_bedroom, x=[7.14-9.27], y=[-2.74-0.00]), action_type=<ActionType.PUSH: 1>, axis='x', modified_domain=Domain(m_bedroom, x=[7.34-9.47], y=[-2.74-0.00])),\n",
              " OperationLog(node=Domain(m_bedroom, x=[7.14-9.27], y=[-2.74-0.00]), action_type=<ActionType.SQUEEZE: 4>, axis='x', modified_domain=Domain(m_bedroom, x=[7.34-9.27], y=[-2.74-0.00]))]"
            ]
          },
          "execution_count": 5,
          "metadata": {},
          "output_type": "execute_result"
        }
      ],
      "source": [
        "op = create_node_operations(c.bl_hist[0].problems[0].action_details[0])\n",
        "op"
      ]
    },
    {
      "cell_type": "code",
      "execution_count": 6,
      "metadata": {},
      "outputs": [
        {
          "name": "stdout",
          "output_type": "stream",
          "text": [
            "found\n"
          ]
        }
      ],
      "source": [
        "for o in op:\n",
        "    if o.action_type == ActionType.SQUEEZE:\n",
        "        print(\"found\")\n",
        "        break\n"
      ]
    },
    {
      "cell_type": "code",
      "execution_count": 7,
      "metadata": {},
      "outputs": [
        {
          "name": "stdout",
          "output_type": "stream",
          "text": [
            "running again -> 2\n",
            "problem being studied: -> Problem(ix=3, OVERLAP, ['m_closet', 'dining'], resolved=False,  n_actions=2\n",
            "next best layout m_closet-PUSH-for-OVERLAP near ['m_closet', 'dining']2-PS:0.46-S:1.23\n"
          ]
        }
      ],
      "source": [
        "c.run_again()"
      ]
    },
    {
      "cell_type": "code",
      "execution_count": 8,
      "metadata": {},
      "outputs": [
        {
          "name": "stdout",
          "output_type": "stream",
          "text": [
            "running again -> 3\n",
            "problem being studied: -> Problem(ix=4, HOLE, ['transit_space', 'laundry', 'm_bath', 'bath'], resolved=False,  n_actions=4\n",
            "next best layout bath-PULL-for-HOLE near ['transit_space', 'laundry']2-PS:0.51-S:1.25\n"
          ]
        }
      ],
      "source": [
        "c.run_again()"
      ]
    },
    {
      "cell_type": "code",
      "execution_count": 9,
      "metadata": {},
      "outputs": [
        {
          "name": "stdout",
          "output_type": "stream",
          "text": [
            "running again -> 4\n",
            "problem being studied: -> Problem(ix=3, OVERLAP, ['bath', 'transit_space'], resolved=False,  n_actions=4\n",
            "skipping bc prev domains are in history\n",
            "next best layout m_bedroom-PUSH-for-OVERLAP near ['m_bedroom', 'dining']2-PS:0.60-S:1.30\n"
          ]
        }
      ],
      "source": [
        "c.run_again()"
      ]
    },
    {
      "cell_type": "code",
      "execution_count": 10,
      "metadata": {},
      "outputs": [
        {
          "name": "stdout",
          "output_type": "stream",
          "text": [
            "running again -> 5\n",
            "problem being studied: -> Problem(ix=3, SIDE_HOLE, ['m_closet', 'm_bedroom'], resolved=False,  n_actions=2\n",
            "next best layout m_closet-STRETCH-for-SIDE_HOLE near ['m_closet', 'm_bedroom']1-PS:0.34-S:0.67\n"
          ]
        }
      ],
      "source": [
        "c.run_again()"
      ]
    },
    {
      "cell_type": "code",
      "execution_count": 11,
      "metadata": {},
      "outputs": [
        {
          "name": "stdout",
          "output_type": "stream",
          "text": [
            "running again -> 6\n",
            "problem being studied: -> Problem(ix=3, OVERLAP, ['bath', 'transit_space'], resolved=False,  n_actions=4\n",
            "next best layout bath-SQUEEZE-for-OVERLAP near ['bath', 'transit_space']1-PS:0.25-S:0.62\n"
          ]
        }
      ],
      "source": [
        "c.run_again()"
      ]
    },
    {
      "cell_type": "code",
      "execution_count": 12,
      "metadata": {},
      "outputs": [
        {
          "name": "stdout",
          "output_type": "stream",
          "text": [
            "running again -> 7\n",
            "problem being studied: -> Problem(ix=2, HOLE, ['transit_space', 'laundry', 'm_bath', 'bath'], resolved=False,  n_actions=4\n",
            "skipping bc prev domains are in history\n",
            "next best layout laundry-STRETCH-for-HOLE near ['transit_space', 'laundry']1-PS:0.35-S:0.68\n"
          ]
        }
      ],
      "source": [
        "c.run_again()"
      ]
    },
    {
      "cell_type": "code",
      "execution_count": 15,
      "metadata": {},
      "outputs": [
        {
          "data": {
            "text/plain": [
              "([node: bath, action: STRETCH, summary: Counter({'OVERLAP': 1}), # unres probs: 1,\n",
              "  node: laundry, action: STRETCH, summary: Counter({'OVERLAP': 1}), # unres probs: 1,\n",
              "  node: transit_space, action: STRETCH, summary: Counter({'OVERLAP': 1}), # unres probs: 1,\n",
              "  node: m_bath, action: PULL, summary: Counter({'OVERLAP': 1}), # unres probs: 1,\n",
              "  node: m_bath, action: STRETCH, summary: Counter({'OVERLAP': 1}), # unres probs: 1,\n",
              "  node: bath, action: PULL, summary: Counter({'OVERLAP': 1, 'HOLE': 1}), # unres probs: 2,\n",
              "  node: laundry, action: PULL, summary: Counter({'OVERLAP': 1, 'SIDE_HOLE': 1}), # unres probs: 2,\n",
              "  node: transit_space, action: PULL, summary: Counter({'OVERLAP': 1, 'HOLE': 1}), # unres probs: 2],\n",
              " node: laundry, action: STRETCH, summary: Counter({'OVERLAP': 1}), # unres probs: 1)"
            ]
          },
          "execution_count": 15,
          "metadata": {},
          "output_type": "execute_result"
        }
      ],
      "source": []
    },
    {
      "cell_type": "code",
      "execution_count": 13,
      "metadata": {},
      "outputs": [
        {
          "name": "stdout",
          "output_type": "stream",
          "text": [
            "running again -> 8\n",
            "problem being studied: -> Problem(ix=2, OVERLAP, ['m_bath', 'laundry'], resolved=False,  n_actions=2\n",
            "next best layout m_bath-SQUEEZE-for-OVERLAP near ['m_bath', 'laundry']0-PS:0.26-S:0.13\n"
          ]
        }
      ],
      "source": [
        "c.run_again()"
      ]
    },
    {
      "cell_type": "code",
      "execution_count": null,
      "metadata": {},
      "outputs": [],
      "source": []
    },
    {
      "cell_type": "code",
      "execution_count": 17,
      "metadata": {},
      "outputs": [
        {
          "data": {
            "text/plain": [
              "([node: m_bath, action: SQUEEZE, summary: Counter(), # unres probs: 0,\n",
              "  node: laundry, action: SQUEEZE, summary: Counter({'HOLE': 1}), # unres probs: 1,\n",
              "  node: m_bath, action: PUSH, summary: Counter({'OVERLAP': 1}), # unres probs: 1,\n",
              "  node: laundry, action: PUSH, summary: Counter({'OVERLAP': 1, 'HOLE': 1}), # unres probs: 2],\n",
              " node: m_bath, action: PUSH, summary: Counter({'OVERLAP': 1}), # unres probs: 1)"
            ]
          },
          "execution_count": 17,
          "metadata": {},
          "output_type": "execute_result"
        }
      ],
      "source": [
        "c.res_hist[7], c.bl_hist[7]"
      ]
    },
    {
      "cell_type": "code",
      "execution_count": 18,
      "metadata": {},
      "outputs": [
        {
          "data": {
            "text/plain": [
              "[\"m_bath-SQUEEZE-for-OVERLAP near ['m_bath', 'laundry']0-PS:0.26-S:0.13\",\n",
              " \"laundry-SQUEEZE-for-OVERLAP near ['m_bath', 'laundry']1-PS:0.35-S:0.68\",\n",
              " \"m_bath-PUSH-for-OVERLAP near ['m_bath', 'laundry']1-PS:0.52-S:0.76\",\n",
              " \"laundry-PUSH-for-OVERLAP near ['m_bath', 'laundry']2-PS:0.70-S:1.35\"]"
            ]
          },
          "execution_count": 18,
          "metadata": {},
          "output_type": "execute_result"
        }
      ],
      "source": [
        "[i.short_message() for i in c.res_hist[7]]"
      ]
    },
    {
      "cell_type": "code",
      "execution_count": 31,
      "metadata": {},
      "outputs": [
        {
          "name": "stdout",
          "output_type": "stream",
          "text": [
            "problem being studied: -> Problem(ix=2, OVERLAP, ['m_bath', 'm_bedroom'], resolved=False,  n_actions=2\n",
            "next best layout m_bedroom-PUSH-for-OVERLAP near ['m_bath', 'm_bedroom']1-PS:0.51-S:0.75\n",
            "running again -> 9\n"
          ]
        }
      ],
      "source": [
        "c.run_again()"
      ]
    },
    {
      "cell_type": "code",
      "execution_count": 12,
      "metadata": {},
      "outputs": [
        {
          "name": "stdout",
          "output_type": "stream",
          "text": [
            "problem being studied: -> Problem(ix=2, HOLE, ['bath', 'dining', 'm_bedroom', 'm_bath'], resolved=False,  n_actions=4\n",
            "next best layout m_bath-PULL-for-HOLE near ['bath', 'dining']0-PS:0.25-S:0.12\n",
            "running again -> 10\n"
          ]
        }
      ],
      "source": [
        "c.run_again()"
      ]
    },
    {
      "cell_type": "code",
      "execution_count": 14,
      "metadata": {},
      "outputs": [
        {
          "name": "stdout",
          "output_type": "stream",
          "text": [
            "len sols = 8. Len indices = 9\n"
          ]
        }
      ],
      "source": [
        "c.plot_all()"
      ]
    }
  ],
  "metadata": {
    "kernelspec": {
      "display_name": "Python 3",
      "language": "python",
      "name": "python3"
    },
    "language_info": {
      "codemirror_mode": {
        "name": "ipython",
        "version": 3
      },
      "file_extension": ".py",
      "mimetype": "text/x-python",
      "name": "python",
      "nbconvert_exporter": "python",
      "pygments_lexer": "ipython3",
      "version": "3.10.14"
    }
  },
  "nbformat": 4,
  "nbformat_minor": 2
}
